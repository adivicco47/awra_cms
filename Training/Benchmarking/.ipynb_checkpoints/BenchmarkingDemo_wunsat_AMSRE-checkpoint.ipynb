{
 "cells": [
  {
   "cell_type": "code",
   "execution_count": 1,
   "metadata": {
    "collapsed": true
   },
   "outputs": [],
   "source": [
    "### uncomment to display figures\n",
    "%matplotlib inline"
   ]
  },
  {
   "cell_type": "markdown",
   "metadata": {},
   "source": [
    "# Demonstrates benchmarking functionality - wunsat - AMSRE"
   ]
  },
  {
   "cell_type": "markdown",
   "metadata": {
    "collapsed": true
   },
   "source": [
    "#### Benchmarking dataset information\n",
    "The soil moisture content (in percentage) dataset consists of catchment averaged top-layer soil moisture estimates from AMSR-E\n",
    "<br>\n",
    "##### Source:\n",
    "Owe, M., de Jeu, R. and Holmes, T., 2008. Multisensor historical climatology of satellite-derived global land surface moisture. Journal of Geophysical Research: Earth Surface, 113(F1): F01002."
   ]
  },
  {
   "cell_type": "markdown",
   "metadata": {},
   "source": [
    "This notebooks goes through the following steps:\n",
    "\n",
    "1. Import required libraries\n",
    "2. Set up benchmarking configuration <br>\n",
    " 2.1 Catchments to be benchmarked<br>\n",
    " 2.2 Define observation inputs<br>\n",
    "\n",
    "3. Create benchmark object<br>\n",
    "4. Add models to be benchmarked <br>\n",
    " 4.1 Select or unselect models<br> \n",
    "5. View benchmarking statistics<br>\n",
    "6. View benchmarking plots<br>\n",
    "7. Statistics plotting\n",
    "8. Exercises"
   ]
  },
  {
   "cell_type": "markdown",
   "metadata": {},
   "source": [
    "### 1. Import required libraries"
   ]
  },
  {
   "cell_type": "code",
   "execution_count": 16,
   "metadata": {
    "collapsed": false
   },
   "outputs": [],
   "source": [
    "from awrams.benchmarking.benchmark import Benchmark\n",
    "from awrams.benchmarking.utils import read_id_csv\n",
    "from awrams.utils import datetools as dt\n",
    "\n",
    "from awrams.models.settings import TRAINING_DATA_PATH"
   ]
  },
  {
   "cell_type": "markdown",
   "metadata": {},
   "source": [
    "### 2.  Set up benchmarking configuration\n",
    "Compares against satellite soil moisture aggregated to region of interest <br>\n",
    "You can use your own data in csv form similar to the example provided. <br>\n",
    "It just needs to have column names matching the names used in extracting AWRA data"
   ]
  },
  {
   "cell_type": "markdown",
   "metadata": {},
   "source": [
    "#### 2.1 Catchments to be benchmarked"
   ]
  },
  {
   "cell_type": "code",
   "execution_count": 17,
   "metadata": {
    "collapsed": true
   },
   "outputs": [],
   "source": [
    "data_path = TRAINING_DATA_PATH + '/benchmarking/'\n",
    "\n",
    "catchment_csv = data_path+'/catchment_ids.csv'\n",
    "id_list=read_id_csv(catchment_csv)"
   ]
  },
  {
   "cell_type": "markdown",
   "metadata": {},
   "source": [
    "#### 2.2. Observations to use"
   ]
  },
  {
   "cell_type": "code",
   "execution_count": 18,
   "metadata": {
    "collapsed": true
   },
   "outputs": [],
   "source": [
    "obs_csv = data_path+'/amsre/Catchments_SM_AMSRE.csv'"
   ]
  },
  {
   "cell_type": "markdown",
   "metadata": {},
   "source": [
    "### 3.  Create the benchmark object:<br> \n",
    "\n",
    "An object of \"Benchmark\" class is created by defining what variable is to be benchmarked. \n",
    "Everything else gets progressively added,  and statistics are calculated when the observation and model outputs are added."
   ]
  },
  {
   "cell_type": "code",
   "execution_count": 19,
   "metadata": {
    "collapsed": false
   },
   "outputs": [],
   "source": [
    "b = Benchmark(\"AMSRE\", \"wunsat\")\n",
    "\n",
    "# Specify benchmarking period\n",
    "b.period = dt.dates(\"1981\", \"30/12/2011\")\n",
    "\n",
    "# Add observations and catchment subset [the id list needs to be present in the column names of the observation file]\n",
    "b.load(obs_csv, id_list=id_list)"
   ]
  },
  {
   "cell_type": "code",
   "execution_count": 20,
   "metadata": {
    "collapsed": false
   },
   "outputs": [
    {
     "data": {
      "text/plain": [
       "['107002',\n",
       " '4508',\n",
       " '109001',\n",
       " '105001',\n",
       " '108003',\n",
       " '111101',\n",
       " '112102',\n",
       " '116008',\n",
       " '113004']"
      ]
     },
     "execution_count": 20,
     "metadata": {},
     "output_type": "execute_result"
    }
   ],
   "source": [
    "b.sites"
   ]
  },
  {
   "cell_type": "markdown",
   "metadata": {},
   "source": [
    "### 4. Add models to be benchmarked\n",
    "This step processes the data and calculates all the statistics [can take a while]"
   ]
  },
  {
   "cell_type": "code",
   "execution_count": 21,
   "metadata": {
    "collapsed": false
   },
   "outputs": [],
   "source": [
    "# Reading data from pre-processed csv\n",
    "csv_data = data_path+'/amsre/awral_wunsat.csv'\n",
    "b.add_model(\"AWRAMSI_v4_0_AWRAL\", data_csv=csv_data, convert_units=100.)"
   ]
  },
  {
   "cell_type": "code",
   "execution_count": 22,
   "metadata": {
    "collapsed": true
   },
   "outputs": [],
   "source": [
    "# Reading data from pre-processed csv\n",
    "csv_data = data_path+'/amsre/AWRAMSI_v5QES_AWRAL_s0_pct_AMSRE.csv'\n",
    "b.add_model(\"AWRAMSI_v5_0_AWRAL\", data_csv=csv_data, convert_units=100.)"
   ]
  },
  {
   "cell_type": "markdown",
   "metadata": {},
   "source": [
    "#### 4.1 Show list of loaded or selected models\n",
    "List of loaded models is available with <tab> activated dropdown by typing \"et.models.\"<br>\n",
    "can \"select\" or \"unselect\" models for displaying"
   ]
  },
  {
   "cell_type": "code",
   "execution_count": 23,
   "metadata": {
    "collapsed": false
   },
   "outputs": [
    {
     "data": {
      "text/plain": [
       "['AWRAMSI_v4_0_AWRAL', 'AWRAMSI_v5_0_AWRAL']"
      ]
     },
     "execution_count": 23,
     "metadata": {},
     "output_type": "execute_result"
    }
   ],
   "source": [
    "b.benchmark.selection"
   ]
  },
  {
   "cell_type": "code",
   "execution_count": 24,
   "metadata": {
    "collapsed": false
   },
   "outputs": [],
   "source": [
    "b.benchmark.selection.AWRAMSI_v4_0_AWRAL.unselect()\n",
    "b.benchmark.selection.AWRAMSI_v4_0_AWRAL.select()"
   ]
  },
  {
   "cell_type": "markdown",
   "metadata": {},
   "source": [
    "### 5. View the statistics tables\n",
    "Summary percentiles can be printed out by specifying a statistic from: <br> \n",
    "\"grand_f\", \"nse\", \"bias_relative\", \"pearsons_r\" (default), \"mean\"  <br>\n",
    "to the 'stat_percentiles' function<br>\n",
    "The timeframe defaults to monthly, but can be specified\n",
    "\n",
    "These tables are pandas dataframes, so they can be exported to csv"
   ]
  },
  {
   "cell_type": "code",
   "execution_count": 25,
   "metadata": {
    "collapsed": false
   },
   "outputs": [
    {
     "data": {
      "text/html": [
       "<div style=\"max-height:1000px;max-width:1500px;overflow:auto;\">\n",
       "<table border=\"1\" class=\"dataframe\">\n",
       "  <thead>\n",
       "    <tr style=\"text-align: right;\">\n",
       "      <th></th>\n",
       "      <th>grand_f</th>\n",
       "    </tr>\n",
       "  </thead>\n",
       "  <tbody>\n",
       "    <tr>\n",
       "      <th>AWRAMSI_v5_0_AWRAL</th>\n",
       "      <td>-14.581476</td>\n",
       "    </tr>\n",
       "    <tr>\n",
       "      <th>AWRAMSI_v4_0_AWRAL</th>\n",
       "      <td>-51.459541</td>\n",
       "    </tr>\n",
       "  </tbody>\n",
       "</table>\n",
       "</div>"
      ],
      "text/plain": [
       "                      grand_f\n",
       "AWRAMSI_v5_0_AWRAL -14.581476\n",
       "AWRAMSI_v4_0_AWRAL -51.459541"
      ]
     },
     "execution_count": 25,
     "metadata": {},
     "output_type": "execute_result"
    }
   ],
   "source": [
    "b.benchmark.stat_percentiles('grand_f', freq='m')"
   ]
  },
  {
   "cell_type": "code",
   "execution_count": 26,
   "metadata": {
    "collapsed": false
   },
   "outputs": [
    {
     "data": {
      "text/html": [
       "<div style=\"max-height:1000px;max-width:1500px;overflow:auto;\">\n",
       "<table border=\"1\" class=\"dataframe\">\n",
       "  <thead>\n",
       "    <tr style=\"text-align: right;\">\n",
       "      <th></th>\n",
       "      <th>0%</th>\n",
       "      <th>5%</th>\n",
       "      <th>25%</th>\n",
       "      <th>50%</th>\n",
       "      <th>75%</th>\n",
       "      <th>95%</th>\n",
       "      <th>100%</th>\n",
       "    </tr>\n",
       "  </thead>\n",
       "  <tbody>\n",
       "    <tr>\n",
       "      <th>AWRAMSI_v5_0_AWRAL</th>\n",
       "      <td>-75.962849</td>\n",
       "      <td>-62.462163</td>\n",
       "      <td>-20.244260</td>\n",
       "      <td>-10.252974</td>\n",
       "      <td>-5.373328</td>\n",
       "      <td>-4.162930</td>\n",
       "      <td>-3.763453</td>\n",
       "    </tr>\n",
       "    <tr>\n",
       "      <th>AWRAMSI_v4_0_AWRAL</th>\n",
       "      <td>-122.864077</td>\n",
       "      <td>-112.610158</td>\n",
       "      <td>-72.425265</td>\n",
       "      <td>-30.605501</td>\n",
       "      <td>-8.913807</td>\n",
       "      <td>-5.196276</td>\n",
       "      <td>-4.861692</td>\n",
       "    </tr>\n",
       "  </tbody>\n",
       "</table>\n",
       "</div>"
      ],
      "text/plain": [
       "                            0%          5%        25%        50%       75%  \\\n",
       "AWRAMSI_v5_0_AWRAL  -75.962849  -62.462163 -20.244260 -10.252974 -5.373328   \n",
       "AWRAMSI_v4_0_AWRAL -122.864077 -112.610158 -72.425265 -30.605501 -8.913807   \n",
       "\n",
       "                         95%      100%  \n",
       "AWRAMSI_v5_0_AWRAL -4.162930 -3.763453  \n",
       "AWRAMSI_v4_0_AWRAL -5.196276 -4.861692  "
      ]
     },
     "execution_count": 26,
     "metadata": {},
     "output_type": "execute_result"
    }
   ],
   "source": [
    "b.benchmark.stat_percentiles('nse')"
   ]
  },
  {
   "cell_type": "code",
   "execution_count": 27,
   "metadata": {
    "collapsed": false
   },
   "outputs": [
    {
     "data": {
      "text/html": [
       "<div style=\"max-height:1000px;max-width:1500px;overflow:auto;\">\n",
       "<table border=\"1\" class=\"dataframe\">\n",
       "  <thead>\n",
       "    <tr style=\"text-align: right;\">\n",
       "      <th></th>\n",
       "      <th>0%</th>\n",
       "      <th>5%</th>\n",
       "      <th>25%</th>\n",
       "      <th>50%</th>\n",
       "      <th>75%</th>\n",
       "      <th>95%</th>\n",
       "      <th>100%</th>\n",
       "    </tr>\n",
       "  </thead>\n",
       "  <tbody>\n",
       "    <tr>\n",
       "      <th>AWRAMSI_v5_0_AWRAL</th>\n",
       "      <td>-0.752444</td>\n",
       "      <td>-0.743290</td>\n",
       "      <td>-0.686106</td>\n",
       "      <td>-0.565461</td>\n",
       "      <td>-0.226571</td>\n",
       "      <td>-0.066298</td>\n",
       "      <td>-0.047031</td>\n",
       "    </tr>\n",
       "    <tr>\n",
       "      <th>AWRAMSI_v4_0_AWRAL</th>\n",
       "      <td>-0.889566</td>\n",
       "      <td>-0.889005</td>\n",
       "      <td>-0.867877</td>\n",
       "      <td>-0.803196</td>\n",
       "      <td>-0.775776</td>\n",
       "      <td>-0.716915</td>\n",
       "      <td>-0.699636</td>\n",
       "    </tr>\n",
       "  </tbody>\n",
       "</table>\n",
       "</div>"
      ],
      "text/plain": [
       "                          0%        5%       25%       50%       75%  \\\n",
       "AWRAMSI_v5_0_AWRAL -0.752444 -0.743290 -0.686106 -0.565461 -0.226571   \n",
       "AWRAMSI_v4_0_AWRAL -0.889566 -0.889005 -0.867877 -0.803196 -0.775776   \n",
       "\n",
       "                         95%      100%  \n",
       "AWRAMSI_v5_0_AWRAL -0.066298 -0.047031  \n",
       "AWRAMSI_v4_0_AWRAL -0.716915 -0.699636  "
      ]
     },
     "execution_count": 27,
     "metadata": {},
     "output_type": "execute_result"
    }
   ],
   "source": [
    "b.benchmark.stat_percentiles('bias_relative')"
   ]
  },
  {
   "cell_type": "code",
   "execution_count": 28,
   "metadata": {
    "collapsed": false
   },
   "outputs": [
    {
     "data": {
      "text/html": [
       "<div style=\"max-height:1000px;max-width:1500px;overflow:auto;\">\n",
       "<table border=\"1\" class=\"dataframe\">\n",
       "  <thead>\n",
       "    <tr style=\"text-align: right;\">\n",
       "      <th></th>\n",
       "      <th>0%</th>\n",
       "      <th>5%</th>\n",
       "      <th>25%</th>\n",
       "      <th>50%</th>\n",
       "      <th>75%</th>\n",
       "      <th>95%</th>\n",
       "      <th>100%</th>\n",
       "    </tr>\n",
       "  </thead>\n",
       "  <tbody>\n",
       "    <tr>\n",
       "      <th>AWRAMSI_v5_0_AWRAL</th>\n",
       "      <td>0.403764</td>\n",
       "      <td>0.410007</td>\n",
       "      <td>0.447006</td>\n",
       "      <td>0.55788</td>\n",
       "      <td>0.622607</td>\n",
       "      <td>0.642201</td>\n",
       "      <td>0.647770</td>\n",
       "    </tr>\n",
       "    <tr>\n",
       "      <th>AWRAMSI_v4_0_AWRAL</th>\n",
       "      <td>0.327542</td>\n",
       "      <td>0.343103</td>\n",
       "      <td>0.395839</td>\n",
       "      <td>0.48052</td>\n",
       "      <td>0.592395</td>\n",
       "      <td>0.608026</td>\n",
       "      <td>0.608196</td>\n",
       "    </tr>\n",
       "  </tbody>\n",
       "</table>\n",
       "</div>"
      ],
      "text/plain": [
       "                          0%        5%       25%      50%       75%       95%  \\\n",
       "AWRAMSI_v5_0_AWRAL  0.403764  0.410007  0.447006  0.55788  0.622607  0.642201   \n",
       "AWRAMSI_v4_0_AWRAL  0.327542  0.343103  0.395839  0.48052  0.592395  0.608026   \n",
       "\n",
       "                        100%  \n",
       "AWRAMSI_v5_0_AWRAL  0.647770  \n",
       "AWRAMSI_v4_0_AWRAL  0.608196  "
      ]
     },
     "execution_count": 28,
     "metadata": {},
     "output_type": "execute_result"
    }
   ],
   "source": [
    "b.benchmark.stat_percentiles('pearsons_r')"
   ]
  },
  {
   "cell_type": "code",
   "execution_count": 29,
   "metadata": {
    "collapsed": false
   },
   "outputs": [
    {
     "data": {
      "text/html": [
       "<div style=\"max-height:1000px;max-width:1500px;overflow:auto;\">\n",
       "<table border=\"1\" class=\"dataframe\">\n",
       "  <thead>\n",
       "    <tr style=\"text-align: right;\">\n",
       "      <th></th>\n",
       "      <th>AWRAMSI_v5_0_AWRAL</th>\n",
       "      <th>AWRAMSI_v4_0_AWRAL</th>\n",
       "    </tr>\n",
       "  </thead>\n",
       "  <tbody>\n",
       "    <tr>\n",
       "      <th>4508</th>\n",
       "      <td>0.647770</td>\n",
       "      <td>0.547034</td>\n",
       "    </tr>\n",
       "    <tr>\n",
       "      <th>109001</th>\n",
       "      <td>0.613944</td>\n",
       "      <td>0.607515</td>\n",
       "    </tr>\n",
       "    <tr>\n",
       "      <th>105001</th>\n",
       "      <td>0.625495</td>\n",
       "      <td>0.608196</td>\n",
       "    </tr>\n",
       "    <tr>\n",
       "      <th>112102</th>\n",
       "      <td>0.501816</td>\n",
       "      <td>0.414006</td>\n",
       "    </tr>\n",
       "    <tr>\n",
       "      <th>116008</th>\n",
       "      <td>0.428736</td>\n",
       "      <td>0.389783</td>\n",
       "    </tr>\n",
       "    <tr>\n",
       "      <th>113004</th>\n",
       "      <td>0.403764</td>\n",
       "      <td>0.327542</td>\n",
       "    </tr>\n",
       "    <tr>\n",
       "      <th>all</th>\n",
       "      <td>0.694847</td>\n",
       "      <td>0.396590</td>\n",
       "    </tr>\n",
       "  </tbody>\n",
       "</table>\n",
       "</div>"
      ],
      "text/plain": [
       "        AWRAMSI_v5_0_AWRAL  AWRAMSI_v4_0_AWRAL\n",
       "4508              0.647770            0.547034\n",
       "109001            0.613944            0.607515\n",
       "105001            0.625495            0.608196\n",
       "112102            0.501816            0.414006\n",
       "116008            0.428736            0.389783\n",
       "113004            0.403764            0.327542\n",
       "all               0.694847            0.396590"
      ]
     },
     "execution_count": 29,
     "metadata": {},
     "output_type": "execute_result"
    }
   ],
   "source": [
    "b_df = b.benchmark.stat(statistic='pearsons_r')\n",
    "b_df"
   ]
  },
  {
   "cell_type": "raw",
   "metadata": {},
   "source": [
    "b_df.to_csv('./sm_amsre_benchmark_peasonsr.csv')"
   ]
  },
  {
   "cell_type": "markdown",
   "metadata": {},
   "source": [
    "### 6. View the statistic plots - time series, regression\n",
    "\n",
    "specify frequency by \"freq=d\" for daily, \"freq=m\" for monthly, \"freq=y\" for yearly<br>\n",
    "can customise titles, labels, scaling etc using standard matplotlib keyword arguments"
   ]
  },
  {
   "cell_type": "code",
   "execution_count": 32,
   "metadata": {
    "collapsed": false
   },
   "outputs": [
    {
     "ename": "TypeError",
     "evalue": "asfreq() missing 1 required positional argument: 'freq'",
     "output_type": "error",
     "traceback": [
      "\u001b[1;31m---------------------------------------------------------------------------\u001b[0m",
      "\u001b[1;31mTypeError\u001b[0m                                 Traceback (most recent call last)",
      "\u001b[1;32m<ipython-input-32-cdbf3a710471>\u001b[0m in \u001b[0;36m<module>\u001b[1;34m()\u001b[0m\n\u001b[1;32m----> 1\u001b[1;33m \u001b[0mp\u001b[0m \u001b[1;33m=\u001b[0m \u001b[0mb\u001b[0m\u001b[1;33m.\u001b[0m\u001b[0mbenchmark\u001b[0m\u001b[1;33m.\u001b[0m\u001b[0mplot_timeseries\u001b[0m\u001b[1;33m(\u001b[0m\u001b[1;34mu'109001'\u001b[0m\u001b[1;33m,\u001b[0m \u001b[0mfreq\u001b[0m\u001b[1;33m=\u001b[0m\u001b[1;34m'y'\u001b[0m\u001b[1;33m)\u001b[0m\u001b[1;33m\u001b[0m\u001b[0m\n\u001b[0m",
      "\u001b[1;32m/data/cwd_awra_data/AWRAMSI/IWRM_0042_WP3/GIT/aoke/community_model/new/awrams_cm/benchmarking/awrams/benchmarking/comparison.py\u001b[0m in \u001b[0;36mplot_timeseries\u001b[1;34m(self, site, freq, model, **kwargs)\u001b[0m\n\u001b[0;32m    194\u001b[0m                     \u001b[0mplot\u001b[0m\u001b[1;33m(\u001b[0m\u001b[0mseries\u001b[0m\u001b[1;33m=\u001b[0m\u001b[0mself\u001b[0m\u001b[1;33m.\u001b[0m\u001b[0mobs\u001b[0m\u001b[1;33m.\u001b[0m\u001b[0mmonthly\u001b[0m\u001b[1;33m[\u001b[0m\u001b[0msite\u001b[0m\u001b[1;33m]\u001b[0m\u001b[1;33m.\u001b[0m\u001b[0mresample\u001b[0m\u001b[1;33m(\u001b[0m\u001b[0m_freq\u001b[0m\u001b[1;33m)\u001b[0m\u001b[1;33m.\u001b[0m\u001b[0masfreq\u001b[0m\u001b[1;33m(\u001b[0m\u001b[1;33m)\u001b[0m\u001b[1;33m,\u001b[0m\u001b[0mlabel\u001b[0m\u001b[1;33m=\u001b[0m\u001b[0mself\u001b[0m\u001b[1;33m.\u001b[0m\u001b[0mref_name\u001b[0m\u001b[1;33m,\u001b[0m\u001b[0mcolour\u001b[0m\u001b[1;33m=\u001b[0m\u001b[1;34m'black'\u001b[0m\u001b[1;33m)\u001b[0m\u001b[1;33m\u001b[0m\u001b[0m\n\u001b[0;32m    195\u001b[0m                 \u001b[1;32melif\u001b[0m \u001b[0mfreq\u001b[0m \u001b[1;33m==\u001b[0m \u001b[1;34m'y'\u001b[0m\u001b[1;33m:\u001b[0m\u001b[1;33m\u001b[0m\u001b[0m\n\u001b[1;32m--> 196\u001b[1;33m                     \u001b[0mplot\u001b[0m\u001b[1;33m(\u001b[0m\u001b[0mseries\u001b[0m\u001b[1;33m=\u001b[0m\u001b[0mself\u001b[0m\u001b[1;33m.\u001b[0m\u001b[0mobs\u001b[0m\u001b[1;33m.\u001b[0m\u001b[0mannual\u001b[0m\u001b[1;33m[\u001b[0m\u001b[0msite\u001b[0m\u001b[1;33m]\u001b[0m\u001b[1;33m.\u001b[0m\u001b[0mresample\u001b[0m\u001b[1;33m(\u001b[0m\u001b[0m_freq\u001b[0m\u001b[1;33m)\u001b[0m\u001b[1;33m.\u001b[0m\u001b[0masfreq\u001b[0m\u001b[1;33m(\u001b[0m\u001b[1;33m)\u001b[0m\u001b[1;33m,\u001b[0m\u001b[0mlabel\u001b[0m\u001b[1;33m=\u001b[0m\u001b[0mself\u001b[0m\u001b[1;33m.\u001b[0m\u001b[0mref_name\u001b[0m\u001b[1;33m,\u001b[0m\u001b[0mcolour\u001b[0m\u001b[1;33m=\u001b[0m\u001b[1;34m'black'\u001b[0m\u001b[1;33m)\u001b[0m\u001b[1;33m\u001b[0m\u001b[0m\n\u001b[0m\u001b[0;32m    197\u001b[0m \u001b[1;33m\u001b[0m\u001b[0m\n\u001b[0;32m    198\u001b[0m                 \u001b[1;32mfor\u001b[0m \u001b[0mm\u001b[0m \u001b[1;32min\u001b[0m \u001b[0mself\u001b[0m\u001b[1;33m.\u001b[0m\u001b[0m_iter_models\u001b[0m\u001b[1;33m(\u001b[0m\u001b[0mfreq\u001b[0m\u001b[1;33m)\u001b[0m\u001b[1;33m:\u001b[0m\u001b[1;33m\u001b[0m\u001b[0m\n",
      "\u001b[1;31mTypeError\u001b[0m: asfreq() missing 1 required positional argument: 'freq'"
     ]
    },
    {
     "data": {
      "image/png": "[encoded data removed]",
      "text/plain": [
       "<matplotlib.figure.Figure at 0x7facbf9c3978>"
      ]
     },
     "metadata": {},
     "output_type": "display_data"
    }
   ],
   "source": [
    "p = b.benchmark.plot_timeseries(u'109001', freq='y')"
   ]
  },
  {
   "cell_type": "code",
   "execution_count": null,
   "metadata": {
    "collapsed": false
   },
   "outputs": [],
   "source": [
    "p = b.benchmark.plot_regression(title=\"wunsat\", freq='m', xlim=[0,None],ylim=[0,None])"
   ]
  },
  {
   "cell_type": "code",
   "execution_count": null,
   "metadata": {
    "collapsed": false
   },
   "outputs": [],
   "source": [
    "p = b.benchmark.plot_regression(title=\"wunsat\", freq='y', yscale='log', xscale='log')"
   ]
  },
  {
   "cell_type": "markdown",
   "metadata": {},
   "source": [
    "### 7. Statistics plotting\n",
    "specify statistic type from \"fobj\", \"nse\", \"rmse\", \"bias_relative\", \"pearsons_r\" (default), \"mean\" and <br> frequency from 'd', 'm', 'y'"
   ]
  },
  {
   "cell_type": "code",
   "execution_count": null,
   "metadata": {
    "collapsed": false
   },
   "outputs": [],
   "source": [
    "p = b.benchmark.plot_box('pearsons_r', freq='d', ylim=[0,1])"
   ]
  },
  {
   "cell_type": "code",
   "execution_count": null,
   "metadata": {
    "collapsed": false
   },
   "outputs": [],
   "source": [
    "b.benchmark.models.AWRAMSI_v4_0_AWRAL.colour = 'm'\n",
    "p = b.benchmark.plot_box('fobj', freq='m') #, ylim=[0,1])"
   ]
  },
  {
   "cell_type": "code",
   "execution_count": null,
   "metadata": {
    "collapsed": false
   },
   "outputs": [],
   "source": [
    "p = b.benchmark.plot_box('nse', freq='d')"
   ]
  },
  {
   "cell_type": "code",
   "execution_count": null,
   "metadata": {
    "collapsed": false
   },
   "outputs": [],
   "source": [
    "p = b.benchmark.plot_box('bias_relative', freq='m')"
   ]
  },
  {
   "cell_type": "code",
   "execution_count": null,
   "metadata": {
    "collapsed": false
   },
   "outputs": [],
   "source": [
    "p = b.benchmark.plot_box('pearsons_r', freq='m')"
   ]
  },
  {
   "cell_type": "code",
   "execution_count": null,
   "metadata": {
    "collapsed": false
   },
   "outputs": [],
   "source": [
    "p = b.benchmark.plot_box('fobj', freq='m')"
   ]
  },
  {
   "cell_type": "code",
   "execution_count": null,
   "metadata": {
    "collapsed": false
   },
   "outputs": [],
   "source": [
    "p = b.benchmark.plot_box('nse', freq='m') #, ylim=[0,1])"
   ]
  },
  {
   "cell_type": "code",
   "execution_count": null,
   "metadata": {
    "collapsed": false
   },
   "outputs": [],
   "source": [
    "p = b.benchmark.plot_box('bias_relative', freq='m', ylim=[-100,150])"
   ]
  },
  {
   "cell_type": "code",
   "execution_count": null,
   "metadata": {
    "collapsed": false
   },
   "outputs": [],
   "source": [
    "p = b.benchmark.plot_cdf('mean', freq='m', yscale='log')"
   ]
  },
  {
   "cell_type": "code",
   "execution_count": null,
   "metadata": {
    "collapsed": false
   },
   "outputs": [],
   "source": [
    "p = b.benchmark.plot_cdf('pearsons_r', freq='m', ylim=[0,1])"
   ]
  },
  {
   "cell_type": "code",
   "execution_count": null,
   "metadata": {
    "collapsed": false
   },
   "outputs": [],
   "source": [
    "p = b.benchmark.plot_cdf('bias_relative',freq='m', ylabel='Relative Bias (%)')"
   ]
  },
  {
   "cell_type": "code",
   "execution_count": null,
   "metadata": {
    "collapsed": false
   },
   "outputs": [],
   "source": [
    "p = b.benchmark.plot_cdf('nse',freq='m') #, ylim=[0,1])"
   ]
  },
  {
   "cell_type": "code",
   "execution_count": null,
   "metadata": {
    "collapsed": false
   },
   "outputs": [],
   "source": [
    "p = b.benchmark.plot_cdf('rmse',freq='m', yscale='log')"
   ]
  },
  {
   "cell_type": "code",
   "execution_count": null,
   "metadata": {
    "collapsed": false
   },
   "outputs": [],
   "source": [
    "p = b.benchmark.plot_cdf('fobj',freq='d') #, ylim=[0,1])"
   ]
  },
  {
   "cell_type": "code",
   "execution_count": null,
   "metadata": {
    "collapsed": false
   },
   "outputs": [],
   "source": [
    "p = b.benchmark.plot_cdf('fobj',freq='m') #, ylim=[0,1])"
   ]
  }
 ],
 "metadata": {
  "kernelspec": {
   "display_name": "Python 3",
   "language": "python",
   "name": "python3"
  },
  "language_info": {
   "codemirror_mode": {
    "name": "ipython",
    "version": 3
   },
   "file_extension": ".py",
   "mimetype": "text/x-python",
   "name": "python",
   "nbconvert_exporter": "python",
   "pygments_lexer": "ipython3",
   "version": "3.4.5"
  }
 },
 "nbformat": 4,
 "nbformat_minor": 0
}
