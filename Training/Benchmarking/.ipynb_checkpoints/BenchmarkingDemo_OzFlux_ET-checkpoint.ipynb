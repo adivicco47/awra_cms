{
 "cells": [
  {
   "cell_type": "code",
   "execution_count": 1,
   "metadata": {
    "collapsed": true
   },
   "outputs": [],
   "source": [
    "### uncomment to display figures\n",
    "%matplotlib inline"
   ]
  },
  {
   "cell_type": "markdown",
   "metadata": {},
   "source": [
    "# Demonstrates benchmarking functionality - OzFlux ET sites"
   ]
  },
  {
   "cell_type": "markdown",
   "metadata": {},
   "source": [
    "#### Benchmarking dataset information\n",
    "The actual ET (in mm) dataset consists of actual evapotranspiration estimates from the OzFlux flux tower network observations infilled accoring to the DINGO processing\n",
    "<br>\n",
    "##### Source:\n",
    "Beringer, J., Hutley, L. B., McHugh, I., Arndt, S. K., Campbell, D., Cleugh, H. A., Cleverly, J., Resco de Dios, V., Eamus, D., Evans, B., Ewenz, C., Grace, P., Griebel, A., Haverd, V., Hinko-Najera, N., Huete, A., Isaac, P., Kanniah, K., Leuning, R., Liddell, M. J., Macfarlane, C., Meyer, W., Moore, C., Pendall, E., Phillips, A., Phillips, R. L., Prober, S. M., Restrepo-Coupe, N., Rutledge, S., Schroder, I., Silberstein, R., Southall, P., Yee, M. S., Tapper, N. J., van Gorsel, E., Vote, C., Walker, J., and Wardlaw, T, 2016. An introduction to the Australian and New Zealand flux tower network – OzFlux, Biogeosciences, 13, 5895-5916.<br>\n",
    "Beringer, J., McHugh, I., Hutley, L.B., Isaac, P. and Kljun, N., 2016. Dynamic INtegrated Gap-filling and partitioning for OzFlux (DINGO). Biogeosciences Discuss., 2016: 1-36.\n",
    "\t"
   ]
  },
  {
   "cell_type": "markdown",
   "metadata": {},
   "source": [
    "This notebook goes through the following steps:\n",
    "\n",
    "1. Import required libraries\n",
    "2. Set up benchmarking configuration <br>\n",
    " 2.1 Define observation inputs<br>\n",
    "\n",
    "3. Create benchmark object<br>\n",
    "4. Add models to be benchmarked <br>\n",
    " 4.1 Select or unselect models<br> \n",
    "5. View benchmarking statistics<br>\n",
    "6. View benchmarking plots<br>\n",
    " 6.1 Time series<br>\n",
    " 6.2 Regression Plots<br>\n",
    "7. Statistics plotting<br>"
   ]
  },
  {
   "cell_type": "markdown",
   "metadata": {},
   "source": [
    "### 1. Import required libraries"
   ]
  },
  {
   "cell_type": "code",
   "execution_count": 33,
   "metadata": {
    "collapsed": true
   },
   "outputs": [],
   "source": [
    "from awrams.benchmarking.benchmark import Benchmark\n",
    "from awrams.benchmarking.utils import read_id_csv\n",
    "from awrams.utils import datetools as dt\n",
    "\n",
    "from awrams.models.settings import TRAINING_DATA_PATH"
   ]
  },
  {
   "cell_type": "markdown",
   "metadata": {},
   "source": [
    "### 2.  Set up benchmarking configuration\n",
    "Comparison at OzFlux ET sites <br>\n",
    "You can use your own data in csv form similar to the example provided. <br>\n",
    "It just needs to have column names matching the names used in extracting AWRA data"
   ]
  },
  {
   "cell_type": "markdown",
   "metadata": {},
   "source": [
    "#### 2.1. Observations to use"
   ]
  },
  {
   "cell_type": "code",
   "execution_count": 34,
   "metadata": {
    "collapsed": true
   },
   "outputs": [],
   "source": [
    "data_path = TRAINING_DATA_PATH + '/benchmarking/ozflux/'\n",
    "\n",
    "#obs_csv = data_path +'/ozflux_monthly.csv'\n",
    "obs_csv = data_path + '/Dingo_daily.csv'"
   ]
  },
  {
   "cell_type": "markdown",
   "metadata": {},
   "source": [
    "### 3.  Create the benchmark object:<br> \n",
    "\n",
    "An object of \"Benchmark\" class is created by defining what variable is to be benchmarked. \n",
    "Everything else gets progressively added,  and statistics are calculated when the observation and model outputs are added."
   ]
  },
  {
   "cell_type": "code",
   "execution_count": 35,
   "metadata": {
    "collapsed": false
   },
   "outputs": [],
   "source": [
    "et = Benchmark(\"OzFlux\", \"evapotranspiration\")\n",
    "et.site_set_name = ['ET flux tower benchmarking','OzFlux']\n",
    "et.id_type = 'site'\n",
    "et.site_id_type = 'Unique_ID'\n",
    "et.site_ref_type = 'ID'\n",
    "\n",
    "# Add observations and catchment subset [the id list needs to be present in the column names of the observation file]\n",
    "et.load(obs_csv)"
   ]
  },
  {
   "cell_type": "code",
   "execution_count": 36,
   "metadata": {
    "collapsed": false
   },
   "outputs": [
    {
     "data": {
      "text/plain": [
       "['Nimmo',\n",
       " 'Fogg Dam',\n",
       " 'Wombat',\n",
       " 'Alice Springs',\n",
       " 'Daly River Pasture',\n",
       " 'Whroo',\n",
       " 'Adelaide River',\n",
       " 'Daly River Uncleared',\n",
       " 'Yanco Jaxa',\n",
       " 'Red Dirt Melon Farm',\n",
       " 'Cumberland Plains',\n",
       " 'Wallaby Creek',\n",
       " 'Warra',\n",
       " 'Daintree',\n",
       " 'Calperum',\n",
       " 'Sturt Plains',\n",
       " 'Tumbarumba',\n",
       " 'Great Western Woodlands',\n",
       " 'Riggs Creek',\n",
       " 'Howard Springs',\n",
       " 'Dry River',\n",
       " 'Gingin',\n",
       " 'Ti Tree East']"
      ]
     },
     "execution_count": 36,
     "metadata": {},
     "output_type": "execute_result"
    }
   ],
   "source": [
    "et.sites"
   ]
  },
  {
   "cell_type": "markdown",
   "metadata": {},
   "source": [
    "### 4. Add models to be benchmarked\n",
    "Read data from pre-processed csv. These pre-processed csvs were in this case obtained by using the extraction routine for the relevant variable for the points to be benchmarked\n",
    "\n",
    "This step processes the data and calculates all the statistics [can take a while]"
   ]
  },
  {
   "cell_type": "code",
   "execution_count": 37,
   "metadata": {
    "collapsed": false
   },
   "outputs": [],
   "source": [
    "# Reading data from pre-processed csv\n",
    "\n",
    "csv_data = data_path+'/AWRAMSI_v5QES_AWRAL_etot_avg_OzFlux_DINGO.csv'\n",
    "et.add_model(\"AWRAMSI_v5_0_AWRAL\", data_csv=csv_data)"
   ]
  },
  {
   "cell_type": "code",
   "execution_count": 38,
   "metadata": {
    "collapsed": true
   },
   "outputs": [],
   "source": [
    "csv_data = data_path+'/awral_etot_avg.csv'\n",
    "et.add_model(\"AWRAMSI_v4_0_AWRAL\", data_csv=csv_data)"
   ]
  },
  {
   "cell_type": "code",
   "execution_count": 39,
   "metadata": {
    "collapsed": true
   },
   "outputs": [],
   "source": [
    "## Sample code here to extract data at OzFlux sites\n",
    "# import pandas as pd\n",
    "# from awrams.utils import extents\n",
    "# from awrams.utils.io.data_mapping import SplitFileManager\n",
    "# from awrams.utils.processing.extract import extract_from_filemanager\n",
    "\n",
    "\n",
    "# site_loc_csv = '../../benchmarking/awrams/benchmarking/data/SiteLocationsWithUniqueID.csv'\n",
    "# site_loc_data = pd.read_csv(site_loc_csv)\n",
    "# var_names = ['etot_avg']\n",
    "# data_path = '/path/to/outputs/'\n",
    "# period = dt.dates('jul 2010 - jun 2011')\n",
    "# mod_site_list = ['OzFlux_' + site for site in et.sites] # or a subset thereof\n",
    "\n",
    "# for var_name in var_names:\n",
    "#     pattern = data_path + '/%s*' % var_name\n",
    "#     sfm = SplitFileManager.open_existing(data_path,pattern,var_name)\n",
    "#     georef = sfm.get_extent()\n",
    "#     extent_map = {}\n",
    "    \n",
    "#     for site in mod_site_list:\n",
    "#         coords= site_loc_data[site_loc_data['Unique_ID']==site][['lats','lons']].values[0]\n",
    "#         extent_map[site] = georef.factory.get_by_cell_coords(coords[0],coords[1])\n",
    "\n",
    "#     df = extract_from_filemanager(sfm,\n",
    "#                  extent_map,\n",
    "#                  period)\n",
    "#     df\n",
    "\n",
    "#     df.to_csv('./for_oznet/'+ var_name+ '.csv' )"
   ]
  },
  {
   "cell_type": "markdown",
   "metadata": {},
   "source": [
    "#### 4.1 Show list of loaded or selected models\n",
    "list of loaded models is available with <tab> activated dropdown by typing \"et.models.\"<br>\n",
    "can \"select\" or \"unselect\" models for displaying"
   ]
  },
  {
   "cell_type": "code",
   "execution_count": 40,
   "metadata": {
    "collapsed": false
   },
   "outputs": [
    {
     "data": {
      "text/plain": [
       "['AWRAMSI_v5_0_AWRAL', 'AWRAMSI_v4_0_AWRAL']"
      ]
     },
     "execution_count": 40,
     "metadata": {},
     "output_type": "execute_result"
    }
   ],
   "source": [
    "et.benchmark.selection"
   ]
  },
  {
   "cell_type": "code",
   "execution_count": 41,
   "metadata": {
    "collapsed": false
   },
   "outputs": [],
   "source": [
    "et.benchmark.selection.AWRAMSI_v5_0_AWRAL.unselect()\n",
    "#et.benchmark.selection.AWRAMSI_v5_0_AWRAL.select()"
   ]
  },
  {
   "cell_type": "markdown",
   "metadata": {},
   "source": [
    "### 5. View Benchmarking Statistics\n",
    "Summary percentiles can be printed out by specifying a statistic from: <br> \n",
    "\"grand_f\", \"nse\", \"bias_relative\", \"pearsons_r\" (default), \"mean\"  <br>\n",
    "to the 'stat_percentiles' function<br>\n",
    "The timeframe defaults to monthly, but can be specified\n",
    "\n",
    "These tables are pandas dataframes, so they can be exported to csv"
   ]
  },
  {
   "cell_type": "code",
   "execution_count": 42,
   "metadata": {
    "collapsed": false
   },
   "outputs": [
    {
     "data": {
      "text/html": [
       "<div style=\"max-height:1000px;max-width:1500px;overflow:auto;\">\n",
       "<table border=\"1\" class=\"dataframe\">\n",
       "  <thead>\n",
       "    <tr style=\"text-align: right;\">\n",
       "      <th></th>\n",
       "      <th>0%</th>\n",
       "      <th>5%</th>\n",
       "      <th>25%</th>\n",
       "      <th>50%</th>\n",
       "      <th>75%</th>\n",
       "      <th>95%</th>\n",
       "      <th>100%</th>\n",
       "    </tr>\n",
       "  </thead>\n",
       "  <tbody>\n",
       "    <tr>\n",
       "      <th>AWRAMSI_v4_0_AWRAL</th>\n",
       "      <td>0.705912</td>\n",
       "      <td>0.707152</td>\n",
       "      <td>0.712113</td>\n",
       "      <td>0.718315</td>\n",
       "      <td>0.821918</td>\n",
       "      <td>0.9048</td>\n",
       "      <td>0.92552</td>\n",
       "    </tr>\n",
       "  </tbody>\n",
       "</table>\n",
       "</div>"
      ],
      "text/plain": [
       "                          0%        5%       25%       50%       75%     95%  \\\n",
       "AWRAMSI_v4_0_AWRAL  0.705912  0.707152  0.712113  0.718315  0.821918  0.9048   \n",
       "\n",
       "                       100%  \n",
       "AWRAMSI_v4_0_AWRAL  0.92552  "
      ]
     },
     "execution_count": 42,
     "metadata": {},
     "output_type": "execute_result"
    }
   ],
   "source": [
    "et.benchmark.stat_percentiles(freq='m')"
   ]
  },
  {
   "cell_type": "code",
   "execution_count": 43,
   "metadata": {
    "collapsed": false
   },
   "outputs": [
    {
     "data": {
      "text/html": [
       "<div style=\"max-height:1000px;max-width:1500px;overflow:auto;\">\n",
       "<table border=\"1\" class=\"dataframe\">\n",
       "  <thead>\n",
       "    <tr style=\"text-align: right;\">\n",
       "      <th></th>\n",
       "      <th>AWRAMSI_v4_0_AWRAL</th>\n",
       "    </tr>\n",
       "  </thead>\n",
       "  <tbody>\n",
       "    <tr>\n",
       "      <th>Howard Springs</th>\n",
       "      <td>-0.115299</td>\n",
       "    </tr>\n",
       "    <tr>\n",
       "      <th>Tumbarumba</th>\n",
       "      <td>-0.052485</td>\n",
       "    </tr>\n",
       "    <tr>\n",
       "      <th>Wallaby Creek</th>\n",
       "      <td>-0.073684</td>\n",
       "    </tr>\n",
       "    <tr>\n",
       "      <th>all</th>\n",
       "      <td>-0.085683</td>\n",
       "    </tr>\n",
       "  </tbody>\n",
       "</table>\n",
       "</div>"
      ],
      "text/plain": [
       "                AWRAMSI_v4_0_AWRAL\n",
       "Howard Springs           -0.115299\n",
       "Tumbarumba               -0.052485\n",
       "Wallaby Creek            -0.073684\n",
       "all                      -0.085683"
      ]
     },
     "execution_count": 43,
     "metadata": {},
     "output_type": "execute_result"
    }
   ],
   "source": [
    "et.benchmark.stat(statistic='bias_relative', freq='m')"
   ]
  },
  {
   "cell_type": "code",
   "execution_count": 44,
   "metadata": {
    "collapsed": false
   },
   "outputs": [
    {
     "data": {
      "text/html": [
       "<div style=\"max-height:1000px;max-width:1500px;overflow:auto;\">\n",
       "<table border=\"1\" class=\"dataframe\">\n",
       "  <thead>\n",
       "    <tr style=\"text-align: right;\">\n",
       "      <th></th>\n",
       "      <th>AWRAMSI_v4_0_AWRAL</th>\n",
       "    </tr>\n",
       "  </thead>\n",
       "  <tbody>\n",
       "    <tr>\n",
       "      <th>Howard Springs</th>\n",
       "      <td>-11.302368</td>\n",
       "    </tr>\n",
       "    <tr>\n",
       "      <th>Tumbarumba</th>\n",
       "      <td>-3.802094</td>\n",
       "    </tr>\n",
       "    <tr>\n",
       "      <th>Wallaby Creek</th>\n",
       "      <td>-5.195055</td>\n",
       "    </tr>\n",
       "    <tr>\n",
       "      <th>all</th>\n",
       "      <td>-7.016001</td>\n",
       "    </tr>\n",
       "  </tbody>\n",
       "</table>\n",
       "</div>"
      ],
      "text/plain": [
       "                AWRAMSI_v4_0_AWRAL\n",
       "Howard Springs          -11.302368\n",
       "Tumbarumba               -3.802094\n",
       "Wallaby Creek            -5.195055\n",
       "all                      -7.016001"
      ]
     },
     "execution_count": 44,
     "metadata": {},
     "output_type": "execute_result"
    }
   ],
   "source": [
    "et.benchmark.stat(statistic='bias')"
   ]
  },
  {
   "cell_type": "code",
   "execution_count": 45,
   "metadata": {
    "collapsed": false
   },
   "outputs": [
    {
     "data": {
      "text/html": [
       "<div style=\"max-height:1000px;max-width:1500px;overflow:auto;\">\n",
       "<table border=\"1\" class=\"dataframe\">\n",
       "  <thead>\n",
       "    <tr style=\"text-align: right;\">\n",
       "      <th></th>\n",
       "      <th>AWRAMSI_v4_0_AWRAL</th>\n",
       "    </tr>\n",
       "  </thead>\n",
       "  <tbody>\n",
       "    <tr>\n",
       "      <th>Howard Springs</th>\n",
       "      <td>0.085005</td>\n",
       "    </tr>\n",
       "    <tr>\n",
       "      <th>Tumbarumba</th>\n",
       "      <td>0.799203</td>\n",
       "    </tr>\n",
       "    <tr>\n",
       "      <th>Wallaby Creek</th>\n",
       "      <td>0.476190</td>\n",
       "    </tr>\n",
       "    <tr>\n",
       "      <th>all</th>\n",
       "      <td>0.527920</td>\n",
       "    </tr>\n",
       "  </tbody>\n",
       "</table>\n",
       "</div>"
      ],
      "text/plain": [
       "                AWRAMSI_v4_0_AWRAL\n",
       "Howard Springs            0.085005\n",
       "Tumbarumba                0.799203\n",
       "Wallaby Creek             0.476190\n",
       "all                       0.527920"
      ]
     },
     "execution_count": 45,
     "metadata": {},
     "output_type": "execute_result"
    }
   ],
   "source": [
    "et.benchmark.stat(statistic='nse', freq='m')"
   ]
  },
  {
   "cell_type": "code",
   "execution_count": 46,
   "metadata": {
    "collapsed": false
   },
   "outputs": [
    {
     "data": {
      "text/html": [
       "<div style=\"max-height:1000px;max-width:1500px;overflow:auto;\">\n",
       "<table border=\"1\" class=\"dataframe\">\n",
       "  <thead>\n",
       "    <tr style=\"text-align: right;\">\n",
       "      <th></th>\n",
       "      <th>AWRAMSI_v4_0_AWRAL</th>\n",
       "    </tr>\n",
       "  </thead>\n",
       "  <tbody>\n",
       "    <tr>\n",
       "      <th>Howard Springs</th>\n",
       "      <td>0.718315</td>\n",
       "    </tr>\n",
       "    <tr>\n",
       "      <th>Tumbarumba</th>\n",
       "      <td>0.925520</td>\n",
       "    </tr>\n",
       "    <tr>\n",
       "      <th>Wallaby Creek</th>\n",
       "      <td>0.705912</td>\n",
       "    </tr>\n",
       "    <tr>\n",
       "      <th>all</th>\n",
       "      <td>0.773188</td>\n",
       "    </tr>\n",
       "  </tbody>\n",
       "</table>\n",
       "</div>"
      ],
      "text/plain": [
       "                AWRAMSI_v4_0_AWRAL\n",
       "Howard Springs            0.718315\n",
       "Tumbarumba                0.925520\n",
       "Wallaby Creek             0.705912\n",
       "all                       0.773188"
      ]
     },
     "execution_count": 46,
     "metadata": {},
     "output_type": "execute_result"
    }
   ],
   "source": [
    "et.benchmark.stat(statistic='pearsons_r', freq='m')"
   ]
  },
  {
   "cell_type": "code",
   "execution_count": 47,
   "metadata": {
    "collapsed": false
   },
   "outputs": [
    {
     "data": {
      "text/html": [
       "<div style=\"max-height:1000px;max-width:1500px;overflow:auto;\">\n",
       "<table border=\"1\" class=\"dataframe\">\n",
       "  <thead>\n",
       "    <tr style=\"text-align: right;\">\n",
       "      <th></th>\n",
       "      <th>AWRAMSI_v4_0_AWRAL</th>\n",
       "    </tr>\n",
       "  </thead>\n",
       "  <tbody>\n",
       "    <tr>\n",
       "      <th>Howard Springs</th>\n",
       "      <td>28.268805</td>\n",
       "    </tr>\n",
       "    <tr>\n",
       "      <th>Tumbarumba</th>\n",
       "      <td>13.749657</td>\n",
       "    </tr>\n",
       "    <tr>\n",
       "      <th>Wallaby Creek</th>\n",
       "      <td>34.615527</td>\n",
       "    </tr>\n",
       "    <tr>\n",
       "      <th>all</th>\n",
       "      <td>25.578780</td>\n",
       "    </tr>\n",
       "  </tbody>\n",
       "</table>\n",
       "</div>"
      ],
      "text/plain": [
       "                AWRAMSI_v4_0_AWRAL\n",
       "Howard Springs           28.268805\n",
       "Tumbarumba               13.749657\n",
       "Wallaby Creek            34.615527\n",
       "all                      25.578780"
      ]
     },
     "execution_count": 47,
     "metadata": {},
     "output_type": "execute_result"
    }
   ],
   "source": [
    "et.benchmark.stat(statistic='rmse', freq='m')"
   ]
  },
  {
   "cell_type": "code",
   "execution_count": 48,
   "metadata": {
    "collapsed": false
   },
   "outputs": [
    {
     "data": {
      "text/html": [
       "<div style=\"max-height:1000px;max-width:1500px;overflow:auto;\">\n",
       "<table border=\"1\" class=\"dataframe\">\n",
       "  <thead>\n",
       "    <tr style=\"text-align: right;\">\n",
       "      <th></th>\n",
       "      <th>AWRAMSI_v4_0_AWRAL</th>\n",
       "      <th>OzFlux</th>\n",
       "    </tr>\n",
       "  </thead>\n",
       "  <tbody>\n",
       "    <tr>\n",
       "      <th>Howard Springs</th>\n",
       "      <td>1009.714351</td>\n",
       "      <td>1141.306205</td>\n",
       "    </tr>\n",
       "    <tr>\n",
       "      <th>Tumbarumba</th>\n",
       "      <td>799.163370</td>\n",
       "      <td>843.430611</td>\n",
       "    </tr>\n",
       "    <tr>\n",
       "      <th>Wallaby Creek</th>\n",
       "      <td>783.715709</td>\n",
       "      <td>846.056370</td>\n",
       "    </tr>\n",
       "    <tr>\n",
       "      <th>all</th>\n",
       "      <td>877.611494</td>\n",
       "      <td>959.854622</td>\n",
       "    </tr>\n",
       "  </tbody>\n",
       "</table>\n",
       "</div>"
      ],
      "text/plain": [
       "                AWRAMSI_v4_0_AWRAL       OzFlux\n",
       "Howard Springs         1009.714351  1141.306205\n",
       "Tumbarumba              799.163370   843.430611\n",
       "Wallaby Creek           783.715709   846.056370\n",
       "all                     877.611494   959.854622"
      ]
     },
     "execution_count": 48,
     "metadata": {},
     "output_type": "execute_result"
    }
   ],
   "source": [
    "et.benchmark.stat(freq='y') # mean"
   ]
  },
  {
   "cell_type": "code",
   "execution_count": 49,
   "metadata": {
    "collapsed": false
   },
   "outputs": [
    {
     "data": {
      "text/html": [
       "<div style=\"max-height:1000px;max-width:1500px;overflow:auto;\">\n",
       "<table border=\"1\" class=\"dataframe\">\n",
       "  <thead>\n",
       "    <tr style=\"text-align: right;\">\n",
       "      <th></th>\n",
       "      <th>AWRAMSI_v4_0_AWRAL</th>\n",
       "    </tr>\n",
       "  </thead>\n",
       "  <tbody>\n",
       "    <tr>\n",
       "      <th>Howard Springs</th>\n",
       "      <td>-0.115299</td>\n",
       "    </tr>\n",
       "    <tr>\n",
       "      <th>Tumbarumba</th>\n",
       "      <td>-0.052485</td>\n",
       "    </tr>\n",
       "    <tr>\n",
       "      <th>Wallaby Creek</th>\n",
       "      <td>-0.073684</td>\n",
       "    </tr>\n",
       "    <tr>\n",
       "      <th>all</th>\n",
       "      <td>-0.085683</td>\n",
       "    </tr>\n",
       "  </tbody>\n",
       "</table>\n",
       "</div>"
      ],
      "text/plain": [
       "                AWRAMSI_v4_0_AWRAL\n",
       "Howard Springs           -0.115299\n",
       "Tumbarumba               -0.052485\n",
       "Wallaby Creek            -0.073684\n",
       "all                      -0.085683"
      ]
     },
     "execution_count": 49,
     "metadata": {},
     "output_type": "execute_result"
    }
   ],
   "source": [
    "et.benchmark.stat(statistic='bias_relative', freq='y')"
   ]
  },
  {
   "cell_type": "code",
   "execution_count": 50,
   "metadata": {
    "collapsed": false
   },
   "outputs": [
    {
     "data": {
      "text/html": [
       "<div style=\"max-height:1000px;max-width:1500px;overflow:auto;\">\n",
       "<table border=\"1\" class=\"dataframe\">\n",
       "  <thead>\n",
       "    <tr style=\"text-align: right;\">\n",
       "      <th></th>\n",
       "      <th>AWRAMSI_v4_0_AWRAL</th>\n",
       "    </tr>\n",
       "  </thead>\n",
       "  <tbody>\n",
       "    <tr>\n",
       "      <th>Howard Springs</th>\n",
       "      <td>-131.591853</td>\n",
       "    </tr>\n",
       "    <tr>\n",
       "      <th>Tumbarumba</th>\n",
       "      <td>-44.267242</td>\n",
       "    </tr>\n",
       "    <tr>\n",
       "      <th>Wallaby Creek</th>\n",
       "      <td>-62.340660</td>\n",
       "    </tr>\n",
       "    <tr>\n",
       "      <th>all</th>\n",
       "      <td>-82.243128</td>\n",
       "    </tr>\n",
       "  </tbody>\n",
       "</table>\n",
       "</div>"
      ],
      "text/plain": [
       "                AWRAMSI_v4_0_AWRAL\n",
       "Howard Springs         -131.591853\n",
       "Tumbarumba              -44.267242\n",
       "Wallaby Creek           -62.340660\n",
       "all                     -82.243128"
      ]
     },
     "execution_count": 50,
     "metadata": {},
     "output_type": "execute_result"
    }
   ],
   "source": [
    "et.benchmark.stat(statistic='bias', freq='y')"
   ]
  },
  {
   "cell_type": "code",
   "execution_count": 51,
   "metadata": {
    "collapsed": false
   },
   "outputs": [
    {
     "data": {
      "text/html": [
       "<div style=\"max-height:1000px;max-width:1500px;overflow:auto;\">\n",
       "<table border=\"1\" class=\"dataframe\">\n",
       "  <thead>\n",
       "    <tr style=\"text-align: right;\">\n",
       "      <th></th>\n",
       "      <th>AWRAMSI_v4_0_AWRAL</th>\n",
       "    </tr>\n",
       "  </thead>\n",
       "  <tbody>\n",
       "    <tr>\n",
       "      <th>Howard Springs</th>\n",
       "      <td>-1.690791</td>\n",
       "    </tr>\n",
       "    <tr>\n",
       "      <th>Tumbarumba</th>\n",
       "      <td>0.247863</td>\n",
       "    </tr>\n",
       "    <tr>\n",
       "      <th>Wallaby Creek</th>\n",
       "      <td>0.018337</td>\n",
       "    </tr>\n",
       "    <tr>\n",
       "      <th>all</th>\n",
       "      <td>0.219627</td>\n",
       "    </tr>\n",
       "  </tbody>\n",
       "</table>\n",
       "</div>"
      ],
      "text/plain": [
       "                AWRAMSI_v4_0_AWRAL\n",
       "Howard Springs           -1.690791\n",
       "Tumbarumba                0.247863\n",
       "Wallaby Creek             0.018337\n",
       "all                       0.219627"
      ]
     },
     "execution_count": 51,
     "metadata": {},
     "output_type": "execute_result"
    }
   ],
   "source": [
    "et.benchmark.stat(statistic='nse', freq='y')"
   ]
  },
  {
   "cell_type": "code",
   "execution_count": 52,
   "metadata": {
    "collapsed": false
   },
   "outputs": [
    {
     "data": {
      "text/html": [
       "<div style=\"max-height:1000px;max-width:1500px;overflow:auto;\">\n",
       "<table border=\"1\" class=\"dataframe\">\n",
       "  <thead>\n",
       "    <tr style=\"text-align: right;\">\n",
       "      <th></th>\n",
       "      <th>AWRAMSI_v4_0_AWRAL</th>\n",
       "    </tr>\n",
       "  </thead>\n",
       "  <tbody>\n",
       "    <tr>\n",
       "      <th>Howard Springs</th>\n",
       "      <td>0.663788</td>\n",
       "    </tr>\n",
       "    <tr>\n",
       "      <th>Tumbarumba</th>\n",
       "      <td>0.708580</td>\n",
       "    </tr>\n",
       "    <tr>\n",
       "      <th>Wallaby Creek</th>\n",
       "      <td>0.345003</td>\n",
       "    </tr>\n",
       "    <tr>\n",
       "      <th>all</th>\n",
       "      <td>0.627351</td>\n",
       "    </tr>\n",
       "  </tbody>\n",
       "</table>\n",
       "</div>"
      ],
      "text/plain": [
       "                AWRAMSI_v4_0_AWRAL\n",
       "Howard Springs            0.663788\n",
       "Tumbarumba                0.708580\n",
       "Wallaby Creek             0.345003\n",
       "all                       0.627351"
      ]
     },
     "execution_count": 52,
     "metadata": {},
     "output_type": "execute_result"
    }
   ],
   "source": [
    "et.benchmark.stat(statistic='pearsons_r', freq='y')"
   ]
  },
  {
   "cell_type": "code",
   "execution_count": 53,
   "metadata": {
    "collapsed": false
   },
   "outputs": [
    {
     "data": {
      "text/plain": [
       "2000-12-31            NaN\n",
       "2001-12-31            NaN\n",
       "2002-12-31            NaN\n",
       "2003-12-31            NaN\n",
       "2004-12-31       4.444376\n",
       "2005-12-31    1377.081907\n",
       "2006-12-31     809.459382\n",
       "2007-12-31     818.929231\n",
       "2008-12-31     762.786936\n",
       "2009-12-31     400.077413\n",
       "2010-12-31     593.463410\n",
       "2011-12-31     796.637752\n",
       "2012-12-31    1192.899539\n",
       "2013-12-31            NaN\n",
       "2014-12-31            NaN\n",
       "2015-12-31            NaN\n",
       "Freq: A-DEC, Name: Wallaby Creek, dtype: float64"
      ]
     },
     "execution_count": 53,
     "metadata": {},
     "output_type": "execute_result"
    }
   ],
   "source": [
    "et.benchmark.obs.annual['Wallaby Creek']"
   ]
  },
  {
   "cell_type": "code",
   "execution_count": 54,
   "metadata": {
    "collapsed": false
   },
   "outputs": [
    {
     "data": {
      "text/plain": [
       "2005-12-31    785.781696\n",
       "2006-12-31    696.550432\n",
       "2007-12-31    730.331810\n",
       "2008-12-31    737.865499\n",
       "2009-12-31    735.266110\n",
       "2010-12-31    798.573239\n",
       "2011-12-31    816.617927\n",
       "2012-12-31    790.715234\n",
       "Freq: A-DEC, Name: Wallaby Creek, dtype: float64"
      ]
     },
     "execution_count": 54,
     "metadata": {},
     "output_type": "execute_result"
    }
   ],
   "source": [
    "et.benchmark.models.AWRAMSI_v5_0_AWRAL.data.annual['Wallaby Creek']"
   ]
  },
  {
   "cell_type": "code",
   "execution_count": 55,
   "metadata": {
    "collapsed": false
   },
   "outputs": [
    {
     "data": {
      "text/html": [
       "<div style=\"max-height:1000px;max-width:1500px;overflow:auto;\">\n",
       "<table border=\"1\" class=\"dataframe\">\n",
       "  <thead>\n",
       "    <tr style=\"text-align: right;\">\n",
       "      <th></th>\n",
       "      <th>AWRAMSI_v4_0_AWRAL</th>\n",
       "    </tr>\n",
       "  </thead>\n",
       "  <tbody>\n",
       "    <tr>\n",
       "      <th>Howard Springs</th>\n",
       "      <td>213.878886</td>\n",
       "    </tr>\n",
       "    <tr>\n",
       "      <th>Tumbarumba</th>\n",
       "      <td>94.090577</td>\n",
       "    </tr>\n",
       "    <tr>\n",
       "      <th>Wallaby Creek</th>\n",
       "      <td>290.684178</td>\n",
       "    </tr>\n",
       "    <tr>\n",
       "      <th>all</th>\n",
       "      <td>200.023563</td>\n",
       "    </tr>\n",
       "  </tbody>\n",
       "</table>\n",
       "</div>"
      ],
      "text/plain": [
       "                AWRAMSI_v4_0_AWRAL\n",
       "Howard Springs          213.878886\n",
       "Tumbarumba               94.090577\n",
       "Wallaby Creek           290.684178\n",
       "all                     200.023563"
      ]
     },
     "execution_count": 55,
     "metadata": {},
     "output_type": "execute_result"
    }
   ],
   "source": [
    "et.benchmark.stat(statistic='rmse', freq='y')"
   ]
  },
  {
   "cell_type": "markdown",
   "metadata": {},
   "source": [
    "### 6. View benchmarking plots: \n",
    "### 6.1 Time Series\n",
    "\n",
    "specify frequency by \"freq=d\" for daily, \"freq=m\" for monthly, \"freq=y\" for yearly<br>\n",
    "can customise titles, labels, scaling etc using standard matplotlib keyword arguments"
   ]
  },
  {
   "cell_type": "code",
   "execution_count": 65,
   "metadata": {
    "collapsed": false,
    "scrolled": false
   },
   "outputs": [
    {
     "ename": "TypeError",
     "evalue": "asfreq() missing 1 required positional argument: 'freq'",
     "output_type": "error",
     "traceback": [
      "\u001b[1;31m---------------------------------------------------------------------------\u001b[0m",
      "\u001b[1;31mTypeError\u001b[0m                                 Traceback (most recent call last)",
      "\u001b[1;32m<ipython-input-65-cfd011a45084>\u001b[0m in \u001b[0;36m<module>\u001b[1;34m()\u001b[0m\n\u001b[0;32m      1\u001b[0m \u001b[1;32mfor\u001b[0m \u001b[0msite\u001b[0m \u001b[1;32min\u001b[0m \u001b[0met\u001b[0m\u001b[1;33m.\u001b[0m\u001b[0msites\u001b[0m\u001b[1;33m:\u001b[0m\u001b[1;33m\u001b[0m\u001b[0m\n\u001b[1;32m----> 2\u001b[1;33m     \u001b[0mp\u001b[0m \u001b[1;33m=\u001b[0m \u001b[0met\u001b[0m\u001b[1;33m.\u001b[0m\u001b[0mbenchmark\u001b[0m\u001b[1;33m.\u001b[0m\u001b[0mplot_timeseries\u001b[0m\u001b[1;33m(\u001b[0m\u001b[0msite\u001b[0m\u001b[1;33m,\u001b[0m \u001b[0mfreq\u001b[0m\u001b[1;33m=\u001b[0m\u001b[1;34m'd'\u001b[0m\u001b[1;33m)\u001b[0m \u001b[1;31m#u'Tumbarumba')\u001b[0m\u001b[1;33m\u001b[0m\u001b[0m\n\u001b[0m",
      "\u001b[1;32m/data/cwd_awra_data/AWRAMSI/IWRM_0042_WP3/GIT/aoke/community_model/new/awrams_cm/benchmarking/awrams/benchmarking/comparison.py\u001b[0m in \u001b[0;36mplot_timeseries\u001b[1;34m(self, site, freq, model, **kwargs)\u001b[0m\n\u001b[0;32m    190\u001b[0m             \u001b[1;32melse\u001b[0m\u001b[1;33m:\u001b[0m\u001b[1;33m\u001b[0m\u001b[0m\n\u001b[0;32m    191\u001b[0m                 \u001b[1;32mif\u001b[0m \u001b[0mfreq\u001b[0m \u001b[1;33m==\u001b[0m \u001b[1;34m'd'\u001b[0m\u001b[1;33m:\u001b[0m\u001b[1;33m\u001b[0m\u001b[0m\n\u001b[1;32m--> 192\u001b[1;33m                     \u001b[0mplot\u001b[0m\u001b[1;33m(\u001b[0m\u001b[0mseries\u001b[0m\u001b[1;33m=\u001b[0m\u001b[0mself\u001b[0m\u001b[1;33m.\u001b[0m\u001b[0mobs\u001b[0m\u001b[1;33m.\u001b[0m\u001b[0mdata\u001b[0m\u001b[1;33m[\u001b[0m\u001b[0msite\u001b[0m\u001b[1;33m]\u001b[0m\u001b[1;33m.\u001b[0m\u001b[0mresample\u001b[0m\u001b[1;33m(\u001b[0m\u001b[0m_freq\u001b[0m\u001b[1;33m)\u001b[0m\u001b[1;33m.\u001b[0m\u001b[0masfreq\u001b[0m\u001b[1;33m(\u001b[0m\u001b[1;33m)\u001b[0m\u001b[1;33m,\u001b[0m\u001b[0mlabel\u001b[0m\u001b[1;33m=\u001b[0m\u001b[0mself\u001b[0m\u001b[1;33m.\u001b[0m\u001b[0mref_name\u001b[0m\u001b[1;33m,\u001b[0m\u001b[0mcolour\u001b[0m\u001b[1;33m=\u001b[0m\u001b[1;34m'black'\u001b[0m\u001b[1;33m)\u001b[0m\u001b[1;33m\u001b[0m\u001b[0m\n\u001b[0m\u001b[0;32m    193\u001b[0m                 \u001b[1;32melif\u001b[0m \u001b[0mfreq\u001b[0m \u001b[1;33m==\u001b[0m \u001b[1;34m'm'\u001b[0m\u001b[1;33m:\u001b[0m\u001b[1;33m\u001b[0m\u001b[0m\n\u001b[0;32m    194\u001b[0m                     \u001b[0mplot\u001b[0m\u001b[1;33m(\u001b[0m\u001b[0mseries\u001b[0m\u001b[1;33m=\u001b[0m\u001b[0mself\u001b[0m\u001b[1;33m.\u001b[0m\u001b[0mobs\u001b[0m\u001b[1;33m.\u001b[0m\u001b[0mmonthly\u001b[0m\u001b[1;33m[\u001b[0m\u001b[0msite\u001b[0m\u001b[1;33m]\u001b[0m\u001b[1;33m.\u001b[0m\u001b[0mresample\u001b[0m\u001b[1;33m(\u001b[0m\u001b[0m_freq\u001b[0m\u001b[1;33m)\u001b[0m\u001b[1;33m.\u001b[0m\u001b[0masfreq\u001b[0m\u001b[1;33m(\u001b[0m\u001b[1;33m)\u001b[0m\u001b[1;33m,\u001b[0m\u001b[0mlabel\u001b[0m\u001b[1;33m=\u001b[0m\u001b[0mself\u001b[0m\u001b[1;33m.\u001b[0m\u001b[0mref_name\u001b[0m\u001b[1;33m,\u001b[0m\u001b[0mcolour\u001b[0m\u001b[1;33m=\u001b[0m\u001b[1;34m'black'\u001b[0m\u001b[1;33m)\u001b[0m\u001b[1;33m\u001b[0m\u001b[0m\n",
      "\u001b[1;31mTypeError\u001b[0m: asfreq() missing 1 required positional argument: 'freq'"
     ]
    },
    {
     "data": {
      "image/png": "[encoded data removed]",
      "text/plain": [
       "<matplotlib.figure.Figure at 0x7ff7acdc1908>"
      ]
     },
     "metadata": {},
     "output_type": "display_data"
    }
   ],
   "source": [
    "for site in et.sites:\n",
    "    p = et.benchmark.plot_timeseries(site, freq='d') #u'Tumbarumba')"
   ]
  },
  {
   "cell_type": "code",
   "execution_count": 63,
   "metadata": {
    "collapsed": false
   },
   "outputs": [
    {
     "data": {
      "text/plain": [
       "<awrams.benchmarking.benchmark.Benchmark at 0x7ff7acefb5f8>"
      ]
     },
     "execution_count": 63,
     "metadata": {},
     "output_type": "execute_result"
    }
   ],
   "source": [
    "et"
   ]
  },
  {
   "cell_type": "markdown",
   "metadata": {},
   "source": [
    "### 6.2 Regression Plots"
   ]
  },
  {
   "cell_type": "code",
   "execution_count": 66,
   "metadata": {
    "collapsed": false
   },
   "outputs": [
    {
     "data": {
      "image/png": "[encoded data removed]",
      "text/plain": [
       "<matplotlib.figure.Figure at 0x7ff7acd407f0>"
      ]
     },
     "metadata": {},
     "output_type": "display_data"
    }
   ],
   "source": [
    "p = et.benchmark.plot_regression(title=\"OzFlux ET\", site='Tumbarumba')"
   ]
  },
  {
   "cell_type": "code",
   "execution_count": 67,
   "metadata": {
    "collapsed": false
   },
   "outputs": [
    {
     "data": {
      "image/png": "[encoded data removed]",
      "text/plain": [
       "<matplotlib.figure.Figure at 0x7ff7acd5db70>"
      ]
     },
     "metadata": {},
     "output_type": "display_data"
    }
   ],
   "source": [
    "p = et.benchmark.plot_regression(title=\"OzFlux ET\")"
   ]
  },
  {
   "cell_type": "markdown",
   "metadata": {},
   "source": [
    "### 7. Statistics plotting\n",
    "specify statistic type from \"fobj\", \"nse\", \"rmse\", \"bias_relative\", \"pearsons_r\" (default), \"mean\" and <br> frequency from 'd', 'm', 'y'"
   ]
  },
  {
   "cell_type": "code",
   "execution_count": 68,
   "metadata": {
    "collapsed": false
   },
   "outputs": [
    {
     "data": {
      "image/png": "[encoded data removed]",
      "text/plain": [
       "<matplotlib.figure.Figure at 0x7ff7acc91550>"
      ]
     },
     "metadata": {},
     "output_type": "display_data"
    }
   ],
   "source": [
    "p = et.benchmark.plot_box('pearsons_r', freq='m', ylim=[0,1])"
   ]
  },
  {
   "cell_type": "code",
   "execution_count": null,
   "metadata": {
    "collapsed": true
   },
   "outputs": [],
   "source": []
  }
 ],
 "metadata": {
  "kernelspec": {
   "display_name": "Python 3",
   "language": "python",
   "name": "python3"
  },
  "language_info": {
   "codemirror_mode": {
    "name": "ipython",
    "version": 3
   },
   "file_extension": ".py",
   "mimetype": "text/x-python",
   "name": "python",
   "nbconvert_exporter": "python",
   "pygments_lexer": "ipython3",
   "version": "3.4.5"
  }
 },
 "nbformat": 4,
 "nbformat_minor": 0
}
