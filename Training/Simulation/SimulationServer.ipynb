{
 "cells": [
  {
   "cell_type": "markdown",
   "metadata": {},
   "source": [
    "# Using the AWRA MS to run a Simulation of the AWRA-L model\n",
    "There are two ways to run a simulation of the AWRA-L model in the AWRA MS\n",
    "* Using the On-Demand Simulator\n",
    "* Using the Server Simulator\n",
    "\n",
    "\n",
    "## Server Simulation"
   ]
  },
  {
   "cell_type": "markdown",
   "metadata": {
    "collapsed": true
   },
   "source": [
    "\n",
    "The Server Simulation is set up very similarly to the On Demand Simulator, except it needs to write the outputs to disk as the model run progresses, as it does not hold the results in memory. This allows the Server Simulator to be the more efficient choice for longer runs over a larger extent. The same output and input maps can be used for either simulator."
   ]
  },
  {
   "cell_type": "markdown",
   "metadata": {},
   "source": [
    "This notebook goes through the following steps:\n",
    "\n",
    "1. Import required libraries\n",
    "2. Modify the model configuration <br>\n",
    " 2.1 Read in the default configuration<br>\n",
    " 2.2 Change forcing data<br>\n",
    " 2.3 Create model output map and add nodes for saving some model outputs to netcdf files<br>\n",
    " 2.4 Specify period and extents<br>\n",
    "3. Put model run specification together<br>\n",
    " 3.1 Instantiate the simulator<br>\n",
    " 3.2 Run the model<br>\n",
    "4. Visualise outputs<br>\n",
    " 4.1 Import libraries<br>\n",
    " 4.2 Load model outputs<br>\n",
    " 4.3 Look at time slice<br>\n",
    "5. Further simulation functionality<br>\n",
    " 5.1 Change initial states<br>\n",
    " 5.2 Fill gaps in forcing with climatology<br>"
   ]
  },
  {
   "cell_type": "markdown",
   "metadata": {},
   "source": [
    "### 1. Import required libraries"
   ]
  },
  {
   "cell_type": "code",
   "execution_count": 8,
   "metadata": {
    "collapsed": false
   },
   "outputs": [],
   "source": [
    "from awrams.simulation import server\n",
    "from awrams.models.awral.model import AWRALModel, CLIMATE_DATA, FORCING\n",
    "from awrams.models.settings import TRAINING_DATA_PATH\n",
    "\n",
    "\n",
    "from awrams.utils import extents\n",
    "from awrams.utils import datetools"
   ]
  },
  {
   "cell_type": "code",
   "execution_count": 3,
   "metadata": {
    "collapsed": false
   },
   "outputs": [
    {
     "data": {
      "text/plain": [
       "'/data/cwd_awra_data/AWRACMS/Training/test_data/'"
      ]
     },
     "execution_count": 3,
     "metadata": {},
     "output_type": "execute_result"
    }
   ],
   "source": [
    "TEST_DATA_PATH = '../../test_data/simulation/'"
   ]
  },
  {
   "cell_type": "code",
   "execution_count": 2,
   "metadata": {
    "collapsed": true
   },
   "outputs": [],
   "source": [
    "CLIMATE_DATA  = TEST_DATA_PATH"
   ]
  },
  {
   "cell_type": "code",
   "execution_count": 10,
   "metadata": {
    "collapsed": true
   },
   "outputs": [],
   "source": [
    "# Instantiate the model\n",
    "\n",
    "awral = AWRALModel()"
   ]
  },
  {
   "cell_type": "markdown",
   "metadata": {},
   "source": [
    "### 2. Modify the model configuration"
   ]
  },
  {
   "cell_type": "markdown",
   "metadata": {},
   "source": [
    "#### 2.1 Read in  default configuration"
   ]
  },
  {
   "cell_type": "code",
   "execution_count": 11,
   "metadata": {
    "collapsed": false
   },
   "outputs": [],
   "source": [
    "input_map = awral.get_default_mapping()"
   ]
  },
  {
   "cell_type": "raw",
   "metadata": {
    "collapsed": false
   },
   "source": [
    "input_map.tmax_f.args['path'] = CLIMATE_DATA\n",
    "input_map.tmin_f.args['path'] = CLIMATE_DATA\n",
    "input_map.precip_f.args['path'] = CLIMATE_DATA\n",
    "input_map.solar_f.args['path'] = CLIMATE_DATA"
   ]
  },
  {
   "cell_type": "code",
   "execution_count": 6,
   "metadata": {
    "collapsed": false
   },
   "outputs": [
    {
     "data": {
      "text/plain": [
       "{'init_mleaf_hrusr': transform([2.0, 'sla_hrusr']):{'tfunc': {'name': 'true_divide', 'objtype': 'class', 'module': 'numpy'}, 'func_args': {}}, 'tgrow_hrusr': parameter([]):{'fixed': True, 'max': 1000, 'value': 150.0, 'min': 20}, 'pair': constant([]):{'value': 97500.0}, 'alb_wet_hrudr': parameter([]):{'fixed': True, 'max': 0.5, 'value': 0.16, 'min': 0.1}, 'laimax_hrusr': assign(['lai_max_grid']):{}, 'k_gw_scale': parameter([]):{'fixed': False, 'max': 10, 'value': 0.502237767850745, 'min': 0.1}, 'tmin_f': forcing_from_ncfiles([]):{'cache': False, 'pattern': 'temp_min*', 'path': '/data/cwd_awra_data/AWRACMS/Training/test_data/climate/BOM_climate/temp_min_day/', 'nc_var': 'temp_min_day'}, 'fsoilemax_hrusr': parameter([]):{'fixed': False, 'max': 1, 'value': 0.929708357540083, 'min': 0.2}, 'alb_wet_hrusr': parameter([]):{'fixed': True, 'max': 0.5, 'value': 0.16, 'min': 0.1}, 'ne_scale': parameter([]):{'fixed': False, 'max': 1, 'value': 0.0551891007464962, 'min': 0.01}, 'kssat': transform(('kssat_scale', 'kssat_v5_grid')):{'tfunc': {'name': 'multiply', 'objtype': 'class', 'module': 'numpy'}, 'func_args': {}}, 'w0lime_hrudr': parameter([]):{'fixed': True, 'max': 0.9, 'value': 0.85, 'min': 0.6}, 'hveg_hrudr': assign(['hveg_dr_grid']):{}, 'hveg_hrusr': parameter([]):{'fixed': True, 'max': 50, 'value': 0.5, 'min': 0.1}, 'fday': fday([]):{}, 'rd_hrudr': parameter([]):{'fixed': True, 'max': 20, 'value': 6.0, 'min': 3}, 'wdlimu_hrusr': parameter([]):{'fixed': True, 'max': 0.5, 'value': 0.3, 'min': 0.15}, 'pt': assign(['precip_f']):{}, 'kssat_scale': parameter([]):{'fixed': False, 'max': 10, 'value': 0.0202384169380067, 'min': 0.01}, 'us0_hrudr': parameter([]):{'fixed': True, 'max': 7, 'value': 6.0, 'min': 1}, 'kr_0s': transform(('k0sat', 'kssat')):{'tfunc': {'name': 'interlayer_k', 'objtype': 'class', 'module': 'awrams.models.awral.transforms'}, 'func_args': {}}, 'laimax_hrudr': assign(['lai_max_grid']):{}, 'ssmax_scale': parameter([]):{'fixed': False, 'max': 3, 'value': 2.43326110876421, 'min': 0.5}, 's_sls_hrusr': parameter([]):{'fixed': False, 'max': 0.8, 'value': 0.042742565428351, 'min': 0.03}, 'u2t': windspeed(['windspeed_grid', 'fday']):{}, 'hypsperc_f': const_from_hdf5([]):{'dims': ['hypsometric_percentile'], 'variable': 'dimensions/hypsometric_percentile', 'filename': '/data/cwd_awra_data/AWRACMS/MINICONDA3/envs/awra-cms/lib/python3.4/site-packages/awrams/models/awral/data/spatial_parameters.h5'}, 'ssmax': transform(('ssmax_scale', 'ssfracawc_grid', 900.0)):{'tfunc': {'name': '_mul3', 'objtype': 'class', 'module': 'awrams.utils.nodegraph.nodes'}, 'func_args': {}}, 'ne_grid': spatial_from_file([]):{'variable': 'parameters/ne', 'preload': False, 'filename': '/data/cwd_awra_data/AWRACMS/MINICONDA3/envs/awra-cms/lib/python3.4/site-packages/awrams/models/awral/data/spatial_parameters.h5'}, 'k0sat': transform(('k0sat_scale', 'k0sat_v5_grid')):{'tfunc': {'name': 'multiply', 'objtype': 'class', 'module': 'numpy'}, 'func_args': {}}, 'meanpet_grid': spatial_from_file([]):{'variable': 'parameters/meanPET', 'preload': False, 'filename': '/data/cwd_awra_data/AWRACMS/MINICONDA3/envs/awra-cms/lib/python3.4/site-packages/awrams/models/awral/data/spatial_parameters.h5'}, 'pref_grid': spatial_from_file([]):{'variable': 'parameters/pref', 'preload': False, 'filename': '/data/cwd_awra_data/AWRACMS/MINICONDA3/envs/awra-cms/lib/python3.4/site-packages/awrams/models/awral/data/spatial_parameters.h5'}, 'alb_dry_hrusr': parameter([]):{'fixed': True, 'max': 0.5, 'value': 0.26, 'min': 0.1}, 'k_gw': transform(('k_gw_scale', 'k_gw_grid')):{'tfunc': {'name': 'multiply', 'objtype': 'class', 'module': 'numpy'}, 'func_args': {}}, 'slope_grid': spatial_from_file([]):{'variable': 'parameters/slope', 'preload': False, 'filename': '/data/cwd_awra_data/AWRACMS/MINICONDA3/envs/awra-cms/lib/python3.4/site-packages/awrams/models/awral/data/spatial_parameters.h5'}, 'er_frac_ref_hrudr': parameter([]):{'fixed': False, 'max': 0.25, 'value': 0.0735562467806121, 'min': 0.04}, 'er_frac_ref_hrusr': transform(('er_frac_ref_hrudr', 0.5)):{'tfunc': {'name': 'multiply', 'objtype': 'class', 'module': 'numpy'}, 'func_args': {}}, 'pref_gridscale': parameter([]):{'fixed': False, 'max': 3, 'value': 1.81529436817838, 'min': 0.1}, 'rd_hrusr': parameter([]):{'fixed': True, 'max': 2, 'value': 1.0, 'min': 0.5}, 'cgsmax_hrudr': parameter([]):{'fixed': False, 'max': 0.05, 'value': 0.0320045265678736, 'min': 0.02}, 'tsenc_hrudr': parameter([]):{'fixed': True, 'max': 200, 'value': 60.0, 'min': 10}, 'slope': assign(['slope_grid']):{}, 'k_rout_scale': parameter([]):{'fixed': False, 'max': 3, 'value': 0.0507853186467834, 'min': 0.05}, 'height_grid': spatial_from_file([]):{'variable': 'parameters/height', 'preload': False, 'filename': '/data/cwd_awra_data/AWRACMS/MINICONDA3/envs/awra-cms/lib/python3.4/site-packages/awrams/models/awral/data/spatial_parameters.h5'}, 'init_sd_hrudr': transform(('sdmax', 0.5)):{'tfunc': {'name': 'multiply', 'objtype': 'class', 'module': 'numpy'}, 'func_args': {}}, 'cgsmax_hrusr': parameter([]):{'fixed': False, 'max': 0.05, 'value': 0.02371068048102, 'min': 0.02}, 'fvegref_g_hrudr': parameter([]):{'fixed': True, 'max': 0.25, 'value': 0.15, 'min': 0.1}, 'hypsperc': transform(('hypsperc_f', 0.01)):{'tfunc': {'name': 'multiply', 'objtype': 'class', 'module': 'numpy'}, 'func_args': {}}, 'lairef_hrudr': parameter([]):{'fixed': True, 'max': 2.5, 'value': 2.5, 'min': 1.3}, 'k_gw_grid': spatial_from_file([]):{'variable': 'parameters/k_gw', 'preload': False, 'filename': '/data/cwd_awra_data/AWRACMS/MINICONDA3/envs/awra-cms/lib/python3.4/site-packages/awrams/models/awral/data/spatial_parameters.h5'}, 'fsoilemax_hrudr': parameter([]):{'fixed': False, 'max': 1, 'value': 0.227465527270008, 'min': 0.2}, 'hveg_dr_grid': spatial_from_file([]):{'variable': 'parameters/hveg_dr', 'preload': False, 'filename': '/data/cwd_awra_data/AWRACMS/MINICONDA3/envs/awra-cms/lib/python3.4/site-packages/awrams/models/awral/data/spatial_parameters.h5'}, 'vc_hrudr': parameter([]):{'fixed': True, 'max': 1, 'value': 0.35, 'min': 0.05}, 'wslimu_hrudr': parameter([]):{'fixed': True, 'max': 0.5, 'value': 0.3, 'min': 0.15}, 'k_rout': transform(('k_rout_scale', 'k_rout_int', 'meanpet_grid')):{'tfunc': {'name': 'k_rout', 'objtype': 'class', 'module': 'awrams.models.awral.transforms'}, 'func_args': {}}, 'fhru_hrudr': assign(['f_tree_grid']):{}, 'rgt': transform(['solar_f', 0.1]):{'tfunc': {'name': 'maximum', 'objtype': 'class', 'module': 'numpy'}, 'func_args': {}}, 'solar_f': forcing_from_ncfiles([]):{'cache': False, 'pattern': 'solar*', 'path': '/data/cwd_awra_data/AWRACMS/Training/test_data/climate/BOM_climate/solar_exposure_day/', 'nc_var': 'solar_exposure_day'}, 'f_tree_grid': spatial_from_file([]):{'variable': 'parameters/f_tree', 'preload': False, 'filename': '/data/cwd_awra_data/AWRACMS/MINICONDA3/envs/awra-cms/lib/python3.4/site-packages/awrams/models/awral/data/spatial_parameters.h5'}, 'fvegref_g_hrusr': parameter([]):{'fixed': True, 'max': 0.25, 'value': 0.15, 'min': 0.1}, 'gfrac_max_hrudr': parameter([]):{'fixed': True, 'max': 0.5, 'value': 0.3, 'min': 0.25}, 's0max': transform(('s0max_scale', 's0fracawc_grid', 100.0)):{'tfunc': {'name': '_mul3', 'objtype': 'class', 'module': 'awrams.utils.nodegraph.nodes'}, 'func_args': {}}, 'sla_hrusr': parameter([]):{'fixed': True, 'max': 70, 'value': 10.0, 'min': 0.7}, 'w0ref_alb_hrudr': parameter([]):{'fixed': True, 'max': 0.5, 'value': 0.3, 'min': 0.2}, 'kdsat': transform(('kdsat_scale', 'kdsat_v5_grid')):{'tfunc': {'name': 'multiply', 'objtype': 'class', 'module': 'numpy'}, 'func_args': {}}, 'tsenc_hrusr': parameter([]):{'fixed': True, 'max': 200, 'value': 10.0, 'min': 10}, 'init_s0_hrudr': transform(('s0max', 0.5)):{'tfunc': {'name': 'multiply', 'objtype': 'class', 'module': 'numpy'}, 'func_args': {}}, 'sdmax_scale': parameter([]):{'fixed': False, 'max': 1, 'value': 0.795122015004998, 'min': 0.5}, 'init_s0_hrusr': transform(('s0max', 0.5)):{'tfunc': {'name': 'multiply', 'objtype': 'class', 'module': 'numpy'}, 'func_args': {}}, 'sdmax': transform(('ssmax_scale', 'sdmax_scale', 'ssfracawc_grid', 5000.0)):{'tfunc': {'name': '_mul4', 'objtype': 'class', 'module': 'awrams.utils.nodegraph.nodes'}, 'func_args': {}}, 'init_ss_hrusr': transform(('ssmax', 0.5)):{'tfunc': {'name': 'multiply', 'objtype': 'class', 'module': 'numpy'}, 'func_args': {}}, 'w0ref_alb_hrusr': parameter([]):{'fixed': True, 'max': 0.5, 'value': 0.3, 'min': 0.2}, 'ne': transform(('ne_scale', 'ne_grid')):{'tfunc': {'name': 'multiply', 'objtype': 'class', 'module': 'numpy'}, 'func_args': {}}, 'tmin': transform(['tmin_f', 'tmax_f']):{'tfunc': {'name': 'minimum', 'objtype': 'class', 'module': 'numpy'}, 'func_args': {}}, 'init_ss_hrudr': transform(('ssmax', 0.5)):{'tfunc': {'name': 'multiply', 'objtype': 'class', 'module': 'numpy'}, 'func_args': {}}, 'init_mleaf_hrudr': transform([2.0, 'sla_hrudr']):{'tfunc': {'name': 'true_divide', 'objtype': 'class', 'module': 'numpy'}, 'func_args': {}}, 'kr_sd': transform(('kssat', 'kdsat')):{'tfunc': {'name': 'interlayer_k', 'objtype': 'class', 'module': 'awrams.models.awral.transforms'}, 'func_args': {}}, 'wslimu_hrusr': parameter([]):{'fixed': True, 'max': 0.5, 'value': 0.3, 'min': 0.15}, 's0max_scale': parameter([]):{'fixed': False, 'max': 3, 'value': 2.99584999113427, 'min': 0.5}, 's0fracawc_grid': spatial_from_file([]):{'variable': 'parameters/s0fracAWC', 'preload': False, 'filename': '/data/cwd_awra_data/AWRACMS/MINICONDA3/envs/awra-cms/lib/python3.4/site-packages/awrams/models/awral/data/spatial_parameters.h5'}, 'prefr': transform(('pref_gridscale', 'pref_grid')):{'tfunc': {'name': 'multiply', 'objtype': 'class', 'module': 'numpy'}, 'func_args': {}}, 'wdlimu_hrudr': parameter([]):{'fixed': True, 'max': 0.5, 'value': 0.3, 'min': 0.15}, 'init_sr': constant([]):{'value': 0.0}, 'kssat_v5_grid': spatial_from_file([]):{'variable': 'parameters/kssat_v5', 'preload': False, 'filename': '/data/cwd_awra_data/AWRACMS/MINICONDA3/envs/awra-cms/lib/python3.4/site-packages/awrams/models/awral/data/spatial_parameters.h5'}, 'kdsat_v5_grid': spatial_from_file([]):{'variable': 'parameters/kdsat_v5', 'preload': False, 'filename': '/data/cwd_awra_data/AWRACMS/MINICONDA3/envs/awra-cms/lib/python3.4/site-packages/awrams/models/awral/data/spatial_parameters.h5'}, 'precip_f': forcing_from_ncfiles([]):{'cache': False, 'pattern': 'rain*', 'path': '/data/cwd_awra_data/AWRACMS/Training/test_data/climate/BOM_climate/rain_day/', 'nc_var': 'rain_day'}, 'slope_coeff': parameter([]):{'fixed': False, 'max': 1, 'value': 0.951765660211542, 'min': 0.01}, 'ud0_hrudr': parameter([]):{'fixed': False, 'max': 10, 'value': 7.136379707595849, 'min': 0.001}, 'us0_hrusr': parameter([]):{'fixed': True, 'max': 7, 'value': 6.0, 'min': 1}, 's_sls_hrudr': parameter([]):{'fixed': False, 'max': 0.8, 'value': 0.0945974208063683, 'min': 0.03}, 'k_rout_int': parameter([]):{'fixed': False, 'max': 3, 'value': 0.157715263798048, 'min': 0.05}, 'fhru_hrusr': transform([1.0, 'f_tree_grid']):{'tfunc': {'name': 'subtract', 'objtype': 'class', 'module': 'numpy'}, 'func_args': {}}, 'w0lime_hrusr': parameter([]):{'fixed': True, 'max': 0.9, 'value': 0.85, 'min': 0.6}, 'alb_dry_hrudr': parameter([]):{'fixed': True, 'max': 0.5, 'value': 0.26, 'min': 0.1}, 'ssfracawc_grid': spatial_from_file([]):{'variable': 'parameters/ssfracAWC', 'preload': False, 'filename': '/data/cwd_awra_data/AWRACMS/MINICONDA3/envs/awra-cms/lib/python3.4/site-packages/awrams/models/awral/data/spatial_parameters.h5'}, 'ud0_hrusr': parameter([]):{'fixed': True, 'max': 10, 'value': 0.0, 'min': 0}, 'lairef_hrusr': parameter([]):{'fixed': True, 'max': 2.5, 'value': 1.4, 'min': 1.3}, 'tmax_f': forcing_from_ncfiles([]):{'cache': False, 'pattern': 'temp_max*', 'path': '/data/cwd_awra_data/AWRACMS/Training/test_data/climate/BOM_climate/temp_max_day/', 'nc_var': 'temp_max_day'}, 'gfrac_max_hrusr': parameter([]):{'fixed': True, 'max': 0.5, 'value': 0.3, 'min': 0.25}, 'kdsat_scale': parameter([]):{'fixed': False, 'max': 1, 'value': 0.0100361082712838, 'min': 0.01}, 'k0sat_scale': parameter([]):{'fixed': False, 'max': 10, 'value': 2.87280828479753, 'min': 0.1}, 'lai_max_grid': spatial_from_file([]):{'variable': 'parameters/lai_max', 'preload': False, 'filename': '/data/cwd_awra_data/AWRACMS/MINICONDA3/envs/awra-cms/lib/python3.4/site-packages/awrams/models/awral/data/spatial_parameters.h5'}, 'k0sat_v5_grid': spatial_from_file([]):{'variable': 'parameters/k0sat_v5', 'preload': False, 'filename': '/data/cwd_awra_data/AWRACMS/MINICONDA3/envs/awra-cms/lib/python3.4/site-packages/awrams/models/awral/data/spatial_parameters.h5'}, 'avpt': transform(['tmin']):{'tfunc': {'name': 'pe', 'objtype': 'class', 'module': 'awrams.models.awral.transforms'}, 'func_args': {}}, 'radcskyt': radcskyt([]):{}, 'windspeed_grid': spatial_from_file([]):{'variable': 'parameters/windspeed', 'preload': False, 'filename': '/data/cwd_awra_data/AWRACMS/MINICONDA3/envs/awra-cms/lib/python3.4/site-packages/awrams/models/awral/data/spatial_parameters.h5'}, 'vc_hrusr': parameter([]):{'fixed': True, 'max': 1, 'value': 0.65, 'min': 0.05}, 'tat': transform(['tmin', 'tmax']):{'tfunc': {'name': '_mix', 'objtype': 'class', 'module': 'awrams.utils.nodegraph.nodes'}, 'func_args': {'ratio': 0.75}}, 'sla_hrudr': parameter([]):{'fixed': True, 'max': 70, 'value': 3.0, 'min': 0.7}, 'init_sd_hrusr': transform(('sdmax', 0.5)):{'tfunc': {'name': 'multiply', 'objtype': 'class', 'module': 'numpy'}, 'func_args': {}}, 'tmax': transform(['tmin_f', 'tmax_f']):{'tfunc': {'name': 'maximum', 'objtype': 'class', 'module': 'numpy'}, 'func_args': {}}, 'kr_coeff': parameter([]):{'fixed': False, 'max': 1, 'value': 0.074055027961705, 'min': 0.01}, 'tgrow_hrudr': parameter([]):{'fixed': True, 'max': 1000, 'value': 1000.0, 'min': 20}, 'init_sg': constant([]):{'value': 100.0}, 'height': assign(['height_grid']):{}}"
      ]
     },
     "execution_count": 6,
     "metadata": {},
     "output_type": "execute_result"
    }
   ],
   "source": [
    "input_map"
   ]
  },
  {
   "cell_type": "markdown",
   "metadata": {},
   "source": [
    "#### 2.3 Create model output map and add nodes for saving some model outputs to netcdf files"
   ]
  },
  {
   "cell_type": "code",
   "execution_count": 7,
   "metadata": {
    "collapsed": false
   },
   "outputs": [
    {
     "data": {
      "text/plain": [
       "{'OUTPUTS_AVG': ['e0', 'etot', 'dd', 's0', 'ss', 'sd'],\n",
       " 'OUTPUTS_CELL': ['qtot', 'sr', 'sg'],\n",
       " 'OUTPUTS_HRU': ['s0', 'ss', 'sd', 'mleaf']}"
      ]
     },
     "execution_count": 7,
     "metadata": {},
     "output_type": "execute_result"
    }
   ],
   "source": [
    "# These are the default model outpus\n",
    "# OUTPUTS_AVG : Weighted average of HRU outputs\n",
    "# OUTPUTS_CELL : Cell level outputs (ie processes happening outside of HRU; groundwater store etc)\n",
    "# OUTPUTS_HRU : HRU level outputs (ie separate output per HRU)\n",
    "\n",
    "awral.OUTPUTS"
   ]
  },
  {
   "cell_type": "code",
   "execution_count": 8,
   "metadata": {
    "collapsed": false
   },
   "outputs": [
    {
     "data": {
      "text/plain": [
       "{'dd': output_variable([]):{'var_name': 'dd'},\n",
       " 'e0': output_variable([]):{'var_name': 'e0'},\n",
       " 'etot': output_variable([]):{'var_name': 'etot'},\n",
       " 'mleaf_hrudr': output_variable([]):{'var_name': 'mleaf_hrudr'},\n",
       " 'mleaf_hrusr': output_variable([]):{'var_name': 'mleaf_hrusr'},\n",
       " 'qtot': output_variable([]):{'var_name': 'qtot'},\n",
       " 's0': output_variable([]):{'var_name': 's0'},\n",
       " 's0_hrudr': output_variable([]):{'var_name': 's0_hrudr'},\n",
       " 's0_hrusr': output_variable([]):{'var_name': 's0_hrusr'},\n",
       " 'sd': output_variable([]):{'var_name': 'sd'},\n",
       " 'sd_hrudr': output_variable([]):{'var_name': 'sd_hrudr'},\n",
       " 'sd_hrusr': output_variable([]):{'var_name': 'sd_hrusr'},\n",
       " 'sg': output_variable([]):{'var_name': 'sg'},\n",
       " 'sr': output_variable([]):{'var_name': 'sr'},\n",
       " 'ss': output_variable([]):{'var_name': 'ss'},\n",
       " 'ss_hrudr': output_variable([]):{'var_name': 'ss_hrudr'},\n",
       " 'ss_hrusr': output_variable([]):{'var_name': 'ss_hrusr'}}"
      ]
     },
     "execution_count": 8,
     "metadata": {},
     "output_type": "execute_result"
    }
   ],
   "source": [
    "# Get the output map\n",
    "# This gives us a (nodegraph) mapping for model outputs\n",
    "# By default these are purely in-memory; we can add file outputs in the next step\n",
    "\n",
    "omap = awral.get_output_mapping()\n",
    "\n",
    "omap"
   ]
  },
  {
   "cell_type": "code",
   "execution_count": 22,
   "metadata": {
    "collapsed": true
   },
   "outputs": [],
   "source": [
    "# Add some file output nodes to our mapping\n",
    "\n",
    "def build_output_mapping(output_map, outpath):\n",
    "    from awrams.utils.nodegraph import nodes\n",
    "\n",
    "    #outpath = './_results_ServerSim/'\n",
    "    \n",
    "    FILE_OUTPUT_VARS = ['ss','sd','qtot','etot']\n",
    "    \n",
    "    for f in FILE_OUTPUT_VARS:\n",
    "            output_map[f+'_ncsave'] = nodes.write_to_annual_ncfile(outpath,f)\n",
    "\n",
    "    return output_map\n"
   ]
  },
  {
   "cell_type": "code",
   "execution_count": 23,
   "metadata": {
    "collapsed": false
   },
   "outputs": [
    {
     "data": {
      "text/plain": [
       "{'dd': output_variable([]):{'var_name': 'dd'},\n",
       " 'e0': output_variable([]):{'var_name': 'e0'},\n",
       " 'etot': output_variable([]):{'var_name': 'etot'},\n",
       " 'etot_ncsave': write_to_annual_ncfile(['etot']):{'path': './_results_ServerSim/', 'nc_var': 'etot', 'mode': 'a'},\n",
       " 'mleaf_hrudr': output_variable([]):{'var_name': 'mleaf_hrudr'},\n",
       " 'mleaf_hrusr': output_variable([]):{'var_name': 'mleaf_hrusr'},\n",
       " 'qtot': output_variable([]):{'var_name': 'qtot'},\n",
       " 'qtot_ncsave': write_to_annual_ncfile(['qtot']):{'path': './_results_ServerSim/', 'nc_var': 'qtot', 'mode': 'a'},\n",
       " 's0': output_variable([]):{'var_name': 's0'},\n",
       " 's0_hrudr': output_variable([]):{'var_name': 's0_hrudr'},\n",
       " 's0_hrusr': output_variable([]):{'var_name': 's0_hrusr'},\n",
       " 'sd': output_variable([]):{'var_name': 'sd'},\n",
       " 'sd_hrudr': output_variable([]):{'var_name': 'sd_hrudr'},\n",
       " 'sd_hrusr': output_variable([]):{'var_name': 'sd_hrusr'},\n",
       " 'sd_ncsave': write_to_annual_ncfile(['sd']):{'path': './_results_ServerSim/', 'nc_var': 'sd', 'mode': 'a'},\n",
       " 'sg': output_variable([]):{'var_name': 'sg'},\n",
       " 'sr': output_variable([]):{'var_name': 'sr'},\n",
       " 'ss': output_variable([]):{'var_name': 'ss'},\n",
       " 'ss_hrudr': output_variable([]):{'var_name': 'ss_hrudr'},\n",
       " 'ss_hrusr': output_variable([]):{'var_name': 'ss_hrusr'},\n",
       " 'ss_ncsave': write_to_annual_ncfile(['ss']):{'path': './_results_ServerSim/', 'nc_var': 'ss', 'mode': 'a'}}"
      ]
     },
     "execution_count": 23,
     "metadata": {},
     "output_type": "execute_result"
    }
   ],
   "source": [
    "outpath = './_results_ServerSim/'\n",
    "omap = build_output_mapping(omap, outpath)\n",
    "\n",
    "# The updated output map contains write_to_annual_ncfile nodes for the variables we specified above\n",
    "\n",
    "omap"
   ]
  },
  {
   "cell_type": "markdown",
   "metadata": {},
   "source": [
    "#### 2.4\tDefine the required period and spatial extent\n",
    "Because it is the Server Simulator the extent can be defined as the full continent which is the default, \n",
    "but for a longer period that one day"
   ]
  },
  {
   "cell_type": "code",
   "execution_count": 11,
   "metadata": {
    "collapsed": false
   },
   "outputs": [],
   "source": [
    "period = datetools.dates('dec 2010 - jan 2011')\n",
    "\n",
    "edef = extents.get_default_extent()\n"
   ]
  },
  {
   "cell_type": "markdown",
   "metadata": {},
   "source": [
    "### 3. Put the model run specification together "
   ]
  },
  {
   "cell_type": "markdown",
   "metadata": {},
   "source": [
    "#### 3.1 Instantiate the server simulator"
   ]
  },
  {
   "cell_type": "code",
   "execution_count": 12,
   "metadata": {
    "collapsed": true
   },
   "outputs": [],
   "source": [
    "sim = server.SimulationServer(awral)"
   ]
  },
  {
   "cell_type": "markdown",
   "metadata": {},
   "source": [
    "#### 3.2 Run the simulation"
   ]
  },
  {
   "cell_type": "code",
   "execution_count": 13,
   "metadata": {
    "collapsed": false
   },
   "outputs": [
    {
     "name": "stderr",
     "output_type": "stream",
     "text": [
      "2017-11-15 03:43:58,547 INFO Getting I/O dataspecs...\n",
      "2017-11-15 03:43:59,616 INFO Initialising output files...\n",
      "2017-11-15 03:44:00,066 INFO Building buffers...\n",
      "2017-11-15 03:44:01,420 INFO Running simulation...\n",
      "2017-11-15 03:44:03,491 INFO completed 5.06%\n",
      "2017-11-15 03:44:04,424 INFO completed 10.12%\n",
      "2017-11-15 03:44:05,299 INFO completed 15.18%\n",
      "2017-11-15 03:44:06,403 INFO completed 20.24%\n",
      "2017-11-15 03:44:07,287 INFO completed 25.30%\n",
      "2017-11-15 03:44:08,182 INFO completed 30.36%\n",
      "2017-11-15 03:44:09,062 INFO completed 35.42%\n",
      "2017-11-15 03:44:10,330 INFO completed 40.48%\n",
      "2017-11-15 03:44:11,383 INFO completed 45.54%\n",
      "2017-11-15 03:44:12,241 INFO completed 50.60%\n",
      "2017-11-15 03:44:13,493 INFO completed 55.65%\n",
      "2017-11-15 03:44:14,642 INFO completed 60.71%\n",
      "2017-11-15 03:44:15,513 INFO completed 65.77%\n",
      "2017-11-15 03:44:16,424 INFO completed 70.83%\n",
      "2017-11-15 03:44:17,353 INFO completed 75.89%\n",
      "2017-11-15 03:44:18,509 INFO completed 80.95%\n",
      "2017-11-15 03:44:19,414 INFO completed 86.01%\n",
      "2017-11-15 03:44:20,091 INFO completed 91.07%\n",
      "2017-11-15 03:44:21,017 INFO completed 96.13%\n",
      "2017-11-15 03:44:21,440 INFO Completed period December 2010 - 1 of 2\n",
      "2017-11-15 03:44:22,328 INFO completed 5.06%\n",
      "2017-11-15 03:44:23,338 INFO completed 10.12%\n",
      "2017-11-15 03:44:24,203 INFO completed 15.18%\n",
      "2017-11-15 03:44:25,302 INFO completed 20.24%\n",
      "2017-11-15 03:44:26,092 INFO completed 25.30%\n",
      "2017-11-15 03:44:26,916 INFO completed 30.36%\n",
      "2017-11-15 03:44:27,682 INFO completed 35.42%\n",
      "2017-11-15 03:44:29,003 INFO completed 40.48%\n",
      "2017-11-15 03:44:30,011 INFO completed 45.54%\n",
      "2017-11-15 03:44:30,913 INFO completed 50.60%\n",
      "2017-11-15 03:44:32,199 INFO completed 55.65%\n",
      "2017-11-15 03:44:33,367 INFO completed 60.71%\n",
      "2017-11-15 03:44:34,276 INFO completed 65.77%\n",
      "2017-11-15 03:44:35,201 INFO completed 70.83%\n",
      "2017-11-15 03:44:36,145 INFO completed 75.89%\n",
      "2017-11-15 03:44:37,366 INFO completed 80.95%\n",
      "2017-11-15 03:44:38,275 INFO completed 86.01%\n",
      "2017-11-15 03:44:38,984 INFO completed 91.07%\n",
      "2017-11-15 03:44:39,889 INFO completed 96.13%\n",
      "2017-11-15 03:44:40,646 INFO Completed period January 2011 - 2 of 2\n",
      "2017-11-15 03:44:43,278 INFO elapsed time: 44.80\n"
     ]
    }
   ],
   "source": [
    "sim.run(input_map,omap,period,edef)"
   ]
  },
  {
   "cell_type": "markdown",
   "metadata": {},
   "source": [
    "### 4. Visualise outputs\n",
    "\n",
    "Because ouputs are written out, we can use the process described in the [Visualisation] notebook\n",
    "\n",
    "[Visualisation]: ../Visualisation/Visualisation.ipynb"
   ]
  },
  {
   "cell_type": "markdown",
   "metadata": {},
   "source": [
    "#### 4.1 Import visualisation libraries"
   ]
  },
  {
   "cell_type": "code",
   "execution_count": 14,
   "metadata": {
    "collapsed": true
   },
   "outputs": [],
   "source": [
    "import awrams.visualisation.vis as vis\n",
    "import awrams.visualisation.results as res\n",
    "\n",
    "import awrams.utils.extents as extents\n"
   ]
  },
  {
   "cell_type": "markdown",
   "metadata": {},
   "source": [
    "#### 4.2 Load model outputs"
   ]
  },
  {
   "cell_type": "code",
   "execution_count": 15,
   "metadata": {
    "collapsed": false
   },
   "outputs": [],
   "source": [
    "results = res.load_results('./_results_ServerSim')"
   ]
  },
  {
   "cell_type": "code",
   "execution_count": 16,
   "metadata": {
    "collapsed": false
   },
   "outputs": [
    {
     "data": {
      "text/plain": [
       "OrderedDict([('etot', etot), ('ss', ss), ('sd', sd), ('qtot', qtot)])"
      ]
     },
     "execution_count": 16,
     "metadata": {},
     "output_type": "execute_result"
    }
   ],
   "source": [
    "results.variables"
   ]
  },
  {
   "cell_type": "markdown",
   "metadata": {},
   "source": [
    "#### 4.3 Look at a time slice"
   ]
  },
  {
   "cell_type": "code",
   "execution_count": 17,
   "metadata": {
    "collapsed": false
   },
   "outputs": [
    {
     "name": "stderr",
     "output_type": "stream",
     "text": [
      "/data/cwd_awra_data/AWRACMS/MINICONDA3/envs/awra-cms/lib/python3.4/site-packages/numpy/ma/core.py:852: RuntimeWarning: invalid value encountered in greater_equal\n",
      "  return umath.absolute(a) * self.tolerance >= umath.absolute(b)\n"
     ]
    }
   ],
   "source": [
    "results[:,'1 jan 2011',:].spatial()"
   ]
  },
  {
   "cell_type": "markdown",
   "metadata": {
    "collapsed": true
   },
   "source": [
    "### 5. Further simulation functionality\n",
    "\n",
    "These will apply equally to the OnDemand and Server options\n",
    "\n",
    "#### 5.1 How to change the initial states\n"
   ]
  },
  {
   "cell_type": "code",
   "execution_count": 5,
   "metadata": {
    "collapsed": false
   },
   "outputs": [
    {
     "data": {
      "text/plain": [
       "'/data/cwd_awra_data/AWRACMS/Training/test_data/simulation/initial_states/'"
      ]
     },
     "execution_count": 5,
     "metadata": {},
     "output_type": "execute_result"
    }
   ],
   "source": [
    "# Get the default initial states path for the supplied training data\n",
    "\n",
    "from awrams.models.awral.settings import INITIAL_STATES_PATH \n",
    "\n",
    "INITIAL_STATES_PATH "
   ]
  },
  {
   "cell_type": "raw",
   "metadata": {
    "collapsed": false
   },
   "source": [
    "# Override if need be\n",
    "INITIAL_STATES_PATH  = '/data/cwd_awra_data/AWRACMS/Training/test_data/simulation/initial_states/'"
   ]
  },
  {
   "cell_type": "code",
   "execution_count": 19,
   "metadata": {
    "collapsed": true
   },
   "outputs": [],
   "source": [
    "# Loading initial states from netCDF files, a fixed set of initial states independent of date\n",
    "# These variables you have in your file can have any name, these are from a previous model version so have slightly different variable names \n",
    "\n",
    "def initial_states_from_files(imap):\n",
    "    from awrams.utils.nodegraph import nodes\n",
    "\n",
    "    data_path = INITIAL_STATES_PATH\n",
    "\n",
    "    mapping = imap.copy()\n",
    "\n",
    "    mapping['init_sr'] = nodes.init_state_from_ncfile(data_path,'sr_bal*','sr_bal')\n",
    "    mapping['init_sg'] = nodes.init_state_from_ncfile(data_path,'sg_bal*','sg_bal')\n",
    "\n",
    "    HRU = {'_hrusr':'_sr','_hrudr':'_dr'} # Conversion table for old->new state naming conventions\n",
    "    for hru in ('_hrusr','_hrudr'):\n",
    "        for state in [\"s0\",\"ss\",\"sd\",'mleaf']:\n",
    "            mapping['init_'+state+hru] = nodes.init_state_from_ncfile(data_path,state+HRU[hru]+'*',state+HRU[hru])\n",
    "            \n",
    "    return mapping\n"
   ]
  },
  {
   "cell_type": "code",
   "execution_count": 20,
   "metadata": {
    "collapsed": false
   },
   "outputs": [
    {
     "data": {
      "text/plain": [
       "{'init_mleaf_hrudr': init_state_from_ncfile([]):{'pattern': 'mleaf_dr*', 'path': '/data/cwd_awra_data/AWRACMS/Training/test_data/simulation/initial_states/', 'nc_var': 'mleaf_dr'},\n",
       " 'init_mleaf_hrusr': init_state_from_ncfile([]):{'pattern': 'mleaf_sr*', 'path': '/data/cwd_awra_data/AWRACMS/Training/test_data/simulation/initial_states/', 'nc_var': 'mleaf_sr'},\n",
       " 'init_s0_hrudr': init_state_from_ncfile([]):{'pattern': 's0_dr*', 'path': '/data/cwd_awra_data/AWRACMS/Training/test_data/simulation/initial_states/', 'nc_var': 's0_dr'},\n",
       " 'init_s0_hrusr': init_state_from_ncfile([]):{'pattern': 's0_sr*', 'path': '/data/cwd_awra_data/AWRACMS/Training/test_data/simulation/initial_states/', 'nc_var': 's0_sr'},\n",
       " 'init_sd_hrudr': init_state_from_ncfile([]):{'pattern': 'sd_dr*', 'path': '/data/cwd_awra_data/AWRACMS/Training/test_data/simulation/initial_states/', 'nc_var': 'sd_dr'},\n",
       " 'init_sd_hrusr': init_state_from_ncfile([]):{'pattern': 'sd_sr*', 'path': '/data/cwd_awra_data/AWRACMS/Training/test_data/simulation/initial_states/', 'nc_var': 'sd_sr'},\n",
       " 'init_sg': init_state_from_ncfile([]):{'pattern': 'sg_bal*', 'path': '/data/cwd_awra_data/AWRACMS/Training/test_data/simulation/initial_states/', 'nc_var': 'sg_bal'},\n",
       " 'init_sr': init_state_from_ncfile([]):{'pattern': 'sr_bal*', 'path': '/data/cwd_awra_data/AWRACMS/Training/test_data/simulation/initial_states/', 'nc_var': 'sr_bal'},\n",
       " 'init_ss_hrudr': init_state_from_ncfile([]):{'pattern': 'ss_dr*', 'path': '/data/cwd_awra_data/AWRACMS/Training/test_data/simulation/initial_states/', 'nc_var': 'ss_dr'},\n",
       " 'init_ss_hrusr': init_state_from_ncfile([]):{'pattern': 'ss_sr*', 'path': '/data/cwd_awra_data/AWRACMS/Training/test_data/simulation/initial_states/', 'nc_var': 'ss_sr'}}"
      ]
     },
     "execution_count": 20,
     "metadata": {},
     "output_type": "execute_result"
    }
   ],
   "source": [
    "input_map = initial_states_from_files(input_map)\n",
    "\n",
    "# Examine the new init_states nodes...\n",
    "\n",
    "dict([(k,v) for k,v in input_map.items() if k.startswith('init')])"
   ]
  },
  {
   "cell_type": "code",
   "execution_count": 24,
   "metadata": {
    "collapsed": false
   },
   "outputs": [
    {
     "name": "stderr",
     "output_type": "stream",
     "text": [
      "2017-11-15 03:51:10,131 INFO Getting I/O dataspecs...\n",
      "2017-11-15 03:51:11,999 INFO Initialising output files...\n",
      "2017-11-15 03:51:12,372 INFO Building buffers...\n",
      "2017-11-15 03:51:12,653 INFO Running simulation...\n",
      "2017-11-15 03:51:15,595 INFO completed 5.06%\n",
      "2017-11-15 03:51:16,589 INFO completed 10.12%\n",
      "2017-11-15 03:51:17,619 INFO completed 15.18%\n",
      "2017-11-15 03:51:19,135 INFO completed 20.24%\n",
      "2017-11-15 03:51:20,167 INFO completed 25.30%\n",
      "2017-11-15 03:51:21,249 INFO completed 30.36%\n",
      "2017-11-15 03:51:21,998 INFO completed 35.42%\n",
      "2017-11-15 03:51:23,676 INFO completed 40.48%\n",
      "2017-11-15 03:51:24,889 INFO completed 45.54%\n",
      "2017-11-15 03:51:25,793 INFO completed 50.60%\n",
      "2017-11-15 03:51:27,390 INFO completed 55.65%\n",
      "2017-11-15 03:51:28,599 INFO completed 60.71%\n",
      "2017-11-15 03:51:29,413 INFO completed 65.77%\n",
      "2017-11-15 03:51:30,347 INFO completed 70.83%\n",
      "2017-11-15 03:51:31,495 INFO completed 75.89%\n",
      "2017-11-15 03:51:32,947 INFO completed 80.95%\n",
      "2017-11-15 03:51:33,861 INFO completed 86.01%\n",
      "2017-11-15 03:51:34,673 INFO completed 91.07%\n",
      "2017-11-15 03:51:35,703 INFO completed 96.13%\n",
      "2017-11-15 03:51:36,343 INFO Completed period December 2010 - 1 of 2\n",
      "2017-11-15 03:51:37,242 INFO completed 5.06%\n",
      "2017-11-15 03:51:38,070 INFO completed 10.12%\n",
      "2017-11-15 03:51:38,869 INFO completed 15.18%\n",
      "2017-11-15 03:51:39,901 INFO completed 20.24%\n",
      "2017-11-15 03:51:40,684 INFO completed 25.30%\n",
      "2017-11-15 03:51:41,342 INFO completed 30.36%\n",
      "2017-11-15 03:51:42,080 INFO completed 35.42%\n",
      "2017-11-15 03:51:43,430 INFO completed 40.48%\n",
      "2017-11-15 03:51:44,490 INFO completed 45.54%\n",
      "2017-11-15 03:51:45,332 INFO completed 50.60%\n",
      "2017-11-15 03:51:46,473 INFO completed 55.65%\n",
      "2017-11-15 03:51:47,473 INFO completed 60.71%\n",
      "2017-11-15 03:51:48,134 INFO completed 65.77%\n",
      "2017-11-15 03:51:48,868 INFO completed 70.83%\n",
      "2017-11-15 03:51:49,738 INFO completed 75.89%\n",
      "2017-11-15 03:51:50,933 INFO completed 80.95%\n",
      "2017-11-15 03:51:51,744 INFO completed 86.01%\n",
      "2017-11-15 03:51:52,451 INFO completed 91.07%\n",
      "2017-11-15 03:51:53,389 INFO completed 96.13%\n",
      "2017-11-15 03:51:54,003 INFO Completed period January 2011 - 2 of 2\n",
      "2017-11-15 03:51:56,809 INFO elapsed time: 46.72\n"
     ]
    }
   ],
   "source": [
    "sim = server.SimulationServer(awral)\n",
    "\n",
    "outpath = './_results_ServerSim_initstates/'  # set a new output path or clear previous outputs. Errors are likely if files exist.\n",
    "omap = build_output_mapping(omap, outpath)\n",
    "\n",
    "sim.run(input_map,omap,period,edef)"
   ]
  },
  {
   "cell_type": "code",
   "execution_count": 26,
   "metadata": {
    "collapsed": false
   },
   "outputs": [],
   "source": [
    "# Using the same data as above, but this time load the states into memory, and store in a python dictionary\n",
    "# Use this when you want to compute custom states, for example\n",
    "\n",
    "def initial_states_from_dict(imap,period,extent):\n",
    "    from awrams.utils.io.data_mapping import SplitFileManager\n",
    "    from awrams.utils.nodegraph import nodes\n",
    "    \n",
    "    mapping = imap.copy()\n",
    "\n",
    "    data_path = INITIAL_STATES_PATH\n",
    "\n",
    "    node_names = {'mleaf_dr': 'init_mleaf_hrudr',\n",
    "                  'mleaf_sr': 'init_mleaf_hrusr',\n",
    "                  's0_dr': 'init_s0_hrudr',\n",
    "                  's0_sr': 'init_s0_hrusr',\n",
    "                  'ss_dr': 'init_ss_hrudr',\n",
    "                  'ss_sr': 'init_ss_hrusr',\n",
    "                  'sd_dr': 'init_sd_hrudr',\n",
    "                  'sd_sr': 'init_sd_hrusr',\n",
    "                  'sg_bal': 'init_sg',\n",
    "                  'sr_bal': 'init_sr'}\n",
    "\n",
    "    data_map = {}\n",
    "    period = [period[0] - 1] # Use states from the previous day\n",
    "    \n",
    "    for k in node_names:\n",
    "        sfm = SplitFileManager.open_existing(data_path,k+'*nc',k)\n",
    "        data_map[node_names[k]] = sfm.get_data(period,extent)[0]  # At this point you could manipulate the initial states data\n",
    "        \n",
    "    # nodes.init_states_from_dict is a convenience function to update a mapping in-place\n",
    "    nodes.init_states_from_dict(mapping,data_map,extent)\n",
    "    \n",
    "    return mapping\n"
   ]
  },
  {
   "cell_type": "code",
   "execution_count": 27,
   "metadata": {
    "collapsed": true
   },
   "outputs": [],
   "source": [
    "input_map = initial_states_from_dict(input_map,period,edef)"
   ]
  },
  {
   "cell_type": "code",
   "execution_count": 28,
   "metadata": {
    "collapsed": false
   },
   "outputs": [
    {
     "name": "stderr",
     "output_type": "stream",
     "text": [
      "2017-11-15 04:05:46,636 INFO Getting I/O dataspecs...\n",
      "2017-11-15 04:05:47,832 INFO Initialising output files...\n",
      "2017-11-15 04:05:48,209 INFO Building buffers...\n",
      "2017-11-15 04:05:48,500 INFO Running simulation...\n",
      "2017-11-15 04:05:50,648 INFO completed 5.06%\n",
      "2017-11-15 04:05:51,556 INFO completed 10.12%\n",
      "2017-11-15 04:05:52,354 INFO completed 15.18%\n",
      "2017-11-15 04:05:53,563 INFO completed 20.24%\n",
      "2017-11-15 04:05:54,432 INFO completed 25.30%\n",
      "2017-11-15 04:05:55,333 INFO completed 30.36%\n",
      "2017-11-15 04:05:56,075 INFO completed 35.42%\n",
      "2017-11-15 04:05:57,419 INFO completed 40.48%\n",
      "2017-11-15 04:05:58,471 INFO completed 45.54%\n",
      "2017-11-15 04:05:59,234 INFO completed 50.60%\n",
      "2017-11-15 04:06:00,482 INFO completed 55.65%\n",
      "2017-11-15 04:06:01,556 INFO completed 60.71%\n",
      "2017-11-15 04:06:02,292 INFO completed 65.77%\n",
      "2017-11-15 04:06:03,051 INFO completed 70.83%\n",
      "2017-11-15 04:06:03,884 INFO completed 75.89%\n",
      "2017-11-15 04:06:05,045 INFO completed 80.95%\n",
      "2017-11-15 04:06:05,848 INFO completed 86.01%\n",
      "2017-11-15 04:06:06,500 INFO completed 91.07%\n",
      "2017-11-15 04:06:07,417 INFO completed 96.13%\n",
      "2017-11-15 04:06:07,917 INFO Completed period December 2010 - 1 of 2\n",
      "2017-11-15 04:06:08,786 INFO completed 5.06%\n",
      "2017-11-15 04:06:09,620 INFO completed 10.12%\n",
      "2017-11-15 04:06:10,382 INFO completed 15.18%\n",
      "2017-11-15 04:06:11,397 INFO completed 20.24%\n",
      "2017-11-15 04:06:12,247 INFO completed 25.30%\n",
      "2017-11-15 04:06:12,895 INFO completed 30.36%\n",
      "2017-11-15 04:06:13,566 INFO completed 35.42%\n",
      "2017-11-15 04:06:14,797 INFO completed 40.48%\n",
      "2017-11-15 04:06:15,761 INFO completed 45.54%\n",
      "2017-11-15 04:06:16,497 INFO completed 50.60%\n",
      "2017-11-15 04:06:17,815 INFO completed 55.65%\n",
      "2017-11-15 04:06:18,876 INFO completed 60.71%\n",
      "2017-11-15 04:06:19,545 INFO completed 65.77%\n",
      "2017-11-15 04:06:20,283 INFO completed 70.83%\n",
      "2017-11-15 04:06:21,202 INFO completed 75.89%\n",
      "2017-11-15 04:06:22,417 INFO completed 80.95%\n",
      "2017-11-15 04:06:23,234 INFO completed 86.01%\n",
      "2017-11-15 04:06:23,898 INFO completed 91.07%\n",
      "2017-11-15 04:06:24,786 INFO completed 96.13%\n",
      "2017-11-15 04:06:25,334 INFO Completed period January 2011 - 2 of 2\n",
      "2017-11-15 04:06:27,210 INFO elapsed time: 40.61\n"
     ]
    }
   ],
   "source": [
    "sim = server.SimulationServer(awral)\n",
    "\n",
    "outpath = './_results_ServerSim_initstatesfromdate/'\n",
    "omap = build_output_mapping(omap, outpath)\n",
    "\n",
    "sim.run(input_map,omap,period,edef)"
   ]
  },
  {
   "cell_type": "markdown",
   "metadata": {},
   "source": [
    "#### 5.2 Fill gaps in forcing data with climatology\n",
    "\n",
    "Example infilling of solar radiation using monthly climatology"
   ]
  },
  {
   "cell_type": "code",
   "execution_count": 34,
   "metadata": {
    "collapsed": false
   },
   "outputs": [],
   "source": [
    "def insert_solar_climatology(imap):\n",
    "    from awrams.utils.nodegraph import nodes\n",
    "    # from awrams.models.settings import CLIMATOLOGIES\n",
    "    CLIMATOLOGIES = {'solar': (TRAINING_DATA_PATH+'simulation/climatology/Rad_1990_2009.nc','solar_exposure_day')}\n",
    "\n",
    "    \n",
    "    imap = imap.copy()\n",
    "    \n",
    "    imap['solar_f_orig'] = imap['solar_f'] #'Move' the forcing node to a new name\n",
    "    imap['solar_climatology_f'] = nodes.monthly_climatology(*CLIMATOLOGIES['solar']) # Loads monthly climatology from default file\n",
    "\n",
    "    # Replace 'solar_f' with infilled data\n",
    "    # This ensures that any other nodes in the graph who use solar_f as input will automatically receive the infilled data\n",
    "    # nodes.gap_filler takes the first argument as 'gappy' data, and in infills with data from the second argument\n",
    "    imap['solar_f']  = nodes.gap_filler('solar_f_orig','solar_climatology_f')\n",
    "    \n",
    "    return imap\n"
   ]
  },
  {
   "cell_type": "code",
   "execution_count": 35,
   "metadata": {
    "collapsed": false
   },
   "outputs": [],
   "source": [
    "input_map = insert_solar_climatology(input_map)"
   ]
  },
  {
   "cell_type": "code",
   "execution_count": 36,
   "metadata": {
    "collapsed": false
   },
   "outputs": [
    {
     "data": {
      "text/plain": [
       "gap_filler(['solar_f_orig', 'solar_climatology_f']):{}"
      ]
     },
     "execution_count": 36,
     "metadata": {},
     "output_type": "execute_result"
    }
   ],
   "source": [
    "input_map['solar_f']"
   ]
  },
  {
   "cell_type": "code",
   "execution_count": 37,
   "metadata": {
    "collapsed": false
   },
   "outputs": [
    {
     "name": "stderr",
     "output_type": "stream",
     "text": [
      "2017-11-15 04:10:47,408 INFO Getting I/O dataspecs...\n",
      "2017-11-15 04:10:49,217 INFO Initialising output files...\n",
      "2017-11-15 04:10:49,543 INFO Building buffers...\n",
      "2017-11-15 04:10:49,818 INFO Running simulation...\n",
      "2017-11-15 04:10:52,356 INFO completed 5.06%\n",
      "2017-11-15 04:10:53,289 INFO completed 10.12%\n",
      "2017-11-15 04:10:54,140 INFO completed 15.18%\n",
      "2017-11-15 04:10:55,428 INFO completed 20.24%\n",
      "2017-11-15 04:10:56,339 INFO completed 25.30%\n",
      "2017-11-15 04:10:57,252 INFO completed 30.36%\n",
      "2017-11-15 04:10:58,008 INFO completed 35.42%\n",
      "2017-11-15 04:10:59,451 INFO completed 40.48%\n",
      "2017-11-15 04:11:00,530 INFO completed 45.54%\n",
      "2017-11-15 04:11:01,321 INFO completed 50.60%\n",
      "2017-11-15 04:11:02,690 INFO completed 55.65%\n",
      "2017-11-15 04:11:03,860 INFO completed 60.71%\n",
      "2017-11-15 04:11:04,605 INFO completed 65.77%\n",
      "2017-11-15 04:11:05,369 INFO completed 70.83%\n",
      "2017-11-15 04:11:06,323 INFO completed 75.89%\n",
      "2017-11-15 04:11:07,577 INFO completed 80.95%\n",
      "2017-11-15 04:11:08,443 INFO completed 86.01%\n",
      "2017-11-15 04:11:09,168 INFO completed 91.07%\n",
      "2017-11-15 04:11:10,211 INFO completed 96.13%\n",
      "2017-11-15 04:11:10,762 INFO Completed period December 2010 - 1 of 2\n",
      "2017-11-15 04:11:11,790 INFO completed 5.06%\n",
      "2017-11-15 04:11:12,744 INFO completed 10.12%\n",
      "2017-11-15 04:11:13,643 INFO completed 15.18%\n",
      "2017-11-15 04:11:14,970 INFO completed 20.24%\n",
      "2017-11-15 04:11:15,878 INFO completed 25.30%\n",
      "2017-11-15 04:11:16,550 INFO completed 30.36%\n",
      "2017-11-15 04:11:17,320 INFO completed 35.42%\n",
      "2017-11-15 04:11:18,776 INFO completed 40.48%\n",
      "2017-11-15 04:11:19,752 INFO completed 45.54%\n",
      "2017-11-15 04:11:20,441 INFO completed 50.60%\n",
      "2017-11-15 04:11:21,751 INFO completed 55.65%\n",
      "2017-11-15 04:11:22,697 INFO completed 60.71%\n",
      "2017-11-15 04:11:23,376 INFO completed 65.77%\n",
      "2017-11-15 04:11:24,177 INFO completed 70.83%\n",
      "2017-11-15 04:11:25,170 INFO completed 75.89%\n",
      "2017-11-15 04:11:26,436 INFO completed 80.95%\n",
      "2017-11-15 04:11:27,311 INFO completed 86.01%\n",
      "2017-11-15 04:11:28,068 INFO completed 91.07%\n",
      "2017-11-15 04:11:29,064 INFO completed 96.13%\n",
      "2017-11-15 04:11:29,693 INFO Completed period January 2011 - 2 of 2\n",
      "2017-11-15 04:11:31,552 INFO elapsed time: 44.18\n"
     ]
    }
   ],
   "source": [
    "sim = server.SimulationServer(awral)\n",
    "\n",
    "outpath = './_results_ServerSim_solarclim/'\n",
    "omap = build_output_mapping(omap, outpath)\n",
    "\n",
    "sim.run(input_map,omap,period,edef)"
   ]
  },
  {
   "cell_type": "code",
   "execution_count": null,
   "metadata": {
    "collapsed": true
   },
   "outputs": [],
   "source": []
  }
 ],
 "metadata": {
  "kernelspec": {
   "display_name": "Python 3",
   "language": "python",
   "name": "python3"
  },
  "language_info": {
   "codemirror_mode": {
    "name": "ipython",
    "version": 3
   },
   "file_extension": ".py",
   "mimetype": "text/x-python",
   "name": "python",
   "nbconvert_exporter": "python",
   "pygments_lexer": "ipython3",
   "version": "3.4.5"
  }
 },
 "nbformat": 4,
 "nbformat_minor": 0
}
