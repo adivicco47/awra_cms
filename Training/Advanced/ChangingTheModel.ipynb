{
 "cells": [
  {
   "cell_type": "markdown",
   "metadata": {},
   "source": [
    "# Creating a modified version of the AWRA-L model\n",
    "\n",
    "In this example, we will create a local copy of AWRAL, and modify this copy to replace the existing (modelled) albedo with input data (eg satellite derived)\n",
    "\n",
    "#### The copy of awral is renamed to 'albmod' since we are modifying for albedo..."
   ]
  },
  {
   "cell_type": "code",
   "execution_count": null,
   "metadata": {
    "collapsed": false
   },
   "outputs": [],
   "source": [
    "# get directory location of awral module\n",
    "# copy it to current working directory\n",
    "from awrams.models import awral \n",
    "import os\n",
    "cwd=os.getcwd()\n",
    "!mkdir testmodules\n",
    "path =  os.path.dirname(os.path.dirname(awral.__file__))  \n",
    "# change working directory (%cd) to  awra module path  ($path)\n",
    "# $path converts path string to the literal name without the '' around '...packages/awrams/models'\n",
    "outfoldername = cwd+'/testmodules/albmod/'\n",
    "%cd $path\n",
    "!cp -r awral  $outfoldername\n",
    "%cd $cwd\n",
    "# should now have albmod folder in current working directory\n",
    "!ls"
   ]
  },
  {
   "cell_type": "code",
   "execution_count": null,
   "metadata": {
    "collapsed": false
   },
   "outputs": [],
   "source": [
    "# list the files in folder testmodules - should now see albmod copy of awral\n",
    "!ls testmodules"
   ]
  },
  {
   "cell_type": "markdown",
   "metadata": {},
   "source": [
    "### Note: PYTHONPATH and creating your own modules\n",
    "\n",
    "- It is Good Python practice to have a specified directory that you store your own modules (and not have this within other packages).\n",
    "- You then point Python environment at these modules by specifying them within PYTHONPATH: an environment variable.\n",
    "- In this case we have created a module within the folder testmodules/albmod \n",
    "- You append the folder to PYTHONPATH environment variable from the command line before starting your environment\n",
    "- First 'export' the testmodules path into PYTHONPATH by typing\n",
    "\n",
    "           export PYTHONPATH=$PYTHONPATH:/path/to/extra/modules\n",
    "\n",
    "- where /path/to/extra/modules is the path to testmodules\n",
    "- by doing this you will be able to use these modules with the rest of AWRA CMS (e.g. in calibration, simulation)\n",
    "\n"
   ]
  },
  {
   "cell_type": "code",
   "execution_count": null,
   "metadata": {
    "collapsed": false
   },
   "outputs": [],
   "source": [
    "# PYTHONPATH exists specifically for user added folders\n",
    "# view current listing of PYTHONPATH by using !echo $PYTHONPATH - will return nothing\n",
    "# it'll be blank by default (ie conda already 'knows' where the Python related modules are); \n",
    "# it will return something if you have added to PYTHONPAT previously\n",
    "!echo $PYTHONPATH"
   ]
  },
  {
   "cell_type": "markdown",
   "metadata": {},
   "source": [
    "## Required modifications\n",
    "\n",
    "There are 3 modifications required in this instance.<br>\n",
    "\n",
    "1. ***Add albedo input in model_inputs.json*** - add \"alb\": \"Surface albedo\" variable to model_inputs.json\n",
    "2. ***Modify core code (awral_t.c)*** - alter awral_t.c to remove existing albedo calculation and use input value\n",
    "3. ***Populate the input mapping*** - \n"
   ]
  },
  {
   "cell_type": "markdown",
   "metadata": {},
   "source": [
    "### 1. Add albedo input in [model_inputs.json]\n",
    "[model_inputs.json]: ../../../edit/Training/Advanced/testmodules/albmod/data/model_inputs.json\n",
    "The AWRA-L model uses a JSON file to populate it's input keys (ie the values returned by get_input_parameters())<br>\n",
    "This is stored in data/model_inputs.json<br>\n",
    "New model inputs need to be added to this file first"
   ]
  },
  {
   "cell_type": "code",
   "execution_count": null,
   "metadata": {
    "collapsed": false
   },
   "outputs": [],
   "source": [
    "# list files available within testmodules/albmod/data folder to check model_inputs.json file is there\n",
    "# should see DefaultParameters.json\tmodel_inputs.json  spatial_parameters.h5\n",
    "!ls testmodules/albmod/data"
   ]
  },
  {
   "cell_type": "markdown",
   "metadata": {},
   "source": [
    "### Modify albmod/data/[model_inputs.json] INPUTS_CELL to include an albedo variable ***alb***\n",
    "\n",
    "\n",
    "There are various types of inputs specified in this file:\n",
    "\n",
    "  - ***STATES_CELL***  - model states that have a single value in a grid/catchment cell (do not differ by HRU)\n",
    "  - ***STATES_HRU***   - model states that have a different values on a HRU basis value in a grid/catchment cell \n",
    "  - ***INPUTS_CELL***  - model inputs that have a single value in a grid/catchment cell (do not differ by HRU)\n",
    "  - ***INPUTS_HRU***   - model inputs that have a different values on a HRU basis value in a grid/catchment cell\n",
    "  - ***INPUTS_HYPSO*** - inputs related to the Hypsometric curves\n",
    "  \n",
    "The type of data (ie scalar, spatial, or forcing (timeseries)) is computed from the input map, so does not need to be specified here\n",
    "\n",
    "Add the following line (at line 13) to the INPUTS_CELL section of model_inputs.json\n",
    "\n",
    "    \"alb\": \"Surface albedo\",\n",
    "\n",
    "\n",
    "#### Existing [model_inputs.json]\n",
    "\n",
    "    1:   {\n",
    "    2:    \"STATES_CELL\": {\n",
    "    3:        \"sg\": \"Groundwater storage (mm)\",\n",
    "    4:        \"sr\": \"Surface storage (mm)\"\n",
    "    5:    },\n",
    "    6:    \"STATES_HRU\": {\n",
    "    7:        \"mleaf\": \"Vegetation index\",\n",
    "    8:        \"s0\": \"Top soil moisture (mm)\",\n",
    "    9:        \"sd\": \"Deep soil moisture (mm)\",\n",
    "    10:        \"ss\": \"Shallow soil moisture (mm)\"\n",
    "    11:    },\n",
    "    12:    \"INPUTS_CELL\": {\n",
    "    13:        \"avpt\": \"Vapour pressure\",\n",
    "    14:        \"k0sat\": \"Hydraulic saturation (top)\",\n",
    "    15:        \"k_gw\": \"Groundwater drainage coefficient\",\n",
    "    ...\n",
    "    35:    },\n",
    "    36:    \"INPUTS_HRU\": {\n",
    "    37:        \"alb_dry\": \"Dry Soil Albedo\",\n",
    "    38:        \"alb_wet\": \"Wet Soil Albedo\",\n",
    "    39:        \"cgsmax\": \"Conversion Coefficient From Vegetation Photosynthetic Capacity Index to Maximum Stomatal Conductance\",\n",
    "    ...    \n",
    "    58:    }, \n",
    "    59:    \"INPUTS_HYPSO\": {\n",
    "    60:        \"height\": \"height\",\n",
    "    61:        \"hypsperc\": \"hypsperc\",\n",
    "    62:        \"ne\": \"ne\"\n",
    "    62:    }\n",
    "\n",
    "\n",
    "\n",
    "#### [model_inputs.json] With new \"alb\": \"Surface albedo\" input added   \n",
    "\n",
    "    12:    \"INPUTS_CELL\": {\n",
    "    13:        \"alb\": \"Surface albedo\",\n",
    "    14:        \"avpt\": \"Vapour pressure\",\n",
    "    15:        \"k0sat\": \"Hydraulic saturation (top)\",\n",
    "    16:        \"k_gw\": \"Groundwater drainage coefficient\",\n",
    "    ...\n",
    "\n",
    "[model_inputs.json]: ../../../edit/Training/Advanced/testmodules/albmod/data/model_inputs.json"
   ]
  },
  {
   "cell_type": "code",
   "execution_count": null,
   "metadata": {
    "collapsed": true
   },
   "outputs": [],
   "source": [
    "# %load albmod/data/model_inputs.json"
   ]
  },
  {
   "cell_type": "markdown",
   "metadata": {},
   "source": [
    "# 2. Modify core code ([awral_t.c])\n",
    "\n",
    "### Remove existing code block\n",
    "\n",
    "Comment out the section of the main model code ([awral_t.c]) that contains the current albedo calculation<br>\n",
    "The dynamic compiler will automatically generate the code for receiving the new input data; this is all you need to do!\n",
    "\n",
    "\n",
    "/albmod/core/[awral_t.c]\n",
    "\n",
    "    223: double alb_veg = 0.452 * vc;\n",
    "    224: double alb_soil = alb_wet + (alb_dry - alb_wet) * exp(-w0 / w0ref_alb);\n",
    "    225: double alb = fveg * alb_veg + fsoil * alb_soil;\n",
    "    226: double rsn = (1.0 - alb) * rgeff;\n",
    "\n",
    "Comment out old albedo calculation code by using // ...\n",
    "\n",
    "    223: //double alb_veg = 0.452 * vc;\n",
    "    224: //double alb_soil = alb_wet + (alb_dry - alb_wet) * exp(-w0 / w0ref_alb);\n",
    "    225: //double alb = fveg * alb_veg + fsoil * alb_soil;\n",
    "    226: double rsn = (1.0 - alb) * rgeff;\n",
    "    \n",
    "[awral_t.c]: ../../../edit/Training/Advanced/testmodules/albmod/core/awral_t.c"
   ]
  },
  {
   "cell_type": "code",
   "execution_count": null,
   "metadata": {
    "collapsed": true
   },
   "outputs": [],
   "source": [
    "# %load albmod/core/awral_t.c"
   ]
  },
  {
   "cell_type": "markdown",
   "metadata": {},
   "source": [
    "## 3. Populate input mapping\n",
    "\n",
    "The model is ready to receive a new input, 'alb'; we now need to specify where this value comes from<br>\n",
    "\n",
    "For testing purposes, let's just start off supplying a constant value."
   ]
  },
  {
   "cell_type": "markdown",
   "metadata": {},
   "source": [
    "#### Modify get_default_mapping() function in albmod/[model.py]\n",
    "\n",
    "Add the following line to the get_default_mapping() function within model.py (starting line 58)\n",
    "\n",
    "    mapping['alb'] = nodes.const(0.3)\n",
    "\n",
    "similar to         \n",
    "        \n",
    "    128:  mapping['pair'] = nodes.const(97500.)\n",
    "\n",
    "You can change this value or perform other data transforms at runtime; the main reason for editing get_default_mapping is so that it has a valid default value.\n",
    "\n",
    "[model.py]: ../../../edit/Training/Advanced/testmodules/albmod/model.py"
   ]
  },
  {
   "cell_type": "code",
   "execution_count": null,
   "metadata": {
    "collapsed": true
   },
   "outputs": [],
   "source": [
    "# %load albmod/model.py"
   ]
  },
  {
   "cell_type": "markdown",
   "metadata": {},
   "source": [
    "### Run the modified model"
   ]
  },
  {
   "cell_type": "code",
   "execution_count": null,
   "metadata": {
    "collapsed": true
   },
   "outputs": [],
   "source": [
    "from awrams.utils.mapping_types import gen_coordset\n",
    "from awrams.utils import datetools as dt\n",
    "from awrams.utils import extents\n",
    "from awrams.simulation.ondemand import OnDemandSimulator\n",
    "from awrams.utils.nodegraph import nodes,graph"
   ]
  },
  {
   "cell_type": "code",
   "execution_count": null,
   "metadata": {
    "collapsed": true
   },
   "outputs": [],
   "source": [
    "# Now we can import from this awral model copy testmodules.albmod\n",
    "from testmodules.albmod import model\n",
    "m = model.AWRALModel()"
   ]
  },
  {
   "cell_type": "code",
   "execution_count": null,
   "metadata": {
    "collapsed": false
   },
   "outputs": [],
   "source": [
    "# Check the input keys; 'alb' is now here\n",
    "# Note that we still have some redundant inputs (alb_dry, alb_wet)\n",
    "# These can be removed now\n",
    "sorted(m.get_input_keys())"
   ]
  },
  {
   "cell_type": "code",
   "execution_count": null,
   "metadata": {
    "collapsed": false
   },
   "outputs": [],
   "source": [
    "# Examine the input mapping to see if 'alb' variable is there\n",
    "imap = m.get_default_mapping()\n",
    "imap['alb']"
   ]
  },
  {
   "cell_type": "code",
   "execution_count": null,
   "metadata": {
    "collapsed": false
   },
   "outputs": [],
   "source": [
    "# Create a function change_path_to_forcing() to change from the default paths to  \n",
    "def change_path_to_forcing(imap):\n",
    "    from awrams.utils.nodegraph import nodes\n",
    "    from os.path import join\n",
    "    from os import getcwd\n",
    "    from awrams.models.settings import TRAINING_DATA_PATH\n",
    "\n",
    "    # location of registered user data in the Training folder\n",
    "    data_path = TRAINING_DATA_PATH + '/climate/BOM_climate/'\n",
    "\n",
    "    FORCING = {\n",
    "        'tmin': ('temp_min*.nc','temp_min_day',data_path + 'tmin/'),\n",
    "        'tmax': ('temp_max*.nc','temp_max_day',data_path + 'tmax/'),\n",
    "        'precip': ('rain_day*.nc','rain_day',data_path + 'rr/'),\n",
    "        'solar': ('solar*.nc','solar_exposure_day',data_path + 'rad/') #,\n",
    "        #'vprp':('vapour_pressure*.nc', 'vapour_pressure', vprp_data_path + 'vapour_pressure/'), #h09\n",
    "        #'wind':('wind*.nc', 'wind', wind_data_path)\n",
    "    }\n",
    "    for k,v in FORCING.items():\n",
    "        imap[k+'_f'] = nodes.forcing_from_ncfiles(v[2],v[0],v[1])\n",
    "\n",
    "change_path_to_forcing(imap)"
   ]
  },
  {
   "cell_type": "code",
   "execution_count": null,
   "metadata": {
    "collapsed": false
   },
   "outputs": [],
   "source": [
    "# We can easily verify that the core model changes are working by adding 'alb' as an _output_ from the model\n",
    "# Note the list below does not contain 'alb\n",
    "m.OUTPUTS"
   ]
  },
  {
   "cell_type": "code",
   "execution_count": null,
   "metadata": {
    "collapsed": false
   },
   "outputs": [],
   "source": [
    "m.OUTPUTS['OUTPUTS_AVG'].append('alb')\n",
    "m.OUTPUTS"
   ]
  },
  {
   "cell_type": "code",
   "execution_count": null,
   "metadata": {
    "collapsed": false
   },
   "outputs": [],
   "source": [
    "!pwd"
   ]
  },
  {
   "cell_type": "code",
   "execution_count": null,
   "metadata": {
    "collapsed": false
   },
   "outputs": [],
   "source": [
    "# Set up a simulation\n",
    "\n",
    "# This will trigger a model rebuild (when the OnDemandSimulator calls get_runner())\n",
    "\n",
    "sim = OnDemandSimulator(m,imap)"
   ]
  },
  {
   "cell_type": "code",
   "execution_count": null,
   "metadata": {
    "collapsed": true
   },
   "outputs": [],
   "source": [
    "e = extents.get_default_extent().ioffset[200,200]\n",
    "p = dt.dates('jan 2011')"
   ]
  },
  {
   "cell_type": "code",
   "execution_count": null,
   "metadata": {
    "collapsed": false
   },
   "outputs": [],
   "source": [
    "results = sim.run(p,e)"
   ]
  },
  {
   "cell_type": "code",
   "execution_count": null,
   "metadata": {
    "collapsed": true
   },
   "outputs": [],
   "source": [
    "import pandas as pd"
   ]
  },
  {
   "cell_type": "code",
   "execution_count": null,
   "metadata": {
    "collapsed": false
   },
   "outputs": [],
   "source": [
    "# Examine the data; alb should have a constant value of 0.30\n",
    "%matplotlib inline\n",
    "pd.Series(results['alb'][:,0],p).plot()"
   ]
  },
  {
   "cell_type": "markdown",
   "metadata": {
    "collapsed": true
   },
   "source": [
    "### Further excercises\n",
    "\n",
    "Change the input mapping for 'alb' to point to use real data instead of a const"
   ]
  },
  {
   "cell_type": "code",
   "execution_count": null,
   "metadata": {
    "collapsed": true
   },
   "outputs": [],
   "source": []
  }
 ],
 "metadata": {
  "kernelspec": {
   "display_name": "Python 3",
   "language": "python",
   "name": "python3"
  },
  "language_info": {
   "codemirror_mode": {
    "name": "ipython",
    "version": 3
   },
   "file_extension": ".py",
   "mimetype": "text/x-python",
   "name": "python",
   "nbconvert_exporter": "python",
   "pygments_lexer": "ipython3",
   "version": "3.4.5"
  }
 },
 "nbformat": 4,
 "nbformat_minor": 0
}
