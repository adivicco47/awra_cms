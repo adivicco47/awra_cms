{
 "cells": [
  {
   "cell_type": "markdown",
   "metadata": {},
   "source": [
    "<style>\n",
    "table {float:left}\n",
    "</style>\n",
    "\n",
    "# AWRA Community Modelling System Training Workshop\n"
   ]
  },
  {
   "cell_type": "markdown",
   "metadata": {
    "collapsed": true
   },
   "source": [
    "<style>\n",
    "table {float:left}\n",
    "</style>\n",
    "\n",
    "## Overview\n",
    "\n",
    "| Time      |**Session**  | **Presentation / Notebook** |\n",
    "|----------------------------------|\n",
    "| 1:15- 1:30|**Welcome and introduction** <br> - What is the CMS? <br> - Why the CMS?|  |\n",
    "| 1:30- 2:30| **Introducing the AWRA-CMS package and tools** <br>**The Basics** <br>  - Python and Jupyter notebook basics  <br>  - The AWRA-L model <br>  - Understanding the AWRA-CMS package and its modules<br>  - AWRA-L deconstructed - Python version of AWRA  <br> **Simulation**<br> - Server simulation (memory intensive) | <br>  [The Basics folder] <br> [1.0]<br> [1.1]<br> [1.2]<br> [1.3]<br>[Simulation folder]  <br> [Simulation Server]|\n",
    "| 2:30 -2:45| **BREAK** |  Afternoon Tea |\n",
    "| 2:45 - 3:15| **AWRA-CMS  Calibration** | [Calibration] |\n",
    "| 3:15 -3:45| **Advanced functionality** <br> - Altering the model code and input data <br> - Changing objective function <br> - Sensitivity analysis <br> <br> **User testing/questions** |  [Advanced folder] <br> [Changing the model] <br> [Sensitivity analysis] <br>  [Changing the objective function] <br>  <br> <br> |\n",
    "| 3:45 -4:00| **Summary and close** | <br>|\n",
    "\n",
    "\n",
    "\n",
    "\n",
    "[The Basics folder]: /tree/Training/Basics\n",
    "[1.0]: Basics/1.0_Python_and_Jupyter_notebook_basics.ipynb\n",
    "[1.2]: Basics/1.2_Understanding_the_AWRA_Community_Modelling_System_package_and_its_modules.ipynb\n",
    "[1.1]: Basics/1.1_The_AWRA-L_model.ipynb\n",
    "[1.3]: Basics/1.3_AWRA-L_deconstructed_-_Python_version_of_AWRA-L.ipynb\n",
    "[Simulation folder]: /tree/Training/Simulation\n",
    "[On-Demand Simulation]: Simulation/OnDemandSimulation.ipynb\n",
    "[Simulation Server]: Simulation/SimulationServer.ipynb\n",
    "[Visualisation]: Visualisation/Visualisation.ipynb\n",
    "[Extraction]: Extraction/Extraction.ipynb\n",
    "[Benchmarking]: /tree/Training/Benchmarking\n",
    "[Calibration]: Calibration/CalibrationExample.ipynb\n",
    "[Putting it all in practice]: Workspace/Putting_it_all_in_practice-Participants.ipynb\n",
    "[Advanced folder]: /tree/Training/Advanced\n",
    "[Changing the model]: Advanced/ChangingTheModel.ipynb\n",
    "[Sensitivity analysis]: Advanced/Using_a_different_optimiser__Sensitivity_analysis_and_Sobol_sampling.ipynb\n",
    "[Changing the objective function]: Advanced/AlterObjectiveFunction_DownloadBoMdata.ipynb"
   ]
  },
  {
   "cell_type": "code",
   "execution_count": null,
   "metadata": {
    "collapsed": true
   },
   "outputs": [],
   "source": []
  },
  {
   "cell_type": "code",
   "execution_count": null,
   "metadata": {
    "collapsed": true
   },
   "outputs": [],
   "source": []
  }
 ],
 "metadata": {
  "kernelspec": {
   "display_name": "Python 3",
   "language": "python",
   "name": "python3"
  },
  "language_info": {
   "codemirror_mode": {
    "name": "ipython",
    "version": 3
   },
   "file_extension": ".py",
   "mimetype": "text/x-python",
   "name": "python",
   "nbconvert_exporter": "python",
   "pygments_lexer": "ipython3",
   "version": "3.4.5"
  }
 },
 "nbformat": 4,
 "nbformat_minor": 0
}
