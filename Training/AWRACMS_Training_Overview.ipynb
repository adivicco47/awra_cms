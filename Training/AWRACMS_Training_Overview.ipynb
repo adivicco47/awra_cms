{
 "cells": [
  {
   "cell_type": "markdown",
   "metadata": {},
   "source": [
    "<style>\n",
    "table {float:left}\n",
    "</style>\n",
    "\n",
    "# AWRA Community Modelling System Training Workshop\n"
   ]
  },
  {
   "cell_type": "markdown",
   "metadata": {
    "collapsed": true
   },
   "source": [
    "<style>\n",
    "table {float:left}\n",
    "</style>\n",
    "\n",
    "## Overview\n",
    "\n",
    "| Time      |**Session**  | **Presentation / Notebook** |\n",
    "|----------------------------------|\n",
    "| 9:00- 9:15|**Welcome and introduction** <br> - What is the CMS? <br> - Why the CMS?|  |\n",
    "| 9:15-10:30| **Introducing the AWRA-CMS package and tools** <br>**The Basics** <br>  1.0 Python and Jupyter notebook basics  <br>  1.1 The AWRA-L model <br>  1.2 Understanding the AWRA-CMS package and its modules<br>  1.3 AWRA-L deconstructed - Python version of AWRA | <br> [The Basics folder] <br> [1.0]<br> [1.1]<br> [1.2]<br> [1.3]<br>|\n",
    "|10:30-10:45| **BREAK** |  Morning Tea |\n",
    "|10:45-12:30| **AWRA-CMS tools: Part 1** <br>**Simulation, Visualisation and Extraction **<br> - Server simulation (memory intensive) <br>   - Visualisation of outputs <br> - Extracting outputs <br>  - On-demand simulation (short/quick)  <br>  **Benchmarking** |<br> [Simulation folder]  <br> [Simulation Server]<br>  [Visualisation] <br> [Extraction] <br> [On-Demand Simulation]  <br> [Benchmarking]  |\n",
    "|12:30-1:30| **BREAK** |  Lunch |\n",
    "|1:30 -2:15| **AWRA-CMS tools: Part 2** <br> **Calibration** | <br> [Calibration] |\n",
    "|2:15 -3:30| **Putting it all into practice** <br> Calibrating, simulating and benchmarking a region | <br> [Putting it all in practice] |\n",
    "| 3:30 -3:45| **BREAK** |  Afternoon Tea |\n",
    "| 3:45 -4:45| **Advanced functionality** <br> - Altering the model code and input data <br> - Changing objective function <br> - Sensitivity analysis <br> <br> **User testing/questions** |  [Advanced folder] <br> [Changing the model] <br> [Sensitivity analysis] <br>  [Changing the objective function] <br>  <br> <br> |\n",
    "| 4:45 -5:00| **Summary and close** | <br>|\n",
    "\n",
    "\n",
    "\n",
    "\n",
    "[The Basics folder]: /tree/Training/Basics\n",
    "[1.0]: Basics/1.0_Python_and_Jupyter_notebook_basics.ipynb\n",
    "[1.2]: Basics/1.2_Understanding_the_AWRA_Community_Modelling_System_package_and_its_modules.ipynb\n",
    "[1.1]: Basics/1.1_The_AWRA-L_model.ipynb\n",
    "[1.3]: Basics/1.3_AWRA-L_deconstructed_-_Python_version_of_AWRA-L.ipynb\n",
    "[Simulation folder]: /tree/Training/Simulation\n",
    "[On-Demand Simulation]: Simulation/OnDemandSimulation.ipynb\n",
    "[Simulation Server]: Simulation/SimulationServer.ipynb\n",
    "[Visualisation]: Visualisation/Visualisation.ipynb\n",
    "[Extraction]: Extraction/Extraction.ipynb\n",
    "[Benchmarking]: /tree/Training/Benchmarking\n",
    "[Calibration]: Calibration/CalibrationExample.ipynb\n",
    "[Putting it all in practice]: Workspace/Putting_it_all_in_practice-Participants.ipynb\n",
    "[Advanced folder]: /tree/Training/Advanced\n",
    "[Changing the model]: Advanced/ChangingTheModel.ipynb\n",
    "[Sensitivity analysis]: Advanced/Using_a_different_optimiser__Sensitivity_analysis_and_Sobol_sampling.ipynb\n",
    "[Changing the objective function]: Advanced/AlterObjectiveFunction_DownloadBoMdata.ipynb"
   ]
  },
  {
   "cell_type": "code",
   "execution_count": null,
   "metadata": {
    "collapsed": true
   },
   "outputs": [],
   "source": []
  },
  {
   "cell_type": "code",
   "execution_count": null,
   "metadata": {
    "collapsed": true
   },
   "outputs": [],
   "source": []
  }
 ],
 "metadata": {
  "kernelspec": {
   "display_name": "Python 3",
   "language": "python",
   "name": "python3"
  },
  "language_info": {
   "codemirror_mode": {
    "name": "ipython",
    "version": 3
   },
   "file_extension": ".py",
   "mimetype": "text/x-python",
   "name": "python",
   "nbconvert_exporter": "python",
   "pygments_lexer": "ipython3",
   "version": "3.4.5"
  }
 },
 "nbformat": 4,
 "nbformat_minor": 0
}
