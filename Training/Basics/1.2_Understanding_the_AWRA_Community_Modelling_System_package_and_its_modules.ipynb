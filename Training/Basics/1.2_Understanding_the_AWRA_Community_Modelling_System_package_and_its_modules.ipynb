{
 "cells": [
  {
   "cell_type": "markdown",
   "metadata": {},
   "source": [
    "# Understanding the AWRA Community Modelling System package and its modules\n",
    "\n",
    "   1. What is the AWRA CMS?\n",
    "   2. AWRA-CMS package and modules\n",
    "   3. AWRA CMS concepts and classes  \n"
   ]
  },
  {
   "cell_type": "markdown",
   "metadata": {},
   "source": [
    "\n",
    "\n",
    "## 1.  What is the AWRA CMS?\n",
    "\n",
    "\n"
   ]
  },
  {
   "cell_type": "markdown",
   "metadata": {},
   "source": [
    "   - Available to ***the community*** https://github.com/awracms/awra_cms/\n",
    "   - Enables joint development and own application\n",
    "   - ***Documentation***:\n",
    "       - the ***User Guide*** https://github.com/awracms/awra_cms/blob/master/docs/AWRA_Community_Modelling_System_User_Guide.pdf\n",
    "\n",
    "![title](awracms_schematic.PNG)\n",
    "\n",
    "\n",
    "### How do I install and use the AWRA CMS?\n",
    "\n",
    " - **Training course**: \n",
    "    - Python, the AWRA CMS packages and Jupyter are preinstalled running on a Virtual machine\n",
    " - **Own application**: \n",
    "    - Following the course, you may want to install the AWRA CMS on your own system, rather than using the Virtual machine.\n",
    "    - It is strongly recommended that you follow the instructions listed below to:\n",
    "         - install Python within the specified CONDA environment (a particular environment is specified to ensure all packages work)\n",
    "         - install AWRA MS including required package dependancies\n",
    "    - Instructions:\n",
    "        - the ***User Guide*** https://github.com/awracms/awra_cms/blob/master/docs/AWRA_Community_Modelling_System_User_Guide.pdf\n",
    "        - the ***INSTALL.md*** file with the package https://github.com/awracms/awra_cms/blob/master/INSTALL.md\n",
    "    \n",
    "### Having issues with installing?\n",
    "If you have any questions relating to install contact us at:\n",
    "***awracms@bom.gov.au***"
   ]
  },
  {
   "cell_type": "markdown",
   "metadata": {},
   "source": [
    "## 2. AWRA-CMS package and modules\n",
    "\n",
    "#### There are 6 module components to the AWRAMS python package\n",
    "* ***awrams.models***        : the AWRA-L model code\n",
    "* ***awrams.simulation***    : tools to run the model \n",
    "    * **ondemand**: keeps the inputs and outputs stored in memory - for fast interactive use\n",
    "    * **server**: direct to disk output, used for large scale runs (larger than available memory)  \n",
    "* ***awrams.visualisation*** : contains functions to facilitate viewing of outputs and inputs across periods and spatial extents\n",
    "* ***awrams.calibration***   : contains tools for calibration and evaluation of sensitivity to model parameters\n",
    "* ***awrams.benchmarking***  : contains tools to allow comparison of multiple model outputs to observations\n",
    "* ***awrams.utils***         : contains various support tools used throughout the rest of the system"
   ]
  },
  {
   "cell_type": "code",
   "execution_count": 1,
   "metadata": {
    "collapsed": true
   },
   "outputs": [],
   "source": [
    "# import the modules\n",
    "import awrams.models  # contains the awra model code\n",
    "import awrams.simulation  # contains tools to run the model in memory or with written outputs\n",
    "import awrams.visualisation # contains functions to facilitate viewing of outputs and inputs across periods and spatial extents\n",
    "import awrams.calibration # contains tools for calibration and evaluation of sensitivity to model parameters\n",
    "import awrams.benchmarking # contains tools to allow comparison of multiple model outputs to observations\n",
    "import awrams.utils # contains tools to enable extraction of data from model outputs"
   ]
  },
  {
   "cell_type": "code",
   "execution_count": 2,
   "metadata": {
    "collapsed": false
   },
   "outputs": [
    {
     "data": {
      "text/plain": [
       "<module 'awrams.models' from '/data/cwd_awra_data/AWRACMS/MINICONDA3/envs/awra-cms/lib/python3.4/site-packages/awrams/models/__init__.py'>"
      ]
     },
     "execution_count": 2,
     "metadata": {},
     "output_type": "execute_result"
    }
   ],
   "source": [
    "# see location of each of the components\n",
    "# Note it is within your Virtual environment \n",
    "awrams.models"
   ]
  },
  {
   "cell_type": "markdown",
   "metadata": {},
   "source": [
    "#### There is a copy of the code provided in the awrams_cm folder to aid understanding\n",
    "     \n",
    "   - [Models folder]       :   /tree/models/awrams/models\n",
    "   - [Simulation folder]   :   /tree/simulation/awrams/simulation\n",
    "   - [Visualisation folder]:   /tree/visualisation/awrams/visualisation\n",
    "   - [Calibration folder]  :   /tree/calibration/awrams/calibration\n",
    "   - [Benchmarking folder] :   /tree/benchmarking/awrams/benchmarking \n",
    "\n",
    "[Models folder]: /tree/models/awrams/models\n",
    "[Simulation folder]: /tree/simulation/awrams/simulation\n",
    "[Visualisation folder]: /tree/visualisation/awrams/visualisation\n",
    "[Calibration folder]: /tree/calibration/awrams/calibration\n",
    "[Benchmarking folder]: /tree/benchmarking/awrams/benchmarking    "
   ]
  },
  {
   "cell_type": "markdown",
   "metadata": {},
   "source": [
    "#### Use jupyter navigation to view/edit at copy of code:\n",
    "\n",
    "  - For example the input tranforms file in the models folder [awrams/models/awral/transforms.py]\n",
    " \n",
    "[awrams/models/awral/transforms.py]: ../../../edit/models/awrams/models/awral/transforms.py"
   ]
  },
  {
   "cell_type": "markdown",
   "metadata": {},
   "source": [
    "# 3. AWRA CMS concepts and classes \n",
    "\n",
    "\n",
    "\n",
    "## 3.1 Configuring AWRA simulations and calibrations\n",
    "\n",
    " - Setting up a simulation or calibration run starts by defining:\n",
    "\n",
    "   - A.  The **model** (in this case AWRAL) :\n",
    "   - B.  The inputs and outputs via **the nodegraph**\n",
    "      1. Inputs:\n",
    "         - the forcing inputs (rain, temperature, radiation) \n",
    "         - the spatial inputs (grids of various landscape properties)\n",
    "         - model parameters (calibrated or fixed)\n",
    "      2. Outputs:\n",
    "         - the model outputs to be written out (e.g. flow, evaporation, soil moisture)\n",
    "         - the grid resolution (default is 0.05 degree)\n",
    "         \n",
    "   - C.  The spatial **extent** \n",
    "   - D.  The modelling time **period**\n",
    "\n"
   ]
  },
  {
   "cell_type": "markdown",
   "metadata": {},
   "source": [
    "## 3.1.A. Load the awral model class from the models module\n",
    "\n",
    "\n",
    "\n",
    "#### *Model* class (awrams.models.model.Model): see Model class within [awrams/models/model.py]\n",
    "\n",
    "[awrams/models/model.py]: ../../../edit/models/awrams/models/model.py\n",
    "\n",
    "- This Generic model class provides an interface for configuring and querying models.  \n",
    "- All models must derive from this class.   \n",
    "- Models conforming to this interface specification are used by various clients in AWRAMS:  \n",
    "     - the **OnDemandSimulator** \n",
    "     - the **SimulationServer** and \n",
    "     - the AWRAMS **calibration** system.\n",
    "- Models need to supply:\n",
    "   - information about themselves (eg names of inputs, outputs and states), \n",
    "   - default input mapping (get_default_mapping())\n",
    "\n",
    "#### The core AWRA-L model components are contained within the Model folder:\n",
    "\n",
    " - see copied code here [awrams/models/awral]\n",
    " - actual file is within the awrams package file within your conda environment install.\n",
    "\n",
    "[awrams/models/awral]: /tree/models/awrams/models/awral\n",
    "\n",
    "\n",
    "#### ***AWRALModel*** class: The AWRA-L specific child of *Model* parent class [awrams/models/awral/model.py]\n",
    "\n",
    "[awrams/models/awral/model.py]: ../../../edit/models/awrams/models/awral/model.py\n",
    "\n",
    "\n"
   ]
  },
  {
   "cell_type": "code",
   "execution_count": 3,
   "metadata": {
    "collapsed": false
   },
   "outputs": [],
   "source": [
    "### A. Load the awral model class from the models module\n",
    "from awrams.models import awral"
   ]
  },
  {
   "cell_type": "code",
   "execution_count": 4,
   "metadata": {
    "collapsed": false
   },
   "outputs": [
    {
     "data": {
      "text/plain": [
       "<module 'awrams.models.awral.model' from '/data/cwd_awra_data/AWRACMS/MINICONDA3/envs/awra-cms/lib/python3.4/site-packages/awrams/models/awral/model.py'>"
      ]
     },
     "execution_count": 4,
     "metadata": {},
     "output_type": "execute_result"
    }
   ],
   "source": [
    "# see the components of the awral class by tab completion (model, runner, settings, support, solar, template, transforms)\n",
    "awral.model"
   ]
  },
  {
   "cell_type": "code",
   "execution_count": 5,
   "metadata": {
    "collapsed": true
   },
   "outputs": [],
   "source": [
    "# Instantiate the AWRA-L model\n",
    "awralmod = awral.model.AWRALModel()"
   ]
  },
  {
   "cell_type": "markdown",
   "metadata": {},
   "source": [
    "\n",
    "### -----   Advanced Section:    Components of awrams.models.model.Model class -----------------------------------------------\n",
    "#### Important components of awrams model class. \n",
    "\n",
    "##### [settings.py]\n",
    "[settings.py]: ../../../edit/models/awrams/models/awral/settings.py\n",
    "\n",
    "- Default configuration file:\n",
    "   - locations of data files (input parameters, static spatial grids, climate grids), \n",
    "   - default model outputs, and \n",
    "   - compilation options are stored here.\n",
    "- Default configuration can be overridden by specific ***User*** settings.py file:\n",
    "   - /home/USERNAME/.awrams/settings.py\n",
    "   - Users will need to create this file (and folder .awrams) manually, but can use it to override any of the default settings (or add a custom setting variable).\n",
    "   \n",
    "   \n",
    "#### [transforms.py] , [solar.py] \n",
    "[solar.py]: ../../../edit/models/awrams/models/awral/solar.py\n",
    "[transforms.py]: ../../../edit/models/awrams/models/awral/transforms.py\n",
    "\n",
    "- AWRA-L supplies a number of custom node types for use in its input mapping graph;  \n",
    "   - read awral.model.Model.get_default_input_mapping() for particulars.\n",
    "   \n",
    "#### [template.py]\n",
    "[template.py]: ../../../edit/models/awrams/models/awral/template.py\n",
    "- This file specifies how the awral_t.c is transformed into awral.c before compilation.   \n",
    "- Modifying these templates is an advanced topic not covered here.\n",
    "\n",
    "#### [runner.py]\n",
    "[runner.py]: ../../../edit/models/awrams/models/awral/runner.py\n",
    "- This contains the ModelRunner implementation, and associated support code for C bindings, and should not need to be modified.\n",
    "     \n",
    "#### *ModelRunner* class (awrams.models.model.ModelRunner)\n",
    " - Hydrological processes should be represented in the ModelRunner.  \n",
    " - This class provides the interface for executing model runs\n",
    "    - taking the outputs from an ExecutionGraph, and \n",
    "    - running them through the model’s hydrological processes.\n",
    " - Every Model needs to supply a runner via the model.get_runner() call. \n",
    "\n",
    "#### C code  and Dynamic model compilation\n",
    "\n",
    " - The input mapping/configuration of AWRA-L is pure Python\n",
    " - The core of AWRA-L is implemented in C for performance reasons using a template file\n",
    " \n",
    " \n",
    " - **Templating**: lightweight templating library is used to autogenerate some portions of code\n",
    " \n",
    "     - The model template file (**[awral_t.c]**) is compiled automatically when required\n",
    "     \n",
    "               see /models/awrams/models/awral/model/awral_t.c\n",
    " \n",
    "     - Users wishing to edit the code should edit this file within the awra parackage\n",
    "     - Recompilation occurs in particular when the mapping of input and output data changes\n",
    "     \n",
    "  - **Advantages**: \n",
    "     \n",
    "     - Outputs can easily be added/removed, as well as input types changed (e.g. changing a scalar value to a spatial or timeseries forcing input), without users having to manually edit the C code\n",
    "     - Does not recompile if not required\n",
    "\n",
    "\n",
    " \n",
    "\n",
    "[awral_t.c]: ../../../edit/models/awrams/models/awral/core/awral_t.c\n",
    "  \n",
    "### We'll come back to altering the code in the Advanced section later today.\n",
    "\n",
    "###  -----   End Advanced: Components of awrams.models.model.Model class ------------------------------------------------------"
   ]
  },
  {
   "cell_type": "markdown",
   "metadata": {},
   "source": [
    "## 3.1.B. Input/Output Mappings and Nodegraphs\n",
    "\n",
    " - ***Mappings*** are python dictionaries used to describe the data-flow\n",
    "      - AWRAMS ***NodeGraph*** subsystem (awrams.utils.nodegraph) transforms this **configuration** info into runnable code.\n",
    " - Default Input mapping: the ‘data’ portion of a model\n",
    "      - loading of files\n",
    "      - infilling\n",
    "      - unit conversion etc. \n",
    " - Example:\n",
    "     - AWRA-L model uses a single temperature input, but AWAP supplies two (minimum and maximum temperature).  \n",
    "     - The default AWRA-L input mapping loads the AWAP inputs then rectifies and computes a weighted average of these, before passing the single value on to the core model code. \n",
    "\n",
    "### B.1 Input configuration\n",
    "\n",
    "#### Default input static spatial datasets and model parameters:  \n",
    "  See data folder [../../models/awrams/models/awral/data/]\n",
    "[../../models/awrams/models/awral/data/]: /tree/models/awrams/models/awral/data   \n",
    "\n",
    "   - ***static spatial grids***:  various static soil, vegetation and topography related spatial datasets - see spatial_parameters.h5 (https://en.wikipedia.org/wiki/Hierarchical_Data_Format)\n",
    "   - ***default model parameters***: see DefaultParameters.json (https://en.wikipedia.org/wiki/JSON)\n",
    "   - ***model inputs***: complete list of input parameters (climate, static, spatial) - see model_inputs.json\n",
    "   \n",
    "for further details see [1.1_The_AWRA-L_model.ipynb]\n",
    "\n",
    "[1.1_The_AWRA-L_model.ipynb]: /notebooks/Training/Basics/1.1_The_AWRA-L_model.ipynb"
   ]
  },
  {
   "cell_type": "code",
   "execution_count": 6,
   "metadata": {
    "collapsed": false
   },
   "outputs": [
    {
     "data": {
      "text/plain": [
       "{'INPUTS_CELL': {'avpt': 'Vapour pressure',\n",
       "  'k0sat': 'Hydraulic saturation (top)',\n",
       "  'k_gw': 'Groundwater drainage coefficient',\n",
       "  'k_rout': 'k_rout',\n",
       "  'kdsat': 'Hydraulic saturation (deep)',\n",
       "  'kr_0s': 'Interlayer saturation (top/shallow)',\n",
       "  'kr_coeff': 'kr_coeff',\n",
       "  'kr_sd': 'Interlayer saturation (shallow/deep)',\n",
       "  'kssat': 'Hydraulic saturation (shallow)',\n",
       "  'pair': 'Air pressure (pA)',\n",
       "  'prefr': 'prefr',\n",
       "  'pt': 'Precipitation (mm/day)',\n",
       "  'radcskyt': 'radcskyt',\n",
       "  'rgt': 'Solar radiation (MJ m^-2)',\n",
       "  's0max': 'Maximum soil moisture (top)',\n",
       "  'sdmax': 'Maximum soil moisture (deep)',\n",
       "  'slope': 'slope',\n",
       "  'slope_coeff': 'slope_coeff',\n",
       "  'ssmax': 'Maximum soil moisture (shallow)',\n",
       "  'tat': 'Temperature average (degC)',\n",
       "  'u2t': 'Windspeed (m/s)'},\n",
       " 'INPUTS_HRU': {'alb_dry': 'Dry Soil Albedo',\n",
       "  'alb_wet': 'Wet Soil Albedo',\n",
       "  'cgsmax': 'Conversion Coefficient From Vegetation Photosynthetic Capacity Index to Maximum Stomatal Conductance',\n",
       "  'er_frac_ref': 'Ratio of Average Evaporation Rate Over Average Rainfall Intensity During Storms Per Unit Canopy Cover',\n",
       "  'fhru': 'Fraction of Simulation Cell with <HRU-type> Vegetation',\n",
       "  'fsoilemax': 'Soil Evaporation Scaling Factor When Soil Water Supply is Not Limiting Evaporation',\n",
       "  'hveg': 'Height of Vegetation Canopy',\n",
       "  'laimax': 'Maximum Leaf Area Index',\n",
       "  'lairef': 'Reference Leaf Area Index (at which fveg = 0.63)',\n",
       "  'rd': 'Root depth',\n",
       "  's_sls': 'Specific Canopy Rainfall Storage Capacity Per Unit Leaf Area',\n",
       "  'sla': 'Specific Leaf Area',\n",
       "  'tgrow': 'Characteristic Time Scale for Vegetation Growth Towards Equilibrium',\n",
       "  'tsenc': 'Characteristic Time Scale for Vegetation Senescence Towards Equilibrium',\n",
       "  'ud0': 'Maximum Root Water Uptake Rates From Deep Soil',\n",
       "  'us0': 'Maximum Root Water Uptake Rates From Shallow Soil',\n",
       "  'vc': 'Vegetation Photosynthetic Capacity Index Per Unit Canopy Cover',\n",
       "  'w0lime': 'Relative Top Soil Water Content at Which Evaporation is Reduced',\n",
       "  'w0ref_alb': 'Reference Value of w0 Determining the Rate of Albedo Decrease With Wetness',\n",
       "  'wdlimu': 'Deep Water-Limiting Relative Water Content',\n",
       "  'wslimu': 'Shallow Water-Limiting Relative Water Content'},\n",
       " 'INPUTS_HYPSO': {'height': 'height', 'hypsperc': 'hypsperc', 'ne': 'ne'},\n",
       " 'STATES_CELL': {'sg': 'Groundwater storage (mm)',\n",
       "  'sr': 'Surface storage (mm)'},\n",
       " 'STATES_HRU': {'mleaf': 'Vegetation index',\n",
       "  's0': 'Top soil moisture (mm)',\n",
       "  'sd': 'Deep soil moisture (mm)',\n",
       "  'ss': 'Shallow soil moisture (mm)'}}"
      ]
     },
     "execution_count": 6,
     "metadata": {},
     "output_type": "execute_result"
    }
   ],
   "source": [
    "# list the complete set of model inputs - defined in INPUT_JSON_FILE=data/model_inputs.json file\n",
    "import json\n",
    "import pandas as pd\n",
    "model_inputs = json.load(open(awral.settings.INPUT_JSON_FILE,'r'))\n",
    "model_inputs"
   ]
  },
  {
   "cell_type": "markdown",
   "metadata": {},
   "source": [
    "### Need to map values to these AWRA-L input parameters\n",
    "\n",
    "- See get_default_mapping() in [model.py]\n",
    "- Various [nodes.py] types are used to map input values to these parameters\n",
    "    - climate input from netcdf files:  nodes.forcing_from_ncfiles(CLIMATE_DATA,v[0],v[1])\n",
    "    - static spatial inputs from grids: nodes.spatial_from_file(SPATIAL_FILE,'parameters/%s' % grid)\n",
    "    - assigning a constant value eg. air pressure mapping['pair'] = nodes.const(97500.)\n",
    "    - transformations: eg.\n",
    "         - average temperature mapping['tat'] = nodes.mix('tmin','tmax',0.75)\n",
    "         - multiplying a spatial grid by an input parameter mapping['s0max'] = nodes.mul('s0max_scale','s0fracawc_grid',100.)\n",
    "\n",
    "\n",
    "[nodes.py]: ../../../edit/utils/awrams/utils/nodegraph/nodes.py\n",
    "[model.py]: ../../../edit/models/awrams/models/awral/model.py"
   ]
  },
  {
   "cell_type": "code",
   "execution_count": 7,
   "metadata": {
    "collapsed": false
   },
   "outputs": [],
   "source": [
    "# View the default configuration mapping\n",
    "default_config = awralmod.get_default_mapping()"
   ]
  },
  {
   "cell_type": "code",
   "execution_count": 8,
   "metadata": {
    "collapsed": false
   },
   "outputs": [
    {
     "data": {
      "text/plain": [
       "alb_dry_hrudr : parameter([]):{'max': 0.5, 'fixed': True, 'value': 0.26, 'min': 0.1}\n",
       "alb_dry_hrusr : parameter([]):{'max': 0.5, 'fixed': True, 'value': 0.26, 'min': 0.1}\n",
       "alb_wet_hrudr : parameter([]):{'max': 0.5, 'fixed': True, 'value': 0.16, 'min': 0.1}\n",
       "alb_wet_hrusr : parameter([]):{'max': 0.5, 'fixed': True, 'value': 0.16, 'min': 0.1}\n",
       "avpt : transform(['tmin']):{'tfunc': {'name': 'pe', 'objtype': 'class', 'module': 'awrams.models.awral.transforms'}, 'func_args': {}}\n",
       "cgsmax_hrudr : parameter([]):{'max': 0.05, 'fixed': False, 'value': 0.0320045265678736, 'min': 0.02}\n",
       "cgsmax_hrusr : parameter([]):{'max': 0.05, 'fixed': False, 'value': 0.02371068048102, 'min': 0.02}\n",
       "er_frac_ref_hrudr : parameter([]):{'max': 0.25, 'fixed': False, 'value': 0.0735562467806121, 'min': 0.04}\n",
       "er_frac_ref_hrusr : transform(('er_frac_ref_hrudr', 0.5)):{'tfunc': {'name': 'multiply', 'objtype': 'class', 'module': 'numpy'}, 'func_args': {}}\n",
       "f_tree_grid : spatial_from_file([]):{'preload': False, 'filename': '/data/cwd_awra_data/AWRACMS/MINICONDA3/envs/awra-cms/lib/python3.4/site-packages/awrams/models/awral/data/spatial_parameters.h5', 'variable': 'parameters/f_tree'}\n",
       "fday : fday([]):{}\n",
       "fhru_hrudr : assign(['f_tree_grid']):{}\n",
       "fhru_hrusr : transform([1.0, 'f_tree_grid']):{'tfunc': {'name': 'subtract', 'objtype': 'class', 'module': 'numpy'}, 'func_args': {}}\n",
       "fsoilemax_hrudr : parameter([]):{'max': 1, 'fixed': False, 'value': 0.227465527270008, 'min': 0.2}\n",
       "fsoilemax_hrusr : parameter([]):{'max': 1, 'fixed': False, 'value': 0.929708357540083, 'min': 0.2}\n",
       "fvegref_g_hrudr : parameter([]):{'max': 0.25, 'fixed': True, 'value': 0.15, 'min': 0.1}\n",
       "fvegref_g_hrusr : parameter([]):{'max': 0.25, 'fixed': True, 'value': 0.15, 'min': 0.1}\n",
       "gfrac_max_hrudr : parameter([]):{'max': 0.5, 'fixed': True, 'value': 0.3, 'min': 0.25}\n",
       "gfrac_max_hrusr : parameter([]):{'max': 0.5, 'fixed': True, 'value': 0.3, 'min': 0.25}\n",
       "height : assign(['height_grid']):{}\n",
       "height_grid : spatial_from_file([]):{'preload': False, 'filename': '/data/cwd_awra_data/AWRACMS/MINICONDA3/envs/awra-cms/lib/python3.4/site-packages/awrams/models/awral/data/spatial_parameters.h5', 'variable': 'parameters/height'}\n",
       "hveg_dr_grid : spatial_from_file([]):{'preload': False, 'filename': '/data/cwd_awra_data/AWRACMS/MINICONDA3/envs/awra-cms/lib/python3.4/site-packages/awrams/models/awral/data/spatial_parameters.h5', 'variable': 'parameters/hveg_dr'}\n",
       "hveg_hrudr : assign(['hveg_dr_grid']):{}\n",
       "hveg_hrusr : parameter([]):{'max': 50, 'fixed': True, 'value': 0.5, 'min': 0.1}\n",
       "hypsperc : transform(('hypsperc_f', 0.01)):{'tfunc': {'name': 'multiply', 'objtype': 'class', 'module': 'numpy'}, 'func_args': {}}\n",
       "hypsperc_f : const_from_hdf5([]):{'filename': '/data/cwd_awra_data/AWRACMS/MINICONDA3/envs/awra-cms/lib/python3.4/site-packages/awrams/models/awral/data/spatial_parameters.h5', 'variable': 'dimensions/hypsometric_percentile', 'dims': ['hypsometric_percentile']}\n",
       "init_mleaf_hrudr : transform([2.0, 'sla_hrudr']):{'tfunc': {'name': 'true_divide', 'objtype': 'class', 'module': 'numpy'}, 'func_args': {}}\n",
       "init_mleaf_hrusr : transform([2.0, 'sla_hrusr']):{'tfunc': {'name': 'true_divide', 'objtype': 'class', 'module': 'numpy'}, 'func_args': {}}\n",
       "init_s0_hrudr : transform(('s0max', 0.5)):{'tfunc': {'name': 'multiply', 'objtype': 'class', 'module': 'numpy'}, 'func_args': {}}\n",
       "init_s0_hrusr : transform(('s0max', 0.5)):{'tfunc': {'name': 'multiply', 'objtype': 'class', 'module': 'numpy'}, 'func_args': {}}\n",
       "init_sd_hrudr : transform(('sdmax', 0.5)):{'tfunc': {'name': 'multiply', 'objtype': 'class', 'module': 'numpy'}, 'func_args': {}}\n",
       "init_sd_hrusr : transform(('sdmax', 0.5)):{'tfunc': {'name': 'multiply', 'objtype': 'class', 'module': 'numpy'}, 'func_args': {}}\n",
       "init_sg : constant([]):{'value': 100.0}\n",
       "init_sr : constant([]):{'value': 0.0}\n",
       "init_ss_hrudr : transform(('ssmax', 0.5)):{'tfunc': {'name': 'multiply', 'objtype': 'class', 'module': 'numpy'}, 'func_args': {}}\n",
       "init_ss_hrusr : transform(('ssmax', 0.5)):{'tfunc': {'name': 'multiply', 'objtype': 'class', 'module': 'numpy'}, 'func_args': {}}\n",
       "k0sat : transform(('k0sat_scale', 'k0sat_v5_grid')):{'tfunc': {'name': 'multiply', 'objtype': 'class', 'module': 'numpy'}, 'func_args': {}}\n",
       "k0sat_scale : parameter([]):{'max': 10, 'fixed': False, 'value': 2.87280828479753, 'min': 0.1}\n",
       "k0sat_v5_grid : spatial_from_file([]):{'preload': False, 'filename': '/data/cwd_awra_data/AWRACMS/MINICONDA3/envs/awra-cms/lib/python3.4/site-packages/awrams/models/awral/data/spatial_parameters.h5', 'variable': 'parameters/k0sat_v5'}\n",
       "k_gw : transform(('k_gw_scale', 'k_gw_grid')):{'tfunc': {'name': 'multiply', 'objtype': 'class', 'module': 'numpy'}, 'func_args': {}}\n",
       "k_gw_grid : spatial_from_file([]):{'preload': False, 'filename': '/data/cwd_awra_data/AWRACMS/MINICONDA3/envs/awra-cms/lib/python3.4/site-packages/awrams/models/awral/data/spatial_parameters.h5', 'variable': 'parameters/k_gw'}\n",
       "k_gw_scale : parameter([]):{'max': 10, 'fixed': False, 'value': 0.502237767850745, 'min': 0.1}\n",
       "k_rout : transform(('k_rout_scale', 'k_rout_int', 'meanpet_grid')):{'tfunc': {'name': 'k_rout', 'objtype': 'class', 'module': 'awrams.models.awral.transforms'}, 'func_args': {}}\n",
       "k_rout_int : parameter([]):{'max': 3, 'fixed': False, 'value': 0.157715263798048, 'min': 0.05}\n",
       "k_rout_scale : parameter([]):{'max': 3, 'fixed': False, 'value': 0.0507853186467834, 'min': 0.05}\n",
       "kdsat : transform(('kdsat_scale', 'kdsat_v5_grid')):{'tfunc': {'name': 'multiply', 'objtype': 'class', 'module': 'numpy'}, 'func_args': {}}\n",
       "kdsat_scale : parameter([]):{'max': 1, 'fixed': False, 'value': 0.0100361082712838, 'min': 0.01}\n",
       "kdsat_v5_grid : spatial_from_file([]):{'preload': False, 'filename': '/data/cwd_awra_data/AWRACMS/MINICONDA3/envs/awra-cms/lib/python3.4/site-packages/awrams/models/awral/data/spatial_parameters.h5', 'variable': 'parameters/kdsat_v5'}\n",
       "kr_0s : transform(('k0sat', 'kssat')):{'tfunc': {'name': 'interlayer_k', 'objtype': 'class', 'module': 'awrams.models.awral.transforms'}, 'func_args': {}}\n",
       "kr_coeff : parameter([]):{'max': 1, 'fixed': False, 'value': 0.074055027961705, 'min': 0.01}\n",
       "kr_sd : transform(('kssat', 'kdsat')):{'tfunc': {'name': 'interlayer_k', 'objtype': 'class', 'module': 'awrams.models.awral.transforms'}, 'func_args': {}}\n",
       "kssat : transform(('kssat_scale', 'kssat_v5_grid')):{'tfunc': {'name': 'multiply', 'objtype': 'class', 'module': 'numpy'}, 'func_args': {}}\n",
       "kssat_scale : parameter([]):{'max': 10, 'fixed': False, 'value': 0.0202384169380067, 'min': 0.01}\n",
       "kssat_v5_grid : spatial_from_file([]):{'preload': False, 'filename': '/data/cwd_awra_data/AWRACMS/MINICONDA3/envs/awra-cms/lib/python3.4/site-packages/awrams/models/awral/data/spatial_parameters.h5', 'variable': 'parameters/kssat_v5'}\n",
       "lai_max_grid : spatial_from_file([]):{'preload': False, 'filename': '/data/cwd_awra_data/AWRACMS/MINICONDA3/envs/awra-cms/lib/python3.4/site-packages/awrams/models/awral/data/spatial_parameters.h5', 'variable': 'parameters/lai_max'}\n",
       "laimax_hrudr : assign(['lai_max_grid']):{}\n",
       "laimax_hrusr : assign(['lai_max_grid']):{}\n",
       "lairef_hrudr : parameter([]):{'max': 2.5, 'fixed': True, 'value': 2.5, 'min': 1.3}\n",
       "lairef_hrusr : parameter([]):{'max': 2.5, 'fixed': True, 'value': 1.4, 'min': 1.3}\n",
       "meanpet_grid : spatial_from_file([]):{'preload': False, 'filename': '/data/cwd_awra_data/AWRACMS/MINICONDA3/envs/awra-cms/lib/python3.4/site-packages/awrams/models/awral/data/spatial_parameters.h5', 'variable': 'parameters/meanPET'}\n",
       "ne : transform(('ne_scale', 'ne_grid')):{'tfunc': {'name': 'multiply', 'objtype': 'class', 'module': 'numpy'}, 'func_args': {}}\n",
       "ne_grid : spatial_from_file([]):{'preload': False, 'filename': '/data/cwd_awra_data/AWRACMS/MINICONDA3/envs/awra-cms/lib/python3.4/site-packages/awrams/models/awral/data/spatial_parameters.h5', 'variable': 'parameters/ne'}\n",
       "ne_scale : parameter([]):{'max': 1, 'fixed': False, 'value': 0.0551891007464962, 'min': 0.01}\n",
       "pair : constant([]):{'value': 97500.0}\n",
       "precip_f : forcing_from_ncfiles([]):{'path': '/data/cwd_awra_data/AWRACMS/Training/test_data/climate/BOM_climate/', 'cache': False, 'nc_var': 'rain_day', 'pattern': 'rain_day/rain*'}\n",
       "pref_grid : spatial_from_file([]):{'preload': False, 'filename': '/data/cwd_awra_data/AWRACMS/MINICONDA3/envs/awra-cms/lib/python3.4/site-packages/awrams/models/awral/data/spatial_parameters.h5', 'variable': 'parameters/pref'}\n",
       "pref_gridscale : parameter([]):{'max': 3, 'fixed': False, 'value': 1.81529436817838, 'min': 0.1}\n",
       "prefr : transform(('pref_gridscale', 'pref_grid')):{'tfunc': {'name': 'multiply', 'objtype': 'class', 'module': 'numpy'}, 'func_args': {}}\n",
       "pt : assign(['precip_f']):{}\n",
       "radcskyt : radcskyt([]):{}\n",
       "rd_hrudr : parameter([]):{'max': 20, 'fixed': True, 'value': 6.0, 'min': 3}\n",
       "rd_hrusr : parameter([]):{'max': 2, 'fixed': True, 'value': 1.0, 'min': 0.5}\n",
       "rgt : transform(['solar_f', 0.1]):{'tfunc': {'name': 'maximum', 'objtype': 'class', 'module': 'numpy'}, 'func_args': {}}\n",
       "s0fracawc_grid : spatial_from_file([]):{'preload': False, 'filename': '/data/cwd_awra_data/AWRACMS/MINICONDA3/envs/awra-cms/lib/python3.4/site-packages/awrams/models/awral/data/spatial_parameters.h5', 'variable': 'parameters/s0fracAWC'}\n",
       "s0max : transform(('s0max_scale', 's0fracawc_grid', 100.0)):{'tfunc': {'name': '_mul3', 'objtype': 'class', 'module': 'awrams.utils.nodegraph.nodes'}, 'func_args': {}}\n",
       "s0max_scale : parameter([]):{'max': 3, 'fixed': False, 'value': 2.99584999113427, 'min': 0.5}\n",
       "s_sls_hrudr : parameter([]):{'max': 0.8, 'fixed': False, 'value': 0.0945974208063683, 'min': 0.03}\n",
       "s_sls_hrusr : parameter([]):{'max': 0.8, 'fixed': False, 'value': 0.042742565428351, 'min': 0.03}\n",
       "sdmax : transform(('ssmax_scale', 'sdmax_scale', 'ssfracawc_grid', 5000.0)):{'tfunc': {'name': '_mul4', 'objtype': 'class', 'module': 'awrams.utils.nodegraph.nodes'}, 'func_args': {}}\n",
       "sdmax_scale : parameter([]):{'max': 1, 'fixed': False, 'value': 0.795122015004998, 'min': 0.5}\n",
       "sla_hrudr : parameter([]):{'max': 70, 'fixed': True, 'value': 3.0, 'min': 0.7}\n",
       "sla_hrusr : parameter([]):{'max': 70, 'fixed': True, 'value': 10.0, 'min': 0.7}\n",
       "slope : assign(['slope_grid']):{}\n",
       "slope_coeff : parameter([]):{'max': 1, 'fixed': False, 'value': 0.951765660211542, 'min': 0.01}\n",
       "slope_grid : spatial_from_file([]):{'preload': False, 'filename': '/data/cwd_awra_data/AWRACMS/MINICONDA3/envs/awra-cms/lib/python3.4/site-packages/awrams/models/awral/data/spatial_parameters.h5', 'variable': 'parameters/slope'}\n",
       "solar_f : forcing_from_ncfiles([]):{'path': '/data/cwd_awra_data/AWRACMS/Training/test_data/climate/BOM_climate/', 'cache': False, 'nc_var': 'solar_exposure_day', 'pattern': 'solar_exposure_day/solar*'}\n",
       "ssfracawc_grid : spatial_from_file([]):{'preload': False, 'filename': '/data/cwd_awra_data/AWRACMS/MINICONDA3/envs/awra-cms/lib/python3.4/site-packages/awrams/models/awral/data/spatial_parameters.h5', 'variable': 'parameters/ssfracAWC'}\n",
       "ssmax : transform(('ssmax_scale', 'ssfracawc_grid', 900.0)):{'tfunc': {'name': '_mul3', 'objtype': 'class', 'module': 'awrams.utils.nodegraph.nodes'}, 'func_args': {}}\n",
       "ssmax_scale : parameter([]):{'max': 3, 'fixed': False, 'value': 2.43326110876421, 'min': 0.5}\n",
       "tat : transform(['tmin', 'tmax']):{'tfunc': {'name': '_mix', 'objtype': 'class', 'module': 'awrams.utils.nodegraph.nodes'}, 'func_args': {'ratio': 0.75}}\n",
       "tgrow_hrudr : parameter([]):{'max': 1000, 'fixed': True, 'value': 1000.0, 'min': 20}\n",
       "tgrow_hrusr : parameter([]):{'max': 1000, 'fixed': True, 'value': 150.0, 'min': 20}\n",
       "tmax : transform(['tmin_f', 'tmax_f']):{'tfunc': {'name': 'maximum', 'objtype': 'class', 'module': 'numpy'}, 'func_args': {}}\n",
       "tmax_f : forcing_from_ncfiles([]):{'path': '/data/cwd_awra_data/AWRACMS/Training/test_data/climate/BOM_climate/', 'cache': False, 'nc_var': 'temp_max_day', 'pattern': 'temp_max_day/temp_max*'}\n",
       "tmin : transform(['tmin_f', 'tmax_f']):{'tfunc': {'name': 'minimum', 'objtype': 'class', 'module': 'numpy'}, 'func_args': {}}\n",
       "tmin_f : forcing_from_ncfiles([]):{'path': '/data/cwd_awra_data/AWRACMS/Training/test_data/climate/BOM_climate/', 'cache': False, 'nc_var': 'temp_min_day', 'pattern': 'temp_min_day/temp_min*'}\n",
       "tsenc_hrudr : parameter([]):{'max': 200, 'fixed': True, 'value': 60.0, 'min': 10}\n",
       "tsenc_hrusr : parameter([]):{'max': 200, 'fixed': True, 'value': 10.0, 'min': 10}\n",
       "u2t : windspeed(['windspeed_grid', 'fday']):{}\n",
       "ud0_hrudr : parameter([]):{'max': 10, 'fixed': False, 'value': 7.136379707595849, 'min': 0.001}\n",
       "ud0_hrusr : parameter([]):{'max': 10, 'fixed': True, 'value': 0.0, 'min': 0}\n",
       "us0_hrudr : parameter([]):{'max': 7, 'fixed': True, 'value': 6.0, 'min': 1}\n",
       "us0_hrusr : parameter([]):{'max': 7, 'fixed': True, 'value': 6.0, 'min': 1}\n",
       "vc_hrudr : parameter([]):{'max': 1, 'fixed': True, 'value': 0.35, 'min': 0.05}\n",
       "vc_hrusr : parameter([]):{'max': 1, 'fixed': True, 'value': 0.65, 'min': 0.05}\n",
       "w0lime_hrudr : parameter([]):{'max': 0.9, 'fixed': True, 'value': 0.85, 'min': 0.6}\n",
       "w0lime_hrusr : parameter([]):{'max': 0.9, 'fixed': True, 'value': 0.85, 'min': 0.6}\n",
       "w0ref_alb_hrudr : parameter([]):{'max': 0.5, 'fixed': True, 'value': 0.3, 'min': 0.2}\n",
       "w0ref_alb_hrusr : parameter([]):{'max': 0.5, 'fixed': True, 'value': 0.3, 'min': 0.2}\n",
       "wdlimu_hrudr : parameter([]):{'max': 0.5, 'fixed': True, 'value': 0.3, 'min': 0.15}\n",
       "wdlimu_hrusr : parameter([]):{'max': 0.5, 'fixed': True, 'value': 0.3, 'min': 0.15}\n",
       "windspeed_grid : spatial_from_file([]):{'preload': False, 'filename': '/data/cwd_awra_data/AWRACMS/MINICONDA3/envs/awra-cms/lib/python3.4/site-packages/awrams/models/awral/data/spatial_parameters.h5', 'variable': 'parameters/windspeed'}\n",
       "wslimu_hrudr : parameter([]):{'max': 0.5, 'fixed': True, 'value': 0.3, 'min': 0.15}\n",
       "wslimu_hrusr : parameter([]):{'max': 0.5, 'fixed': True, 'value': 0.3, 'min': 0.15}"
      ]
     },
     "execution_count": 8,
     "metadata": {},
     "output_type": "execute_result"
    }
   ],
   "source": [
    "default_config"
   ]
  },
  {
   "cell_type": "code",
   "execution_count": 9,
   "metadata": {
    "collapsed": false
   },
   "outputs": [
    {
     "data": {
      "text/plain": [
       "{'k_rout': transform(('k_rout_scale', 'k_rout_int', 'meanpet_grid')):{'tfunc': {'name': 'k_rout', 'objtype': 'class', 'module': 'awrams.models.awral.transforms'}, 'func_args': {}},\n",
       " 'k_rout_int': parameter([]):{'max': 3, 'fixed': False, 'value': 0.157715263798048, 'min': 0.05},\n",
       " 'k_rout_scale': parameter([]):{'max': 3, 'fixed': False, 'value': 0.0507853186467834, 'min': 0.05},\n",
       " 'meanpet_grid': spatial_from_file([]):{'preload': False, 'filename': '/data/cwd_awra_data/AWRACMS/MINICONDA3/envs/awra-cms/lib/python3.4/site-packages/awrams/models/awral/data/spatial_parameters.h5', 'variable': 'parameters/meanPET'}}"
      ]
     },
     "execution_count": 9,
     "metadata": {},
     "output_type": "execute_result"
    }
   ],
   "source": [
    "# Convenience function to allow you to inspect what goes into creating a parameter\n",
    "from awrams.utils.nodegraph import nodes, graph\n",
    "graph.get_input_tree(['k_rout'], default_config)"
   ]
  },
  {
   "cell_type": "markdown",
   "metadata": {},
   "source": [
    "### The input climate data and default path is specified within [models/settings.py]\n",
    "[models/settings.py]: ../../../edit/models/awrams/models/settings.py"
   ]
  },
  {
   "cell_type": "code",
   "execution_count": 10,
   "metadata": {
    "collapsed": false
   },
   "outputs": [
    {
     "data": {
      "text/plain": [
       "{'precip': ('rain_day/rain*', 'rain_day'),\n",
       " 'solar': ('solar_exposure_day/solar*', 'solar_exposure_day'),\n",
       " 'tmax': ('temp_max_day/temp_max*', 'temp_max_day'),\n",
       " 'tmin': ('temp_min_day/temp_min*', 'temp_min_day')}"
      ]
     },
     "execution_count": 10,
     "metadata": {},
     "output_type": "execute_result"
    }
   ],
   "source": [
    "# climate forcing as specified in settings.py\n",
    "awral.model.FORCING"
   ]
  },
  {
   "cell_type": "code",
   "execution_count": 11,
   "metadata": {
    "collapsed": false
   },
   "outputs": [
    {
     "data": {
      "text/plain": [
       "'/data/cwd_awra_data/AWRACMS/Training/test_data/'"
      ]
     },
     "execution_count": 11,
     "metadata": {},
     "output_type": "execute_result"
    }
   ],
   "source": [
    "# view default data path TRAINING_DATA_PATH\n",
    "from awrams.models.settings import TRAINING_DATA_PATH\n",
    "TRAINING_DATA_PATH"
   ]
  },
  {
   "cell_type": "code",
   "execution_count": 12,
   "metadata": {
    "collapsed": false
   },
   "outputs": [
    {
     "data": {
      "text/plain": [
       "'/data/cwd_awra_data/AWRACMS/Training/test_data/climate/BOM_climate/'"
      ]
     },
     "execution_count": 12,
     "metadata": {},
     "output_type": "execute_result"
    }
   ],
   "source": [
    "# climate data path as specified in \n",
    "awral.model.CLIMATE_DATA"
   ]
  },
  {
   "cell_type": "code",
   "execution_count": 13,
   "metadata": {
    "collapsed": false
   },
   "outputs": [
    {
     "data": {
      "text/plain": [
       "{'precip_f': forcing_from_ncfiles([]):{'path': '/data/cwd_awra_data/AWRACMS/Training/test_data/climate/BOM_climate/', 'cache': False, 'nc_var': 'rain_day', 'pattern': 'rain_day/rain*'}}"
      ]
     },
     "execution_count": 13,
     "metadata": {},
     "output_type": "execute_result"
    }
   ],
   "source": [
    "# the following path defines where the precipitation forcing data is located\n",
    "graph.get_input_tree(['precip_f'], default_config)"
   ]
  },
  {
   "cell_type": "markdown",
   "metadata": {},
   "source": [
    "#### Input climate data is read by default according to the following pattern \n",
    "\n",
    "nc_var=path  path +  pattern\n",
    "\n",
    "rain_day=   ./rain_day/rain*\n",
    "\n",
    "#### Need to alter this to point at your input data: We demontrate this below.."
   ]
  },
  {
   "cell_type": "markdown",
   "metadata": {},
   "source": [
    "#### Datasets in AWRA CMS\n",
    "\n",
    "AWRA CMS data folders contain:   \n",
    "\n",
    "  - Climate inputs \n",
    "  - Starting model states\n",
    "  - Benchmarking/validation observational datasets\n",
    "\n",
    "#### Climate data supplied with the AWRA-CMS\n",
    "\n",
    "***test_data***: The AWRA CMS package contains limited coverage sample input climate and observational test data in [../../test_data]:\n",
    "[../../test_data]: ../../test_data\n",
    "\n",
    " - [Simulation] data: covering Dec 2009-Jan 2010 Nationally\n",
    " - [Calibration] data: covering 1990-2010 for 3 select catchments\n",
    "\n",
    "[Simulation]: ../../test_data/simulation\n",
    "[Calibration]: ../../test_data/calibration\n",
    "\n",
    "\n",
    "***Training/test_data***: A more extensive coverage national dataset is supplied for training purposes within [../Training/test_data]: \n",
    "[../Training/test_data]: ../test_data\n",
    "\n",
    "  - [../Training/test_data/climate/BOM_climate] climate data: covering Jan 2009-Dec 2010 nationally\n",
    "[../Training/test_data/climate/BOM_climate]: ../test_data/climate/BOM_climate\n",
    " \n"
   ]
  },
  {
   "cell_type": "markdown",
   "metadata": {},
   "source": [
    "##### An aside: The AWRAMS Configuration system (awrams.utils.settings)\n",
    "\n",
    "The settings module is the main interface for configuration default data paths, memory usage settings etc (i.e. configuration options).\n",
    "\n",
    "Default settings are imported in AWRAMS using the python command\n",
    "\n",
    "       from awrams.utils import settings\n",
    "\n",
    "AWRAMS provides a flexible mechanism for users to override default settings by using Python files in the following folder\n",
    "\n",
    "        /home/$USERNAME/.awrams/\n",
    "       \n",
    "The primary user settings file is\n",
    "\n",
    "        /home/$USERNAME/.awrams/settings.py\n",
    "        \n",
    "Users will need to create this file (and folder .awrams) manually, but can use it to override any of the default settings (or add a custom setting variable). The default settings are defined within the [settings.py] file contained in the cms model package folder.\n",
    "\n",
    "In the context of the training material, all data is located via\n",
    "        \n",
    "        awrams.utils.settings.TRAINING_DATA_PATH\n",
    "        \n",
    "To install the training data to a custom path, the ***user*** settings.py file should contain the line  \n",
    "\n",
    "        TRAINING_DATA_PATH = ‘/path/to/custom/training/data’ # Edit this to point to valid path\n",
    "\n",
    "[settings.py]: ../../../edit/models/awrams/models/awral/settings.py\n"
   ]
  },
  {
   "cell_type": "markdown",
   "metadata": {},
   "source": [
    "### Input daily climate (forcing) data: \n",
    "Daily climate data required for running the AWRA-L model includes:\n",
    "\n",
    " - ***rainfall***\n",
    " - ***temperature*** (an average of maximum and minimum values)\n",
    " - ***solar radiation***\n",
    "\n",
    "The Bureau of Meteorology uses 0.05 degree gridded daily data based on 9am-9am observations and satellite data across Australia; see http://www.bom.gov.au/jsp/awap/. This data covers 1911 until yesterday, with the exception of solar radiation based on satellite data; where climatologies are used prior to 1990. You can use your own data provided you can format it into netcdf input file format.\n",
    "\n",
    "***Simulation***: \n",
    "\n",
    "[../Training/test_data/simulation]: ../test_data/simulation\n",
    "\n",
    " - rainfall: rain_day_2000/2001.nc and climatology_daily_rain_day.nc\n",
    " - temperature: temp_max/min_2000/2001.nc and climatology_daily_temp_min/max_day.nc\n",
    " - solar radiation: solar_exposure_2000/2001.nc and climatology_daily_temp_min/max_day.nc\n",
    " \n",
    "If you wish to download a longer period dataset please contact us as ***awracms@bom.gov.au*** for assistance.\n",
    "\n",
    "***Calibration***: Limited coverage (select catchments for 1990-2010) example climate data is supplied with the AWRACMS package,  see: /Training/test_data/calibration:\n",
    "  - rain, temp_max/min, solar exposure: [variable_name]_1990/2010.nc\n",
    "  \n",
    "### Input starting states\n",
    "The AWRA-L model have the following model states that change from one time-step to the next:\n",
    "\n",
    "  - **mleaf** : vegetation mass (mm) [for deep rooted (dr) and shallow rooted (sr) HRUs]\n",
    "  - **s0**    : top layer 0-10cm soil moisture (mm)  [for deep rooted (dr) and shallow rooted (sr) HRUs]\n",
    "  - **ss**    : upper layer 10cm-100cm soil moisture (mm) [for deep rooted (dr) and shallow rooted (sr) HRUs]\n",
    "  - **sd**    : deep layer 100cm-600cm soil moisture (mm) [for deep rooted (dr) and shallow rooted (sr) HRUs]\n",
    "  - **sg**    : saturated groundwater storage (mm)\n",
    "  - **sr**    : surface water storage (mm)\n",
    "  \n",
    "These states are saved as part of model simulation, for potential use in initialising model runs. These inital states are required to be specified when startig a simulatio of calibration, else default parameters will be used"
   ]
  },
  {
   "cell_type": "code",
   "execution_count": 14,
   "metadata": {
    "collapsed": false
   },
   "outputs": [
    {
     "name": "stdout",
     "output_type": "stream",
     "text": [
      "bom-rad_day-20101201-20101231.nc\t rain_day_2011.nc\r\n",
      "bom-rad_day-20110101-20110131.nc\t s0_dr.nc\r\n",
      "bom-rain_day-20101201-20101231.nc\t s0_sr.nc\r\n",
      "bom-rain_day-20110101-20110131.nc\t sd_dr.nc\r\n",
      "bom-tmax_day-20101201-20101231.nc\t sd_sr.nc\r\n",
      "bom-tmax_day-20110101-20110131.nc\t sg_bal.nc\r\n",
      "bom-tmin_day-20101201-20101231.nc\t solar_exposure_day_2010.nc\r\n",
      "bom-tmin_day-20110101-20110131.nc\t solar_exposure_day_2011.nc\r\n",
      "climatology_daily_rain_day.nc\t\t sr_bal.nc\r\n",
      "climatology_daily_solar_exposure_day.nc  ss_dr.nc\r\n",
      "climatology_daily_temp_max_day.nc\t ss_sr.nc\r\n",
      "climatology_daily_temp_min_day.nc\t temp_max_day_2010.nc\r\n",
      "mleaf_dr.nc\t\t\t\t temp_max_day_2011.nc\r\n",
      "mleaf_sr.nc\t\t\t\t temp_min_day_2010.nc\r\n",
      "outputs\t\t\t\t\t temp_min_day_2011.nc\r\n",
      "rain_day_2010.nc\r\n"
     ]
    }
   ],
   "source": [
    "# list files in the awracms test_data simulation directory\n",
    "!ls ../../test_data/simulation"
   ]
  },
  {
   "cell_type": "code",
   "execution_count": 15,
   "metadata": {
    "collapsed": false
   },
   "outputs": [
    {
     "name": "stdout",
     "output_type": "stream",
     "text": [
      "rain_day  solar_exposure_day  temp_max_day  temp_min_day\r\n"
     ]
    }
   ],
   "source": [
    "# list four variables folders: rain_day   (rainfall), solar_exposure_day   (solar radiation), temp_max_day   (maximum temperature), temp_min_day (temperature minimum)\n",
    "!ls ../../Training/test_data/climate/BOM_climate"
   ]
  },
  {
   "cell_type": "markdown",
   "metadata": {},
   "source": [
    "### Alter location of input climate data to ../../test_data/simulation"
   ]
  },
  {
   "cell_type": "code",
   "execution_count": 16,
   "metadata": {
    "collapsed": false
   },
   "outputs": [],
   "source": [
    "# Create a function change_path_to_forcing() to change from the default paths to  \n",
    "def change_path_to_forcing(imap):\n",
    "    from awrams.utils.nodegraph import nodes\n",
    "    from os.path import join\n",
    "    from os import getcwd\n",
    "\n",
    "    data_path = '../../test_data/simulation/'\n",
    "    FORCING = {\n",
    "        'tmin': ('temp_min*.nc','temp_min_day',data_path),\n",
    "        'tmax': ('temp_max*.nc','temp_max_day',data_path),\n",
    "        'precip': ('rain_day*.nc','rain_day',data_path),\n",
    "        'solar': ('solar*.nc','solar_exposure_day',data_path) #,\n",
    "    }\n",
    "    \n",
    "    # location of registered user data in the Training folder\n",
    "    #data_path = '../test_data/climate/BOM_climate/'\n",
    "    #FORCING = {\n",
    "    #    'tmin': ('temp_min*.nc','temp_min_day',data_path + 'temp_min_day/'),\n",
    "    #    'tmax': ('temp_max*.nc','temp_max_day',data_path + 'temp_max_day/'),\n",
    "    #    'precip': ('rain_day*.nc','rain_day',data_path + 'rain_day/'),\n",
    "    #    'solar': ('solar*.nc','solar_exposure_day',data_path + 'solar_exposure_day/') #,\n",
    "    #}     \n",
    "    \n",
    "    for k,v in FORCING.items():\n",
    "        imap[k+'_f'] = nodes.forcing_from_ncfiles(v[2],v[0],v[1])\n",
    "\n",
    "# alter the input map by calling function above\n",
    "change_path_to_forcing(default_config)"
   ]
  },
  {
   "cell_type": "code",
   "execution_count": 17,
   "metadata": {
    "collapsed": false
   },
   "outputs": [
    {
     "name": "stdout",
     "output_type": "stream",
     "text": [
      "tmin_f forcing_from_ncfiles([]):{'path': '../../test_data/simulation/', 'cache': False, 'nc_var': 'temp_min_day', 'pattern': 'temp_min*.nc'}\n"
     ]
    }
   ],
   "source": [
    "# Path to Tmin data after change to default_config...\n",
    "print('tmin_f',default_config['tmin_f'])"
   ]
  },
  {
   "cell_type": "markdown",
   "metadata": {},
   "source": [
    "### B.2 Output configuration\n"
   ]
  },
  {
   "cell_type": "code",
   "execution_count": 18,
   "metadata": {
    "collapsed": false
   },
   "outputs": [
    {
     "data": {
      "text/plain": [
       "{'dd': output_variable([]):{'var_name': 'dd'},\n",
       " 'e0': output_variable([]):{'var_name': 'e0'},\n",
       " 'etot': output_variable([]):{'var_name': 'etot'},\n",
       " 'mleaf_hrudr': output_variable([]):{'var_name': 'mleaf_hrudr'},\n",
       " 'mleaf_hrusr': output_variable([]):{'var_name': 'mleaf_hrusr'},\n",
       " 'qtot': output_variable([]):{'var_name': 'qtot'},\n",
       " 's0': output_variable([]):{'var_name': 's0'},\n",
       " 's0_hrudr': output_variable([]):{'var_name': 's0_hrudr'},\n",
       " 's0_hrusr': output_variable([]):{'var_name': 's0_hrusr'},\n",
       " 'sd': output_variable([]):{'var_name': 'sd'},\n",
       " 'sd_hrudr': output_variable([]):{'var_name': 'sd_hrudr'},\n",
       " 'sd_hrusr': output_variable([]):{'var_name': 'sd_hrusr'},\n",
       " 'sg': output_variable([]):{'var_name': 'sg'},\n",
       " 'sr': output_variable([]):{'var_name': 'sr'},\n",
       " 'ss': output_variable([]):{'var_name': 'ss'},\n",
       " 'ss_hrudr': output_variable([]):{'var_name': 'ss_hrudr'},\n",
       " 'ss_hrusr': output_variable([]):{'var_name': 'ss_hrusr'}}"
      ]
     },
     "execution_count": 18,
     "metadata": {},
     "output_type": "execute_result"
    }
   ],
   "source": [
    "# default outputs\n",
    "awralmod.get_output_mapping()"
   ]
  },
  {
   "cell_type": "code",
   "execution_count": 19,
   "metadata": {
    "collapsed": false
   },
   "outputs": [
    {
     "data": {
      "text/plain": [
       "dict_keys(['OUTPUTS_CELL', 'OUTPUTS_AVG', 'OUTPUTS_HRU'])"
      ]
     },
     "execution_count": 19,
     "metadata": {},
     "output_type": "execute_result"
    }
   ],
   "source": [
    "# list types of outputs\n",
    "\n",
    "# OUTPUTS_HRU= outputs on a HRU basis\n",
    "# OUTPUTS_AVG= outputs on a cell basis averaged from HRU values \n",
    "awralmod.OUTPUTS.keys()"
   ]
  },
  {
   "cell_type": "code",
   "execution_count": 20,
   "metadata": {
    "collapsed": false
   },
   "outputs": [
    {
     "data": {
      "text/plain": [
       "['qtot', 'sr', 'sg']"
      ]
     },
     "execution_count": 20,
     "metadata": {},
     "output_type": "execute_result"
    }
   ],
   "source": [
    "# OUTPUTS_CELL= outputs on a cell/grid/catchment basis\n",
    "awralmod.OUTPUTS['OUTPUTS_CELL'] # ['qtot', 'sr', 'sg'] = runoff, surface water storage, groundwater storage"
   ]
  },
  {
   "cell_type": "code",
   "execution_count": 21,
   "metadata": {
    "collapsed": false
   },
   "outputs": [
    {
     "data": {
      "text/plain": [
       "['s0', 'ss', 'sd', 'mleaf']"
      ]
     },
     "execution_count": 21,
     "metadata": {},
     "output_type": "execute_result"
    }
   ],
   "source": [
    "awralmod.OUTPUTS['OUTPUTS_HRU'] # ['s0', 'ss', 'sd', 'mleaf'] = top, shallow and seep soil moisture & leaf mass "
   ]
  },
  {
   "cell_type": "code",
   "execution_count": 22,
   "metadata": {
    "collapsed": false
   },
   "outputs": [
    {
     "data": {
      "text/plain": [
       "['e0', 'etot', 'dd', 's0', 'ss', 'sd']"
      ]
     },
     "execution_count": 22,
     "metadata": {},
     "output_type": "execute_result"
    }
   ],
   "source": [
    "awralmod.OUTPUTS['OUTPUTS_AVG'] # ['e0', 'etot', 'dd', 's0', 'ss', 'sd']= potential and actual ET, deep drainage,top, shallow and seep soil moisture"
   ]
  },
  {
   "cell_type": "code",
   "execution_count": 23,
   "metadata": {
    "collapsed": true
   },
   "outputs": [],
   "source": [
    "# add some extra outputs via the output_mapping\n",
    "awralmod.OUTPUTS['OUTPUTS_CELL'].append('eg')\n",
    "awralmod.OUTPUTS['OUTPUTS_CELL'].append('y')\n",
    "awralmod.OUTPUTS['OUTPUTS_CELL'].append('qg')\n",
    "awralmod.OUTPUTS['OUTPUTS_CELL'].append('qr')\n",
    "awralmod.OUTPUTS['OUTPUTS_CELL'].append('qif')\n",
    "awralmod.OUTPUTS['OUTPUTS_HRU'].append('ei')\n",
    "awralmod.OUTPUTS['OUTPUTS_HRU'].append('et')\n",
    "awralmod.OUTPUTS['OUTPUTS_HRU'].append('es')\n",
    "awralmod.OUTPUTS['OUTPUTS_HRU'].append('fsat')\n",
    "awralmod.OUTPUTS['OUTPUTS_HRU'].append('fegt')\n",
    "awralmod.OUTPUTS['OUTPUTS_HRU'].append('us')\n",
    "awralmod.OUTPUTS['OUTPUTS_HRU'].append('ud')"
   ]
  },
  {
   "cell_type": "code",
   "execution_count": 24,
   "metadata": {
    "collapsed": false
   },
   "outputs": [
    {
     "data": {
      "text/plain": [
       "{'dd': output_variable([]):{'var_name': 'dd'},\n",
       " 'e0': output_variable([]):{'var_name': 'e0'},\n",
       " 'eg': output_variable([]):{'var_name': 'eg'},\n",
       " 'ei_hrudr': output_variable([]):{'var_name': 'ei_hrudr'},\n",
       " 'ei_hrusr': output_variable([]):{'var_name': 'ei_hrusr'},\n",
       " 'es_hrudr': output_variable([]):{'var_name': 'es_hrudr'},\n",
       " 'es_hrusr': output_variable([]):{'var_name': 'es_hrusr'},\n",
       " 'et_hrudr': output_variable([]):{'var_name': 'et_hrudr'},\n",
       " 'et_hrusr': output_variable([]):{'var_name': 'et_hrusr'},\n",
       " 'etot': output_variable([]):{'var_name': 'etot'},\n",
       " 'fegt_hrudr': output_variable([]):{'var_name': 'fegt_hrudr'},\n",
       " 'fegt_hrusr': output_variable([]):{'var_name': 'fegt_hrusr'},\n",
       " 'fsat_hrudr': output_variable([]):{'var_name': 'fsat_hrudr'},\n",
       " 'fsat_hrusr': output_variable([]):{'var_name': 'fsat_hrusr'},\n",
       " 'mleaf_hrudr': output_variable([]):{'var_name': 'mleaf_hrudr'},\n",
       " 'mleaf_hrusr': output_variable([]):{'var_name': 'mleaf_hrusr'},\n",
       " 'qg': output_variable([]):{'var_name': 'qg'},\n",
       " 'qif': output_variable([]):{'var_name': 'qif'},\n",
       " 'qr': output_variable([]):{'var_name': 'qr'},\n",
       " 'qtot': output_variable([]):{'var_name': 'qtot'},\n",
       " 's0': output_variable([]):{'var_name': 's0'},\n",
       " 's0_hrudr': output_variable([]):{'var_name': 's0_hrudr'},\n",
       " 's0_hrusr': output_variable([]):{'var_name': 's0_hrusr'},\n",
       " 'sd': output_variable([]):{'var_name': 'sd'},\n",
       " 'sd_hrudr': output_variable([]):{'var_name': 'sd_hrudr'},\n",
       " 'sd_hrusr': output_variable([]):{'var_name': 'sd_hrusr'},\n",
       " 'sg': output_variable([]):{'var_name': 'sg'},\n",
       " 'sr': output_variable([]):{'var_name': 'sr'},\n",
       " 'ss': output_variable([]):{'var_name': 'ss'},\n",
       " 'ss_hrudr': output_variable([]):{'var_name': 'ss_hrudr'},\n",
       " 'ss_hrusr': output_variable([]):{'var_name': 'ss_hrusr'},\n",
       " 'ud_hrudr': output_variable([]):{'var_name': 'ud_hrudr'},\n",
       " 'ud_hrusr': output_variable([]):{'var_name': 'ud_hrusr'},\n",
       " 'us_hrudr': output_variable([]):{'var_name': 'us_hrudr'},\n",
       " 'us_hrusr': output_variable([]):{'var_name': 'us_hrusr'},\n",
       " 'y': output_variable([]):{'var_name': 'y'}}"
      ]
     },
     "execution_count": 24,
     "metadata": {},
     "output_type": "execute_result"
    }
   ],
   "source": [
    "awralmod.get_output_mapping()"
   ]
  },
  {
   "cell_type": "markdown",
   "metadata": {},
   "source": [
    "## 3.1.C. ***Extent*** specification\n",
    "### The area over which the simulation/calibration/extraction occurs"
   ]
  },
  {
   "cell_type": "code",
   "execution_count": 25,
   "metadata": {
    "collapsed": false
   },
   "outputs": [],
   "source": [
    "# load extents\n",
    "from awrams.utils import extents"
   ]
  },
  {
   "cell_type": "code",
   "execution_count": 26,
   "metadata": {
    "collapsed": false
   },
   "outputs": [
    {
     "data": {
      "text/plain": [
       "origin: -10.0,112.0, shape: (681, 841), cell_size: 0.05"
      ]
     },
     "execution_count": 26,
     "metadata": {},
     "output_type": "execute_result"
    }
   ],
   "source": [
    "# default extent - all of Australia\n",
    "DefExt = extents.get_default_extent()  ## Australia, set as reference extent\n",
    "DefExt"
   ]
  },
  {
   "cell_type": "code",
   "execution_count": 27,
   "metadata": {
    "collapsed": false
   },
   "outputs": [
    {
     "data": {
      "text/plain": [
       "'/data/cwd_awra_data/AWRACMS/MINICONDA3/envs/awra-cms/lib/python3.4/site-packages/awrams/utils/data/mask.h5'"
      ]
     },
     "execution_count": 27,
     "metadata": {},
     "output_type": "execute_result"
    }
   ],
   "source": [
    "# What is used to define this default extent?\n",
    "import awrams.utils.settings as  settings\n",
    "settings.DEFAULT_AWRAL_MASK"
   ]
  },
  {
   "cell_type": "code",
   "execution_count": 28,
   "metadata": {
    "collapsed": false
   },
   "outputs": [
    {
     "data": {
      "text/plain": [
       "origin: -39.5,143.5, shape: (91, 111), cell_size: 0.05"
      ]
     },
     "execution_count": 28,
     "metadata": {},
     "output_type": "execute_result"
    }
   ],
   "source": [
    "#### Any rectangular extent\n",
    "my_extent = DefExt.icoords[-39.5:-44, 143.5: 149]   # Tasmania\n",
    "my_extent"
   ]
  },
  {
   "cell_type": "code",
   "execution_count": 29,
   "metadata": {
    "collapsed": false
   },
   "outputs": [
    {
     "name": "stdout",
     "output_type": "stream",
     "text": [
      "origin: -34.0,117.0, shape: (1, 1), cell_size: 0.05\n",
      "1\n"
     ]
    }
   ],
   "source": [
    "#### a single point based on [lat, lon] pair\n",
    "my_extent  = DefExt.icoords[-34,117]\n",
    "print(my_extent)\n",
    "print(my_extent.cell_count)"
   ]
  },
  {
   "cell_type": "code",
   "execution_count": 30,
   "metadata": {
    "collapsed": false
   },
   "outputs": [
    {
     "name": "stdout",
     "output_type": "stream",
     "text": [
      "CATCHMENT_SHAPEFILE= /data/cwd_awra_data/AWRACMS/MINICONDA3/envs/awra-cms/lib/python3.4/site-packages/awrams/utils/data/Final_list_all_attributes.shp\n"
     ]
    },
    {
     "data": {
      "text/html": [
       "<div>\n",
       "<table border=\"1\" class=\"dataframe\">\n",
       "  <thead>\n",
       "    <tr style=\"text-align: right;\">\n",
       "      <th></th>\n",
       "      <th>AI</th>\n",
       "      <th>AlbersArea</th>\n",
       "      <th>Cal_Val</th>\n",
       "      <th>CentrLat</th>\n",
       "      <th>CentrLon</th>\n",
       "      <th>DateOpen</th>\n",
       "      <th>DateQfinish</th>\n",
       "      <th>Downstr_1</th>\n",
       "      <th>Downstr_2</th>\n",
       "      <th>Downstr_3</th>\n",
       "      <th>...</th>\n",
       "      <th>MeanP</th>\n",
       "      <th>QComplete</th>\n",
       "      <th>RiverName</th>\n",
       "      <th>SlopeMean</th>\n",
       "      <th>SlopeRange</th>\n",
       "      <th>State</th>\n",
       "      <th>StationID</th>\n",
       "      <th>Whpk1_Mean</th>\n",
       "      <th>Whpk2_Mean</th>\n",
       "      <th>WrscID</th>\n",
       "    </tr>\n",
       "  </thead>\n",
       "  <tbody>\n",
       "    <tr>\n",
       "      <th>0</th>\n",
       "      <td>3.035136</td>\n",
       "      <td>5792.427800</td>\n",
       "      <td>0</td>\n",
       "      <td>-24.659546</td>\n",
       "      <td>146.188956</td>\n",
       "      <td>1/01/1969</td>\n",
       "      <td>10/4/2011</td>\n",
       "      <td>0</td>\n",
       "      <td>0</td>\n",
       "      <td>0</td>\n",
       "      <td>...</td>\n",
       "      <td>556.338623</td>\n",
       "      <td>93.998816</td>\n",
       "      <td>Barcoo</td>\n",
       "      <td>1.01441</td>\n",
       "      <td>11.2756</td>\n",
       "      <td>QLD</td>\n",
       "      <td>003303</td>\n",
       "      <td>32.0211</td>\n",
       "      <td>70.6515</td>\n",
       "      <td>003303A</td>\n",
       "    </tr>\n",
       "    <tr>\n",
       "      <th>1</th>\n",
       "      <td>5.982206</td>\n",
       "      <td>320.401464</td>\n",
       "      <td>-1</td>\n",
       "      <td>-30.021958</td>\n",
       "      <td>139.517736</td>\n",
       "      <td>1/01/1972</td>\n",
       "      <td>1/10/1991</td>\n",
       "      <td>0</td>\n",
       "      <td>0</td>\n",
       "      <td>0</td>\n",
       "      <td>...</td>\n",
       "      <td>241.771332</td>\n",
       "      <td>29.554536</td>\n",
       "      <td>Hamilton Ck</td>\n",
       "      <td>3.66823</td>\n",
       "      <td>18.2268</td>\n",
       "      <td>SA</td>\n",
       "      <td>004502</td>\n",
       "      <td>35.0000</td>\n",
       "      <td>77.0000</td>\n",
       "      <td>AW004502</td>\n",
       "    </tr>\n",
       "    <tr>\n",
       "      <th>2</th>\n",
       "      <td>5.581191</td>\n",
       "      <td>1013.515346</td>\n",
       "      <td>1</td>\n",
       "      <td>-30.692950</td>\n",
       "      <td>139.006100</td>\n",
       "      <td>1/01/1973</td>\n",
       "      <td>13/3/1989</td>\n",
       "      <td>0</td>\n",
       "      <td>0</td>\n",
       "      <td>0</td>\n",
       "      <td>...</td>\n",
       "      <td>265.750458</td>\n",
       "      <td>35.540921</td>\n",
       "      <td>Mt McKinlay Ck</td>\n",
       "      <td>4.07388</td>\n",
       "      <td>22.4773</td>\n",
       "      <td>SA</td>\n",
       "      <td>004508</td>\n",
       "      <td>34.9490</td>\n",
       "      <td>76.5210</td>\n",
       "      <td>AW004508</td>\n",
       "    </tr>\n",
       "    <tr>\n",
       "      <th>3</th>\n",
       "      <td>5.224682</td>\n",
       "      <td>3323.972600</td>\n",
       "      <td>1</td>\n",
       "      <td>-23.974046</td>\n",
       "      <td>133.340785</td>\n",
       "      <td>1/01/1972</td>\n",
       "      <td>7/12/2011</td>\n",
       "      <td>0</td>\n",
       "      <td>0</td>\n",
       "      <td>0</td>\n",
       "      <td>...</td>\n",
       "      <td>314.112885</td>\n",
       "      <td>99.822406</td>\n",
       "      <td>Hugh</td>\n",
       "      <td>2.11346</td>\n",
       "      <td>28.3030</td>\n",
       "      <td>NT</td>\n",
       "      <td>005115</td>\n",
       "      <td>27.2579</td>\n",
       "      <td>81.0000</td>\n",
       "      <td>G0050115</td>\n",
       "    </tr>\n",
       "    <tr>\n",
       "      <th>4</th>\n",
       "      <td>4.809843</td>\n",
       "      <td>434.946800</td>\n",
       "      <td>-1</td>\n",
       "      <td>-23.436722</td>\n",
       "      <td>134.315857</td>\n",
       "      <td>1/01/1967</td>\n",
       "      <td>31/12/2011</td>\n",
       "      <td>0</td>\n",
       "      <td>0</td>\n",
       "      <td>0</td>\n",
       "      <td>...</td>\n",
       "      <td>352.356567</td>\n",
       "      <td>82.618026</td>\n",
       "      <td>Trephina Ck</td>\n",
       "      <td>2.64208</td>\n",
       "      <td>24.1171</td>\n",
       "      <td>NT</td>\n",
       "      <td>006005</td>\n",
       "      <td>22.8571</td>\n",
       "      <td>0.0000</td>\n",
       "      <td>G0060005</td>\n",
       "    </tr>\n",
       "  </tbody>\n",
       "</table>\n",
       "<p>5 rows × 35 columns</p>\n",
       "</div>"
      ],
      "text/plain": [
       "         AI   AlbersArea  Cal_Val   CentrLat    CentrLon   DateOpen  \\\n",
       "0  3.035136  5792.427800        0 -24.659546  146.188956  1/01/1969   \n",
       "1  5.982206   320.401464       -1 -30.021958  139.517736  1/01/1972   \n",
       "2  5.581191  1013.515346        1 -30.692950  139.006100  1/01/1973   \n",
       "3  5.224682  3323.972600        1 -23.974046  133.340785  1/01/1972   \n",
       "4  4.809843   434.946800       -1 -23.436722  134.315857  1/01/1967   \n",
       "\n",
       "  DateQfinish  Downstr_1  Downstr_2  Downstr_3    ...          MeanP  \\\n",
       "0   10/4/2011          0          0          0    ...     556.338623   \n",
       "1   1/10/1991          0          0          0    ...     241.771332   \n",
       "2   13/3/1989          0          0          0    ...     265.750458   \n",
       "3   7/12/2011          0          0          0    ...     314.112885   \n",
       "4  31/12/2011          0          0          0    ...     352.356567   \n",
       "\n",
       "   QComplete       RiverName  SlopeMean  SlopeRange  State  StationID  \\\n",
       "0  93.998816          Barcoo    1.01441     11.2756    QLD     003303   \n",
       "1  29.554536     Hamilton Ck    3.66823     18.2268     SA     004502   \n",
       "2  35.540921  Mt McKinlay Ck    4.07388     22.4773     SA     004508   \n",
       "3  99.822406            Hugh    2.11346     28.3030     NT     005115   \n",
       "4  82.618026     Trephina Ck    2.64208     24.1171     NT     006005   \n",
       "\n",
       "   Whpk1_Mean Whpk2_Mean    WrscID  \n",
       "0     32.0211    70.6515   003303A  \n",
       "1     35.0000    77.0000  AW004502  \n",
       "2     34.9490    76.5210  AW004508  \n",
       "3     27.2579    81.0000  G0050115  \n",
       "4     22.8571     0.0000  G0060005  \n",
       "\n",
       "[5 rows x 35 columns]"
      ]
     },
     "execution_count": 30,
     "metadata": {},
     "output_type": "execute_result"
    }
   ],
   "source": [
    "##### extents from a shapefile (CATCHMENT_SHAPEFILE contains all calibraito and validation catchments)\n",
    "from awrams.utils.gis import ShapefileDB\n",
    "print('CATCHMENT_SHAPEFILE=',awrams.utils.gis.CATCHMENT_SHAPEFILE)\n",
    "calvalshapefile = ShapefileDB(awrams.utils.gis.CATCHMENT_SHAPEFILE)\n",
    "catchments = calvalshapefile.get_records_df()\n",
    "# view only the first 5 rows of the shapefile table by using .head()\n",
    "catchments.head()"
   ]
  },
  {
   "cell_type": "code",
   "execution_count": 31,
   "metadata": {
    "collapsed": false
   },
   "outputs": [
    {
     "data": {
      "text/plain": [
       "{'204007': origin: -28.25,151.65, shape: (45, 27), cell_size: 0.05,\n",
       " '421103': origin: -33.25,149.15, shape: (4, 3), cell_size: 0.05}"
      ]
     },
     "execution_count": 31,
     "metadata": {},
     "output_type": "execute_result"
    }
   ],
   "source": [
    "## Create a dictionary with multiple extents\n",
    "# you can use individual extents from  \n",
    "cal_dict = {}\n",
    "cal_catchments = ['204007','421103']\n",
    "for catchment in cal_catchments:\n",
    "    cal_dict[catchment] = calvalshapefile.get_extent_by_field('StationID', catchment.zfill(6), parent_extent=DefExt)\n",
    "cal_dict"
   ]
  },
  {
   "cell_type": "markdown",
   "metadata": {
    "collapsed": false
   },
   "source": [
    "## 3.1.D. ***Period*** specification\n",
    "### Thie time period over which the simulation occurs"
   ]
  },
  {
   "cell_type": "code",
   "execution_count": 32,
   "metadata": {
    "collapsed": true
   },
   "outputs": [],
   "source": [
    "from awrams.utils import datetools as dt"
   ]
  },
  {
   "cell_type": "code",
   "execution_count": 33,
   "metadata": {
    "collapsed": true
   },
   "outputs": [],
   "source": [
    "myperiod = dt.dates('2000', '2010')"
   ]
  },
  {
   "cell_type": "code",
   "execution_count": 34,
   "metadata": {
    "collapsed": false
   },
   "outputs": [
    {
     "data": {
      "text/plain": [
       "DatetimeIndex(['2000-01-01', '2000-01-02', '2000-01-03', '2000-01-04',\n",
       "               '2000-01-05', '2000-01-06', '2000-01-07', '2000-01-08',\n",
       "               '2000-01-09', '2000-01-10',\n",
       "               ...\n",
       "               '2010-12-22', '2010-12-23', '2010-12-24', '2010-12-25',\n",
       "               '2010-12-26', '2010-12-27', '2010-12-28', '2010-12-29',\n",
       "               '2010-12-30', '2010-12-31'],\n",
       "              dtype='datetime64[ns]', length=4018, freq='D')"
      ]
     },
     "execution_count": 34,
     "metadata": {},
     "output_type": "execute_result"
    }
   ],
   "source": [
    "myperiod"
   ]
  },
  {
   "cell_type": "code",
   "execution_count": 35,
   "metadata": {
    "collapsed": true
   },
   "outputs": [],
   "source": [
    "period = dt.dates('dec 2010 - 31 jan 2011')"
   ]
  },
  {
   "cell_type": "code",
   "execution_count": 36,
   "metadata": {
    "collapsed": false
   },
   "outputs": [
    {
     "data": {
      "text/plain": [
       "DatetimeIndex(['2010-12-01', '2010-12-02', '2010-12-03', '2010-12-04',\n",
       "               '2010-12-05', '2010-12-06', '2010-12-07', '2010-12-08',\n",
       "               '2010-12-09', '2010-12-10', '2010-12-11', '2010-12-12',\n",
       "               '2010-12-13', '2010-12-14', '2010-12-15', '2010-12-16',\n",
       "               '2010-12-17', '2010-12-18', '2010-12-19', '2010-12-20',\n",
       "               '2010-12-21', '2010-12-22', '2010-12-23', '2010-12-24',\n",
       "               '2010-12-25', '2010-12-26', '2010-12-27', '2010-12-28',\n",
       "               '2010-12-29', '2010-12-30', '2010-12-31', '2011-01-01',\n",
       "               '2011-01-02', '2011-01-03', '2011-01-04', '2011-01-05',\n",
       "               '2011-01-06', '2011-01-07', '2011-01-08', '2011-01-09',\n",
       "               '2011-01-10', '2011-01-11', '2011-01-12', '2011-01-13',\n",
       "               '2011-01-14', '2011-01-15', '2011-01-16', '2011-01-17',\n",
       "               '2011-01-18', '2011-01-19', '2011-01-20', '2011-01-21',\n",
       "               '2011-01-22', '2011-01-23', '2011-01-24', '2011-01-25',\n",
       "               '2011-01-26', '2011-01-27', '2011-01-28', '2011-01-29',\n",
       "               '2011-01-30', '2011-01-31'],\n",
       "              dtype='datetime64[ns]', freq='D')"
      ]
     },
     "execution_count": 36,
     "metadata": {},
     "output_type": "execute_result"
    }
   ],
   "source": [
    "period"
   ]
  },
  {
   "cell_type": "code",
   "execution_count": 37,
   "metadata": {
    "collapsed": true
   },
   "outputs": [],
   "source": [
    "dt.dates?"
   ]
  },
  {
   "cell_type": "markdown",
   "metadata": {},
   "source": [
    "### Demonstrational simulation\n",
    "#### we will go through this in detail later"
   ]
  },
  {
   "cell_type": "code",
   "execution_count": 38,
   "metadata": {
    "collapsed": false
   },
   "outputs": [
    {
     "name": "stdout",
     "output_type": "stream",
     "text": [
      "AWRA output variable names r.keys():\n"
     ]
    },
    {
     "data": {
      "text/plain": [
       "dict_keys(['mleaf_hrudr', 'ei_hrusr', 'ud_hrusr', 's0_hrudr', 'us_hrusr', 'es_hrudr', 'fsat_hrusr', 'eg', 'qg', 'sr', 'fsat_hrudr', 'ss_hrusr', 'fegt_hrudr', 'ss_hrudr', 'ss', 'final_states', 'sd_hrusr', 'sd_hrudr', 'y', 'et_hrudr', 'mleaf_hrusr', 'dd', 'e0', 'sg', 'et_hrusr', 'es_hrusr', 'ud_hrudr', 'etot', 'fegt_hrusr', 's0', 'ei_hrudr', 's0_hrusr', 'qr', 'us_hrudr', 'qtot', 'qif', 'sd'])"
      ]
     },
     "execution_count": 38,
     "metadata": {},
     "output_type": "execute_result"
    },
    {
     "data": {
      "image/png": "[encoded data removed]",
      "text/plain": [
       "<matplotlib.figure.Figure at 0x7f0d9697f7f0>"
      ]
     },
     "metadata": {},
     "output_type": "display_data"
    },
    {
     "data": {
      "image/png": "[encoded data removed]",
      "text/plain": [
       "<matplotlib.figure.Figure at 0x7f0d91fda128>"
      ]
     },
     "metadata": {},
     "output_type": "display_data"
    },
    {
     "data": {
      "image/png": "[encoded data removed]",
      "text/plain": [
       "<matplotlib.figure.Figure at 0x7f0d91f560b8>"
      ]
     },
     "metadata": {},
     "output_type": "display_data"
    }
   ],
   "source": [
    "## use the ondemand simulation engine\n",
    "from awrams.simulation import ondemand\n",
    "\n",
    "# get and instance of the model runner engine - passing in the model (awral and input_map defined earlier)\n",
    "runner = ondemand.OnDemandSimulator(awralmod,default_config) #,omapping=omap.mapping)\n",
    "\n",
    "# Call the run fun function (within the OnDemandSimulator) over the defined period and extent\n",
    "r,i = runner.run(period=period,extent=my_extent,return_inputs=True)\n",
    "\n",
    "import pandas as pd\n",
    "\n",
    "# Transfer inputs\n",
    "# transfer climate inputs contained in i\n",
    "forcing = ('tmin_f','tmax_f','solar_f','precip_f', 'u2t')\n",
    "clm = {k:i[k].reshape(-1) for k in forcing}\n",
    "df_clm = pd.DataFrame(clm,index=period)\n",
    "\n",
    "# Plot inputs/outputs as timeseries\n",
    "%matplotlib inline\n",
    "import matplotlib.pyplot as plt\n",
    "plt.figure(figsize = (16,3))\n",
    "plt.plot(df_clm)\n",
    "plt.title('Climate inputs')\n",
    "plt.legend(df_clm.columns)\n",
    "\n",
    "plt.figure(figsize = (16,3))\n",
    "plt.plot(r['etot'],label='etot : Actual evapotranspiration')\n",
    "plt.plot(r['qtot'],label='qtot: Runoff')\n",
    "plt.plot(r['e0'],label='e0 : Potential evaporation')\n",
    "plt.plot(r['dd'],label='dd : Deep drainage')\n",
    "plt.title('AWRA output water fluxes')\n",
    "plt.xlabel('Day')\n",
    "plt.ylabel('Flux [mm]')\n",
    "plt.legend()\n",
    "plt.figure(figsize = (16,3))\n",
    "\n",
    "plt.plot(r['s0'],label='s0 : Top layer [0-10cm]soil moisture')\n",
    "plt.plot(r['ss'],label='ss : Shallow layer [10-100cm] soil moisture')\n",
    "plt.plot(r['sd'],label='sd : Deep layer [1 - 6m] soil moisture')\n",
    "plt.plot(r['sg'],label='sg : Groundwater layer [< 6m] saturated storage')\n",
    "plt.plot(r['sr'],label='sr : Surface water storage')\n",
    "plt.xlabel('Day')\n",
    "plt.ylabel('Storage [mm]')\n",
    "plt.title('AWRA output water balance stores')\n",
    "plt.legend()\n",
    "\n",
    "print('AWRA output variable names r.keys():')\n",
    "r.keys()"
   ]
  },
  {
   "cell_type": "markdown",
   "metadata": {
    "collapsed": true
   },
   "source": [
    "## Now onto a Python version of the AWRA-L code for demonstration....\n",
    "\n",
    "#### [1.3 AWRA-L deconstructed]\n",
    "[1.3 AWRA-L deconstructed]: 1.3_AWRA-L_deconstructed_-_Python_version_of_AWRA-L.ipynb"
   ]
  },
  {
   "cell_type": "code",
   "execution_count": null,
   "metadata": {
    "collapsed": true
   },
   "outputs": [],
   "source": []
  }
 ],
 "metadata": {
  "kernelspec": {
   "display_name": "Python 3",
   "language": "python",
   "name": "python3"
  },
  "language_info": {
   "codemirror_mode": {
    "name": "ipython",
    "version": 3
   },
   "file_extension": ".py",
   "mimetype": "text/x-python",
   "name": "python",
   "nbconvert_exporter": "python",
   "pygments_lexer": "ipython3",
   "version": "3.4.5"
  }
 },
 "nbformat": 4,
 "nbformat_minor": 0
}
