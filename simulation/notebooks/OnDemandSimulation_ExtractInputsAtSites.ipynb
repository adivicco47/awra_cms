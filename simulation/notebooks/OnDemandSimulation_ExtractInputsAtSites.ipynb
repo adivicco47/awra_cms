{
 "cells": [
  {
   "cell_type": "code",
   "execution_count": 1,
   "metadata": {
    "collapsed": false
   },
   "outputs": [],
   "source": [
    "from awrams.simulation.ondemand import OnDemandSimulator\n",
    "from awrams.models import awral\n",
    "\n",
    "from awrams.utils import extents\n",
    "from awrams.utils import datetools as dt\n",
    "from awrams.utils.precision import quantize\n",
    "\n",
    "import pandas as pd\n",
    "import os\n",
    "os.makedirs('./_results',exist_ok=True)"
   ]
  },
  {
   "cell_type": "code",
   "execution_count": 2,
   "metadata": {
    "collapsed": false
   },
   "outputs": [],
   "source": [
    "def change_path_to_forcing(imap):\n",
    "    from awrams.utils.nodegraph import nodes\n",
    "    from os.path import join,dirname\n",
    "    from os import getcwd\n",
    "\n",
    "    data_path = '../../test_data/simulation/'\n",
    "\n",
    "    FORCING = {\n",
    "        'tmin': ('temp_min*','temp_min_day',data_path),\n",
    "        'tmax': ('temp_max*','temp_max_day',data_path),\n",
    "        'precip': ('rain_day*','rain_day',data_path),\n",
    "        'solar': ('solar*','solar_exposure_day',data_path)\n",
    "    }\n",
    "    for k,v in FORCING.items():\n",
    "        imap.mapping[k+'_f'] = nodes.forcing_from_ncfiles(v[2],v[0],v[1])\n"
   ]
  },
  {
   "cell_type": "code",
   "execution_count": 3,
   "metadata": {
    "collapsed": true
   },
   "outputs": [],
   "source": [
    "def get_initial_states_dict(imap,period,extent):\n",
    "    from awrams.utils.io.data_mapping import SplitFileManager\n",
    "    from awrams.utils.nodegraph import nodes\n",
    "\n",
    "    from os.path import join,dirname\n",
    "    from os import getcwd\n",
    "\n",
    "    data_path = '../../test_data/simulation/'\n",
    "    \n",
    "    node_names = {'mleaf_dr': 'init_mleaf_hrudr',\n",
    "                  'mleaf_sr': 'init_mleaf_hrusr',\n",
    "                  's0_dr': 'init_s0_hrudr',\n",
    "                  's0_sr': 'init_s0_hrusr',\n",
    "                  'ss_dr': 'init_ss_hrudr',\n",
    "                  'ss_sr': 'init_ss_hrusr',\n",
    "                  'sd_dr': 'init_sd_hrudr',\n",
    "                  'sd_sr': 'init_sd_hrusr',\n",
    "                  'sg_bal': 'init_sg',\n",
    "                  'sr_bal': 'init_sr'}\n",
    "\n",
    "    data_map = {}\n",
    "    period = [period[0] - 1]\n",
    "    \n",
    "    for k in node_names:\n",
    "        sfm = SplitFileManager.open_existing(data_path,k+'*nc',k)\n",
    "        data_map[node_names[k]] = sfm.get_data(period,extent)\n",
    "\n",
    "    nodes.init_states_from_dict(imap,data_map,extent)\n"
   ]
  },
  {
   "cell_type": "code",
   "execution_count": 4,
   "metadata": {
    "collapsed": true
   },
   "outputs": [],
   "source": [
    "def insert_climatology(imap):\n",
    "    from awrams.utils.nodegraph import nodes\n",
    "    from os.path import join,dirname\n",
    "    from os import getcwd\n",
    "\n",
    "    data_path = '../../test_data/simulation/'\n",
    "\n",
    "    imap.mapping['precip_f'] = nodes.forcing_gap_filler(data_path,'rain_day*','rain_day',join(data_path,'climatology_daily_rain_day.nc'))\n",
    "    imap.mapping['tmax_f'] = nodes.forcing_gap_filler(data_path,'temp_max*','temp_max_day',join(data_path,'climatology_daily_temp_max_day.nc'))\n",
    "    imap.mapping['tmin_f'] = nodes.forcing_gap_filler(data_path,'temp_min*','temp_min_day',join(data_path,'climatology_daily_temp_min_day.nc'))\n",
    "    imap.mapping['solar_f'] = nodes.forcing_gap_filler(data_path,'solar*','solar_exposure_day',join(data_path,'climatology_daily_solar_exposure_day.nc'))\n"
   ]
  },
  {
   "cell_type": "code",
   "execution_count": 5,
   "metadata": {
    "collapsed": false
   },
   "outputs": [
    {
     "name": "stdout",
     "output_type": "stream",
     "text": [
      "A1 -35.5 148.1\n",
      "A3 -35.4 148.1\n",
      "A5 -35.35 148.1\n"
     ]
    }
   ],
   "source": [
    "sites = {\n",
    "'A1' : (148.106488,-35.497492),\n",
    "'A3' : (148.101076,-35.399688),\n",
    "'A5' : (148.085427,-35.360194),\n",
    "# 'K1' : (147.55912 ,-35.49322),\n",
    "# 'K2' : (147.53052 ,-35.43525),\n",
    "# 'K3' : (147.56893 ,-35.43408),\n",
    "# 'K4' : (147.6     ,-35.42688),\n",
    "# 'K5' : (147.60408 ,-35.41928),\n",
    "# 'K6' : (147.4572  ,-35.38978),\n",
    "# 'K10': (147.5348  ,-35.32395),\n",
    "# 'K11': (147.42902 ,-35.27202),\n",
    "# 'K13': (147.5333  ,-35.23887),\n",
    "# 'M1' : (148.970567,-36.293033),\n",
    "# 'M2' : (149.2     ,-35.3088),\n",
    "# 'M4' : (147.196183,-33.938267),\n",
    "# 'M7' : (146.07    ,-34.249),\n",
    "# 'Y1' : (145.84895 ,-34.62888),\n",
    "# 'Y4' : (146.02003 ,-34.71943),\n",
    "# 'Y5' : (146.29317 ,-34.72835),\n",
    "# 'Y7' : (146.1153  ,-34.85183),\n",
    "# 'Y8' : (146.41398 ,-34.84697),\n",
    "# 'Y9' : (146.01632 ,-34.96777),\n",
    "# 'Y10': (146.30988 ,-35.00535),\n",
    "# 'Y11': (145.93553 ,-35.10975),\n",
    "# 'Y12': (146.16893 ,-35.0696),\n",
    "# 'Y13': (146.30648 ,-35.09025),\n",
    "}\n",
    "\n",
    "for k in sorted(sites.keys()):\n",
    "    print(k,quantize(sites[k][1],0.05),quantize(sites[k][0],0.05))"
   ]
  },
  {
   "cell_type": "code",
   "execution_count": 6,
   "metadata": {
    "collapsed": true
   },
   "outputs": [],
   "source": [
    "period = dt.dates('dec 2010 - jan 2011')"
   ]
  },
  {
   "cell_type": "code",
   "execution_count": 7,
   "metadata": {
    "collapsed": true
   },
   "outputs": [],
   "source": [
    "grid_names = ['slope_grid',\n",
    " 'kssat_v5_grid',\n",
    " 'ne_grid',\n",
    " 'pref_grid',\n",
    " 'kdsat_v5_grid',\n",
    " 'hveg_dr_grid',\n",
    " 'lai_max_grid',\n",
    " 's0fracawc_grid',\n",
    " 'ssfracawc_grid',\n",
    " 'f_tree_grid',\n",
    " 'k0sat_v5_grid',\n",
    " 'meanpet_grid',\n",
    " 'k_gw_grid']\n",
    "\n",
    "sm_cols = ('s0','s0_sr','s0_dr','ss','ss_sr','ss_dr','sd','sd_sr','sd_dr',)\n",
    "\n",
    "forcing = ('tmin','tmax','solar_f','precip_f')"
   ]
  },
  {
   "cell_type": "code",
   "execution_count": 8,
   "metadata": {
    "collapsed": false,
    "scrolled": false
   },
   "outputs": [
    {
     "name": "stdout",
     "output_type": "stream",
     "text": [
      "\n",
      "A1 lat: -35.5 (510) lon: 148.1 (722) shape:(1, 1)\n",
      "\n",
      "A3 lat: -35.4 (508) lon: 148.1 (722) shape:(1, 1)\n",
      "\n",
      "A5 lat: -35.35 (507) lon: 148.1 (722) shape:(1, 1)\n"
     ]
    }
   ],
   "source": [
    "grids = {}\n",
    "\n",
    "for site in sorted(sites):\n",
    "    print()\n",
    "    extent = extents.from_cell_coords(quantize(sites[site][1],0.05),quantize(sites[site][0],0.05))\n",
    "    print(site,extent)\n",
    "    \n",
    "    imap = awral.get_default_mapping()\n",
    "\n",
    "#     change_path_to_forcing(imap)\n",
    "    insert_climatology(imap)\n",
    "    get_initial_states_dict(imap,period,extent)\n",
    "    \n",
    "    runner = OnDemandSimulator(awral,imap.mapping) #,omapping=omap.mapping)\n",
    "    r,i = runner.run(period,extent,return_inputs=True)\n",
    "    \n",
    "    sm = {k:r[k].reshape(-1) for k in sm_cols}\n",
    "    df = pd.DataFrame(sm,index=period)\n",
    "    df.to_csv('./_results/'+site+'_soil_moisture.csv', float_format='%.4f')\n",
    "\n",
    "    clm = {k:i[k].reshape(-1) for k in forcing}\n",
    "    df = pd.DataFrame(clm,index=period)\n",
    "    df.to_csv('./_results/'+site+'_forcing.csv', float_format='%.2f')\n",
    "    \n",
    "    grids[site] = {k:i[k][0] for k in grid_names}\n",
    "\n",
    "    \n",
    "df = pd.DataFrame(grids).T\n",
    "df.to_csv('./_results/grid_input_parameters.csv') #, float_format='%.4f')"
   ]
  },
  {
   "cell_type": "code",
   "execution_count": null,
   "metadata": {
    "collapsed": true
   },
   "outputs": [],
   "source": []
  }
 ],
 "metadata": {
  "kernelspec": {
   "display_name": "Python 3",
   "language": "python",
   "name": "python3"
  },
  "language_info": {
   "codemirror_mode": {
    "name": "ipython",
    "version": 3
   },
   "file_extension": ".py",
   "mimetype": "text/x-python",
   "name": "python",
   "nbconvert_exporter": "python",
   "pygments_lexer": "ipython3",
   "version": "3.4.2"
  }
 },
 "nbformat": 4,
 "nbformat_minor": 0
}
