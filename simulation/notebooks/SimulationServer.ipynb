{
 "cells": [
  {
   "cell_type": "code",
   "execution_count": 1,
   "metadata": {
    "collapsed": false
   },
   "outputs": [],
   "source": [
    "from awrams.simulation.server import Server\n",
    "from awrams.models import awral\n",
    "\n",
    "from awrams.utils import extents\n",
    "from awrams.utils import datetools"
   ]
  },
  {
   "cell_type": "code",
   "execution_count": 2,
   "metadata": {
    "collapsed": true
   },
   "outputs": [],
   "source": [
    "def change_path_to_forcing(imap):\n",
    "    from awrams.utils.nodegraph import nodes\n",
    "    from os.path import join\n",
    "    from os import getcwd\n",
    "\n",
    "    data_path = '../../test_data/simulation/'\n",
    "\n",
    "    FORCING = {\n",
    "        'tmin': ('temp_min*','temp_min_day',data_path),\n",
    "        'tmax': ('temp_max*','temp_max_day',data_path),\n",
    "        'precip': ('rain_day*','rain_day',data_path),\n",
    "        'solar': ('solar*','solar_exposure_day',data_path)\n",
    "    }\n",
    "    for k,v in FORCING.items():\n",
    "        imap.mapping[k+'_f'] = nodes.forcing_from_ncfiles(v[2],v[0],v[1])\n"
   ]
  },
  {
   "cell_type": "code",
   "execution_count": 3,
   "metadata": {
    "collapsed": true
   },
   "outputs": [],
   "source": [
    "imap = awral.get_default_mapping()\n",
    "change_path_to_forcing(imap)"
   ]
  },
  {
   "cell_type": "markdown",
   "metadata": {},
   "source": [
    "### create model output map and add nodes for saving some model outputs to netcdf files"
   ]
  },
  {
   "cell_type": "code",
   "execution_count": 4,
   "metadata": {
    "collapsed": true
   },
   "outputs": [],
   "source": [
    "def build_output_mapping():\n",
    "    from awrams.utils.nodegraph import nodes,graph\n",
    "    from awrams.models.awral.template import DEFAULT_TEMPLATE\n",
    "\n",
    "    ### populate output map with all model outputs\n",
    "    output_map = awral.get_output_nodes(DEFAULT_TEMPLATE)\n",
    "\n",
    "    outpath = './_results/'\n",
    "\n",
    "    output_map.mapping['s0_ncsave'] = nodes.write_to_annual_ncfile(outpath,'s0')\n",
    "    output_map.mapping['ss_ncsave'] = nodes.write_to_annual_ncfile(outpath,'ss')\n",
    "    output_map.mapping['sd_ncsave'] = nodes.write_to_annual_ncfile(outpath,'sd')\n",
    "    output_map.mapping['qtot_ncsave'] = nodes.write_to_annual_ncfile(outpath,'qtot')\n",
    "    output_map.mapping['etot_ncsave'] = nodes.write_to_annual_ncfile(outpath,'etot')\n",
    "\n",
    "    return graph.OutputGraph(output_map.mapping)\n"
   ]
  },
  {
   "cell_type": "code",
   "execution_count": 5,
   "metadata": {
    "collapsed": false
   },
   "outputs": [],
   "source": [
    "omap = build_output_mapping()"
   ]
  },
  {
   "cell_type": "code",
   "execution_count": 6,
   "metadata": {
    "collapsed": false
   },
   "outputs": [],
   "source": [
    "period = datetools.dates('dec 2010 - jan 2011')\n",
    "extent = extents.from_boundary_offset(200,200,250,250)"
   ]
  },
  {
   "cell_type": "code",
   "execution_count": 7,
   "metadata": {
    "collapsed": false
   },
   "outputs": [
    {
     "name": "stderr",
     "output_type": "stream",
     "text": [
      "2016-10-13 04:21:49,578 INFO Getting I/O dataspecs...\n",
      "2016-10-13 04:21:50,217 INFO Initialising output files...\n",
      "2016-10-13 04:21:50,398 INFO Building buffers...\n",
      "2016-10-13 04:21:51,509 INFO Running simulation...\n"
     ]
    },
    {
     "name": "stdout",
     "output_type": "stream",
     "text": [
      "worker pid: 9714\n",
      "worker pid: 9713\n"
     ]
    },
    {
     "name": "stderr",
     "output_type": "stream",
     "text": [
      "2016-10-13 04:21:52,648 INFO completed 25.00%\n",
      "2016-10-13 04:21:51,549 INFO reader pid: 9732\n",
      "2016-10-13 04:21:51,550 INFO writer pid: 9736\n",
      "2016-10-13 04:21:52,788 INFO completed 50.00%\n",
      "2016-10-13 04:21:52,858 INFO completed 75.00%\n",
      "2016-10-13 04:21:52,917 INFO completed 100.00%\n",
      "2016-10-13 04:21:52,917 INFO Completed period December 2010 - 1 of 2\n",
      "2016-10-13 04:21:53,025 INFO completed 25.00%\n",
      "2016-10-13 04:21:53,134 INFO completed 50.00%\n",
      "2016-10-13 04:21:53,222 INFO completed 75.00%\n",
      "2016-10-13 04:21:53,284 INFO completed 100.00%\n",
      "2016-10-13 04:21:53,299 INFO Completed period January 2011 - 2 of 2\n",
      "2016-10-13 04:21:55,728 INFO elapsed time: 6.17\n"
     ]
    },
    {
     "name": "stdout",
     "output_type": "stream",
     "text": [
      "worker pid: 9717\n",
      "worker pid: 9720\n",
      "reader pid: 9732\n"
     ]
    }
   ],
   "source": [
    "sim = Server(awral)\n",
    "sim.run(imap,omap,period,extent)"
   ]
  },
  {
   "cell_type": "markdown",
   "metadata": {
    "collapsed": true
   },
   "source": [
    "### initialise states from dict mapping of numpy arrays"
   ]
  },
  {
   "cell_type": "code",
   "execution_count": 8,
   "metadata": {
    "collapsed": true
   },
   "outputs": [],
   "source": [
    "def initial_states_from_dict(imap,period,extent):\n",
    "    from awrams.utils.io.data_mapping import SplitFileManager\n",
    "    from awrams.utils.nodegraph import nodes\n",
    "    from os.path import join\n",
    "    from os import getcwd\n",
    "\n",
    "    data_path = '../../test_data/simulation/'\n",
    "\n",
    "    node_names = {'mleaf_dr': 'init_mleaf_hrudr',\n",
    "                  'mleaf_sr': 'init_mleaf_hrusr',\n",
    "                  's0_dr': 'init_s0_hrudr',\n",
    "                  's0_sr': 'init_s0_hrusr',\n",
    "                  'ss_dr': 'init_ss_hrudr',\n",
    "                  'ss_sr': 'init_ss_hrusr',\n",
    "                  'sd_dr': 'init_sd_hrudr',\n",
    "                  'sd_sr': 'init_sd_hrusr',\n",
    "                  'sg_bal': 'init_sg',\n",
    "                  'sr_bal': 'init_sr'}\n",
    "\n",
    "    data_map = {}\n",
    "    period = [period[0] - 1]\n",
    "    \n",
    "    for k in node_names:\n",
    "        sfm = SplitFileManager.open_existing(data_path,k+'*nc',k)\n",
    "        data_map[node_names[k]] = sfm.get_data(period,extent)\n",
    "\n",
    "    nodes.init_states_from_dict(imap,data_map,extent)\n"
   ]
  },
  {
   "cell_type": "code",
   "execution_count": 9,
   "metadata": {
    "collapsed": false
   },
   "outputs": [
    {
     "name": "stderr",
     "output_type": "stream",
     "text": [
      "2016-10-13 04:21:56,111 INFO Getting I/O dataspecs...\n",
      "2016-10-13 04:21:56,750 INFO Initialising output files...\n",
      "2016-10-13 04:21:56,886 INFO Building buffers...\n",
      "2016-10-13 04:21:57,003 INFO Running simulation...\n"
     ]
    },
    {
     "name": "stdout",
     "output_type": "stream",
     "text": [
      "worker pid: 9808\n",
      "worker pid: 9809\n",
      "worker pid: 9814\n"
     ]
    },
    {
     "name": "stderr",
     "output_type": "stream",
     "text": [
      "2016-10-13 04:21:58,081 INFO completed 25.00%\n",
      "2016-10-13 04:21:57,037 INFO writer pid: 9831\n",
      "2016-10-13 04:21:57,042 INFO reader pid: 9830\n",
      "2016-10-13 04:21:58,187 INFO completed 50.00%\n",
      "2016-10-13 04:21:58,297 INFO completed 75.00%\n",
      "2016-10-13 04:21:58,357 INFO completed 100.00%\n",
      "2016-10-13 04:21:58,358 INFO Completed period December 2010 - 1 of 2\n",
      "2016-10-13 04:21:58,467 INFO completed 25.00%\n",
      "2016-10-13 04:21:58,560 INFO completed 50.00%\n",
      "2016-10-13 04:21:58,669 INFO completed 75.00%\n",
      "2016-10-13 04:21:58,739 INFO completed 100.00%\n",
      "2016-10-13 04:21:58,748 INFO Completed period January 2011 - 2 of 2\n",
      "2016-10-13 04:22:00,354 INFO elapsed time: 4.26\n"
     ]
    },
    {
     "name": "stdout",
     "output_type": "stream",
     "text": [
      "worker pid: 9823\n",
      "reader pid: 9830\n"
     ]
    }
   ],
   "source": [
    "initial_states_from_dict(imap,period,extent)\n",
    "sim = Server(awral)\n",
    "sim.run(imap,omap,period,extent)"
   ]
  },
  {
   "cell_type": "markdown",
   "metadata": {},
   "source": [
    "### initialise states from netcdf files"
   ]
  },
  {
   "cell_type": "code",
   "execution_count": 10,
   "metadata": {
    "collapsed": true
   },
   "outputs": [],
   "source": [
    "def get_initial_states(imap):\n",
    "    from awrams.utils.nodegraph import nodes\n",
    "    from os.path import join\n",
    "    from os import getcwd\n",
    "\n",
    "    data_path = '../../test_data/simulation/'\n",
    "\n",
    "    mapping = imap.mapping\n",
    "\n",
    "    mapping['init_sr'] = nodes.init_state_from_ncfile(data_path,'sr_bal*','sr_bal')\n",
    "    mapping['init_sg'] = nodes.init_state_from_ncfile(data_path,'sg_bal*','sg_bal')\n",
    "\n",
    "    HRU = {'_hrusr':'_sr','_hrudr':'_dr'}\n",
    "    for hru in ('_hrusr','_hrudr'):\n",
    "        for state in [\"s0\",\"ss\",\"sd\",'mleaf']:\n",
    "            mapping['init_'+state+hru] = nodes.init_state_from_ncfile(data_path,state+HRU[hru]+'*',state+HRU[hru])\n"
   ]
  },
  {
   "cell_type": "code",
   "execution_count": 11,
   "metadata": {
    "collapsed": false
   },
   "outputs": [
    {
     "name": "stderr",
     "output_type": "stream",
     "text": [
      "2016-10-13 04:22:00,673 INFO Getting I/O dataspecs...\n",
      "2016-10-13 04:22:01,308 INFO Initialising output files...\n",
      "2016-10-13 04:22:01,499 INFO Building buffers...\n",
      "2016-10-13 04:22:01,619 INFO Running simulation...\n"
     ]
    },
    {
     "name": "stdout",
     "output_type": "stream",
     "text": [
      "worker pid: 9907\n",
      "worker pid: 9908\n",
      "worker pid: 9913\n"
     ]
    },
    {
     "name": "stderr",
     "output_type": "stream",
     "text": [
      "2016-10-13 04:22:02,669 INFO completed 25.00%\n",
      "2016-10-13 04:22:01,653 INFO writer pid: 9933\n",
      "2016-10-13 04:22:01,657 INFO reader pid: 9929\n",
      "2016-10-13 04:22:02,802 INFO completed 50.00%\n",
      "2016-10-13 04:22:02,886 INFO completed 75.00%\n",
      "2016-10-13 04:22:02,971 INFO completed 100.00%\n",
      "2016-10-13 04:22:02,994 INFO Completed period December 2010 - 1 of 2\n",
      "2016-10-13 04:22:03,061 INFO completed 25.00%\n",
      "2016-10-13 04:22:03,173 INFO completed 50.00%\n",
      "2016-10-13 04:22:03,246 INFO completed 75.00%\n",
      "2016-10-13 04:22:03,329 INFO completed 100.00%\n",
      "2016-10-13 04:22:03,330 INFO Completed period January 2011 - 2 of 2\n",
      "2016-10-13 04:22:05,898 INFO elapsed time: 5.24\n"
     ]
    },
    {
     "name": "stdout",
     "output_type": "stream",
     "text": [
      "worker pid: 9922\n",
      "reader pid: 9929\n"
     ]
    }
   ],
   "source": [
    "initial_states_from_dict(imap,period,extent)\n",
    "sim = Server(awral)\n",
    "sim.run(imap,omap,period,extent)"
   ]
  },
  {
   "cell_type": "markdown",
   "metadata": {},
   "source": [
    "### fill gaps in forcing data with climatology"
   ]
  },
  {
   "cell_type": "code",
   "execution_count": 12,
   "metadata": {
    "collapsed": true
   },
   "outputs": [],
   "source": [
    "def insert_climatology(imap):\n",
    "    from awrams.utils.nodegraph import nodes\n",
    "    from os.path import join\n",
    "    from os import getcwd\n",
    "\n",
    "    data_path = '../../test_data/simulation/'\n",
    "\n",
    "    imap.mapping['precip_f'] = nodes.forcing_gap_filler(data_path,'rain_day*','rain_day',join(data_path,'climatology_daily_rain_day.nc'))\n",
    "    imap.mapping['tmax_f'] = nodes.forcing_gap_filler(data_path,'temp_max*','temp_max_day',join(data_path,'climatology_daily_temp_max_day.nc'))\n",
    "    imap.mapping['tmin_f'] = nodes.forcing_gap_filler(data_path,'temp_min*','temp_min_day',join(data_path,'climatology_daily_temp_min_day.nc'))\n",
    "    imap.mapping['solar_f'] = nodes.forcing_gap_filler(data_path,'solar*','solar_exposure_day',join(data_path,'climatology_daily_solar_exposure_day.nc'))\n",
    "    "
   ]
  },
  {
   "cell_type": "code",
   "execution_count": 13,
   "metadata": {
    "collapsed": false
   },
   "outputs": [
    {
     "name": "stderr",
     "output_type": "stream",
     "text": [
      "2016-10-13 04:22:05,951 INFO Getting I/O dataspecs...\n",
      "2016-10-13 04:22:06,629 INFO Initialising output files...\n",
      "2016-10-13 04:22:06,760 INFO Building buffers...\n",
      "2016-10-13 04:22:06,879 INFO Running simulation...\n"
     ]
    },
    {
     "name": "stdout",
     "output_type": "stream",
     "text": [
      "worker pid: 10002\n",
      "worker pid: 10003\n",
      "worker pid: 10008\n",
      "worker pid: 10017\n"
     ]
    },
    {
     "name": "stderr",
     "output_type": "stream",
     "text": [
      "2016-10-13 04:22:08,041 INFO completed 25.00%\n",
      "2016-10-13 04:22:06,918 INFO writer pid: 10030\n",
      "2016-10-13 04:22:06,920 INFO reader pid: 10027\n",
      "2016-10-13 04:22:08,187 INFO completed 50.00%\n",
      "2016-10-13 04:22:08,263 INFO completed 75.00%\n",
      "2016-10-13 04:22:08,345 INFO completed 100.00%\n",
      "2016-10-13 04:22:08,346 INFO Completed period December 2010 - 1 of 2\n",
      "2016-10-13 04:22:08,433 INFO completed 25.00%\n",
      "2016-10-13 04:22:08,526 INFO completed 50.00%\n",
      "2016-10-13 04:22:08,647 INFO completed 75.00%\n",
      "2016-10-13 04:22:08,697 INFO completed 100.00%\n",
      "2016-10-13 04:22:08,703 INFO Completed period January 2011 - 2 of 2\n",
      "2016-10-13 04:22:10,337 INFO elapsed time: 4.40\n"
     ]
    },
    {
     "name": "stdout",
     "output_type": "stream",
     "text": [
      "reader pid: 10027\n"
     ]
    }
   ],
   "source": [
    "insert_climatology(imap)\n",
    "sim = Server(awral)\n",
    "sim.run(imap,omap,period,extent)"
   ]
  }
 ],
 "metadata": {
  "kernelspec": {
   "display_name": "Python 3",
   "language": "python",
   "name": "python3"
  },
  "language_info": {
   "codemirror_mode": {
    "name": "ipython",
    "version": 3
   },
   "file_extension": ".py",
   "mimetype": "text/x-python",
   "name": "python",
   "nbconvert_exporter": "python",
   "pygments_lexer": "ipython3",
   "version": "3.4.2"
  }
 },
 "nbformat": 4,
 "nbformat_minor": 0
}
