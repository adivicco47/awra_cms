{
 "cells": [
  {
   "cell_type": "code",
   "execution_count": 1,
   "metadata": {
    "collapsed": false
   },
   "outputs": [],
   "source": [
    "from awrams.simulation.server import Server\n",
    "from awrams.models import awral\n",
    "\n",
    "from awrams.utils import extents\n",
    "from awrams.utils import datetools"
   ]
  },
  {
   "cell_type": "markdown",
   "metadata": {},
   "source": [
    "## AusCover data can be downloaded from thredds server:\n",
    "http://rs-data1-mel.csiro.au/thredds/fileServer/bawap/"
   ]
  },
  {
   "cell_type": "code",
   "execution_count": 2,
   "metadata": {
    "collapsed": true
   },
   "outputs": [],
   "source": [
    "def change_forcing(imap):\n",
    "    from awrams.utils.nodegraph.nodes import forcing_from_ncfiles\n",
    "    from os.path import join\n",
    "    from os import getcwd\n",
    "\n",
    "    data_path = '../../test_data/simulation/'\n",
    "    \n",
    "    imap.mapping['precip_f'] = forcing_from_ncfiles(data_path,'bom-rain_day-*','rain_day')\n",
    "    imap.mapping['tmax_f']   = forcing_from_ncfiles(data_path,'bom-tmax_day-*','tmax_day')\n",
    "    imap.mapping['tmin_f']   = forcing_from_ncfiles(data_path,'bom-tmin_day-*','tmin_day')\n",
    "    imap.mapping['solar_f']  = forcing_from_ncfiles(data_path,'bom-rad_day-*','rad_day')\n"
   ]
  },
  {
   "cell_type": "code",
   "execution_count": 3,
   "metadata": {
    "collapsed": true
   },
   "outputs": [],
   "source": [
    "imap = awral.get_default_mapping()\n",
    "change_forcing(imap)"
   ]
  },
  {
   "cell_type": "markdown",
   "metadata": {},
   "source": [
    "### create model output map and add nodes for saving some model outputs to netcdf files"
   ]
  },
  {
   "cell_type": "code",
   "execution_count": 4,
   "metadata": {
    "collapsed": true
   },
   "outputs": [],
   "source": [
    "def build_output_mapping():\n",
    "    from awrams.utils.nodegraph import nodes,graph\n",
    "    from awrams.models.awral.template import DEFAULT_TEMPLATE\n",
    "\n",
    "    ### populate output map with all model outputs\n",
    "    output_map = awral.get_output_nodes(DEFAULT_TEMPLATE)\n",
    "\n",
    "    outpath = './_results/'\n",
    "\n",
    "    output_map.mapping['s0_ncsave'] = nodes.write_to_annual_ncfile(outpath,'s0')\n",
    "    output_map.mapping['ss_ncsave'] = nodes.write_to_annual_ncfile(outpath,'ss')\n",
    "    output_map.mapping['sd_ncsave'] = nodes.write_to_annual_ncfile(outpath,'sd')\n",
    "    output_map.mapping['qtot_ncsave'] = nodes.write_to_annual_ncfile(outpath,'qtot')\n",
    "    output_map.mapping['etot_ncsave'] = nodes.write_to_annual_ncfile(outpath,'etot')\n",
    "\n",
    "    return graph.OutputGraph(output_map.mapping)\n"
   ]
  },
  {
   "cell_type": "code",
   "execution_count": 5,
   "metadata": {
    "collapsed": false
   },
   "outputs": [],
   "source": [
    "omap = build_output_mapping()"
   ]
  },
  {
   "cell_type": "code",
   "execution_count": 6,
   "metadata": {
    "collapsed": false
   },
   "outputs": [],
   "source": [
    "period = datetools.dates('dec 2010 - jan 2011')\n",
    "extent = extents.from_boundary_offset(200,200,250,250)"
   ]
  },
  {
   "cell_type": "code",
   "execution_count": 7,
   "metadata": {
    "collapsed": false
   },
   "outputs": [
    {
     "data": {
      "text/plain": [
       "DatetimeIndex(['2010-12-01', '2010-12-02', '2010-12-03', '2010-12-04',\n",
       "               '2010-12-05', '2010-12-06', '2010-12-07', '2010-12-08',\n",
       "               '2010-12-09', '2010-12-10', '2010-12-11', '2010-12-12',\n",
       "               '2010-12-13', '2010-12-14', '2010-12-15', '2010-12-16',\n",
       "               '2010-12-17', '2010-12-18', '2010-12-19', '2010-12-20',\n",
       "               '2010-12-21', '2010-12-22', '2010-12-23', '2010-12-24',\n",
       "               '2010-12-25', '2010-12-26', '2010-12-27', '2010-12-28',\n",
       "               '2010-12-29', '2010-12-30', '2010-12-31', '2011-01-01',\n",
       "               '2011-01-02', '2011-01-03', '2011-01-04', '2011-01-05',\n",
       "               '2011-01-06', '2011-01-07', '2011-01-08', '2011-01-09',\n",
       "               '2011-01-10', '2011-01-11', '2011-01-12', '2011-01-13',\n",
       "               '2011-01-14', '2011-01-15', '2011-01-16', '2011-01-17',\n",
       "               '2011-01-18', '2011-01-19', '2011-01-20', '2011-01-21',\n",
       "               '2011-01-22', '2011-01-23', '2011-01-24', '2011-01-25',\n",
       "               '2011-01-26', '2011-01-27', '2011-01-28', '2011-01-29',\n",
       "               '2011-01-30', '2011-01-31'],\n",
       "              dtype='datetime64[ns]', freq='D', tz=None)"
      ]
     },
     "execution_count": 7,
     "metadata": {},
     "output_type": "execute_result"
    }
   ],
   "source": [
    "period"
   ]
  },
  {
   "cell_type": "code",
   "execution_count": 8,
   "metadata": {
    "collapsed": false,
    "scrolled": false
   },
   "outputs": [
    {
     "name": "stderr",
     "output_type": "stream",
     "text": [
      "2016-10-13 04:25:17,394 INFO Getting I/O dataspecs...\n",
      "2016-10-13 04:25:19,358 INFO Initialising output files...\n",
      "2016-10-13 04:25:19,550 INFO Building buffers...\n",
      "2016-10-13 04:25:20,980 INFO Running simulation...\n"
     ]
    },
    {
     "name": "stdout",
     "output_type": "stream",
     "text": [
      "worker pid: 10127\n",
      "worker pid: 10128\n",
      "worker pid: 10131\n",
      "worker pid: 10139\n"
     ]
    },
    {
     "name": "stderr",
     "output_type": "stream",
     "text": [
      "2016-10-13 04:25:22,852 INFO completed 25.00%\n",
      "2016-10-13 04:25:21,029 INFO writer pid: 10153\n",
      "2016-10-13 04:25:21,030 INFO reader pid: 10152\n",
      "2016-10-13 04:25:22,944 INFO completed 50.00%\n",
      "2016-10-13 04:25:23,048 INFO completed 75.00%\n",
      "2016-10-13 04:25:23,093 INFO completed 100.00%\n",
      "2016-10-13 04:25:23,115 INFO Completed period December 2010 - 1 of 2\n",
      "2016-10-13 04:25:23,202 INFO completed 25.00%\n",
      "2016-10-13 04:25:23,330 INFO completed 50.00%\n",
      "2016-10-13 04:25:23,386 INFO completed 75.00%\n",
      "2016-10-13 04:25:23,463 INFO completed 100.00%\n",
      "2016-10-13 04:25:23,474 INFO Completed period January 2011 - 2 of 2\n",
      "2016-10-13 04:25:25,058 INFO elapsed time: 7.68\n"
     ]
    },
    {
     "name": "stdout",
     "output_type": "stream",
     "text": [
      "reader pid: 10152\n"
     ]
    }
   ],
   "source": [
    "sim = Server(awral)\n",
    "sim.run(imap,omap,period,extent)"
   ]
  },
  {
   "cell_type": "markdown",
   "metadata": {
    "collapsed": true
   },
   "source": [
    "### initialise states from dict mapping of numpy arrays"
   ]
  },
  {
   "cell_type": "code",
   "execution_count": 9,
   "metadata": {
    "collapsed": true
   },
   "outputs": [],
   "source": [
    "def initial_states_from_dict(imap,period,extent):\n",
    "    from awrams.utils.io.data_mapping import SplitFileManager\n",
    "    from awrams.utils.nodegraph import nodes\n",
    "    from os.path import join\n",
    "    from os import getcwd\n",
    "\n",
    "    data_path = '../../test_data/simulation/'\n",
    "\n",
    "    node_names = {'mleaf_dr': 'init_mleaf_hrudr',\n",
    "                  'mleaf_sr': 'init_mleaf_hrusr',\n",
    "                  's0_dr': 'init_s0_hrudr',\n",
    "                  's0_sr': 'init_s0_hrusr',\n",
    "                  'ss_dr': 'init_ss_hrudr',\n",
    "                  'ss_sr': 'init_ss_hrusr',\n",
    "                  'sd_dr': 'init_sd_hrudr',\n",
    "                  'sd_sr': 'init_sd_hrusr',\n",
    "                  'sg_bal': 'init_sg',\n",
    "                  'sr_bal': 'init_sr'}\n",
    "\n",
    "    data_map = {}\n",
    "    period = [period[0] - 1]\n",
    "    \n",
    "    for k in node_names:\n",
    "        sfm = SplitFileManager.open_existing(data_path,k+'*nc',k)\n",
    "        data_map[node_names[k]] = sfm.get_data(period,extent)\n",
    "\n",
    "    nodes.init_states_from_dict(imap,data_map,extent)\n"
   ]
  },
  {
   "cell_type": "code",
   "execution_count": 10,
   "metadata": {
    "collapsed": false
   },
   "outputs": [
    {
     "name": "stderr",
     "output_type": "stream",
     "text": [
      "2016-10-13 04:25:25,399 INFO Getting I/O dataspecs...\n",
      "2016-10-13 04:25:27,405 INFO Initialising output files...\n",
      "2016-10-13 04:25:27,544 INFO Building buffers...\n",
      "2016-10-13 04:25:27,665 INFO Running simulation...\n"
     ]
    },
    {
     "name": "stdout",
     "output_type": "stream",
     "text": [
      "worker pid: 10223\n",
      "worker pid: 10224\n",
      "worker pid: 10229\n",
      "worker pid: 10238\n"
     ]
    },
    {
     "name": "stderr",
     "output_type": "stream",
     "text": [
      "2016-10-13 04:25:29,557 INFO completed 25.00%\n",
      "2016-10-13 04:25:27,705 INFO writer pid: 10251\n",
      "2016-10-13 04:25:27,706 INFO reader pid: 10248\n",
      "2016-10-13 04:25:29,652 INFO completed 50.00%\n",
      "2016-10-13 04:25:29,728 INFO completed 75.00%\n",
      "2016-10-13 04:25:29,826 INFO completed 100.00%\n",
      "2016-10-13 04:25:29,847 INFO Completed period December 2010 - 1 of 2\n",
      "2016-10-13 04:25:29,913 INFO completed 25.00%\n",
      "2016-10-13 04:25:30,006 INFO completed 50.00%\n",
      "2016-10-13 04:25:30,113 INFO completed 75.00%\n",
      "2016-10-13 04:25:30,179 INFO completed 100.00%\n",
      "2016-10-13 04:25:30,186 INFO Completed period January 2011 - 2 of 2\n",
      "2016-10-13 04:25:30,809 INFO elapsed time: 5.43\n"
     ]
    },
    {
     "name": "stdout",
     "output_type": "stream",
     "text": [
      "reader pid: 10248\n"
     ]
    }
   ],
   "source": [
    "initial_states_from_dict(imap,period,extent)\n",
    "sim = Server(awral)\n",
    "sim.run(imap,omap,period,extent)"
   ]
  },
  {
   "cell_type": "markdown",
   "metadata": {},
   "source": [
    "### initialise states from netcdf files"
   ]
  },
  {
   "cell_type": "code",
   "execution_count": 11,
   "metadata": {
    "collapsed": true
   },
   "outputs": [],
   "source": [
    "    from awrams.utils.nodegraph import nodes\n",
    "    from os.path import join\n",
    "    from os import getcwd\n",
    "\n",
    "    data_path = '../../test_data/simulation/'\n",
    "\n",
    "    mapping = imap.mapping\n",
    "\n",
    "    mapping['init_sr'] = nodes.init_state_from_ncfile(data_path,'sr_bal*','sr_bal')\n",
    "    mapping['init_sg'] = nodes.init_state_from_ncfile(data_path,'sg_bal*','sg_bal')\n",
    "\n",
    "    HRU = {'_hrusr':'_sr','_hrudr':'_dr'}\n",
    "    for hru in ('_hrusr','_hrudr'):\n",
    "        for state in [\"s0\",\"ss\",\"sd\",'mleaf']:\n",
    "            mapping['init_'+state+hru] = nodes.init_state_from_ncfile(data_path,state+HRU[hru]+'*',state+HRU[hru])\n"
   ]
  },
  {
   "cell_type": "code",
   "execution_count": 12,
   "metadata": {
    "collapsed": false
   },
   "outputs": [
    {
     "name": "stderr",
     "output_type": "stream",
     "text": [
      "2016-10-13 04:25:31,139 INFO Getting I/O dataspecs...\n",
      "2016-10-13 04:25:33,112 INFO Initialising output files...\n",
      "2016-10-13 04:25:33,249 INFO Building buffers...\n",
      "2016-10-13 04:25:33,370 INFO Running simulation...\n"
     ]
    },
    {
     "name": "stdout",
     "output_type": "stream",
     "text": [
      "worker pid: 10318\n",
      "worker pid: 10319\n",
      "worker pid: 10324\n",
      "worker pid: 10333\n"
     ]
    },
    {
     "name": "stderr",
     "output_type": "stream",
     "text": [
      "2016-10-13 04:25:35,222 INFO completed 25.00%\n",
      "2016-10-13 04:25:33,413 INFO writer pid: 10346\n",
      "2016-10-13 04:25:33,414 INFO reader pid: 10343\n",
      "2016-10-13 04:25:35,335 INFO completed 50.00%\n",
      "2016-10-13 04:25:35,392 INFO completed 75.00%\n",
      "2016-10-13 04:25:35,489 INFO completed 100.00%\n",
      "2016-10-13 04:25:35,511 INFO Completed period December 2010 - 1 of 2\n",
      "2016-10-13 04:25:35,577 INFO completed 25.00%\n",
      "2016-10-13 04:25:35,707 INFO completed 50.00%\n",
      "2016-10-13 04:25:35,762 INFO completed 75.00%\n",
      "2016-10-13 04:25:35,858 INFO completed 100.00%\n",
      "2016-10-13 04:25:35,867 INFO Completed period January 2011 - 2 of 2\n",
      "2016-10-13 04:25:38,431 INFO elapsed time: 7.31\n"
     ]
    },
    {
     "name": "stdout",
     "output_type": "stream",
     "text": [
      "reader pid: 10343\n"
     ]
    }
   ],
   "source": [
    "initial_states_from_dict(imap,period,extent)\n",
    "sim = Server(awral)\n",
    "sim.run(imap,omap,period,extent)"
   ]
  },
  {
   "cell_type": "markdown",
   "metadata": {},
   "source": [
    "### fill gaps in forcing data with climatology"
   ]
  },
  {
   "cell_type": "code",
   "execution_count": 13,
   "metadata": {
    "collapsed": true
   },
   "outputs": [],
   "source": [
    "def insert_climatology(imap):\n",
    "    from awrams.utils.nodegraph import nodes\n",
    "    from os.path import join\n",
    "    from os import getcwd\n",
    "\n",
    "    data_path = '../../test_data/simulation/'\n",
    "\n",
    "    imap.mapping['precip_f'] = nodes.forcing_gap_filler(data_path,'rain_day*','rain_day',join(data_path,'climatology_daily_rain_day.nc'))\n",
    "    imap.mapping['tmax_f'] = nodes.forcing_gap_filler(data_path,'temp_max*','temp_max_day',join(data_path,'climatology_daily_temp_max_day.nc'))\n",
    "    imap.mapping['tmin_f'] = nodes.forcing_gap_filler(data_path,'temp_min*','temp_min_day',join(data_path,'climatology_daily_temp_min_day.nc'))\n",
    "    imap.mapping['solar_f'] = nodes.forcing_gap_filler(data_path,'solar*','solar_exposure_day',join(data_path,'climatology_daily_solar_exposure_day.nc'))\n",
    "    "
   ]
  },
  {
   "cell_type": "code",
   "execution_count": 14,
   "metadata": {
    "collapsed": false
   },
   "outputs": [
    {
     "name": "stderr",
     "output_type": "stream",
     "text": [
      "2016-10-13 04:25:38,482 INFO Getting I/O dataspecs...\n",
      "2016-10-13 04:25:39,190 INFO Initialising output files...\n",
      "2016-10-13 04:25:39,341 INFO Building buffers...\n",
      "2016-10-13 04:25:39,462 INFO Running simulation...\n"
     ]
    },
    {
     "name": "stdout",
     "output_type": "stream",
     "text": [
      "worker pid: 10413\n",
      "worker pid: 10414\n",
      "worker pid: 10419\n",
      "worker pid: 10428\n"
     ]
    },
    {
     "name": "stderr",
     "output_type": "stream",
     "text": [
      "2016-10-13 04:25:40,670 INFO completed 25.00%\n",
      "2016-10-13 04:25:39,511 INFO reader pid: 10438\n",
      "2016-10-13 04:25:39,510 INFO writer pid: 10441\n",
      "2016-10-13 04:25:40,764 INFO completed 50.00%\n",
      "2016-10-13 04:25:40,870 INFO completed 75.00%\n",
      "2016-10-13 04:25:40,970 INFO completed 100.00%\n",
      "2016-10-13 04:25:40,993 INFO Completed period December 2010 - 1 of 2\n",
      "2016-10-13 04:25:41,060 INFO completed 25.00%\n",
      "2016-10-13 04:25:41,153 INFO completed 50.00%\n",
      "2016-10-13 04:25:41,243 INFO completed 75.00%\n",
      "2016-10-13 04:25:41,316 INFO completed 100.00%\n",
      "2016-10-13 04:25:41,317 INFO Completed period January 2011 - 2 of 2\n",
      "2016-10-13 04:25:42,932 INFO elapsed time: 4.47\n"
     ]
    },
    {
     "name": "stdout",
     "output_type": "stream",
     "text": [
      "reader pid: 10438\n"
     ]
    }
   ],
   "source": [
    "insert_climatology(imap)\n",
    "sim = Server(awral)\n",
    "sim.run(imap,omap,period,extent)"
   ]
  }
 ],
 "metadata": {
  "kernelspec": {
   "display_name": "Python 3",
   "language": "python",
   "name": "python3"
  },
  "language_info": {
   "codemirror_mode": {
    "name": "ipython",
    "version": 3
   },
   "file_extension": ".py",
   "mimetype": "text/x-python",
   "name": "python",
   "nbconvert_exporter": "python",
   "pygments_lexer": "ipython3",
   "version": "3.4.2"
  }
 },
 "nbformat": 4,
 "nbformat_minor": 0
}
