{
 "cells": [
  {
   "cell_type": "code",
   "execution_count": 1,
   "metadata": {
    "collapsed": false
   },
   "outputs": [],
   "source": [
    "from awrams.simulation.server import SimulationServer\n",
    "from awrams.models import awral\n",
    "\n",
    "from awrams.utils import extents\n",
    "from awrams.utils import datetools"
   ]
  },
  {
   "cell_type": "code",
   "execution_count": 2,
   "metadata": {
    "collapsed": true
   },
   "outputs": [],
   "source": [
    "def change_path_to_forcing(imap):\n",
    "    from awrams.utils.nodegraph import nodes\n",
    "    from os.path import join\n",
    "    from os import getcwd\n",
    "\n",
    "    data_path = '../../test_data/simulation/'\n",
    "\n",
    "    FORCING = {\n",
    "        'tmin': ('temp_min*','temp_min_day',data_path),\n",
    "        'tmax': ('temp_max*','temp_max_day',data_path),\n",
    "        'precip': ('rain_day*','rain_day',data_path),\n",
    "        'solar': ('solar*','solar_exposure_day',data_path)\n",
    "    }\n",
    "    for k,v in FORCING.items():\n",
    "        imap.mapping[k+'_f'] = nodes.forcing_from_ncfiles(v[2],v[0],v[1])\n"
   ]
  },
  {
   "cell_type": "code",
   "execution_count": 3,
   "metadata": {
    "collapsed": false
   },
   "outputs": [],
   "source": [
    "imap = awral.get_default_mapping()\n",
    "change_path_to_forcing(imap)"
   ]
  },
  {
   "cell_type": "markdown",
   "metadata": {},
   "source": [
    "### create model output map and add nodes for saving some model outputs to netcdf files"
   ]
  },
  {
   "cell_type": "code",
   "execution_count": 4,
   "metadata": {
    "collapsed": false
   },
   "outputs": [
    {
     "data": {
      "text/plain": [
       "forcing_from_ncfiles([]):{'nc_var': 'temp_min_day', 'path': '../../test_data/simulation/', 'pattern': 'temp_min*', 'cache': False}"
      ]
     },
     "execution_count": 4,
     "metadata": {},
     "output_type": "execute_result"
    }
   ],
   "source": [
    "imap.mapping.tmin_f"
   ]
  },
  {
   "cell_type": "code",
   "execution_count": 5,
   "metadata": {
    "collapsed": true
   },
   "outputs": [],
   "source": [
    "def build_output_mapping(outpath):\n",
    "    from awrams.utils.nodegraph import nodes,graph\n",
    "    from awrams.models.awral.template import DEFAULT_TEMPLATE\n",
    "\n",
    "    ### populate output map with all model outputs\n",
    "    output_map = awral.get_output_nodes(DEFAULT_TEMPLATE)\n",
    "\n",
    "    #output_map.mapping['s0_ncsave'] = nodes.write_to_annual_ncfile(outpath,'s0')\n",
    "    #output_map.mapping['ss_ncsave'] = nodes.write_to_annual_ncfile(outpath,'ss')\n",
    "    #output_map.mapping['sd_ncsave'] = nodes.write_to_annual_ncfile(outpath,'sd')\n",
    "    output_map.mapping['qtot_ncsave'] = nodes.write_to_annual_ncfile(outpath,'qtot')\n",
    "    #output_map.mapping['etot_ncsave'] = nodes.write_to_annual_ncfile(outpath,'etot')\n",
    "\n",
    "    return output_map\n",
    "   # return graph.OutputGraph(output_map.mapping)\n"
   ]
  },
  {
   "cell_type": "code",
   "execution_count": 6,
   "metadata": {
    "collapsed": false
   },
   "outputs": [],
   "source": [
    "omap = build_output_mapping('./_results5k/')"
   ]
  },
  {
   "cell_type": "code",
   "execution_count": 7,
   "metadata": {
    "collapsed": false
   },
   "outputs": [],
   "source": [
    "period = datetools.dates('dec 2010 - jan 2011')"
   ]
  },
  {
   "cell_type": "code",
   "execution_count": 8,
   "metadata": {
    "collapsed": true
   },
   "outputs": [],
   "source": [
    "ref_5k = '/home/dshipman/SPATIAL_1K/Hyps_Layers/5k/Mbg_HypPerc_000_5k.flt'\n",
    "e5k = extents.Extent.from_file(ref_5k)\n",
    "ref_1k = '/home/dshipman/SPATIAL_1K/Hyps_Layers/1k/Mbg_HypPerc_000_1k.flt'\n",
    "e1k = extents.Extent.from_file(ref_1k)\n",
    "\n",
    "efull = extents.get_default_extent()"
   ]
  },
  {
   "cell_type": "code",
   "execution_count": 9,
   "metadata": {
    "collapsed": false
   },
   "outputs": [
    {
     "name": "stderr",
     "output_type": "stream",
     "text": [
      "2017-04-11 04:20:50,915 INFO Getting I/O dataspecs...\n",
      "2017-04-11 04:20:53,041 INFO Initialising output files...\n",
      "2017-04-11 04:20:53,089 INFO Building buffers...\n",
      "2017-04-11 04:20:55,864 INFO Running simulation...\n"
     ]
    },
    {
     "name": "stdout",
     "output_type": "stream",
     "text": [
      "worker pid: 31812\n",
      "worker pid: 31813\n",
      "worker pid: 31821\n",
      "worker pid: 31827\n",
      "worker pid: 31833\n",
      "worker pid: 31839\n",
      "worker pid: 31845\n"
     ]
    },
    {
     "name": "stderr",
     "output_type": "stream",
     "text": [
      "2017-04-11 04:20:56,634 INFO completed 11.11%\n",
      "2017-04-11 04:20:55,991 INFO writer pid: 31859\n",
      "2017-04-11 04:20:55,996 INFO reader pid: 31854\n",
      "2017-04-11 04:20:56,640 INFO completed 22.22%\n",
      "2017-04-11 04:20:56,657 INFO completed 33.33%\n",
      "2017-04-11 04:20:56,664 INFO completed 44.44%\n",
      "2017-04-11 04:20:56,716 INFO completed 55.56%\n",
      "2017-04-11 04:20:56,805 INFO completed 66.67%\n",
      "2017-04-11 04:20:56,926 INFO completed 77.78%\n",
      "2017-04-11 04:20:56,966 INFO completed 88.89%\n",
      "2017-04-11 04:20:57,020 INFO completed 100.00%\n",
      "2017-04-11 04:20:57,021 INFO Completed period December 2010 - 1 of 2\n",
      "2017-04-11 04:20:57,087 INFO completed 11.11%\n",
      "2017-04-11 04:20:57,139 INFO completed 22.22%\n",
      "2017-04-11 04:20:57,186 INFO completed 33.33%\n",
      "2017-04-11 04:20:57,194 INFO completed 44.44%\n",
      "2017-04-11 04:20:57,241 INFO completed 55.56%\n",
      "2017-04-11 04:20:57,328 INFO completed 66.67%\n",
      "2017-04-11 04:20:57,437 INFO completed 77.78%\n",
      "2017-04-11 04:20:57,486 INFO completed 88.89%\n",
      "2017-04-11 04:20:57,539 INFO completed 100.00%\n",
      "2017-04-11 04:20:57,544 INFO Completed period January 2011 - 2 of 2\n",
      "2017-04-11 04:21:01,570 INFO elapsed time: 10.66\n"
     ]
    },
    {
     "name": "stdout",
     "output_type": "stream",
     "text": [
      "worker pid: 31851\n",
      "reader pid: 31854\n"
     ]
    }
   ],
   "source": [
    "sim = SimulationServer(awral)\n",
    "sim.read_ahead = 8\n",
    "sim.num_workers = 8\n",
    "sim.run(imap,omap,period,e5k)"
   ]
  },
  {
   "cell_type": "markdown",
   "metadata": {
    "collapsed": true
   },
   "source": [
    "### initialise states from dict mapping of numpy arrays"
   ]
  },
  {
   "cell_type": "code",
   "execution_count": 10,
   "metadata": {
    "collapsed": false
   },
   "outputs": [
    {
     "name": "stderr",
     "output_type": "stream",
     "text": [
      "2017-04-11 04:21:01,632 INFO Getting I/O dataspecs...\n",
      "2017-04-11 04:21:05,383 INFO Initialising output files...\n",
      "2017-04-11 04:21:05,415 INFO Building buffers...\n",
      "2017-04-11 04:21:05,809 INFO Running simulation...\n"
     ]
    },
    {
     "name": "stdout",
     "output_type": "stream",
     "text": [
      "worker pid: 31982\n",
      "worker pid: 31983\n",
      "worker pid: 31988\n",
      "worker pid: 31997\n",
      "worker pid: 32003\n",
      "worker pid: 32009\n",
      "worker pid: 32015\n"
     ]
    },
    {
     "name": "stderr",
     "output_type": "stream",
     "text": [
      "2017-04-11 04:21:07,761 INFO completed 5.36%\n",
      "2017-04-11 04:21:05,927 INFO writer pid: 32032\n",
      "2017-04-11 04:21:05,936 INFO reader pid: 32028\n",
      "2017-04-11 04:21:08,078 INFO completed 10.71%\n",
      "2017-04-11 04:21:08,509 INFO completed 16.07%\n",
      "2017-04-11 04:21:08,748 INFO completed 21.43%\n",
      "2017-04-11 04:21:09,232 INFO completed 26.79%\n",
      "2017-04-11 04:21:09,563 INFO completed 32.14%\n",
      "2017-04-11 04:21:09,872 INFO completed 37.50%\n",
      "2017-04-11 04:21:10,284 INFO completed 42.86%\n",
      "2017-04-11 04:21:10,641 INFO completed 48.21%\n",
      "2017-04-11 04:21:10,990 INFO completed 53.57%\n",
      "2017-04-11 04:21:11,276 INFO completed 58.93%\n",
      "2017-04-11 04:21:11,663 INFO completed 64.29%\n",
      "2017-04-11 04:21:12,039 INFO completed 69.64%\n",
      "2017-04-11 04:21:12,519 INFO completed 75.00%\n",
      "2017-04-11 04:21:12,970 INFO completed 80.36%\n",
      "2017-04-11 04:21:13,293 INFO completed 85.71%\n",
      "2017-04-11 04:21:13,813 INFO completed 91.07%\n",
      "2017-04-11 04:21:14,191 INFO completed 96.43%\n",
      "2017-04-11 04:21:14,337 INFO Completed period December 2010 - 1 of 2\n",
      "2017-04-11 04:21:14,769 INFO completed 5.36%\n",
      "2017-04-11 04:21:15,069 INFO completed 10.71%\n",
      "2017-04-11 04:21:15,481 INFO completed 16.07%\n",
      "2017-04-11 04:21:15,706 INFO completed 21.43%\n",
      "2017-04-11 04:21:16,176 INFO completed 26.79%\n",
      "2017-04-11 04:21:16,509 INFO completed 32.14%\n",
      "2017-04-11 04:21:16,816 INFO completed 37.50%\n",
      "2017-04-11 04:21:17,237 INFO completed 42.86%\n",
      "2017-04-11 04:21:17,568 INFO completed 48.21%\n",
      "2017-04-11 04:21:17,924 INFO completed 53.57%\n",
      "2017-04-11 04:21:18,228 INFO completed 58.93%\n",
      "2017-04-11 04:21:18,604 INFO completed 64.29%\n",
      "2017-04-11 04:21:18,958 INFO completed 69.64%\n",
      "2017-04-11 04:21:19,319 INFO completed 75.00%\n",
      "2017-04-11 04:21:19,740 INFO completed 80.36%\n",
      "2017-04-11 04:21:20,156 INFO completed 85.71%\n",
      "2017-04-11 04:21:20,685 INFO completed 91.07%\n",
      "2017-04-11 04:21:20,959 INFO completed 96.43%\n",
      "2017-04-11 04:21:21,229 INFO Completed period January 2011 - 2 of 2\n",
      "2017-04-11 04:21:26,002 INFO elapsed time: 24.39\n"
     ]
    },
    {
     "name": "stdout",
     "output_type": "stream",
     "text": [
      "worker pid: 32021\n",
      "reader pid: 32028\n"
     ]
    }
   ],
   "source": [
    "omap = build_output_mapping('./_results1k/')\n",
    "\n",
    "sim = SimulationServer(awral)\n",
    "sim.read_ahead = 8\n",
    "sim.num_workers = 8\n",
    "sim.run(imap,omap,period,e1k)"
   ]
  },
  {
   "cell_type": "code",
   "execution_count": 11,
   "metadata": {
    "collapsed": true
   },
   "outputs": [],
   "source": [
    "def initial_states_from_dict(imap,period,extent):\n",
    "    from awrams.utils.io.data_mapping import SplitFileManager\n",
    "    from awrams.utils.nodegraph import nodes\n",
    "    from os.path import join\n",
    "    from os import getcwd\n",
    "\n",
    "    data_path = '../../test_data/simulation/'\n",
    "\n",
    "    node_names = {'mleaf_dr': 'init_mleaf_hrudr',\n",
    "                  'mleaf_sr': 'init_mleaf_hrusr',\n",
    "                  's0_dr': 'init_s0_hrudr',\n",
    "                  's0_sr': 'init_s0_hrusr',\n",
    "                  'ss_dr': 'init_ss_hrudr',\n",
    "                  'ss_sr': 'init_ss_hrusr',\n",
    "                  'sd_dr': 'init_sd_hrudr',\n",
    "                  'sd_sr': 'init_sd_hrusr',\n",
    "                  'sg_bal': 'init_sg',\n",
    "                  'sr_bal': 'init_sr'}\n",
    "\n",
    "    data_map = {}\n",
    "    period = [period[0] - 1]\n",
    "    \n",
    "    for k in node_names:\n",
    "        sfm = SplitFileManager.open_existing(data_path,k+'*nc',k)\n",
    "        data_map[node_names[k]] = sfm.get_data(period,extent)[0]\n",
    "\n",
    "    nodes.init_states_from_dict(imap,data_map,extent)\n"
   ]
  },
  {
   "cell_type": "code",
   "execution_count": 12,
   "metadata": {
    "collapsed": false
   },
   "outputs": [
    {
     "name": "stderr",
     "output_type": "stream",
     "text": [
      "2017-04-11 04:21:26,927 INFO Getting I/O dataspecs...\n",
      "2017-04-11 04:21:28,999 INFO Initialising output files...\n",
      "2017-04-11 04:21:29,050 INFO Building buffers...\n",
      "2017-04-11 04:21:29,454 INFO Running simulation...\n"
     ]
    },
    {
     "name": "stdout",
     "output_type": "stream",
     "text": [
      "worker pid: 32137\n",
      "worker pid: 32140\n",
      "worker pid: 32146\n",
      "worker pid: 32153\n"
     ]
    },
    {
     "name": "stderr",
     "output_type": "stream",
     "text": [
      "2017-04-11 04:21:31,214 INFO completed 11.11%\n",
      "2017-04-11 04:21:29,539 INFO reader pid: 32162\n",
      "2017-04-11 04:21:29,542 INFO writer pid: 32165\n",
      "2017-04-11 04:21:31,220 INFO completed 22.22%\n",
      "2017-04-11 04:21:31,236 INFO completed 33.33%\n",
      "2017-04-11 04:21:31,241 INFO completed 44.44%\n",
      "2017-04-11 04:21:31,296 INFO completed 55.56%\n",
      "2017-04-11 04:21:31,388 INFO completed 66.67%\n",
      "2017-04-11 04:21:31,498 INFO completed 77.78%\n",
      "2017-04-11 04:21:31,556 INFO completed 88.89%\n",
      "2017-04-11 04:21:31,606 INFO completed 100.00%\n",
      "2017-04-11 04:21:31,607 INFO Completed period December 2010 - 1 of 2\n",
      "2017-04-11 04:21:31,668 INFO completed 11.11%\n",
      "2017-04-11 04:21:31,734 INFO completed 22.22%\n",
      "2017-04-11 04:21:31,786 INFO completed 33.33%\n",
      "2017-04-11 04:21:31,792 INFO completed 44.44%\n",
      "2017-04-11 04:21:31,840 INFO completed 55.56%\n",
      "2017-04-11 04:21:31,927 INFO completed 66.67%\n",
      "2017-04-11 04:21:32,045 INFO completed 77.78%\n",
      "2017-04-11 04:21:32,087 INFO completed 88.89%\n",
      "2017-04-11 04:21:32,144 INFO completed 100.00%\n",
      "2017-04-11 04:21:32,150 INFO Completed period January 2011 - 2 of 2\n",
      "2017-04-11 04:21:35,304 INFO elapsed time: 8.38\n",
      "2017-04-11 04:21:35,339 INFO Getting I/O dataspecs...\n",
      "2017-04-11 04:21:39,161 INFO Initialising output files...\n",
      "2017-04-11 04:21:39,208 INFO Building buffers...\n",
      "2017-04-11 04:21:39,422 INFO Running simulation...\n"
     ]
    },
    {
     "name": "stdout",
     "output_type": "stream",
     "text": [
      "reader pid: 32162\n",
      "worker pid: 32233\n",
      "worker pid: 32234\n",
      "worker pid: 32239\n",
      "worker pid: 32248\n"
     ]
    },
    {
     "name": "stderr",
     "output_type": "stream",
     "text": [
      "2017-04-11 04:21:41,464 INFO completed 5.36%\n",
      "2017-04-11 04:21:39,507 INFO reader pid: 32258\n",
      "2017-04-11 04:21:39,508 INFO writer pid: 32261\n",
      "2017-04-11 04:21:41,911 INFO completed 10.71%\n",
      "2017-04-11 04:21:42,450 INFO completed 16.07%\n",
      "2017-04-11 04:21:42,756 INFO completed 21.43%\n",
      "2017-04-11 04:21:43,348 INFO completed 26.79%\n",
      "2017-04-11 04:21:43,758 INFO completed 32.14%\n",
      "2017-04-11 04:21:44,163 INFO completed 37.50%\n",
      "2017-04-11 04:21:44,667 INFO completed 42.86%\n",
      "2017-04-11 04:21:45,156 INFO completed 48.21%\n",
      "2017-04-11 04:21:45,583 INFO completed 53.57%\n",
      "2017-04-11 04:21:45,971 INFO completed 58.93%\n",
      "2017-04-11 04:21:46,465 INFO completed 64.29%\n",
      "2017-04-11 04:21:46,976 INFO completed 69.64%\n",
      "2017-04-11 04:21:47,459 INFO completed 75.00%\n",
      "2017-04-11 04:21:47,995 INFO completed 80.36%\n",
      "2017-04-11 04:21:48,372 INFO completed 85.71%\n",
      "2017-04-11 04:21:48,914 INFO completed 91.07%\n",
      "2017-04-11 04:21:49,389 INFO completed 96.43%\n",
      "2017-04-11 04:21:49,642 INFO Completed period December 2010 - 1 of 2\n",
      "2017-04-11 04:21:50,033 INFO completed 5.36%\n",
      "2017-04-11 04:21:50,320 INFO completed 10.71%\n",
      "2017-04-11 04:21:50,742 INFO completed 16.07%\n",
      "2017-04-11 04:21:50,971 INFO completed 21.43%\n",
      "2017-04-11 04:21:51,458 INFO completed 26.79%\n",
      "2017-04-11 04:21:51,812 INFO completed 32.14%\n",
      "2017-04-11 04:21:52,110 INFO completed 37.50%\n",
      "2017-04-11 04:21:52,543 INFO completed 42.86%\n",
      "2017-04-11 04:21:52,871 INFO completed 48.21%\n",
      "2017-04-11 04:21:53,232 INFO completed 53.57%\n",
      "2017-04-11 04:21:53,511 INFO completed 58.93%\n",
      "2017-04-11 04:21:53,912 INFO completed 64.29%\n",
      "2017-04-11 04:21:54,259 INFO completed 69.64%\n",
      "2017-04-11 04:21:54,629 INFO completed 75.00%\n",
      "2017-04-11 04:21:55,062 INFO completed 80.36%\n",
      "2017-04-11 04:21:55,382 INFO completed 85.71%\n",
      "2017-04-11 04:21:55,909 INFO completed 91.07%\n",
      "2017-04-11 04:21:56,279 INFO completed 96.43%\n",
      "2017-04-11 04:21:56,455 INFO Completed period January 2011 - 2 of 2\n",
      "2017-04-11 04:21:59,465 INFO elapsed time: 24.14\n"
     ]
    },
    {
     "name": "stdout",
     "output_type": "stream",
     "text": [
      "reader pid: 32258\n"
     ]
    }
   ],
   "source": [
    "initial_states_from_dict(imap,period,extents.get_default_extent())\n",
    "sim = SimulationServer(awral)\n",
    "omap = build_output_mapping('./_results5k/')\n",
    "sim.run(imap,omap,period,e5k)\n",
    "sim = SimulationServer(awral)\n",
    "omap = build_output_mapping('./_results1k/')\n",
    "sim.run(imap,omap,period,e1k)"
   ]
  },
  {
   "cell_type": "markdown",
   "metadata": {},
   "source": [
    "### initialise states from netcdf files"
   ]
  },
  {
   "cell_type": "code",
   "execution_count": 13,
   "metadata": {
    "collapsed": false
   },
   "outputs": [],
   "source": [
    "from awrams.utils.nodegraph import graph\n",
    "from awrams.utils.metatypes import ObjectDict as o\n",
    "from matplotlib import pyplot as plt"
   ]
  },
  {
   "cell_type": "code",
   "execution_count": 14,
   "metadata": {
    "collapsed": true
   },
   "outputs": [],
   "source": [
    "def get_initial_states(imap):\n",
    "    from awrams.utils.nodegraph import nodes\n",
    "    from os.path import join\n",
    "    from os import getcwd\n",
    "\n",
    "    data_path = '../../test_data/simulation/'\n",
    "\n",
    "    mapping = imap.mapping\n",
    "\n",
    "    mapping['init_sr'] = nodes.init_state_from_ncfile(data_path,'sr_bal*','sr_bal')\n",
    "    mapping['init_sg'] = nodes.init_state_from_ncfile(data_path,'sg_bal*','sg_bal')\n",
    "\n",
    "    HRU = {'_hrusr':'_sr','_hrudr':'_dr'}\n",
    "    for hru in ('_hrusr','_hrudr'):\n",
    "        for state in [\"s0\",\"ss\",\"sd\",'mleaf']:\n",
    "            mapping['init_'+state+hru] = nodes.init_state_from_ncfile(data_path,state+HRU[hru]+'*',state+HRU[hru])\n"
   ]
  },
  {
   "cell_type": "code",
   "execution_count": 15,
   "metadata": {
    "collapsed": false
   },
   "outputs": [
    {
     "name": "stderr",
     "output_type": "stream",
     "text": [
      "2017-04-11 04:22:00,390 INFO Getting I/O dataspecs...\n",
      "2017-04-11 04:22:04,265 INFO Initialising output files...\n",
      "2017-04-11 04:22:04,299 INFO Building buffers...\n",
      "2017-04-11 04:22:04,441 INFO Running simulation...\n"
     ]
    },
    {
     "name": "stdout",
     "output_type": "stream",
     "text": [
      "worker pid: 32362\n",
      "worker pid: 32365\n",
      "worker pid: 32371\n",
      "worker pid: 32377\n"
     ]
    },
    {
     "name": "stderr",
     "output_type": "stream",
     "text": [
      "2017-04-11 04:22:06,463 INFO completed 5.36%\n",
      "2017-04-11 04:22:04,530 INFO writer pid: 32390\n",
      "2017-04-11 04:22:04,532 INFO reader pid: 32387\n",
      "2017-04-11 04:22:06,892 INFO completed 10.71%\n",
      "2017-04-11 04:22:07,398 INFO completed 16.07%\n",
      "2017-04-11 04:22:07,736 INFO completed 21.43%\n",
      "2017-04-11 04:22:08,349 INFO completed 26.79%\n",
      "2017-04-11 04:22:08,799 INFO completed 32.14%\n",
      "2017-04-11 04:22:09,215 INFO completed 37.50%\n",
      "2017-04-11 04:22:09,784 INFO completed 42.86%\n",
      "2017-04-11 04:22:10,162 INFO completed 48.21%\n",
      "2017-04-11 04:22:10,584 INFO completed 53.57%\n",
      "2017-04-11 04:22:10,964 INFO completed 58.93%\n",
      "2017-04-11 04:22:11,445 INFO completed 64.29%\n",
      "2017-04-11 04:22:11,912 INFO completed 69.64%\n",
      "2017-04-11 04:22:12,508 INFO completed 75.00%\n",
      "2017-04-11 04:22:12,951 INFO completed 80.36%\n",
      "2017-04-11 04:22:13,467 INFO completed 85.71%\n",
      "2017-04-11 04:22:14,091 INFO completed 91.07%\n",
      "2017-04-11 04:22:14,476 INFO completed 96.43%\n",
      "2017-04-11 04:22:14,717 INFO Completed period December 2010 - 1 of 2\n",
      "2017-04-11 04:22:15,173 INFO completed 5.36%\n",
      "2017-04-11 04:22:15,501 INFO completed 10.71%\n",
      "2017-04-11 04:22:15,864 INFO completed 16.07%\n",
      "2017-04-11 04:22:16,200 INFO completed 21.43%\n",
      "2017-04-11 04:22:16,658 INFO completed 26.79%\n",
      "2017-04-11 04:22:17,015 INFO completed 32.14%\n",
      "2017-04-11 04:22:17,237 INFO completed 37.50%\n",
      "2017-04-11 04:22:17,657 INFO completed 42.86%\n",
      "2017-04-11 04:22:18,031 INFO completed 48.21%\n",
      "2017-04-11 04:22:18,381 INFO completed 53.57%\n",
      "2017-04-11 04:22:18,684 INFO completed 58.93%\n",
      "2017-04-11 04:22:19,067 INFO completed 64.29%\n",
      "2017-04-11 04:22:19,431 INFO completed 69.64%\n",
      "2017-04-11 04:22:19,816 INFO completed 75.00%\n",
      "2017-04-11 04:22:20,247 INFO completed 80.36%\n",
      "2017-04-11 04:22:20,556 INFO completed 85.71%\n",
      "2017-04-11 04:22:21,075 INFO completed 91.07%\n",
      "2017-04-11 04:22:21,439 INFO completed 96.43%\n",
      "2017-04-11 04:22:21,617 INFO Completed period January 2011 - 2 of 2\n",
      "2017-04-11 04:22:24,632 INFO elapsed time: 24.25\n"
     ]
    },
    {
     "name": "stdout",
     "output_type": "stream",
     "text": [
      "reader pid: 32387\n"
     ]
    }
   ],
   "source": [
    "initial_states_from_dict(imap,period,efull)\n",
    "sim = SimulationServer(awral)\n",
    "sim.run(imap,omap,period,e1k)"
   ]
  },
  {
   "cell_type": "markdown",
   "metadata": {},
   "source": [
    "### fill gaps in forcing data with climatology"
   ]
  },
  {
   "cell_type": "code",
   "execution_count": 16,
   "metadata": {
    "collapsed": true
   },
   "outputs": [],
   "source": [
    "def insert_climatology(imap):\n",
    "    from awrams.utils.nodegraph import nodes\n",
    "    from os.path import join\n",
    "    from os import getcwd\n",
    "\n",
    "    data_path = '../../test_data/simulation/'\n",
    "\n",
    "    imap.mapping['precip_f'] = nodes.forcing_gap_filler(data_path,'rain_day*','rain_day',join(data_path,'climatology_daily_rain_day.nc'))\n",
    "    imap.mapping['tmax_f'] = nodes.forcing_gap_filler(data_path,'temp_max*','temp_max_day',join(data_path,'climatology_daily_temp_max_day.nc'))\n",
    "    imap.mapping['tmin_f'] = nodes.forcing_gap_filler(data_path,'temp_min*','temp_min_day',join(data_path,'climatology_daily_temp_min_day.nc'))\n",
    "    imap.mapping['solar_f'] = nodes.forcing_gap_filler(data_path,'solar*','solar_exposure_day',join(data_path,'climatology_daily_solar_exposure_day.nc'))\n",
    "    "
   ]
  },
  {
   "cell_type": "code",
   "execution_count": 17,
   "metadata": {
    "collapsed": false
   },
   "outputs": [
    {
     "name": "stderr",
     "output_type": "stream",
     "text": [
      "2017-04-11 04:22:24,683 INFO Getting I/O dataspecs...\n",
      "2017-04-11 04:22:27,029 INFO Initialising output files...\n",
      "2017-04-11 04:22:27,091 INFO Building buffers...\n",
      "2017-04-11 04:22:27,744 INFO Running simulation...\n"
     ]
    },
    {
     "name": "stdout",
     "output_type": "stream",
     "text": [
      "worker pid: 32472\n",
      "worker pid: 32475\n",
      "worker pid: 32481\n",
      "worker pid: 32487\n"
     ]
    },
    {
     "name": "stderr",
     "output_type": "stream",
     "text": [
      "2017-04-11 04:22:28,550 INFO completed 11.11%\n",
      "2017-04-11 04:22:27,827 INFO reader pid: 32497\n",
      "2017-04-11 04:22:27,831 INFO writer pid: 32500\n",
      "2017-04-11 04:22:28,557 INFO completed 22.22%\n",
      "2017-04-11 04:22:28,589 INFO completed 33.33%\n",
      "2017-04-11 04:22:28,596 INFO completed 44.44%\n",
      "2017-04-11 04:22:28,666 INFO completed 55.56%\n",
      "2017-04-11 04:22:28,755 INFO completed 66.67%\n",
      "2017-04-11 04:22:28,889 INFO completed 77.78%\n",
      "2017-04-11 04:22:28,945 INFO completed 88.89%\n",
      "2017-04-11 04:22:28,983 INFO completed 100.00%\n",
      "2017-04-11 04:22:28,984 INFO Completed period December 2010 - 1 of 2\n",
      "2017-04-11 04:22:29,057 INFO completed 11.11%\n",
      "2017-04-11 04:22:29,119 INFO completed 22.22%\n",
      "2017-04-11 04:22:29,161 INFO completed 33.33%\n",
      "2017-04-11 04:22:29,182 INFO completed 44.44%\n",
      "2017-04-11 04:22:29,221 INFO completed 55.56%\n",
      "2017-04-11 04:22:29,307 INFO completed 66.67%\n",
      "2017-04-11 04:22:29,418 INFO completed 77.78%\n",
      "2017-04-11 04:22:29,466 INFO completed 88.89%\n",
      "2017-04-11 04:22:29,534 INFO completed 100.00%\n",
      "2017-04-11 04:22:29,535 INFO Completed period January 2011 - 2 of 2\n",
      "2017-04-11 04:22:32,353 INFO elapsed time: 7.67\n"
     ]
    },
    {
     "name": "stdout",
     "output_type": "stream",
     "text": [
      "reader pid: 32497\n"
     ]
    }
   ],
   "source": [
    "insert_climatology(imap)\n",
    "sim = SimulationServer(awral)\n",
    "sim.read_ahead = 4\n",
    "omap = build_output_mapping('./_results5k/')\n",
    "sim.run(imap,omap,period,e5k)"
   ]
  },
  {
   "cell_type": "code",
   "execution_count": 18,
   "metadata": {
    "collapsed": false
   },
   "outputs": [
    {
     "name": "stderr",
     "output_type": "stream",
     "text": [
      "2017-04-11 04:22:32,402 INFO Getting I/O dataspecs...\n",
      "2017-04-11 04:22:36,322 INFO Initialising output files...\n",
      "2017-04-11 04:22:36,374 INFO Building buffers...\n",
      "2017-04-11 04:22:36,581 INFO Running simulation...\n"
     ]
    },
    {
     "name": "stdout",
     "output_type": "stream",
     "text": [
      "worker pid: 32571\n",
      "worker pid: 32574\n",
      "worker pid: 32580\n",
      "worker pid: 32588\n"
     ]
    },
    {
     "name": "stderr",
     "output_type": "stream",
     "text": [
      "2017-04-11 04:22:38,681 INFO completed 5.36%\n",
      "2017-04-11 04:22:36,675 INFO reader pid: 32596\n",
      "2017-04-11 04:22:36,674 INFO writer pid: 32599\n",
      "2017-04-11 04:22:39,137 INFO completed 10.71%\n",
      "2017-04-11 04:22:39,678 INFO completed 16.07%\n",
      "2017-04-11 04:22:40,011 INFO completed 21.43%\n",
      "2017-04-11 04:22:40,713 INFO completed 26.79%\n",
      "2017-04-11 04:22:41,132 INFO completed 32.14%\n",
      "2017-04-11 04:22:41,566 INFO completed 37.50%\n",
      "2017-04-11 04:22:42,104 INFO completed 42.86%\n",
      "2017-04-11 04:22:42,588 INFO completed 48.21%\n",
      "2017-04-11 04:22:43,052 INFO completed 53.57%\n",
      "2017-04-11 04:22:43,477 INFO completed 58.93%\n",
      "2017-04-11 04:22:43,973 INFO completed 64.29%\n",
      "2017-04-11 04:22:44,469 INFO completed 69.64%\n",
      "2017-04-11 04:22:44,982 INFO completed 75.00%\n",
      "2017-04-11 04:22:45,547 INFO completed 80.36%\n",
      "2017-04-11 04:22:46,011 INFO completed 85.71%\n",
      "2017-04-11 04:22:46,642 INFO completed 91.07%\n",
      "2017-04-11 04:22:47,134 INFO completed 96.43%\n",
      "2017-04-11 04:22:47,355 INFO Completed period December 2010 - 1 of 2\n",
      "2017-04-11 04:22:47,801 INFO completed 5.36%\n",
      "2017-04-11 04:22:48,163 INFO completed 10.71%\n",
      "2017-04-11 04:22:48,584 INFO completed 16.07%\n",
      "2017-04-11 04:22:48,758 INFO completed 21.43%\n",
      "2017-04-11 04:22:49,296 INFO completed 26.79%\n",
      "2017-04-11 04:22:49,650 INFO completed 32.14%\n",
      "2017-04-11 04:22:49,893 INFO completed 37.50%\n",
      "2017-04-11 04:22:50,388 INFO completed 42.86%\n",
      "2017-04-11 04:22:50,735 INFO completed 48.21%\n",
      "2017-04-11 04:22:51,089 INFO completed 53.57%\n",
      "2017-04-11 04:22:51,389 INFO completed 58.93%\n",
      "2017-04-11 04:22:51,767 INFO completed 64.29%\n",
      "2017-04-11 04:22:52,118 INFO completed 69.64%\n",
      "2017-04-11 04:22:52,488 INFO completed 75.00%\n",
      "2017-04-11 04:22:52,913 INFO completed 80.36%\n",
      "2017-04-11 04:22:53,227 INFO completed 85.71%\n",
      "2017-04-11 04:22:53,749 INFO completed 91.07%\n",
      "2017-04-11 04:22:54,116 INFO completed 96.43%\n",
      "2017-04-11 04:22:54,272 INFO Completed period January 2011 - 2 of 2\n",
      "2017-04-11 04:22:57,220 INFO elapsed time: 24.84\n"
     ]
    },
    {
     "name": "stdout",
     "output_type": "stream",
     "text": [
      "reader pid: 32596\n"
     ]
    }
   ],
   "source": [
    "insert_climatology(imap)\n",
    "sim = SimulationServer(awral)\n",
    "sim.read_ahead = 4\n",
    "omap = build_output_mapping('./_results1k/')\n",
    "sim.run(imap,omap,period,e1k)"
   ]
  }
 ],
 "metadata": {
  "kernelspec": {
   "display_name": "Python 3",
   "language": "python",
   "name": "python3"
  },
  "language_info": {
   "codemirror_mode": {
    "name": "ipython",
    "version": 3
   },
   "file_extension": ".py",
   "mimetype": "text/x-python",
   "name": "python",
   "nbconvert_exporter": "python",
   "pygments_lexer": "ipython3",
   "version": "3.4.2"
  }
 },
 "nbformat": 4,
 "nbformat_minor": 0
}
