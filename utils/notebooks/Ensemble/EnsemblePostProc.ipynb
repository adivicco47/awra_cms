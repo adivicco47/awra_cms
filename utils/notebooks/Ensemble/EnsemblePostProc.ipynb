{
 "cells": [
  {
   "cell_type": "markdown",
   "metadata": {},
   "source": [
    "# Ensemble Post Processing\n",
    "\n",
    "Builds monthlies, rootzone soil moisture, extractions\n",
    "\n",
    "Do not rerun in same folder, it will overwrite existing postprocessed data"
   ]
  },
  {
   "cell_type": "code",
   "execution_count": 56,
   "metadata": {
    "collapsed": true
   },
   "outputs": [],
   "source": [
    "from awrams.visualisation import results\n",
    "from awrams.utils import extents\n",
    "from awrams.utils import datetools as dt\n",
    "from awrams.utils import mapping_types as mt\n",
    "import numpy as np\n",
    "from matplotlib import pyplot as plt\n",
    "import os\n",
    "from awrams.utils.io import data_mapping as dm\n",
    "import pandas as pd"
   ]
  },
  {
   "cell_type": "code",
   "execution_count": 2,
   "metadata": {
    "collapsed": true
   },
   "outputs": [],
   "source": [
    "ENSEMBLE_BASE_PATH = '/data/cwd_awra_data/awra_test_outputs/SydneyWater/'"
   ]
  },
  {
   "cell_type": "code",
   "execution_count": 3,
   "metadata": {
    "collapsed": true
   },
   "outputs": [],
   "source": [
    "# Load the Scheduled Run results as a reference - these are the 'actuals' using AWAP data\n",
    "\n",
    "ref_res = results.load_results('/data/cwd_awra_data/awra_test_outputs/Scheduled_v5_awraprod1/')"
   ]
  },
  {
   "cell_type": "code",
   "execution_count": 4,
   "metadata": {
    "collapsed": false
   },
   "outputs": [],
   "source": [
    "# Make variable names consistent between old and new style\n",
    "\n",
    "from awrams.utils import invert_dict\n",
    "\n",
    "VARS_OF_INTEREST = ['s0','ss','sm','e0','qtot','etot']\n",
    "OP_ENS_VAR_MAPPING = dict([(k+'_avg',k) for k in VARS_OF_INTEREST])\n",
    "ENS_OP_VAR_MAPPING = invert_dict(OP_ENS_VAR_MAPPING)\n",
    "#NC_VAR_MAPPING = dict([(k,ref_res.variables[ENS_OP_VAR_MAPPING[k]].reader.sfm.mapped_var.variable)\\\n",
    "#                       for k in VARS_OF_INTEREST])"
   ]
  },
  {
   "cell_type": "code",
   "execution_count": 5,
   "metadata": {
    "collapsed": false
   },
   "outputs": [],
   "source": [
    "from awrams.utils.gis import ShapefileDB\n",
    "sw_sf = ShapefileDB('/data/cdc_cwd_wra/awra/afrost/SydneyWater/Area_Operations_region.shp')\n",
    "sw_extent = sw_sf.get_extent_by_field('ID',1,ref_res.extent)"
   ]
  },
  {
   "cell_type": "code",
   "execution_count": 6,
   "metadata": {
    "collapsed": false
   },
   "outputs": [
    {
     "data": {
      "text/plain": [
       "origin: -33.0,149.95, shape: (37, 29), cell_size: 0.05"
      ]
     },
     "execution_count": 6,
     "metadata": {},
     "output_type": "execute_result"
    }
   ],
   "source": [
    "# The extent object defined by the Sydney Water shapefile\n",
    "\n",
    "sw_extent"
   ]
  },
  {
   "cell_type": "code",
   "execution_count": 7,
   "metadata": {
    "collapsed": false
   },
   "outputs": [],
   "source": [
    "# Get soil moisture conversion tables\n",
    "\n",
    "from awrams.utils.nodegraph import graph\n",
    "from awrams.models import awral\n",
    "imap = awral.get_default_mapping()\n",
    "\n",
    "def get_pct_full(actual,ref_grid):\n",
    "    return actual/ref_grid\n",
    "\n",
    "cs = mt.gen_coordset(dt.dates('1 jan 2000'),sw_extent) # Arbitrary time coords, only need spatial data\n",
    "\n",
    "smmap = graph.get_input_tree(['s0max','ssmax','sdmax'],imap.mapping)\n",
    "smexe = graph.ExecutionGraph(smmap)\n",
    "smdata = smexe.get_data(cs)\n",
    "smdata['smmax'] = smdata['s0max'] + smdata['ssmax']"
   ]
  },
  {
   "cell_type": "code",
   "execution_count": 8,
   "metadata": {
    "collapsed": false
   },
   "outputs": [],
   "source": [
    "allfcast = os.listdir(ENSEMBLE_BASE_PATH)\n",
    "allfcast = [k for k in allfcast if k.startswith('fcast')]"
   ]
  },
  {
   "cell_type": "code",
   "execution_count": 9,
   "metadata": {
    "collapsed": false
   },
   "outputs": [
    {
     "data": {
      "text/plain": [
       "['e01', 'e02', 'e03', 'e04', 'e05', 'e06', 'e07', 'e08', 'e09', 'e10', 'e11']"
      ]
     },
     "execution_count": 9,
     "metadata": {},
     "output_type": "execute_result"
    }
   ],
   "source": [
    "all_ens = ['e'+str(i).zfill(2) for i in range(1,12)]\n",
    "all_ens"
   ]
  },
  {
   "cell_type": "markdown",
   "metadata": {},
   "source": [
    "# Create rootzone soil moisture"
   ]
  },
  {
   "cell_type": "code",
   "execution_count": null,
   "metadata": {
    "collapsed": false,
    "scrolled": false
   },
   "outputs": [],
   "source": [
    "assert(False) # Comment out to run\n",
    "for cursim in allfcast:\n",
    "    print(cursim)\n",
    "    eres = results.EnsembleResults(os.path.join(ENSEMBLE_BASE_PATH,cursim))\n",
    "    eres_cs = mt.gen_coordset(eres.period,eres.extent)\n",
    "    mapped_smvar = mt.MappedVariable(sm_var,eres_cs,np.float32)\n",
    "    for e_str in all_ens:\n",
    "        e_path = os.path.join(ENSEMBLE_BASE_PATH,cursim,e_str)\n",
    "        print(e_path)\n",
    "        s0_data = eres.results[e_str].variables.s0.get_data(eres.period,eres.extent) \n",
    "        ss_data = eres.results[e_str].variables.ss.get_data(eres.period,eres.extent)\n",
    "        sm_data = s0_data + ss_data\n",
    "        sm_data[:,eres.extent.mask] = -999.0\n",
    "\n",
    "        sm_sfm = dm.SplitFileManager(e_path,mapped_smvar)\n",
    "        sm_sfm.create_files(dm.AnnualSplitSchema)\n",
    "\n",
    "        sm_sfm.set_by_coords(eres_cs,sm_data)\n",
    "\n",
    "        sm_sfm.close_all()"
   ]
  },
  {
   "cell_type": "code",
   "execution_count": 10,
   "metadata": {
    "collapsed": true
   },
   "outputs": [],
   "source": [
    "from awrams.utils import ts"
   ]
  },
  {
   "cell_type": "markdown",
   "metadata": {},
   "source": [
    "# Convert to monthly"
   ]
  },
  {
   "cell_type": "code",
   "execution_count": null,
   "metadata": {
    "collapsed": false
   },
   "outputs": [],
   "source": [
    "\n",
    "\n",
    "\n",
    "assert(False) # Comment out to run\n",
    "\n",
    "for cursim in allfcast:\n",
    "    print(cursim)\n",
    "    eres = results.EnsembleResults(os.path.join(ENSEMBLE_BASE_PATH,cursim))\n",
    "    eres_cs = mt.gen_coordset(eres.period,eres.extent)\n",
    "    \n",
    "    mres_idx = ts.processing.build_resample_index(eres.period,'m')\n",
    "    mperiod = dt.resample_dti(eres.period,'m')\n",
    "    \n",
    "    for e_str in all_ens:\n",
    "        \n",
    "        moutpath = os.path.join(ENSEMBLE_BASE_PATH,'monthly',cursim,e_str)\n",
    "        \n",
    "\n",
    "        \n",
    "            \n",
    "            print(e_str,v)\n",
    "            \n",
    "            mtv = eres.results['e01'].variables[v].reader.sfm.mapped_var.variable\n",
    "            mapped_v = mt.MappedVariable(mtv,mt.gen_coordset(mperiod,eres.extent),np.float32)\n",
    "            \n",
    "            out_sfm = dm.SplitFileManager(moutpath,mapped_v)\n",
    "            out_sfm.create_files(dm.FlatFileSchema,clobber=True)\n",
    "            write_cs = out_sfm.get_coords()\n",
    "            \n",
    "            d = eres.results[e_str].variables[v].get_data(eres.period,eres.extent)\n",
    "            if v.startswith('s'):\n",
    "                rdata = [d[s].mean(axis=0) for s in mres_idx]\n",
    "            else:\n",
    "                rdata = [d[s].sum(axis=0) for s in mres_idx]\n",
    "            rdata = np.array(rdata)\n",
    "            rdata[:,eres.extent.mask] = -999.0\n",
    "            \n",
    "            out_sfm.set_by_coords(write_cs,rdata)\n",
    "            out_sfm.close_all()\n",
    "            \n",
    "            \n",
    "            \n",
    "            \n",
    "            \n"
   ]
  },
  {
   "cell_type": "code",
   "execution_count": 52,
   "metadata": {
    "collapsed": true
   },
   "outputs": [],
   "source": [
    "def agg_volume_pct(in_data,extent,soil_buckets):\n",
    "    '''\n",
    "    Return a percentage full aggregated series\n",
    "    '''\n",
    "    aweights = (extent.areas / extent.area)\n",
    "    maxfull = np.nansum(soil_buckets * aweights)\n",
    "    pct_full = np.nansum(in_data * aweights,axis=(1,2))/maxfull\n",
    "    return pct_full"
   ]
  },
  {
   "cell_type": "code",
   "execution_count": 61,
   "metadata": {
    "collapsed": true
   },
   "outputs": [],
   "source": [
    "def agg_weighted_mean(in_data,extent):\n",
    "    '''\n",
    "    Return an area weighted mean aggregation\n",
    "    '''\n",
    "    aweights = (extent.areas / extent.area)\n",
    "    return np.nansum(in_data*aweights,axis=(1,2))"
   ]
  },
  {
   "cell_type": "markdown",
   "metadata": {},
   "source": [
    "# Extractions"
   ]
  },
  {
   "cell_type": "code",
   "execution_count": 62,
   "metadata": {
    "collapsed": false
   },
   "outputs": [
    {
     "name": "stdout",
     "output_type": "stream",
     "text": [
      "/data/cwd_awra_data/awra_test_outputs/SydneyWater/extractions/fcast20020501\n",
      "s0\n",
      "ss\n",
      "sm\n",
      "e0\n",
      "qtot\n",
      "etot\n",
      "/data/cwd_awra_data/awra_test_outputs/SydneyWater/extractions/fcast20101001\n",
      "s0\n",
      "ss\n",
      "sm\n",
      "e0\n",
      "qtot\n",
      "etot\n",
      "/data/cwd_awra_data/awra_test_outputs/SydneyWater/extractions/fcast20050501\n",
      "s0\n",
      "ss\n",
      "sm\n",
      "e0\n",
      "qtot\n",
      "etot\n",
      "/data/cwd_awra_data/awra_test_outputs/SydneyWater/extractions/fcast20081001\n",
      "s0\n",
      "ss\n",
      "sm\n",
      "e0\n",
      "qtot\n",
      "etot\n",
      "/data/cwd_awra_data/awra_test_outputs/SydneyWater/extractions/fcast20011001\n",
      "s0\n",
      "ss\n",
      "sm\n",
      "e0\n",
      "qtot\n",
      "etot\n",
      "/data/cwd_awra_data/awra_test_outputs/SydneyWater/extractions/fcast20111001\n",
      "s0\n",
      "ss\n",
      "sm\n",
      "e0\n",
      "qtot\n",
      "etot\n",
      "/data/cwd_awra_data/awra_test_outputs/SydneyWater/extractions/fcast20040501\n",
      "s0\n",
      "ss\n",
      "sm\n",
      "e0\n",
      "qtot\n",
      "etot\n",
      "/data/cwd_awra_data/awra_test_outputs/SydneyWater/extractions/fcast20030501\n",
      "s0\n",
      "ss\n",
      "sm\n",
      "e0\n",
      "qtot\n",
      "etot\n",
      "/data/cwd_awra_data/awra_test_outputs/SydneyWater/extractions/fcast20001001\n",
      "s0\n",
      "ss\n",
      "sm\n",
      "e0\n",
      "qtot\n",
      "etot\n",
      "/data/cwd_awra_data/awra_test_outputs/SydneyWater/extractions/fcast20091001\n",
      "s0\n",
      "ss\n",
      "sm\n",
      "e0\n",
      "qtot\n",
      "etot\n",
      "/data/cwd_awra_data/awra_test_outputs/SydneyWater/extractions/fcast20031001\n",
      "s0\n",
      "ss\n",
      "sm\n",
      "e0\n",
      "qtot\n",
      "etot\n",
      "/data/cwd_awra_data/awra_test_outputs/SydneyWater/extractions/fcast20110501\n",
      "s0\n",
      "ss\n",
      "sm\n",
      "e0\n",
      "qtot\n",
      "etot\n",
      "/data/cwd_awra_data/awra_test_outputs/SydneyWater/extractions/fcast20041001\n",
      "s0\n",
      "ss\n",
      "sm\n",
      "e0\n",
      "qtot\n",
      "etot\n",
      "/data/cwd_awra_data/awra_test_outputs/SydneyWater/extractions/fcast20090501\n",
      "s0\n",
      "ss\n",
      "sm\n",
      "e0\n",
      "qtot\n",
      "etot\n",
      "/data/cwd_awra_data/awra_test_outputs/SydneyWater/extractions/fcast20000501\n",
      "s0\n",
      "ss\n",
      "sm\n",
      "e0\n",
      "qtot\n",
      "etot\n",
      "/data/cwd_awra_data/awra_test_outputs/SydneyWater/extractions/fcast20070501\n",
      "s0\n",
      "ss\n",
      "sm\n",
      "e0\n",
      "qtot\n",
      "etot\n",
      "/data/cwd_awra_data/awra_test_outputs/SydneyWater/extractions/fcast20100501\n",
      "s0\n",
      "ss\n",
      "sm\n",
      "e0\n",
      "qtot\n",
      "etot\n",
      "/data/cwd_awra_data/awra_test_outputs/SydneyWater/extractions/fcast20051001\n",
      "s0\n",
      "ss\n",
      "sm\n",
      "e0\n",
      "qtot\n",
      "etot\n",
      "/data/cwd_awra_data/awra_test_outputs/SydneyWater/extractions/fcast20021001\n",
      "s0\n",
      "ss\n",
      "sm\n",
      "e0\n",
      "qtot\n",
      "etot\n",
      "/data/cwd_awra_data/awra_test_outputs/SydneyWater/extractions/fcast20060501\n",
      "s0\n",
      "ss\n",
      "sm\n",
      "e0\n",
      "qtot\n",
      "etot\n",
      "/data/cwd_awra_data/awra_test_outputs/SydneyWater/extractions/fcast20010501\n",
      "s0\n",
      "ss\n",
      "sm\n",
      "e0\n",
      "qtot\n",
      "etot\n",
      "/data/cwd_awra_data/awra_test_outputs/SydneyWater/extractions/fcast20080501\n",
      "s0\n",
      "ss\n",
      "sm\n",
      "e0\n",
      "qtot\n",
      "etot\n"
     ]
    }
   ],
   "source": [
    "for cursim in allfcast:\n",
    "    eres = results.EnsembleResults(os.path.join(ENSEMBLE_BASE_PATH,cursim))\n",
    "    eres_cs = mt.gen_coordset(eres.period,eres.extent)\n",
    "    \n",
    "    outpath = os.path.join(ENSEMBLE_BASE_PATH,'extractions',cursim)\n",
    "    \n",
    "    print(outpath)\n",
    "    \n",
    "    os.makedirs(outpath,exist_ok=True)\n",
    "    \n",
    "    \n",
    "    \n",
    "    for v in VARS_OF_INTEREST:\n",
    "        agg_df = pd.DataFrame(index=eres.period)\n",
    "        pct_df = pd.DataFrame(index=eres.period)\n",
    "        print(v)            \n",
    "        v_data = eres.get_ens_results(eres.period,sw_extent,v)\n",
    "\n",
    "        for e_str in all_ens:\n",
    "\n",
    "            agg_df[e_str] = agg_weighted_mean(v_data[e_str],sw_extent)\n",
    "\n",
    "            if v.startswith('s'):\n",
    "                pct_df[e_str] = agg_volume_pct(v_data[e_str],sw_extent,smdata[v+'max'])\n",
    "\n",
    "        agg_df.to_csv(os.path.join(outpath,v+'_agg.csv'))\n",
    "\n",
    "        if v.startswith('s'):\n",
    "            pct_df.to_csv(os.path.join(outpath,v+'_pct.csv'))\n",
    "                    \n",
    "            \n",
    "            "
   ]
  },
  {
   "cell_type": "code",
   "execution_count": 65,
   "metadata": {
    "collapsed": true
   },
   "outputs": [],
   "source": [
    "# Load results for processed data (ie soil moisture percentiles/rootzone soil moisture)\n",
    "\n",
    "ref_processed_res = results.load_results('/data/cwd_awra_data/awra_test_outputs/Scheduled_v5_awraprod1/processed/values/day/')"
   ]
  },
  {
   "cell_type": "code",
   "execution_count": 70,
   "metadata": {
    "collapsed": true
   },
   "outputs": [],
   "source": [
    "ACTUAL_PERIOD = dt.dates('1990 - july 2017')"
   ]
  },
  {
   "cell_type": "code",
   "execution_count": 71,
   "metadata": {
    "collapsed": false
   },
   "outputs": [
    {
     "data": {
      "text/plain": [
       "'s0_avg'"
      ]
     },
     "execution_count": 71,
     "metadata": {},
     "output_type": "execute_result"
    }
   ],
   "source": [
    "ENS_OP_VAR_MAPPING[v]"
   ]
  },
  {
   "cell_type": "code",
   "execution_count": 72,
   "metadata": {
    "collapsed": false
   },
   "outputs": [
    {
     "name": "stdout",
     "output_type": "stream",
     "text": [
      "/data/cwd_awra_data/awra_test_outputs/SydneyWater/extractions/actuals\n",
      "s0\n",
      "ss\n",
      "sm\n",
      "e0\n",
      "qtot\n",
      "etot\n"
     ]
    }
   ],
   "source": [
    "# Extract actuals\n",
    "\n",
    "outpath = os.path.join(ENSEMBLE_BASE_PATH,'extractions/actuals')\n",
    "    \n",
    "print(outpath)\n",
    "\n",
    "os.makedirs(outpath,exist_ok=True)\n",
    "\n",
    "actuals_df = pd.DataFrame(index=ACTUAL_PERIOD)\n",
    "\n",
    "for v in VARS_OF_INTEREST:\n",
    "    print(v)\n",
    "    \n",
    "    if v == 'sm':\n",
    "        actual_res = ref_processed_res\n",
    "    else:\n",
    "        actual_res = ref_res\n",
    "        \n",
    "    v_actual = ENS_OP_VAR_MAPPING[v]\n",
    "    \n",
    "    v_data = actual_res.variables[v_actual].get_data(ACTUAL_PERIOD,sw_extent)\n",
    "\n",
    "    for e_str in all_ens:\n",
    "\n",
    "        actuals_df[v] = agg_weighted_mean(v_data,sw_extent)\n",
    "\n",
    "        if v.startswith('s'):\n",
    "            actuals_df[v+'_pct'] = agg_volume_pct(v_data,sw_extent,smdata[v+'max'])\n",
    "\n",
    "actuals_df.to_csv(os.path.join(outpath,'awap.csv'))               "
   ]
  },
  {
   "cell_type": "code",
   "execution_count": null,
   "metadata": {
    "collapsed": true
   },
   "outputs": [],
   "source": [
    "pctiles = [0,5,20,25,50,75,80,95,100]\n",
    "eda_pct = np.percentile(list(edata_agg.values()),pctiles,axis=0)"
   ]
  },
  {
   "cell_type": "code",
   "execution_count": null,
   "metadata": {
    "collapsed": false
   },
   "outputs": [],
   "source": [
    "ref_data = ref_res.variables['ss_avg'].get_data(eres.period,sw_extent)\n",
    "ref_agg = agg_volume_pct(ref_data,smdata['ssmax'])"
   ]
  },
  {
   "cell_type": "code",
   "execution_count": null,
   "metadata": {
    "collapsed": false
   },
   "outputs": [],
   "source": [
    "df = pd.DataFrame(index=period)\n",
    "for i,k in enumerate(pctiles):\n",
    "    df['%spct' % k] = eda_pct[i]\n",
    "df['actual'] = ref_agg"
   ]
  },
  {
   "cell_type": "code",
   "execution_count": null,
   "metadata": {
    "collapsed": false
   },
   "outputs": [],
   "source": [
    "import matplotlib\n",
    "matplotlib.style.use('ggplot')\n",
    "matplotlib.rcParams['figure.figsize'] = [14,6]\n",
    "from matplotlib import pyplot as plt"
   ]
  },
  {
   "cell_type": "code",
   "execution_count": null,
   "metadata": {
    "collapsed": true
   },
   "outputs": [],
   "source": [
    "sm_layer_name = 'Rootzone Soil Moisture'"
   ]
  },
  {
   "cell_type": "code",
   "execution_count": null,
   "metadata": {
    "collapsed": false
   },
   "outputs": [],
   "source": [
    "\n",
    "df[['5pct','50pct','95pct','actual']].plot(style=dict(actual='.')).legend(loc='center left', bbox_to_anchor=(1, 0.5))\n",
    "plt.title('%s (catchment area) - forecast vs AWAP' % sm_layer_name)\n",
    "plt.ylabel('proportion full')\n"
   ]
  },
  {
   "cell_type": "code",
   "execution_count": null,
   "metadata": {
    "collapsed": false
   },
   "outputs": [],
   "source": [
    "def pctile_series(ref,comp):\n",
    "    \n",
    "    out = np.empty_like(comp)\n",
    "    for i in range(len(comp)):\n",
    "        out[i] = stats.percentileofscore(ref[:,i],comp[i])\n",
    "    return out"
   ]
  },
  {
   "cell_type": "code",
   "execution_count": null,
   "metadata": {
    "collapsed": false
   },
   "outputs": [],
   "source": [
    "df[['actual','5pct','50pct','95pct']].plot(style=dict(actual='.'))\n",
    "plt.title('%s (catchment area) - forecast vs AWAP' % sm_layer_name)\n",
    "plt.ylabel('mm')"
   ]
  },
  {
   "cell_type": "code",
   "execution_count": null,
   "metadata": {
    "collapsed": true
   },
   "outputs": [],
   "source": [
    "from awrams.utils.nodegraph import graph\n",
    "from awrams.models import awral\n",
    "imap = awral.get_default_mapping()\n",
    "\n",
    "def get_pct_full(actual,ref_grid):\n",
    "    return actual/ref_grid\n",
    "\n",
    "smmap = graph.get_input_tree(['s0max','ssmax','sdmax'],imap.mapping)\n",
    "smexe = graph.ExecutionGraph(smmap)\n",
    "smdata = smexe.get_data(cs)"
   ]
  },
  {
   "cell_type": "code",
   "execution_count": null,
   "metadata": {
    "collapsed": false
   },
   "outputs": [],
   "source": [
    "smmap = graph.get_input_tree(['s0max','ssmax','sdmax'],imap.mapping)\n",
    "smexe = graph.ExecutionGraph(smmap)\n",
    "smdata = smexe.get_data(cs)"
   ]
  },
  {
   "cell_type": "code",
   "execution_count": null,
   "metadata": {
    "collapsed": true
   },
   "outputs": [],
   "source": []
  },
  {
   "cell_type": "code",
   "execution_count": null,
   "metadata": {
    "collapsed": false
   },
   "outputs": [],
   "source": []
  },
  {
   "cell_type": "code",
   "execution_count": null,
   "metadata": {
    "collapsed": false
   },
   "outputs": [],
   "source": [
    "smdata['ssmax'].shape"
   ]
  },
  {
   "cell_type": "code",
   "execution_count": null,
   "metadata": {
    "collapsed": false
   },
   "outputs": [],
   "source": [
    "imap.mapping.s0max"
   ]
  },
  {
   "cell_type": "code",
   "execution_count": null,
   "metadata": {
    "collapsed": true
   },
   "outputs": [],
   "source": []
  },
  {
   "cell_type": "code",
   "execution_count": null,
   "metadata": {
    "collapsed": true
   },
   "outputs": [],
   "source": [
    "e01_sfull = get_pct_full(ss_ens['e01'],smdata['ssmax'])"
   ]
  },
  {
   "cell_type": "code",
   "execution_count": null,
   "metadata": {
    "collapsed": false
   },
   "outputs": [],
   "source": [
    "np.nanmin(e01_sfull)"
   ]
  },
  {
   "cell_type": "code",
   "execution_count": null,
   "metadata": {
    "collapsed": false
   },
   "outputs": [],
   "source": [
    "plt.imshow(e01_sfull[0])"
   ]
  },
  {
   "cell_type": "code",
   "execution_count": null,
   "metadata": {
    "collapsed": false
   },
   "outputs": [],
   "source": [
    "d = get_ens_results(eres,period[0:180],extent,'s0')"
   ]
  },
  {
   "cell_type": "code",
   "execution_count": null,
   "metadata": {
    "collapsed": true
   },
   "outputs": [],
   "source": [
    "dl = list(d.values())"
   ]
  },
  {
   "cell_type": "code",
   "execution_count": null,
   "metadata": {
    "collapsed": true
   },
   "outputs": [],
   "source": [
    "pctiles = np.percentile(dl,[0,5,20,25,50,75,80,95,100],axis=0)"
   ]
  },
  {
   "cell_type": "code",
   "execution_count": null,
   "metadata": {
    "collapsed": false
   },
   "outputs": [],
   "source": [
    "mpc = np.ma.MaskedArray(pctiles)"
   ]
  },
  {
   "cell_type": "code",
   "execution_count": null,
   "metadata": {
    "collapsed": false
   },
   "outputs": [],
   "source": [
    "mpc.mask = True\n",
    "mpc.mask[...] = False\n",
    "mpc.mask[np.isnan(pctiles)] = True"
   ]
  },
  {
   "cell_type": "code",
   "execution_count": null,
   "metadata": {
    "collapsed": false
   },
   "outputs": [],
   "source": [
    "from matplotlib import pyplot as plt"
   ]
  },
  {
   "cell_type": "code",
   "execution_count": null,
   "metadata": {
    "collapsed": false
   },
   "outputs": [],
   "source": [
    "pctiles.shape"
   ]
  },
  {
   "cell_type": "code",
   "execution_count": null,
   "metadata": {
    "collapsed": true
   },
   "outputs": [],
   "source": [
    "maxval=np.nanmax(pctiles)"
   ]
  },
  {
   "cell_type": "code",
   "execution_count": null,
   "metadata": {
    "collapsed": false
   },
   "outputs": [],
   "source": [
    "pctiles.shape"
   ]
  },
  {
   "cell_type": "code",
   "execution_count": null,
   "metadata": {
    "collapsed": false
   },
   "outputs": [],
   "source": [
    "im = plt.imshow(pctiles[-1][0]-pctiles[0][0])\n",
    "plt.colorbar(im)"
   ]
  },
  {
   "cell_type": "code",
   "execution_count": null,
   "metadata": {
    "collapsed": false
   },
   "outputs": [],
   "source": [
    "im = plt.imshow(pctiles[-1][-1]-pctiles[0][-1])\n",
    "plt.colorbar(im)"
   ]
  },
  {
   "cell_type": "code",
   "execution_count": null,
   "metadata": {
    "collapsed": false
   },
   "outputs": [],
   "source": [
    "im = plt.imshow(pctiles[4][0],vmin=0.,vmax=maxval)\n",
    "plt.colorbar(im)"
   ]
  },
  {
   "cell_type": "code",
   "execution_count": null,
   "metadata": {
    "collapsed": false
   },
   "outputs": [],
   "source": [
    "im = plt.imshow(pctiles[-1][0],vmin=0.,vmax=maxval)\n",
    "plt.colorbar(im)"
   ]
  },
  {
   "cell_type": "code",
   "execution_count": null,
   "metadata": {
    "collapsed": false
   },
   "outputs": [],
   "source": [
    "np.nanmin(pctiles[-1,90] - pctiles[0,90])"
   ]
  },
  {
   "cell_type": "code",
   "execution_count": null,
   "metadata": {
    "collapsed": true
   },
   "outputs": [],
   "source": [
    "ref_data = ref_res.variables.ss_avg.get_data(period,extent)"
   ]
  },
  {
   "cell_type": "code",
   "execution_count": null,
   "metadata": {
    "collapsed": true
   },
   "outputs": [],
   "source": [
    "ss_ens = get_ens_results(eres,period,extent,'ss')"
   ]
  },
  {
   "cell_type": "code",
   "execution_count": null,
   "metadata": {
    "collapsed": false
   },
   "outputs": [],
   "source": [
    "a = np.random.normal(size=(3,3,5))\n",
    "a"
   ]
  },
  {
   "cell_type": "code",
   "execution_count": null,
   "metadata": {
    "collapsed": true
   },
   "outputs": [],
   "source": [
    "def cell_flatten(x):\n",
    "    return x.reshape((x.shape[0],x.shape[1]*x.shape[2]))\n",
    "    "
   ]
  },
  {
   "cell_type": "code",
   "execution_count": null,
   "metadata": {
    "collapsed": true
   },
   "outputs": [],
   "source": [
    "def naive_corr(x,y):\n",
    "    output = np.empty(x.shape[1:])\n",
    "    for i in range(x.shape[1]):\n",
    "        for j in range(x.shape[2]):\n",
    "            output[i,j] = np.corrcoef(x[:,i,j],y[:,i,j])[0,1]\n",
    "    return output"
   ]
  },
  {
   "cell_type": "code",
   "execution_count": null,
   "metadata": {
    "collapsed": false
   },
   "outputs": [],
   "source": [
    "np.corrcoef(ref_data[:,52,52],ss_ens['e01'][:,52,52])"
   ]
  },
  {
   "cell_type": "code",
   "execution_count": null,
   "metadata": {
    "collapsed": true
   },
   "outputs": [],
   "source": [
    "np.corrcoef?"
   ]
  },
  {
   "cell_type": "code",
   "execution_count": null,
   "metadata": {
    "collapsed": false
   },
   "outputs": [],
   "source": [
    "ref_data.shape[1:]"
   ]
  },
  {
   "cell_type": "code",
   "execution_count": null,
   "metadata": {
    "collapsed": false
   },
   "outputs": [],
   "source": [
    "ccmap = {}\n",
    "for k,v in ss_ens.items():\n",
    "    print(k)\n",
    "    ccmap[k] = naive_corr(ref_data,v)"
   ]
  },
  {
   "cell_type": "code",
   "execution_count": null,
   "metadata": {
    "collapsed": false
   },
   "outputs": [],
   "source": [
    "im = plt.imshow(ccmap,vmin=-1,vmax=1)\n",
    "plt.colorbar(im)"
   ]
  },
  {
   "cell_type": "code",
   "execution_count": null,
   "metadata": {
    "collapsed": false
   },
   "outputs": [],
   "source": [
    "k = 'e11'\n",
    "im = plt.imshow(ccmap[k],vmin=-1,vmax=1)\n",
    "plt.colorbar(im)\n",
    "plt.title(k)"
   ]
  },
  {
   "cell_type": "code",
   "execution_count": null,
   "metadata": {
    "collapsed": false
   },
   "outputs": [],
   "source": [
    "ccmean = np.nanmean(list(ccmap.values()),axis=(0))"
   ]
  },
  {
   "cell_type": "code",
   "execution_count": null,
   "metadata": {
    "collapsed": false
   },
   "outputs": [],
   "source": [
    "plt.imshow(ccmean,vmin=-1,vmax=1)\n",
    "plt.colorbar(im)\n",
    "plt.title(k)"
   ]
  },
  {
   "cell_type": "code",
   "execution_count": null,
   "metadata": {
    "collapsed": false
   },
   "outputs": [],
   "source": [
    "cell_flatten(ref_data).shape"
   ]
  },
  {
   "cell_type": "code",
   "execution_count": null,
   "metadata": {
    "collapsed": false
   },
   "outputs": [],
   "source": [
    "ccmap.shape"
   ]
  },
  {
   "cell_type": "code",
   "execution_count": null,
   "metadata": {
    "collapsed": false
   },
   "outputs": [],
   "source": [
    "offset_med = ref_res.variables.ss_avg.data - mpc[4,30]"
   ]
  },
  {
   "cell_type": "code",
   "execution_count": null,
   "metadata": {
    "collapsed": true
   },
   "outputs": [],
   "source": [
    "offset = ref_res.variables.ss_avg.data - np.mean(dl,axis=0)[30]"
   ]
  },
  {
   "cell_type": "code",
   "execution_count": null,
   "metadata": {
    "collapsed": false
   },
   "outputs": [],
   "source": [
    "im = plt.imshow(offset_med)\n",
    "plt.colorbar(im)"
   ]
  },
  {
   "cell_type": "code",
   "execution_count": null,
   "metadata": {
    "collapsed": false
   },
   "outputs": [],
   "source": [
    "im = plt.imshow(offset)\n",
    "plt.colorbar(im)"
   ]
  },
  {
   "cell_type": "code",
   "execution_count": null,
   "metadata": {
    "collapsed": false
   },
   "outputs": [],
   "source": [
    "ref_res.plot_spatial('ss_avg',period[30:31],extent)"
   ]
  },
  {
   "cell_type": "code",
   "execution_count": null,
   "metadata": {
    "collapsed": false
   },
   "outputs": [],
   "source": [
    "ref_res = results.load_results('/data/cwd_awra_data/awra_test_outputs/Scheduled_v5_awraprod1/')"
   ]
  },
  {
   "cell_type": "code",
   "execution_count": null,
   "metadata": {
    "collapsed": true
   },
   "outputs": [],
   "source": [
    "ref_states = results.load_results('/data/cwd_awra_data/awra_test_outputs/Scheduled_v5_awraprod1/states/')"
   ]
  },
  {
   "cell_type": "code",
   "execution_count": null,
   "metadata": {
    "collapsed": false
   },
   "outputs": [],
   "source": [
    "sd_dr = ref_states.variables.sd_dr.get_data(dt.dates('apr 30 2010'),res1.extent)"
   ]
  },
  {
   "cell_type": "code",
   "execution_count": null,
   "metadata": {
    "collapsed": true
   },
   "outputs": [],
   "source": [
    "sd_sr = ref_states.variables.sd_sr.get_data(dt.dates('apr 30 2010'),res1.extent)"
   ]
  },
  {
   "cell_type": "code",
   "execution_count": null,
   "metadata": {
    "collapsed": false
   },
   "outputs": [],
   "source": [
    "sd_run = ref_res.variables.sd_avg.get_data(dt.dates('apr 30 2010'),res1.extent)"
   ]
  },
  {
   "cell_type": "code",
   "execution_count": null,
   "metadata": {
    "collapsed": false
   },
   "outputs": [],
   "source": [
    "res1 = results.load_results('/data/cwd_awra_data/awra_test_outputs/SydneyWater/fcast20100501/e03/')\n",
    "#res2 = results.load_results('../simulation/notebooks/SydneyWater/e02/')\n",
    "#res3 = results.load_results('../simulation/notebooks/SydneyWater/e03/')\n",
    "#res4 = results.load_results('../simulation/notebooks/SydneyWater/e04/')"
   ]
  },
  {
   "cell_type": "code",
   "execution_count": null,
   "metadata": {
    "collapsed": true
   },
   "outputs": [],
   "source": [
    "res = res1"
   ]
  },
  {
   "cell_type": "code",
   "execution_count": null,
   "metadata": {
    "collapsed": false
   },
   "outputs": [],
   "source": [
    "res1.period"
   ]
  },
  {
   "cell_type": "code",
   "execution_count": null,
   "metadata": {
    "collapsed": false
   },
   "outputs": [],
   "source": [
    "res1.plot_spatial(None,res1.period[30:31])"
   ]
  },
  {
   "cell_type": "code",
   "execution_count": null,
   "metadata": {
    "collapsed": false
   },
   "outputs": [],
   "source": [
    "ref_res.plot_spatial(None,res1.period[30:31],res1.extent)"
   ]
  }
 ],
 "metadata": {
  "kernelspec": {
   "display_name": "Python 3",
   "language": "python",
   "name": "python3"
  },
  "language_info": {
   "codemirror_mode": {
    "name": "ipython",
    "version": 3
   },
   "file_extension": ".py",
   "mimetype": "text/x-python",
   "name": "python",
   "nbconvert_exporter": "python",
   "pygments_lexer": "ipython3",
   "version": "3.4.2"
  }
 },
 "nbformat": 4,
 "nbformat_minor": 0
}
