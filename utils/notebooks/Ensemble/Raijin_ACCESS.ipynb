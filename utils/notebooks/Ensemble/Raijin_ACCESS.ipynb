{
 "cells": [
  {
   "cell_type": "markdown",
   "metadata": {},
   "source": [
    "#Download ACCESS-S ensemble forcing data from Raijin\n",
    "\n",
    "Convenience functions for getting ACCESS-S data for a given month/year"
   ]
  },
  {
   "cell_type": "code",
   "execution_count": 21,
   "metadata": {
    "collapsed": true
   },
   "outputs": [],
   "source": [
    "from awrams.utils import remote\n",
    "import os"
   ]
  },
  {
   "cell_type": "code",
   "execution_count": 22,
   "metadata": {
    "collapsed": false
   },
   "outputs": [
    {
     "name": "stdout",
     "output_type": "stream",
     "text": [
      "Password:········\n"
     ]
    }
   ],
   "source": [
    "session = remote.establish_remote_session(USERNAME,'raijin.nci.org.au')"
   ]
  },
  {
   "cell_type": "code",
   "execution_count": 23,
   "metadata": {
    "collapsed": true
   },
   "outputs": [],
   "source": [
    "BASE_LOCAL_PATH = '/data/cwd_awra_data/awra_inputs/ACCESS/'\n",
    "BASE_REMOTE_PATH = '/g/data2/ub7/access-s1/hc/calibrated_5km/atmos/'"
   ]
  },
  {
   "cell_type": "code",
   "execution_count": 26,
   "metadata": {
    "collapsed": true
   },
   "outputs": [],
   "source": [
    "FORCING_VARS = ['pr','rsds','tasmin','tasmax']\n",
    "N_ENSEMBLE = 11"
   ]
  },
  {
   "cell_type": "code",
   "execution_count": 28,
   "metadata": {
    "collapsed": true
   },
   "outputs": [],
   "source": [
    "def get_all_for_date(session,datestr,to_path=BASE_LOCAL_PATH):\n",
    "    for e in range(1,N_ENSEMBLE+1):\n",
    "        e_str = 'e'+str(e).zfill(2)\n",
    "        for v in FORCING_VARS:\n",
    "            remote_filestr = os.path.join(BASE_REMOTE_PATH,v,'daily',e_str,'da5_%s_%s_%s.nc' %\\\n",
    "                                          (v,datestr,e_str))\n",
    "            print(remote_filestr)\n",
    "            lpath = os.path.join(to_path,v)\n",
    "            session.get(remote_filestr,lpath)"
   ]
  },
  {
   "cell_type": "code",
   "execution_count": 30,
   "metadata": {
    "collapsed": false
   },
   "outputs": [
    {
     "name": "stdout",
     "output_type": "stream",
     "text": [
      "20061001\n",
      "/g/data2/ub7/access-s1/hc/calibrated_5km/atmos/pr/daily/e01/da5_pr_20061001_e01.nc\n",
      "/g/data2/ub7/access-s1/hc/calibrated_5km/atmos/rsds/daily/e01/da5_rsds_20061001_e01.nc\n",
      "/g/data2/ub7/access-s1/hc/calibrated_5km/atmos/tasmin/daily/e01/da5_tasmin_20061001_e01.nc\n",
      "/g/data2/ub7/access-s1/hc/calibrated_5km/atmos/tasmax/daily/e01/da5_tasmax_20061001_e01.nc\n",
      "/g/data2/ub7/access-s1/hc/calibrated_5km/atmos/pr/daily/e02/da5_pr_20061001_e02.nc\n",
      "/g/data2/ub7/access-s1/hc/calibrated_5km/atmos/rsds/daily/e02/da5_rsds_20061001_e02.nc\n",
      "/g/data2/ub7/access-s1/hc/calibrated_5km/atmos/tasmin/daily/e02/da5_tasmin_20061001_e02.nc\n",
      "/g/data2/ub7/access-s1/hc/calibrated_5km/atmos/tasmax/daily/e02/da5_tasmax_20061001_e02.nc\n",
      "/g/data2/ub7/access-s1/hc/calibrated_5km/atmos/pr/daily/e03/da5_pr_20061001_e03.nc\n",
      "/g/data2/ub7/access-s1/hc/calibrated_5km/atmos/rsds/daily/e03/da5_rsds_20061001_e03.nc\n",
      "/g/data2/ub7/access-s1/hc/calibrated_5km/atmos/tasmin/daily/e03/da5_tasmin_20061001_e03.nc\n",
      "/g/data2/ub7/access-s1/hc/calibrated_5km/atmos/tasmax/daily/e03/da5_tasmax_20061001_e03.nc\n",
      "/g/data2/ub7/access-s1/hc/calibrated_5km/atmos/pr/daily/e04/da5_pr_20061001_e04.nc\n",
      "/g/data2/ub7/access-s1/hc/calibrated_5km/atmos/rsds/daily/e04/da5_rsds_20061001_e04.nc\n",
      "/g/data2/ub7/access-s1/hc/calibrated_5km/atmos/tasmin/daily/e04/da5_tasmin_20061001_e04.nc\n",
      "/g/data2/ub7/access-s1/hc/calibrated_5km/atmos/tasmax/daily/e04/da5_tasmax_20061001_e04.nc\n"
     ]
    },
    {
     "ename": "SFTPError",
     "evalue": "Garbage packet received",
     "output_type": "error",
     "traceback": [
      "\u001b[1;31m---------------------------------------------------------------------------\u001b[0m",
      "\u001b[1;31mKeyboardInterrupt\u001b[0m                         Traceback (most recent call last)",
      "\u001b[1;32m/data/cwd_awra_data/AWRAMSI/IWRM_0042_WP3/Technical/Common/awramsi/venv110515/virtualenv/lib/python3.4/site-packages/paramiko/sftp_client.py\u001b[0m in \u001b[0;36mgetfo\u001b[1;34m(self, remotepath, fl, callback)\u001b[0m\n\u001b[0;32m    692\u001b[0m             \u001b[1;32mwhile\u001b[0m \u001b[1;32mTrue\u001b[0m\u001b[1;33m:\u001b[0m\u001b[1;33m\u001b[0m\u001b[0m\n\u001b[1;32m--> 693\u001b[1;33m                 \u001b[0mdata\u001b[0m \u001b[1;33m=\u001b[0m \u001b[0mfr\u001b[0m\u001b[1;33m.\u001b[0m\u001b[0mread\u001b[0m\u001b[1;33m(\u001b[0m\u001b[1;36m32768\u001b[0m\u001b[1;33m)\u001b[0m\u001b[1;33m\u001b[0m\u001b[0m\n\u001b[0m\u001b[0;32m    694\u001b[0m                 \u001b[0mfl\u001b[0m\u001b[1;33m.\u001b[0m\u001b[0mwrite\u001b[0m\u001b[1;33m(\u001b[0m\u001b[0mdata\u001b[0m\u001b[1;33m)\u001b[0m\u001b[1;33m\u001b[0m\u001b[0m\n",
      "\u001b[1;32m/data/cwd_awra_data/AWRAMSI/IWRM_0042_WP3/Technical/Common/awramsi/venv110515/virtualenv/lib/python3.4/site-packages/paramiko/file.py\u001b[0m in \u001b[0;36mread\u001b[1;34m(self, size)\u001b[0m\n\u001b[0;32m    168\u001b[0m             \u001b[1;32mtry\u001b[0m\u001b[1;33m:\u001b[0m\u001b[1;33m\u001b[0m\u001b[0m\n\u001b[1;32m--> 169\u001b[1;33m                 \u001b[0mnew_data\u001b[0m \u001b[1;33m=\u001b[0m \u001b[0mself\u001b[0m\u001b[1;33m.\u001b[0m\u001b[0m_read\u001b[0m\u001b[1;33m(\u001b[0m\u001b[0mread_size\u001b[0m\u001b[1;33m)\u001b[0m\u001b[1;33m\u001b[0m\u001b[0m\n\u001b[0m\u001b[0;32m    170\u001b[0m             \u001b[1;32mexcept\u001b[0m \u001b[0mEOFError\u001b[0m\u001b[1;33m:\u001b[0m\u001b[1;33m\u001b[0m\u001b[0m\n",
      "\u001b[1;32m/data/cwd_awra_data/AWRAMSI/IWRM_0042_WP3/Technical/Common/awramsi/venv110515/virtualenv/lib/python3.4/site-packages/paramiko/sftp_file.py\u001b[0m in \u001b[0;36m_read\u001b[1;34m(self, size)\u001b[0m\n\u001b[0;32m    164\u001b[0m         \u001b[1;32mif\u001b[0m \u001b[0mself\u001b[0m\u001b[1;33m.\u001b[0m\u001b[0m_prefetching\u001b[0m\u001b[1;33m:\u001b[0m\u001b[1;33m\u001b[0m\u001b[0m\n\u001b[1;32m--> 165\u001b[1;33m             \u001b[0mdata\u001b[0m \u001b[1;33m=\u001b[0m \u001b[0mself\u001b[0m\u001b[1;33m.\u001b[0m\u001b[0m_read_prefetch\u001b[0m\u001b[1;33m(\u001b[0m\u001b[0msize\u001b[0m\u001b[1;33m)\u001b[0m\u001b[1;33m\u001b[0m\u001b[0m\n\u001b[0m\u001b[0;32m    166\u001b[0m             \u001b[1;32mif\u001b[0m \u001b[0mdata\u001b[0m \u001b[1;32mis\u001b[0m \u001b[1;32mnot\u001b[0m \u001b[1;32mNone\u001b[0m\u001b[1;33m:\u001b[0m\u001b[1;33m\u001b[0m\u001b[0m\n",
      "\u001b[1;32m/data/cwd_awra_data/AWRAMSI/IWRM_0042_WP3/Technical/Common/awramsi/venv110515/virtualenv/lib/python3.4/site-packages/paramiko/sftp_file.py\u001b[0m in \u001b[0;36m_read_prefetch\u001b[1;34m(self, size)\u001b[0m\n\u001b[0;32m    144\u001b[0m                 \u001b[1;32mbreak\u001b[0m\u001b[1;33m\u001b[0m\u001b[0m\n\u001b[1;32m--> 145\u001b[1;33m             \u001b[0mself\u001b[0m\u001b[1;33m.\u001b[0m\u001b[0msftp\u001b[0m\u001b[1;33m.\u001b[0m\u001b[0m_read_response\u001b[0m\u001b[1;33m(\u001b[0m\u001b[1;33m)\u001b[0m\u001b[1;33m\u001b[0m\u001b[0m\n\u001b[0m\u001b[0;32m    146\u001b[0m             \u001b[0mself\u001b[0m\u001b[1;33m.\u001b[0m\u001b[0m_check_exception\u001b[0m\u001b[1;33m(\u001b[0m\u001b[1;33m)\u001b[0m\u001b[1;33m\u001b[0m\u001b[0m\n",
      "\u001b[1;32m/data/cwd_awra_data/AWRAMSI/IWRM_0042_WP3/Technical/Common/awramsi/venv110515/virtualenv/lib/python3.4/site-packages/paramiko/sftp_client.py\u001b[0m in \u001b[0;36m_read_response\u001b[1;34m(self, waitfor)\u001b[0m\n\u001b[0;32m    758\u001b[0m             \u001b[1;32mtry\u001b[0m\u001b[1;33m:\u001b[0m\u001b[1;33m\u001b[0m\u001b[0m\n\u001b[1;32m--> 759\u001b[1;33m                 \u001b[0mt\u001b[0m\u001b[1;33m,\u001b[0m \u001b[0mdata\u001b[0m \u001b[1;33m=\u001b[0m \u001b[0mself\u001b[0m\u001b[1;33m.\u001b[0m\u001b[0m_read_packet\u001b[0m\u001b[1;33m(\u001b[0m\u001b[1;33m)\u001b[0m\u001b[1;33m\u001b[0m\u001b[0m\n\u001b[0m\u001b[0;32m    760\u001b[0m             \u001b[1;32mexcept\u001b[0m \u001b[0mEOFError\u001b[0m \u001b[1;32mas\u001b[0m \u001b[0me\u001b[0m\u001b[1;33m:\u001b[0m\u001b[1;33m\u001b[0m\u001b[0m\n",
      "\u001b[1;32m/data/cwd_awra_data/AWRAMSI/IWRM_0042_WP3/Technical/Common/awramsi/venv110515/virtualenv/lib/python3.4/site-packages/paramiko/sftp.py\u001b[0m in \u001b[0;36m_read_packet\u001b[1;34m(self)\u001b[0m\n\u001b[0;32m    178\u001b[0m         \u001b[0msize\u001b[0m \u001b[1;33m=\u001b[0m \u001b[0mstruct\u001b[0m\u001b[1;33m.\u001b[0m\u001b[0munpack\u001b[0m\u001b[1;33m(\u001b[0m\u001b[1;34m'>I'\u001b[0m\u001b[1;33m,\u001b[0m \u001b[0mx\u001b[0m\u001b[1;33m)\u001b[0m\u001b[1;33m[\u001b[0m\u001b[1;36m0\u001b[0m\u001b[1;33m]\u001b[0m\u001b[1;33m\u001b[0m\u001b[0m\n\u001b[1;32m--> 179\u001b[1;33m         \u001b[0mdata\u001b[0m \u001b[1;33m=\u001b[0m \u001b[0mself\u001b[0m\u001b[1;33m.\u001b[0m\u001b[0m_read_all\u001b[0m\u001b[1;33m(\u001b[0m\u001b[0msize\u001b[0m\u001b[1;33m)\u001b[0m\u001b[1;33m\u001b[0m\u001b[0m\n\u001b[0m\u001b[0;32m    180\u001b[0m         \u001b[1;32mif\u001b[0m \u001b[0mself\u001b[0m\u001b[1;33m.\u001b[0m\u001b[0multra_debug\u001b[0m\u001b[1;33m:\u001b[0m\u001b[1;33m\u001b[0m\u001b[0m\n",
      "\u001b[1;32m/data/cwd_awra_data/AWRAMSI/IWRM_0042_WP3/Technical/Common/awramsi/venv110515/virtualenv/lib/python3.4/site-packages/paramiko/sftp.py\u001b[0m in \u001b[0;36m_read_all\u001b[1;34m(self, n)\u001b[0m\n\u001b[0;32m    155\u001b[0m             \u001b[1;32melse\u001b[0m\u001b[1;33m:\u001b[0m\u001b[1;33m\u001b[0m\u001b[0m\n\u001b[1;32m--> 156\u001b[1;33m                 \u001b[0mx\u001b[0m \u001b[1;33m=\u001b[0m \u001b[0mself\u001b[0m\u001b[1;33m.\u001b[0m\u001b[0msock\u001b[0m\u001b[1;33m.\u001b[0m\u001b[0mrecv\u001b[0m\u001b[1;33m(\u001b[0m\u001b[0mn\u001b[0m\u001b[1;33m)\u001b[0m\u001b[1;33m\u001b[0m\u001b[0m\n\u001b[0m\u001b[0;32m    157\u001b[0m \u001b[1;33m\u001b[0m\u001b[0m\n",
      "\u001b[1;32m/data/cwd_awra_data/AWRAMSI/IWRM_0042_WP3/Technical/Common/awramsi/venv110515/virtualenv/lib/python3.4/site-packages/paramiko/channel.py\u001b[0m in \u001b[0;36mrecv\u001b[1;34m(self, nbytes)\u001b[0m\n\u001b[0;32m    595\u001b[0m         \u001b[1;32mtry\u001b[0m\u001b[1;33m:\u001b[0m\u001b[1;33m\u001b[0m\u001b[0m\n\u001b[1;32m--> 596\u001b[1;33m             \u001b[0mout\u001b[0m \u001b[1;33m=\u001b[0m \u001b[0mself\u001b[0m\u001b[1;33m.\u001b[0m\u001b[0min_buffer\u001b[0m\u001b[1;33m.\u001b[0m\u001b[0mread\u001b[0m\u001b[1;33m(\u001b[0m\u001b[0mnbytes\u001b[0m\u001b[1;33m,\u001b[0m \u001b[0mself\u001b[0m\u001b[1;33m.\u001b[0m\u001b[0mtimeout\u001b[0m\u001b[1;33m)\u001b[0m\u001b[1;33m\u001b[0m\u001b[0m\n\u001b[0m\u001b[0;32m    597\u001b[0m         \u001b[1;32mexcept\u001b[0m \u001b[0mPipeTimeout\u001b[0m\u001b[1;33m:\u001b[0m\u001b[1;33m\u001b[0m\u001b[0m\n",
      "\u001b[1;32m/data/cwd_awra_data/AWRAMSI/IWRM_0042_WP3/Technical/Common/awramsi/venv110515/virtualenv/lib/python3.4/site-packages/paramiko/buffered_pipe.py\u001b[0m in \u001b[0;36mread\u001b[1;34m(self, nbytes, timeout)\u001b[0m\n\u001b[0;32m    146\u001b[0m                     \u001b[0mthen\u001b[0m \u001b[1;33m=\u001b[0m \u001b[0mtime\u001b[0m\u001b[1;33m.\u001b[0m\u001b[0mtime\u001b[0m\u001b[1;33m(\u001b[0m\u001b[1;33m)\u001b[0m\u001b[1;33m\u001b[0m\u001b[0m\n\u001b[1;32m--> 147\u001b[1;33m                     \u001b[0mself\u001b[0m\u001b[1;33m.\u001b[0m\u001b[0m_cv\u001b[0m\u001b[1;33m.\u001b[0m\u001b[0mwait\u001b[0m\u001b[1;33m(\u001b[0m\u001b[0mtimeout\u001b[0m\u001b[1;33m)\u001b[0m\u001b[1;33m\u001b[0m\u001b[0m\n\u001b[0m\u001b[0;32m    148\u001b[0m                     \u001b[1;32mif\u001b[0m \u001b[0mtimeout\u001b[0m \u001b[1;32mis\u001b[0m \u001b[1;32mnot\u001b[0m \u001b[1;32mNone\u001b[0m\u001b[1;33m:\u001b[0m\u001b[1;33m\u001b[0m\u001b[0m\n",
      "\u001b[1;32m/data/cwd_awra_data/AWRAMSI/IWRM_0042_WP3/Technical/Common/awramsi/venv110515/lib/python3.4/threading.py\u001b[0m in \u001b[0;36mwait\u001b[1;34m(self, timeout)\u001b[0m\n\u001b[0;32m    289\u001b[0m             \u001b[1;32mif\u001b[0m \u001b[0mtimeout\u001b[0m \u001b[1;32mis\u001b[0m \u001b[1;32mNone\u001b[0m\u001b[1;33m:\u001b[0m\u001b[1;33m\u001b[0m\u001b[0m\n\u001b[1;32m--> 290\u001b[1;33m                 \u001b[0mwaiter\u001b[0m\u001b[1;33m.\u001b[0m\u001b[0macquire\u001b[0m\u001b[1;33m(\u001b[0m\u001b[1;33m)\u001b[0m\u001b[1;33m\u001b[0m\u001b[0m\n\u001b[0m\u001b[0;32m    291\u001b[0m                 \u001b[0mgotit\u001b[0m \u001b[1;33m=\u001b[0m \u001b[1;32mTrue\u001b[0m\u001b[1;33m\u001b[0m\u001b[0m\n",
      "\u001b[1;31mKeyboardInterrupt\u001b[0m: ",
      "\nDuring handling of the above exception, another exception occurred:\n",
      "\u001b[1;31mSFTPError\u001b[0m                                 Traceback (most recent call last)",
      "\u001b[1;32m<ipython-input-30-c86d3dfab410>\u001b[0m in \u001b[0;36m<module>\u001b[1;34m()\u001b[0m\n\u001b[0;32m      6\u001b[0m         \u001b[0mdate_str\u001b[0m \u001b[1;33m=\u001b[0m \u001b[0mFORECAST_START\u001b[0m\u001b[1;33m.\u001b[0m\u001b[0mstrftime\u001b[0m\u001b[1;33m(\u001b[0m\u001b[1;34m'%Y%m%d'\u001b[0m\u001b[1;33m)\u001b[0m\u001b[1;33m\u001b[0m\u001b[0m\n\u001b[0;32m      7\u001b[0m         \u001b[0mprint\u001b[0m\u001b[1;33m(\u001b[0m\u001b[0mdate_str\u001b[0m\u001b[1;33m)\u001b[0m\u001b[1;33m\u001b[0m\u001b[0m\n\u001b[1;32m----> 8\u001b[1;33m         \u001b[0mget_all_for_date\u001b[0m\u001b[1;33m(\u001b[0m\u001b[0msession\u001b[0m\u001b[1;33m,\u001b[0m\u001b[0mdate_str\u001b[0m\u001b[1;33m)\u001b[0m\u001b[1;33m\u001b[0m\u001b[0m\n\u001b[0m",
      "\u001b[1;32m<ipython-input-28-c94014955da3>\u001b[0m in \u001b[0;36mget_all_for_date\u001b[1;34m(session, datestr, to_path)\u001b[0m\n\u001b[0;32m      6\u001b[0m             \u001b[0mprint\u001b[0m\u001b[1;33m(\u001b[0m\u001b[0mremote_filestr\u001b[0m\u001b[1;33m)\u001b[0m\u001b[1;33m\u001b[0m\u001b[0m\n\u001b[0;32m      7\u001b[0m             \u001b[0mlpath\u001b[0m \u001b[1;33m=\u001b[0m \u001b[0mos\u001b[0m\u001b[1;33m.\u001b[0m\u001b[0mpath\u001b[0m\u001b[1;33m.\u001b[0m\u001b[0mjoin\u001b[0m\u001b[1;33m(\u001b[0m\u001b[0mto_path\u001b[0m\u001b[1;33m,\u001b[0m\u001b[0mv\u001b[0m\u001b[1;33m)\u001b[0m\u001b[1;33m\u001b[0m\u001b[0m\n\u001b[1;32m----> 8\u001b[1;33m             \u001b[0msession\u001b[0m\u001b[1;33m.\u001b[0m\u001b[0mget\u001b[0m\u001b[1;33m(\u001b[0m\u001b[0mremote_filestr\u001b[0m\u001b[1;33m,\u001b[0m\u001b[0mlpath\u001b[0m\u001b[1;33m)\u001b[0m\u001b[1;33m\u001b[0m\u001b[0m\n\u001b[0m",
      "\u001b[1;32m/home/dshipman/WGIT/CLEAN/awrams_cm/utils/awrams/utils/remote.py\u001b[0m in \u001b[0;36mget\u001b[1;34m(self, remotefile, localpath)\u001b[0m\n\u001b[0;32m     28\u001b[0m             \u001b[0mlocalpath\u001b[0m \u001b[1;33m=\u001b[0m \u001b[0mos\u001b[0m\u001b[1;33m.\u001b[0m\u001b[0mpath\u001b[0m\u001b[1;33m.\u001b[0m\u001b[0mjoin\u001b[0m\u001b[1;33m(\u001b[0m\u001b[0mlocalpath\u001b[0m\u001b[1;33m,\u001b[0m\u001b[0mfilename\u001b[0m\u001b[1;33m)\u001b[0m\u001b[1;33m\u001b[0m\u001b[0m\n\u001b[0;32m     29\u001b[0m         \u001b[0msftp\u001b[0m \u001b[1;33m=\u001b[0m \u001b[0mself\u001b[0m\u001b[1;33m.\u001b[0m\u001b[0mclient\u001b[0m\u001b[1;33m.\u001b[0m\u001b[0mopen_sftp\u001b[0m\u001b[1;33m(\u001b[0m\u001b[1;33m)\u001b[0m\u001b[1;33m\u001b[0m\u001b[0m\n\u001b[1;32m---> 30\u001b[1;33m         \u001b[0msftp\u001b[0m\u001b[1;33m.\u001b[0m\u001b[0mget\u001b[0m\u001b[1;33m(\u001b[0m\u001b[0mremotefile\u001b[0m\u001b[1;33m,\u001b[0m\u001b[0mlocalpath\u001b[0m\u001b[1;33m)\u001b[0m\u001b[1;33m\u001b[0m\u001b[0m\n\u001b[0m\u001b[0;32m     31\u001b[0m         \u001b[0msftp\u001b[0m\u001b[1;33m.\u001b[0m\u001b[0mclose\u001b[0m\u001b[1;33m(\u001b[0m\u001b[1;33m)\u001b[0m\u001b[1;33m\u001b[0m\u001b[0m\n\u001b[0;32m     32\u001b[0m \u001b[1;33m\u001b[0m\u001b[0m\n",
      "\u001b[1;32m/data/cwd_awra_data/AWRAMSI/IWRM_0042_WP3/Technical/Common/awramsi/venv110515/virtualenv/lib/python3.4/site-packages/paramiko/sftp_client.py\u001b[0m in \u001b[0;36mget\u001b[1;34m(self, remotepath, localpath, callback)\u001b[0m\n\u001b[0;32m    718\u001b[0m         \u001b[0mfile_size\u001b[0m \u001b[1;33m=\u001b[0m \u001b[0mself\u001b[0m\u001b[1;33m.\u001b[0m\u001b[0mstat\u001b[0m\u001b[1;33m(\u001b[0m\u001b[0mremotepath\u001b[0m\u001b[1;33m)\u001b[0m\u001b[1;33m.\u001b[0m\u001b[0mst_size\u001b[0m\u001b[1;33m\u001b[0m\u001b[0m\n\u001b[0;32m    719\u001b[0m         \u001b[1;32mwith\u001b[0m \u001b[0mopen\u001b[0m\u001b[1;33m(\u001b[0m\u001b[0mlocalpath\u001b[0m\u001b[1;33m,\u001b[0m \u001b[1;34m'wb'\u001b[0m\u001b[1;33m)\u001b[0m \u001b[1;32mas\u001b[0m \u001b[0mfl\u001b[0m\u001b[1;33m:\u001b[0m\u001b[1;33m\u001b[0m\u001b[0m\n\u001b[1;32m--> 720\u001b[1;33m             \u001b[0msize\u001b[0m \u001b[1;33m=\u001b[0m \u001b[0mself\u001b[0m\u001b[1;33m.\u001b[0m\u001b[0mgetfo\u001b[0m\u001b[1;33m(\u001b[0m\u001b[0mremotepath\u001b[0m\u001b[1;33m,\u001b[0m \u001b[0mfl\u001b[0m\u001b[1;33m,\u001b[0m \u001b[0mcallback\u001b[0m\u001b[1;33m)\u001b[0m\u001b[1;33m\u001b[0m\u001b[0m\n\u001b[0m\u001b[0;32m    721\u001b[0m         \u001b[0ms\u001b[0m \u001b[1;33m=\u001b[0m \u001b[0mos\u001b[0m\u001b[1;33m.\u001b[0m\u001b[0mstat\u001b[0m\u001b[1;33m(\u001b[0m\u001b[0mlocalpath\u001b[0m\u001b[1;33m)\u001b[0m\u001b[1;33m\u001b[0m\u001b[0m\n\u001b[0;32m    722\u001b[0m         \u001b[1;32mif\u001b[0m \u001b[0ms\u001b[0m\u001b[1;33m.\u001b[0m\u001b[0mst_size\u001b[0m \u001b[1;33m!=\u001b[0m \u001b[0msize\u001b[0m\u001b[1;33m:\u001b[0m\u001b[1;33m\u001b[0m\u001b[0m\n",
      "\u001b[1;32m/data/cwd_awra_data/AWRAMSI/IWRM_0042_WP3/Technical/Common/awramsi/venv110515/virtualenv/lib/python3.4/site-packages/paramiko/sftp_client.py\u001b[0m in \u001b[0;36mgetfo\u001b[1;34m(self, remotepath, fl, callback)\u001b[0m\n\u001b[0;32m    697\u001b[0m                     \u001b[0mcallback\u001b[0m\u001b[1;33m(\u001b[0m\u001b[0msize\u001b[0m\u001b[1;33m,\u001b[0m \u001b[0mfile_size\u001b[0m\u001b[1;33m)\u001b[0m\u001b[1;33m\u001b[0m\u001b[0m\n\u001b[0;32m    698\u001b[0m                 \u001b[1;32mif\u001b[0m \u001b[0mlen\u001b[0m\u001b[1;33m(\u001b[0m\u001b[0mdata\u001b[0m\u001b[1;33m)\u001b[0m \u001b[1;33m==\u001b[0m \u001b[1;36m0\u001b[0m\u001b[1;33m:\u001b[0m\u001b[1;33m\u001b[0m\u001b[0m\n\u001b[1;32m--> 699\u001b[1;33m                     \u001b[1;32mbreak\u001b[0m\u001b[1;33m\u001b[0m\u001b[0m\n\u001b[0m\u001b[0;32m    700\u001b[0m         \u001b[1;32mreturn\u001b[0m \u001b[0msize\u001b[0m\u001b[1;33m\u001b[0m\u001b[0m\n\u001b[0;32m    701\u001b[0m \u001b[1;33m\u001b[0m\u001b[0m\n",
      "\u001b[1;32m/data/cwd_awra_data/AWRAMSI/IWRM_0042_WP3/Technical/Common/awramsi/venv110515/virtualenv/lib/python3.4/site-packages/paramiko/util.py\u001b[0m in \u001b[0;36m__exit__\u001b[1;34m(self, type, value, traceback)\u001b[0m\n\u001b[0;32m    320\u001b[0m \u001b[1;33m\u001b[0m\u001b[0m\n\u001b[0;32m    321\u001b[0m     \u001b[1;32mdef\u001b[0m \u001b[0m__exit__\u001b[0m\u001b[1;33m(\u001b[0m\u001b[0mself\u001b[0m\u001b[1;33m,\u001b[0m \u001b[0mtype\u001b[0m\u001b[1;33m,\u001b[0m \u001b[0mvalue\u001b[0m\u001b[1;33m,\u001b[0m \u001b[0mtraceback\u001b[0m\u001b[1;33m)\u001b[0m\u001b[1;33m:\u001b[0m\u001b[1;33m\u001b[0m\u001b[0m\n\u001b[1;32m--> 322\u001b[1;33m         \u001b[0mself\u001b[0m\u001b[1;33m.\u001b[0m\u001b[0mclose\u001b[0m\u001b[1;33m(\u001b[0m\u001b[1;33m)\u001b[0m\u001b[1;33m\u001b[0m\u001b[0m\n\u001b[0m\u001b[0;32m    323\u001b[0m \u001b[1;33m\u001b[0m\u001b[0m\n\u001b[0;32m    324\u001b[0m \u001b[1;33m\u001b[0m\u001b[0m\n",
      "\u001b[1;32m/data/cwd_awra_data/AWRAMSI/IWRM_0042_WP3/Technical/Common/awramsi/venv110515/virtualenv/lib/python3.4/site-packages/paramiko/sftp_file.py\u001b[0m in \u001b[0;36mclose\u001b[1;34m(self)\u001b[0m\n\u001b[0;32m     70\u001b[0m         \u001b[0mClose\u001b[0m \u001b[0mthe\u001b[0m \u001b[0mfile\u001b[0m\u001b[1;33m.\u001b[0m\u001b[1;33m\u001b[0m\u001b[0m\n\u001b[0;32m     71\u001b[0m         \"\"\"\n\u001b[1;32m---> 72\u001b[1;33m         \u001b[0mself\u001b[0m\u001b[1;33m.\u001b[0m\u001b[0m_close\u001b[0m\u001b[1;33m(\u001b[0m\u001b[0masync\u001b[0m\u001b[1;33m=\u001b[0m\u001b[1;32mFalse\u001b[0m\u001b[1;33m)\u001b[0m\u001b[1;33m\u001b[0m\u001b[0m\n\u001b[0m\u001b[0;32m     73\u001b[0m \u001b[1;33m\u001b[0m\u001b[0m\n\u001b[0;32m     74\u001b[0m     \u001b[1;32mdef\u001b[0m \u001b[0m_close\u001b[0m\u001b[1;33m(\u001b[0m\u001b[0mself\u001b[0m\u001b[1;33m,\u001b[0m \u001b[0masync\u001b[0m\u001b[1;33m=\u001b[0m\u001b[1;32mFalse\u001b[0m\u001b[1;33m)\u001b[0m\u001b[1;33m:\u001b[0m\u001b[1;33m\u001b[0m\u001b[0m\n",
      "\u001b[1;32m/data/cwd_awra_data/AWRAMSI/IWRM_0042_WP3/Technical/Common/awramsi/venv110515/virtualenv/lib/python3.4/site-packages/paramiko/sftp_file.py\u001b[0m in \u001b[0;36m_close\u001b[1;34m(self, async)\u001b[0m\n\u001b[0;32m     91\u001b[0m                 \u001b[0mself\u001b[0m\u001b[1;33m.\u001b[0m\u001b[0msftp\u001b[0m\u001b[1;33m.\u001b[0m\u001b[0m_async_request\u001b[0m\u001b[1;33m(\u001b[0m\u001b[0mtype\u001b[0m\u001b[1;33m(\u001b[0m\u001b[1;32mNone\u001b[0m\u001b[1;33m)\u001b[0m\u001b[1;33m,\u001b[0m \u001b[0mCMD_CLOSE\u001b[0m\u001b[1;33m,\u001b[0m \u001b[0mself\u001b[0m\u001b[1;33m.\u001b[0m\u001b[0mhandle\u001b[0m\u001b[1;33m)\u001b[0m\u001b[1;33m\u001b[0m\u001b[0m\n\u001b[0;32m     92\u001b[0m             \u001b[1;32melse\u001b[0m\u001b[1;33m:\u001b[0m\u001b[1;33m\u001b[0m\u001b[0m\n\u001b[1;32m---> 93\u001b[1;33m                 \u001b[0mself\u001b[0m\u001b[1;33m.\u001b[0m\u001b[0msftp\u001b[0m\u001b[1;33m.\u001b[0m\u001b[0m_request\u001b[0m\u001b[1;33m(\u001b[0m\u001b[0mCMD_CLOSE\u001b[0m\u001b[1;33m,\u001b[0m \u001b[0mself\u001b[0m\u001b[1;33m.\u001b[0m\u001b[0mhandle\u001b[0m\u001b[1;33m)\u001b[0m\u001b[1;33m\u001b[0m\u001b[0m\n\u001b[0m\u001b[0;32m     94\u001b[0m         \u001b[1;32mexcept\u001b[0m \u001b[0mEOFError\u001b[0m\u001b[1;33m:\u001b[0m\u001b[1;33m\u001b[0m\u001b[0m\n\u001b[0;32m     95\u001b[0m             \u001b[1;31m# may have outlived the Transport connection\u001b[0m\u001b[1;33m\u001b[0m\u001b[1;33m\u001b[0m\u001b[0m\n",
      "\u001b[1;32m/data/cwd_awra_data/AWRAMSI/IWRM_0042_WP3/Technical/Common/awramsi/venv110515/virtualenv/lib/python3.4/site-packages/paramiko/sftp_client.py\u001b[0m in \u001b[0;36m_request\u001b[1;34m(self, t, *arg)\u001b[0m\n\u001b[0;32m    727\u001b[0m     \u001b[1;32mdef\u001b[0m \u001b[0m_request\u001b[0m\u001b[1;33m(\u001b[0m\u001b[0mself\u001b[0m\u001b[1;33m,\u001b[0m \u001b[0mt\u001b[0m\u001b[1;33m,\u001b[0m \u001b[1;33m*\u001b[0m\u001b[0marg\u001b[0m\u001b[1;33m)\u001b[0m\u001b[1;33m:\u001b[0m\u001b[1;33m\u001b[0m\u001b[0m\n\u001b[0;32m    728\u001b[0m         \u001b[0mnum\u001b[0m \u001b[1;33m=\u001b[0m \u001b[0mself\u001b[0m\u001b[1;33m.\u001b[0m\u001b[0m_async_request\u001b[0m\u001b[1;33m(\u001b[0m\u001b[0mtype\u001b[0m\u001b[1;33m(\u001b[0m\u001b[1;32mNone\u001b[0m\u001b[1;33m)\u001b[0m\u001b[1;33m,\u001b[0m \u001b[0mt\u001b[0m\u001b[1;33m,\u001b[0m \u001b[1;33m*\u001b[0m\u001b[0marg\u001b[0m\u001b[1;33m)\u001b[0m\u001b[1;33m\u001b[0m\u001b[0m\n\u001b[1;32m--> 729\u001b[1;33m         \u001b[1;32mreturn\u001b[0m \u001b[0mself\u001b[0m\u001b[1;33m.\u001b[0m\u001b[0m_read_response\u001b[0m\u001b[1;33m(\u001b[0m\u001b[0mnum\u001b[0m\u001b[1;33m)\u001b[0m\u001b[1;33m\u001b[0m\u001b[0m\n\u001b[0m\u001b[0;32m    730\u001b[0m \u001b[1;33m\u001b[0m\u001b[0m\n\u001b[0;32m    731\u001b[0m     \u001b[1;32mdef\u001b[0m \u001b[0m_async_request\u001b[0m\u001b[1;33m(\u001b[0m\u001b[0mself\u001b[0m\u001b[1;33m,\u001b[0m \u001b[0mfileobj\u001b[0m\u001b[1;33m,\u001b[0m \u001b[0mt\u001b[0m\u001b[1;33m,\u001b[0m \u001b[1;33m*\u001b[0m\u001b[0marg\u001b[0m\u001b[1;33m)\u001b[0m\u001b[1;33m:\u001b[0m\u001b[1;33m\u001b[0m\u001b[0m\n",
      "\u001b[1;32m/data/cwd_awra_data/AWRAMSI/IWRM_0042_WP3/Technical/Common/awramsi/venv110515/virtualenv/lib/python3.4/site-packages/paramiko/sftp_client.py\u001b[0m in \u001b[0;36m_read_response\u001b[1;34m(self, waitfor)\u001b[0m\n\u001b[0;32m    757\u001b[0m         \u001b[1;32mwhile\u001b[0m \u001b[1;32mTrue\u001b[0m\u001b[1;33m:\u001b[0m\u001b[1;33m\u001b[0m\u001b[0m\n\u001b[0;32m    758\u001b[0m             \u001b[1;32mtry\u001b[0m\u001b[1;33m:\u001b[0m\u001b[1;33m\u001b[0m\u001b[0m\n\u001b[1;32m--> 759\u001b[1;33m                 \u001b[0mt\u001b[0m\u001b[1;33m,\u001b[0m \u001b[0mdata\u001b[0m \u001b[1;33m=\u001b[0m \u001b[0mself\u001b[0m\u001b[1;33m.\u001b[0m\u001b[0m_read_packet\u001b[0m\u001b[1;33m(\u001b[0m\u001b[1;33m)\u001b[0m\u001b[1;33m\u001b[0m\u001b[0m\n\u001b[0m\u001b[0;32m    760\u001b[0m             \u001b[1;32mexcept\u001b[0m \u001b[0mEOFError\u001b[0m \u001b[1;32mas\u001b[0m \u001b[0me\u001b[0m\u001b[1;33m:\u001b[0m\u001b[1;33m\u001b[0m\u001b[0m\n\u001b[0;32m    761\u001b[0m                 \u001b[1;32mraise\u001b[0m \u001b[0mSSHException\u001b[0m\u001b[1;33m(\u001b[0m\u001b[1;34m'Server connection dropped: %s'\u001b[0m \u001b[1;33m%\u001b[0m \u001b[0mstr\u001b[0m\u001b[1;33m(\u001b[0m\u001b[0me\u001b[0m\u001b[1;33m)\u001b[0m\u001b[1;33m)\u001b[0m\u001b[1;33m\u001b[0m\u001b[0m\n",
      "\u001b[1;32m/data/cwd_awra_data/AWRAMSI/IWRM_0042_WP3/Technical/Common/awramsi/venv110515/virtualenv/lib/python3.4/site-packages/paramiko/sftp.py\u001b[0m in \u001b[0;36m_read_packet\u001b[1;34m(self)\u001b[0m\n\u001b[0;32m    175\u001b[0m         \u001b[1;31m# anything with the high byte set (> 16MB) is just garbage.\u001b[0m\u001b[1;33m\u001b[0m\u001b[1;33m\u001b[0m\u001b[0m\n\u001b[0;32m    176\u001b[0m         \u001b[1;32mif\u001b[0m \u001b[0mbyte_ord\u001b[0m\u001b[1;33m(\u001b[0m\u001b[0mx\u001b[0m\u001b[1;33m[\u001b[0m\u001b[1;36m0\u001b[0m\u001b[1;33m]\u001b[0m\u001b[1;33m)\u001b[0m\u001b[1;33m:\u001b[0m\u001b[1;33m\u001b[0m\u001b[0m\n\u001b[1;32m--> 177\u001b[1;33m             \u001b[1;32mraise\u001b[0m \u001b[0mSFTPError\u001b[0m\u001b[1;33m(\u001b[0m\u001b[1;34m'Garbage packet received'\u001b[0m\u001b[1;33m)\u001b[0m\u001b[1;33m\u001b[0m\u001b[0m\n\u001b[0m\u001b[0;32m    178\u001b[0m         \u001b[0msize\u001b[0m \u001b[1;33m=\u001b[0m \u001b[0mstruct\u001b[0m\u001b[1;33m.\u001b[0m\u001b[0munpack\u001b[0m\u001b[1;33m(\u001b[0m\u001b[1;34m'>I'\u001b[0m\u001b[1;33m,\u001b[0m \u001b[0mx\u001b[0m\u001b[1;33m)\u001b[0m\u001b[1;33m[\u001b[0m\u001b[1;36m0\u001b[0m\u001b[1;33m]\u001b[0m\u001b[1;33m\u001b[0m\u001b[0m\n\u001b[0;32m    179\u001b[0m         \u001b[0mdata\u001b[0m \u001b[1;33m=\u001b[0m \u001b[0mself\u001b[0m\u001b[1;33m.\u001b[0m\u001b[0m_read_all\u001b[0m\u001b[1;33m(\u001b[0m\u001b[0msize\u001b[0m\u001b[1;33m)\u001b[0m\u001b[1;33m\u001b[0m\u001b[0m\n",
      "\u001b[1;31mSFTPError\u001b[0m: Garbage packet received"
     ]
    }
   ],
   "source": [
    "from awrams.utils import datetools as dt\n",
    "\n",
    "assert(False) #uncomment to run\n",
    "\n",
    "'''\n",
    "Get all files for a given set of months/years\n",
    "'''\n",
    "\n",
    "for month in ['october']:\n",
    "    for y in range(2006,2007):\n",
    "        FORECAST_START = dt.day('1 %s %s' % (month,y))\n",
    "        date_str = FORECAST_START.strftime('%Y%m%d')\n",
    "        print(date_str)\n",
    "        get_all_for_date(session,date_str)"
   ]
  },
  {
   "cell_type": "code",
   "execution_count": 15,
   "metadata": {
    "collapsed": false
   },
   "outputs": [
    {
     "name": "stdout",
     "output_type": "stream",
     "text": [
      "/g/data2/ub7/access-s1/hc/calibrated_5km/atmos/pr/daily/e01/da5_pr_20060101_e01.nc\n",
      "/g/data2/ub7/access-s1/hc/calibrated_5km/atmos/rsds/daily/e01/da5_rsds_20060101_e01.nc\n",
      "/g/data2/ub7/access-s1/hc/calibrated_5km/atmos/tasmin/daily/e01/da5_tasmin_20060101_e01.nc\n",
      "/g/data2/ub7/access-s1/hc/calibrated_5km/atmos/tasmax/daily/e01/da5_tasmax_20060101_e01.nc\n",
      "/g/data2/ub7/access-s1/hc/calibrated_5km/atmos/pr/daily/e02/da5_pr_20060101_e02.nc\n",
      "/g/data2/ub7/access-s1/hc/calibrated_5km/atmos/rsds/daily/e02/da5_rsds_20060101_e02.nc\n",
      "/g/data2/ub7/access-s1/hc/calibrated_5km/atmos/tasmin/daily/e02/da5_tasmin_20060101_e02.nc\n",
      "/g/data2/ub7/access-s1/hc/calibrated_5km/atmos/tasmax/daily/e02/da5_tasmax_20060101_e02.nc\n",
      "/g/data2/ub7/access-s1/hc/calibrated_5km/atmos/pr/daily/e03/da5_pr_20060101_e03.nc\n",
      "/g/data2/ub7/access-s1/hc/calibrated_5km/atmos/rsds/daily/e03/da5_rsds_20060101_e03.nc\n",
      "/g/data2/ub7/access-s1/hc/calibrated_5km/atmos/tasmin/daily/e03/da5_tasmin_20060101_e03.nc\n",
      "/g/data2/ub7/access-s1/hc/calibrated_5km/atmos/tasmax/daily/e03/da5_tasmax_20060101_e03.nc\n",
      "/g/data2/ub7/access-s1/hc/calibrated_5km/atmos/pr/daily/e04/da5_pr_20060101_e04.nc\n",
      "/g/data2/ub7/access-s1/hc/calibrated_5km/atmos/rsds/daily/e04/da5_rsds_20060101_e04.nc\n",
      "/g/data2/ub7/access-s1/hc/calibrated_5km/atmos/tasmin/daily/e04/da5_tasmin_20060101_e04.nc\n",
      "/g/data2/ub7/access-s1/hc/calibrated_5km/atmos/tasmax/daily/e04/da5_tasmax_20060101_e04.nc\n",
      "/g/data2/ub7/access-s1/hc/calibrated_5km/atmos/pr/daily/e05/da5_pr_20060101_e05.nc\n",
      "/g/data2/ub7/access-s1/hc/calibrated_5km/atmos/rsds/daily/e05/da5_rsds_20060101_e05.nc\n",
      "/g/data2/ub7/access-s1/hc/calibrated_5km/atmos/tasmin/daily/e05/da5_tasmin_20060101_e05.nc\n",
      "/g/data2/ub7/access-s1/hc/calibrated_5km/atmos/tasmax/daily/e05/da5_tasmax_20060101_e05.nc\n",
      "/g/data2/ub7/access-s1/hc/calibrated_5km/atmos/pr/daily/e06/da5_pr_20060101_e06.nc\n",
      "/g/data2/ub7/access-s1/hc/calibrated_5km/atmos/rsds/daily/e06/da5_rsds_20060101_e06.nc\n",
      "/g/data2/ub7/access-s1/hc/calibrated_5km/atmos/tasmin/daily/e06/da5_tasmin_20060101_e06.nc\n",
      "/g/data2/ub7/access-s1/hc/calibrated_5km/atmos/tasmax/daily/e06/da5_tasmax_20060101_e06.nc\n",
      "/g/data2/ub7/access-s1/hc/calibrated_5km/atmos/pr/daily/e07/da5_pr_20060101_e07.nc\n",
      "/g/data2/ub7/access-s1/hc/calibrated_5km/atmos/rsds/daily/e07/da5_rsds_20060101_e07.nc\n",
      "/g/data2/ub7/access-s1/hc/calibrated_5km/atmos/tasmin/daily/e07/da5_tasmin_20060101_e07.nc\n",
      "/g/data2/ub7/access-s1/hc/calibrated_5km/atmos/tasmax/daily/e07/da5_tasmax_20060101_e07.nc\n",
      "/g/data2/ub7/access-s1/hc/calibrated_5km/atmos/pr/daily/e08/da5_pr_20060101_e08.nc\n",
      "/g/data2/ub7/access-s1/hc/calibrated_5km/atmos/rsds/daily/e08/da5_rsds_20060101_e08.nc\n",
      "/g/data2/ub7/access-s1/hc/calibrated_5km/atmos/tasmin/daily/e08/da5_tasmin_20060101_e08.nc\n",
      "/g/data2/ub7/access-s1/hc/calibrated_5km/atmos/tasmax/daily/e08/da5_tasmax_20060101_e08.nc\n",
      "/g/data2/ub7/access-s1/hc/calibrated_5km/atmos/pr/daily/e09/da5_pr_20060101_e09.nc\n",
      "/g/data2/ub7/access-s1/hc/calibrated_5km/atmos/rsds/daily/e09/da5_rsds_20060101_e09.nc\n",
      "/g/data2/ub7/access-s1/hc/calibrated_5km/atmos/tasmin/daily/e09/da5_tasmin_20060101_e09.nc\n",
      "/g/data2/ub7/access-s1/hc/calibrated_5km/atmos/tasmax/daily/e09/da5_tasmax_20060101_e09.nc\n",
      "/g/data2/ub7/access-s1/hc/calibrated_5km/atmos/pr/daily/e10/da5_pr_20060101_e10.nc\n",
      "/g/data2/ub7/access-s1/hc/calibrated_5km/atmos/rsds/daily/e10/da5_rsds_20060101_e10.nc\n",
      "/g/data2/ub7/access-s1/hc/calibrated_5km/atmos/tasmin/daily/e10/da5_tasmin_20060101_e10.nc\n",
      "/g/data2/ub7/access-s1/hc/calibrated_5km/atmos/tasmax/daily/e10/da5_tasmax_20060101_e10.nc\n",
      "/g/data2/ub7/access-s1/hc/calibrated_5km/atmos/pr/daily/e11/da5_pr_20060101_e11.nc\n",
      "/g/data2/ub7/access-s1/hc/calibrated_5km/atmos/rsds/daily/e11/da5_rsds_20060101_e11.nc\n",
      "/g/data2/ub7/access-s1/hc/calibrated_5km/atmos/tasmin/daily/e11/da5_tasmin_20060101_e11.nc\n",
      "/g/data2/ub7/access-s1/hc/calibrated_5km/atmos/tasmax/daily/e11/da5_tasmax_20060101_e11.nc\n"
     ]
    }
   ],
   "source": [
    "get_all_for_date(session,'20060101')"
   ]
  }
 ],
 "metadata": {
  "kernelspec": {
   "display_name": "Python 3",
   "language": "python",
   "name": "python3"
  },
  "language_info": {
   "codemirror_mode": {
    "name": "ipython",
    "version": 3
   },
   "file_extension": ".py",
   "mimetype": "text/x-python",
   "name": "python",
   "nbconvert_exporter": "python",
   "pygments_lexer": "ipython3",
   "version": "3.4.2"
  }
 },
 "nbformat": 4,
 "nbformat_minor": 0
}
