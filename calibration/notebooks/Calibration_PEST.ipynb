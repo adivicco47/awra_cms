{
 "cells": [
  {
   "cell_type": "markdown",
   "metadata": {},
   "source": [
    "# Optimising the model with PEST\n",
    "\n",
    "This example is intended to give hints as to how the user could calibrate the system using PEST.\n",
    "\n",
    "Broadly speaking, this will involve setting up\n",
    "\n",
    "* A PEST case/control file describing the PEST configuration for the problem. This file will need to include:\n",
    "  * a list of parameters to calibrate including details of their ranges, etc\n",
    "  * a list of 'observations' to match. The observations can just be objective function ideal values\n",
    "  * reference to a template file, through which PEST can modify model parameters\n",
    "  * reference to an instruction file, which teaches PEST how to extract the observations from the model outputs.\n",
    "  * a command line for running the model\n",
    "* A template file, which includes tags for each model parameter to be modified by PEST. PEST will fill this file in with the values for a given simulation.\n",
    "* A script to run the model. This can be the template file\n",
    "* An instruction file, which describes a model output file and how PEST can extract observations from the outputs\n",
    "\n",
    "Given the model can be run from a bespoke Python script, this script can also be the template file that PEST modifies\n",
    "\n",
    "This notebook includes examples of each of the require files. In the case of the template file and the control file, we generate some of the content based on the parameters we're calibrating.\n",
    "\n",
    "PEST is available from [http://www.pesthomepage.org/Downloads.php](http://www.pesthomepage.org/Downloads.php)"
   ]
  },
  {
   "cell_type": "code",
   "execution_count": 1,
   "metadata": {
    "collapsed": true
   },
   "outputs": [],
   "source": [
    "from awrams.models import awral\n",
    "import sys\n",
    "import os\n",
    "import pandas as pd\n",
    "defaults = awral.get_default_mapping()\n",
    "mapping = defaults.mapping"
   ]
  },
  {
   "cell_type": "code",
   "execution_count": 2,
   "metadata": {
    "collapsed": false
   },
   "outputs": [
    {
     "name": "stdout",
     "output_type": "stream",
     "text": [
      "ssmax_scale 2.433261 0.500000 3.000000 default_pg 1.0 0.0 1\n",
      "wslimu_hrusr 0.300000 0.150000 0.500000 default_pg 1.0 0.0 1\n",
      "vc_hrusr 0.650000 0.050000 1.000000 default_pg 1.0 0.0 1\n",
      "s_sls_hrudr 0.094597 0.030000 0.800000 default_pg 1.0 0.0 1\n",
      "slope_coeff 0.951766 0.010000 1.000000 default_pg 1.0 0.0 1\n",
      "k_rout_scale 0.050785 0.050000 3.000000 default_pg 1.0 0.0 1\n",
      "lairef_hrusr 1.400000 1.300000 2.500000 default_pg 1.0 0.0 1\n",
      "gfrac_max_hrudr 0.300000 0.250000 0.500000 default_pg 1.0 0.0 1\n",
      "pref_gridscale 1.815294 0.100000 3.000000 default_pg 1.0 0.0 1\n",
      "tsenc_hrusr 10.000000 10.000000 200.000000 default_pg 1.0 0.0 1\n",
      "us0_hrusr 6.000000 1.000000 7.000000 default_pg 1.0 0.0 1\n",
      "fsoilemax_hrusr 0.929708 0.200000 1.000000 default_pg 1.0 0.0 1\n",
      "sdmax_scale 0.795122 0.500000 1.000000 default_pg 1.0 0.0 1\n",
      "cgsmax_hrudr 0.032005 0.020000 0.050000 default_pg 1.0 0.0 1\n",
      "tsenc_hrudr 60.000000 10.000000 200.000000 default_pg 1.0 0.0 1\n",
      "fsoilemax_hrudr 0.227466 0.200000 1.000000 default_pg 1.0 0.0 1\n",
      "gfrac_max_hrusr 0.300000 0.250000 0.500000 default_pg 1.0 0.0 1\n",
      "sla_hrudr 3.000000 0.700000 70.000000 default_pg 1.0 0.0 1\n",
      "cgsmax_hrusr 0.023711 0.020000 0.050000 default_pg 1.0 0.0 1\n",
      "rd_hrudr 6.000000 3.000000 20.000000 default_pg 1.0 0.0 1\n",
      "k_rout_int 0.157715 0.050000 3.000000 default_pg 1.0 0.0 1\n",
      "alb_wet_hrusr 0.160000 0.100000 0.500000 default_pg 1.0 0.0 1\n",
      "er_frac_ref_hrudr 0.073556 0.040000 0.250000 default_pg 1.0 0.0 1\n",
      "vc_hrudr 0.350000 0.050000 1.000000 default_pg 1.0 0.0 1\n",
      "w0lime_hrusr 0.850000 0.600000 0.900000 default_pg 1.0 0.0 1\n",
      "kssat_scale 0.020238 0.010000 10.000000 default_pg 1.0 0.0 1\n",
      "s_sls_hrusr 0.042743 0.030000 0.800000 default_pg 1.0 0.0 1\n",
      "wslimu_hrudr 0.300000 0.150000 0.500000 default_pg 1.0 0.0 1\n",
      "wdlimu_hrusr 0.300000 0.150000 0.500000 default_pg 1.0 0.0 1\n",
      "alb_dry_hrusr 0.260000 0.100000 0.500000 default_pg 1.0 0.0 1\n",
      "rd_hrusr 1.000000 0.500000 2.000000 default_pg 1.0 0.0 1\n",
      "alb_wet_hrudr 0.160000 0.100000 0.500000 default_pg 1.0 0.0 1\n",
      "fvegref_g_hrudr 0.150000 0.100000 0.250000 default_pg 1.0 0.0 1\n",
      "k0sat_scale 2.872808 0.100000 10.000000 default_pg 1.0 0.0 1\n",
      "k_gw_scale 0.502238 0.100000 10.000000 default_pg 1.0 0.0 1\n",
      "wdlimu_hrudr 0.300000 0.150000 0.500000 default_pg 1.0 0.0 1\n",
      "tgrow_hrudr 1000.000000 20.000000 1000.000000 default_pg 1.0 0.0 1\n",
      "w0lime_hrudr 0.850000 0.600000 0.900000 default_pg 1.0 0.0 1\n",
      "ud0_hrusr 0.000000 0.000000 10.000000 default_pg 1.0 0.0 1\n",
      "alb_dry_hrudr 0.260000 0.100000 0.500000 default_pg 1.0 0.0 1\n",
      "w0ref_alb_hrusr 0.300000 0.200000 0.500000 default_pg 1.0 0.0 1\n",
      "kdsat_scale 0.010036 0.010000 1.000000 default_pg 1.0 0.0 1\n",
      "kr_coeff 0.074055 0.010000 1.000000 default_pg 1.0 0.0 1\n",
      "ne_scale 0.055189 0.010000 1.000000 default_pg 1.0 0.0 1\n",
      "us0_hrudr 6.000000 1.000000 7.000000 default_pg 1.0 0.0 1\n",
      "sla_hrusr 10.000000 0.700000 70.000000 default_pg 1.0 0.0 1\n",
      "s0max_scale 2.995850 0.500000 3.000000 default_pg 1.0 0.0 1\n",
      "w0ref_alb_hrudr 0.300000 0.200000 0.500000 default_pg 1.0 0.0 1\n",
      "fvegref_g_hrusr 0.150000 0.100000 0.250000 default_pg 1.0 0.0 1\n",
      "ud0_hrudr 7.136380 0.001000 10.000000 default_pg 1.0 0.0 1\n",
      "tgrow_hrusr 150.000000 20.000000 1000.000000 default_pg 1.0 0.0 1\n",
      "lairef_hrudr 2.500000 1.300000 2.500000 default_pg 1.0 0.0 1\n"
     ]
    }
   ],
   "source": [
    "# Find all the calibratable parameters in the mapping...\n",
    "# We'll calibrate n all of them, but you could equally create a subset...\n",
    "\n",
    "params = [(k,v) for (k,v) in mapping.items() if 'Min' in v.properties]\n",
    "params = [{'Name':k,'Min':v.properties['Min'],'Max':v.properties['Max'],'Value':v.args['value']} for k,v in params]\n",
    "params = pd.DataFrame(params).set_index('Name')\n",
    "\n",
    "# Here we loop through them and write out the relevant portion of the PEST Control File\n",
    "param_config='\\n'.join(['%s %f %f %f default_pg 1.0 0.0 1'%(k,v['Value'],v['Min'],v['Max']) for k,v in params.iterrows()])\n",
    "print(param_config)"
   ]
  },
  {
   "cell_type": "code",
   "execution_count": 3,
   "metadata": {
    "collapsed": false
   },
   "outputs": [
    {
     "name": "stdout",
     "output_type": "stream",
     "text": [
      "mapping[\"ssmax_scale\"].args[\"value\"] = @ssmax_scale@\n",
      "mapping[\"wslimu_hrusr\"].args[\"value\"] = @wslimu_hrusr@\n",
      "mapping[\"vc_hrusr\"].args[\"value\"] = @vc_hrusr@\n",
      "mapping[\"s_sls_hrudr\"].args[\"value\"] = @s_sls_hrudr@\n",
      "mapping[\"slope_coeff\"].args[\"value\"] = @slope_coeff@\n",
      "mapping[\"k_rout_scale\"].args[\"value\"] = @k_rout_scale@\n",
      "mapping[\"lairef_hrusr\"].args[\"value\"] = @lairef_hrusr@\n",
      "mapping[\"gfrac_max_hrudr\"].args[\"value\"] = @gfrac_max_hrudr@\n",
      "mapping[\"pref_gridscale\"].args[\"value\"] = @pref_gridscale@\n",
      "mapping[\"tsenc_hrusr\"].args[\"value\"] = @tsenc_hrusr@\n",
      "mapping[\"us0_hrusr\"].args[\"value\"] = @us0_hrusr@\n",
      "mapping[\"fsoilemax_hrusr\"].args[\"value\"] = @fsoilemax_hrusr@\n",
      "mapping[\"sdmax_scale\"].args[\"value\"] = @sdmax_scale@\n",
      "mapping[\"cgsmax_hrudr\"].args[\"value\"] = @cgsmax_hrudr@\n",
      "mapping[\"tsenc_hrudr\"].args[\"value\"] = @tsenc_hrudr@\n",
      "mapping[\"fsoilemax_hrudr\"].args[\"value\"] = @fsoilemax_hrudr@\n",
      "mapping[\"gfrac_max_hrusr\"].args[\"value\"] = @gfrac_max_hrusr@\n",
      "mapping[\"sla_hrudr\"].args[\"value\"] = @sla_hrudr@\n",
      "mapping[\"cgsmax_hrusr\"].args[\"value\"] = @cgsmax_hrusr@\n",
      "mapping[\"rd_hrudr\"].args[\"value\"] = @rd_hrudr@\n",
      "mapping[\"k_rout_int\"].args[\"value\"] = @k_rout_int@\n",
      "mapping[\"alb_wet_hrusr\"].args[\"value\"] = @alb_wet_hrusr@\n",
      "mapping[\"er_frac_ref_hrudr\"].args[\"value\"] = @er_frac_ref_hrudr@\n",
      "mapping[\"vc_hrudr\"].args[\"value\"] = @vc_hrudr@\n",
      "mapping[\"w0lime_hrusr\"].args[\"value\"] = @w0lime_hrusr@\n",
      "mapping[\"kssat_scale\"].args[\"value\"] = @kssat_scale@\n",
      "mapping[\"s_sls_hrusr\"].args[\"value\"] = @s_sls_hrusr@\n",
      "mapping[\"wslimu_hrudr\"].args[\"value\"] = @wslimu_hrudr@\n",
      "mapping[\"wdlimu_hrusr\"].args[\"value\"] = @wdlimu_hrusr@\n",
      "mapping[\"alb_dry_hrusr\"].args[\"value\"] = @alb_dry_hrusr@\n",
      "mapping[\"rd_hrusr\"].args[\"value\"] = @rd_hrusr@\n",
      "mapping[\"alb_wet_hrudr\"].args[\"value\"] = @alb_wet_hrudr@\n",
      "mapping[\"fvegref_g_hrudr\"].args[\"value\"] = @fvegref_g_hrudr@\n",
      "mapping[\"k0sat_scale\"].args[\"value\"] = @k0sat_scale@\n",
      "mapping[\"k_gw_scale\"].args[\"value\"] = @k_gw_scale@\n",
      "mapping[\"wdlimu_hrudr\"].args[\"value\"] = @wdlimu_hrudr@\n",
      "mapping[\"tgrow_hrudr\"].args[\"value\"] = @tgrow_hrudr@\n",
      "mapping[\"w0lime_hrudr\"].args[\"value\"] = @w0lime_hrudr@\n",
      "mapping[\"ud0_hrusr\"].args[\"value\"] = @ud0_hrusr@\n",
      "mapping[\"alb_dry_hrudr\"].args[\"value\"] = @alb_dry_hrudr@\n",
      "mapping[\"w0ref_alb_hrusr\"].args[\"value\"] = @w0ref_alb_hrusr@\n",
      "mapping[\"kdsat_scale\"].args[\"value\"] = @kdsat_scale@\n",
      "mapping[\"kr_coeff\"].args[\"value\"] = @kr_coeff@\n",
      "mapping[\"ne_scale\"].args[\"value\"] = @ne_scale@\n",
      "mapping[\"us0_hrudr\"].args[\"value\"] = @us0_hrudr@\n",
      "mapping[\"sla_hrusr\"].args[\"value\"] = @sla_hrusr@\n",
      "mapping[\"s0max_scale\"].args[\"value\"] = @s0max_scale@\n",
      "mapping[\"w0ref_alb_hrudr\"].args[\"value\"] = @w0ref_alb_hrudr@\n",
      "mapping[\"fvegref_g_hrusr\"].args[\"value\"] = @fvegref_g_hrusr@\n",
      "mapping[\"ud0_hrudr\"].args[\"value\"] = @ud0_hrudr@\n",
      "mapping[\"tgrow_hrusr\"].args[\"value\"] = @tgrow_hrusr@\n",
      "mapping[\"lairef_hrudr\"].args[\"value\"] = @lairef_hrudr@\n"
     ]
    }
   ],
   "source": [
    "# Now, we loop through the parameters again and generate the template Python code that PEST will modify to set \n",
    "# parameter values...\n",
    "param_mod_lines = '\\n'.join(['mapping[\"%s\"].args[\"value\"] = @%s@'%(k,k) for k in params.index])\n",
    "print(param_mod_lines)"
   ]
  },
  {
   "cell_type": "code",
   "execution_count": 4,
   "metadata": {
    "collapsed": true
   },
   "outputs": [],
   "source": [
    "# Here is the template file\n",
    "# It is a valid Python file, except for two points\n",
    "# 1. The first line (ptf @) marks it as a PEST template file, with the @ indicating the marker used for parameters\n",
    "# 2. Each of the calibrated parameters are referenced within @ @ - eg @vc_hrusr@\n",
    "\n",
    "TEMPLATE='''ptf @\n",
    "from awrams.utils import datetools as dt\n",
    "from awrams.models import awral\n",
    "import numpy as np\n",
    "import pandas as pd\n",
    "\n",
    "from awrams.utils import extents\n",
    "from awrams.utils import mapping_types as mt\n",
    "from awrams.utils.nodegraph import graph\n",
    "\n",
    "from awrams.models import awral\n",
    "from awrams.models.awral import ffi_wrapper as fw\n",
    "\n",
    "from awrams.calibration.evaluators import Evaluator\n",
    "from awrams.calibration.sce import SCEOptimizer\n",
    "from awrams.calibration import objectives\n",
    "\n",
    "from awrams.utils import catchments\n",
    "import sys\n",
    "\n",
    "defaults = awral.get_default_mapping()\n",
    "mapping = defaults.mapping\n",
    "dimensions = defaults.dimensions\n",
    "\n",
    "''' + param_mod_lines + '''\n",
    "cal_catchment= '421103'\n",
    "time_period = dt.dates('2011')\n",
    "\n",
    "### REMOVE: This cell just updates the mapping based on a different folder structure for climate data\n",
    "mapping['precip_f'].args['pattern']='rr_*'\n",
    "mapping['tmin_f'].args['pattern']='tmin_*'\n",
    "mapping['tmax_f'].args['pattern']='tmax_*'\n",
    "mapping['solar_f'].args['pattern']='solar_*'\n",
    "\n",
    "### REMOVE: This class should be committed to the simulation package\n",
    "FIRST=True\n",
    "class OnDemandSimulator:\n",
    "    def __init__(self,model,mapping):\n",
    "        global FIRST\n",
    "        self.input_runner = graph.ExecutionGraph(mapping)\n",
    "        self.model_runner = model.get_runner(self.input_runner.get_dataspecs(True),force_build=FIRST)\n",
    "        FIRST=False\n",
    "       \n",
    "    def run(self,period,extent,return_inputs=False,expand=True):\n",
    "        coords = mt.gen_coordset(period,extent)\n",
    "        iresults = self.input_runner.get_data_flat(coords,extent.mask)\n",
    "        mresults = self.model_runner.run_from_mapping(iresults,coords.shape[0],\\\n",
    "                               extent.cell_count,True)\n",
    "       \n",
    "        if return_inputs:\n",
    "            return mresults,iresults\n",
    "        else:\n",
    "            return mresults\n",
    "\n",
    "# Load the observed streamflow data\n",
    "qobs = pd.read_csv('/Users/joelrahman/Geospatial/AWRA/Calibration/Catchment_Qobs.csv',\n",
    "                    parse_dates=[0])\n",
    "qobs = qobs.set_index(qobs.columns[0])\n",
    "\n",
    "\n",
    "obs = qobs['421103']\n",
    "\n",
    "\n",
    "###\n",
    "### REMOVE - This is hack (mentioned above) to shift the observed data to the time period covered by the climate data\n",
    "###\n",
    "obs = obs.shift(int(15*365.25),'d')\n",
    "\n",
    "\n",
    "# Get the catchment as a spatial extent we can use as the bounds of the simulation\n",
    "db = catchments.CatchmentDB()\n",
    "spatial = db.get_by_id(cal_catchment)\n",
    "\n",
    "mm_to_cumecs = 1e-3 * (run_results['qtot'].shape[1] * 5000 * 5000) /86400.0 # mm/day -> cumecs (to m/day -> m3/day -> ML/day)\n",
    "catchment_qtot = run_results['qtot'].mean(axis=1) * mm_to_cumecs\n",
    "\n",
    "# Set up the NSE objective calculator...\n",
    "# (Precomputes the observed moment)\n",
    "nse_evaluator = objectives.NSE(obs[time_period])\n",
    "\n",
    "res = 1 - nse_evaluator(catchment_qtot_mod*mm_to_cumecs)\n",
    "\n",
    "open('outputs.txt','w').write('objective %f\\n'%res)\n",
    "'''"
   ]
  },
  {
   "cell_type": "code",
   "execution_count": null,
   "metadata": {
    "collapsed": true
   },
   "outputs": [],
   "source": []
  },
  {
   "cell_type": "code",
   "execution_count": 5,
   "metadata": {
    "collapsed": true
   },
   "outputs": [],
   "source": [
    "# This is the PEST control/config file. Note that the list of parameters is inserted using the text computed above\n",
    "PEST_CONFIG='''pcf\n",
    "* control data\n",
    "restart estimation\n",
    "24 1 1 0 1  \n",
    "1 1 single point    \n",
    "10.0 2.0 0.3 0.03 8   \n",
    "10.0 10.0 0.001   \n",
    "0.1     \n",
    "50 0.005 4 4 0.005 4   \n",
    "1 1 1       \n",
    "* singular value decomposition\n",
    "1\n",
    "24 5e-07\n",
    "0\n",
    "* parameter groups\n",
    "default_pg relative 0.01 0.001 switch 1.5 parabolic   \n",
    "* parameter data\n",
    "''' + param_config + '''\n",
    "* observation groups\n",
    "default_og  \n",
    "* observation data\n",
    "objective -1 1.0 default_og\n",
    "* model command line\n",
    "python _run_awral.py\n",
    "* model input/output\n",
    "_run_awral.tpl _run_awral.py\n",
    "_outputs.ins outputs.txt\n",
    "'''"
   ]
  },
  {
   "cell_type": "code",
   "execution_count": null,
   "metadata": {
    "collapsed": true
   },
   "outputs": [],
   "source": []
  },
  {
   "cell_type": "code",
   "execution_count": null,
   "metadata": {
    "collapsed": true
   },
   "outputs": [],
   "source": []
  },
  {
   "cell_type": "code",
   "execution_count": 6,
   "metadata": {
    "collapsed": true
   },
   "outputs": [],
   "source": [
    "INSTRUCTION='''pif @\n",
    "@objective@ !objective!\n",
    "'''"
   ]
  },
  {
   "cell_type": "code",
   "execution_count": 7,
   "metadata": {
    "collapsed": false
   },
   "outputs": [
    {
     "data": {
      "text/plain": [
       "30"
      ]
     },
     "execution_count": 7,
     "metadata": {},
     "output_type": "execute_result"
    }
   ],
   "source": [
    "# Here we write the files to disk...\n",
    "# There would be one more file if we were using parallel pest - a run management file describing the available slaves\n",
    "open('awral_pest.pst','w').write(PEST_CONFIG)\n",
    "open('_run_awral.tpl','w').write(TEMPLATE)\n",
    "open('_outputs.ins','w').write(INSTRUCTION)"
   ]
  },
  {
   "cell_type": "code",
   "execution_count": 8,
   "metadata": {
    "collapsed": false
   },
   "outputs": [
    {
     "data": {
      "text/plain": [
       "32512"
      ]
     },
     "execution_count": 8,
     "metadata": {},
     "output_type": "execute_result"
    }
   ],
   "source": [
    "os.system('sceua_p awral_pest')"
   ]
  }
 ],
 "metadata": {
  "kernelspec": {
   "display_name": "Python 3",
   "language": "python",
   "name": "python3"
  },
  "language_info": {
   "codemirror_mode": {
    "name": "ipython",
    "version": 3
   },
   "file_extension": ".py",
   "mimetype": "text/x-python",
   "name": "python",
   "nbconvert_exporter": "python",
   "pygments_lexer": "ipython3",
   "version": "3.4.2"
  }
 },
 "nbformat": 4,
 "nbformat_minor": 0
}
