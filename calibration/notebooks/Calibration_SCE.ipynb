{
 "cells": [
  {
   "cell_type": "markdown",
   "metadata": {},
   "source": [
    "# Single catchment calibration\n",
    "\n",
    "This notebook demonstrates how you might calibrate the model to a single gauging station."
   ]
  },
  {
   "cell_type": "code",
   "execution_count": 17,
   "metadata": {
    "collapsed": false
   },
   "outputs": [],
   "source": [
    "import awrams.calibration.calibrate as cal\n",
    "from awrams.calibration.sce import SCEOptimizer,ProxyOptimizer\n",
    "\n",
    "\n",
    "from awrams.models import awral\n",
    "from awrams.utils import datetools as dt\n",
    "\n",
    "import pandas as pd\n",
    "\n",
    "import os\n",
    "\n",
    "# %matplotlib inline\n",
    "from matplotlib import pyplot\n",
    "\n",
    "data_path = '../../test_data/calibration/'"
   ]
  },
  {
   "cell_type": "code",
   "execution_count": 18,
   "metadata": {
    "collapsed": false
   },
   "outputs": [
    {
     "data": {
      "text/plain": [
       "DatetimeIndex(['1990-01-01', '1990-01-02', '1990-01-03', '1990-01-04',\n",
       "               '1990-01-05', '1990-01-06', '1990-01-07', '1990-01-08',\n",
       "               '1990-01-09', '1990-01-10', \n",
       "               ...\n",
       "               '1995-12-22', '1995-12-23', '1995-12-24', '1995-12-25',\n",
       "               '1995-12-26', '1995-12-27', '1995-12-28', '1995-12-29',\n",
       "               '1995-12-30', '1995-12-31'],\n",
       "              dtype='datetime64[ns]', length=2191, freq='D', tz=None)"
      ]
     },
     "execution_count": 18,
     "metadata": {},
     "output_type": "execute_result"
    }
   ],
   "source": [
    "cal_catchment= '421103' # '204007' # '421103'\n",
    "time_period = dt.dates('1990 - 1995')\n",
    "time_period"
   ]
  },
  {
   "cell_type": "code",
   "execution_count": 19,
   "metadata": {
    "collapsed": false
   },
   "outputs": [
    {
     "data": {
      "text/plain": [
       "9"
      ]
     },
     "execution_count": 19,
     "metadata": {},
     "output_type": "execute_result"
    }
   ],
   "source": [
    "from awrams.utils import catchments\n",
    "\n",
    "# Get the catchment as a spatial extent we can use as the bounds of the simulation\n",
    "try:\n",
    "    db = catchments.CatchmentDB()\n",
    "    spatial = db.get_by_id(cal_catchment)\n",
    "\n",
    "except ImportError as e:\n",
    "    print(e)\n",
    "    # read catchment extent from a pickle\n",
    "    import pickle\n",
    "    pkl = os.path.join(data_path,'extent_421103.pkl')\n",
    "    spatial = pickle.load(open(pkl,'rb'))\n",
    "\n",
    "spatial.cell_count"
   ]
  },
  {
   "cell_type": "code",
   "execution_count": 20,
   "metadata": {
    "collapsed": true
   },
   "outputs": [],
   "source": [
    "# cal.set_model(model=awral)"
   ]
  },
  {
   "cell_type": "code",
   "execution_count": 21,
   "metadata": {
    "collapsed": false
   },
   "outputs": [],
   "source": [
    "def change_path_to_forcing(imap):\n",
    "    from awrams.utils.nodegraph import nodes\n",
    "    \n",
    "    FORCING = {\n",
    "        'tmin'  : ('temp_min*','temp_min_day'),\n",
    "        'tmax'  : ('temp_max*','temp_max_day'),\n",
    "        'precip': ('rain_day*','rain_day'),\n",
    "        'solar' : ('solar*'   ,'solar_exposure_day')\n",
    "    }\n",
    "    for k,v in FORCING.items():\n",
    "        imap.mapping[k+'_f'] = nodes.forcing_from_ncfiles(data_path,v[0],v[1],cache=True)\n",
    "\n",
    "change_path_to_forcing(cal.input_map)"
   ]
  },
  {
   "cell_type": "code",
   "execution_count": 22,
   "metadata": {
    "collapsed": false
   },
   "outputs": [],
   "source": [
    "# Load the observed streamflow data\n",
    "csv = os.path.join(data_path,'q_obs.csv')\n",
    "qobs = pd.read_csv(csv,parse_dates=[0])\n",
    "qobs = qobs.set_index(qobs.columns[0])\n",
    "obs = qobs[cal_catchment]"
   ]
  },
  {
   "cell_type": "code",
   "execution_count": 23,
   "metadata": {
    "collapsed": false
   },
   "outputs": [
    {
     "data": {
      "text/html": [
       "<div style=\"max-height:1000px;max-width:1500px;overflow:auto;\">\n",
       "<table border=\"1\" class=\"dataframe\">\n",
       "  <thead>\n",
       "    <tr style=\"text-align: right;\">\n",
       "      <th></th>\n",
       "      <th>Max</th>\n",
       "      <th>Min</th>\n",
       "      <th>Value</th>\n",
       "    </tr>\n",
       "    <tr>\n",
       "      <th>Name</th>\n",
       "      <th></th>\n",
       "      <th></th>\n",
       "      <th></th>\n",
       "    </tr>\n",
       "  </thead>\n",
       "  <tbody>\n",
       "    <tr>\n",
       "      <th>w0ref_alb_hrudr</th>\n",
       "      <td>0.50</td>\n",
       "      <td>0.200</td>\n",
       "      <td>0.300000</td>\n",
       "    </tr>\n",
       "    <tr>\n",
       "      <th>k_rout_int</th>\n",
       "      <td>3.00</td>\n",
       "      <td>0.050</td>\n",
       "      <td>0.157715</td>\n",
       "    </tr>\n",
       "    <tr>\n",
       "      <th>gfrac_max_hrudr</th>\n",
       "      <td>0.50</td>\n",
       "      <td>0.250</td>\n",
       "      <td>0.300000</td>\n",
       "    </tr>\n",
       "    <tr>\n",
       "      <th>slope_coeff</th>\n",
       "      <td>1.00</td>\n",
       "      <td>0.010</td>\n",
       "      <td>0.951766</td>\n",
       "    </tr>\n",
       "    <tr>\n",
       "      <th>wslimu_hrudr</th>\n",
       "      <td>0.50</td>\n",
       "      <td>0.150</td>\n",
       "      <td>0.300000</td>\n",
       "    </tr>\n",
       "    <tr>\n",
       "      <th>w0ref_alb_hrusr</th>\n",
       "      <td>0.50</td>\n",
       "      <td>0.200</td>\n",
       "      <td>0.300000</td>\n",
       "    </tr>\n",
       "    <tr>\n",
       "      <th>er_frac_ref_hrudr</th>\n",
       "      <td>0.25</td>\n",
       "      <td>0.040</td>\n",
       "      <td>0.073556</td>\n",
       "    </tr>\n",
       "    <tr>\n",
       "      <th>fsoilemax_hrusr</th>\n",
       "      <td>1.00</td>\n",
       "      <td>0.200</td>\n",
       "      <td>0.929708</td>\n",
       "    </tr>\n",
       "    <tr>\n",
       "      <th>kssat_scale</th>\n",
       "      <td>10.00</td>\n",
       "      <td>0.010</td>\n",
       "      <td>0.020238</td>\n",
       "    </tr>\n",
       "    <tr>\n",
       "      <th>alb_wet_hrudr</th>\n",
       "      <td>0.50</td>\n",
       "      <td>0.100</td>\n",
       "      <td>0.160000</td>\n",
       "    </tr>\n",
       "    <tr>\n",
       "      <th>gfrac_max_hrusr</th>\n",
       "      <td>0.50</td>\n",
       "      <td>0.250</td>\n",
       "      <td>0.300000</td>\n",
       "    </tr>\n",
       "    <tr>\n",
       "      <th>kdsat_scale</th>\n",
       "      <td>1.00</td>\n",
       "      <td>0.010</td>\n",
       "      <td>0.010036</td>\n",
       "    </tr>\n",
       "    <tr>\n",
       "      <th>wslimu_hrusr</th>\n",
       "      <td>0.50</td>\n",
       "      <td>0.150</td>\n",
       "      <td>0.300000</td>\n",
       "    </tr>\n",
       "    <tr>\n",
       "      <th>rd_hrusr</th>\n",
       "      <td>2.00</td>\n",
       "      <td>0.500</td>\n",
       "      <td>1.000000</td>\n",
       "    </tr>\n",
       "    <tr>\n",
       "      <th>lairef_hrusr</th>\n",
       "      <td>2.50</td>\n",
       "      <td>1.300</td>\n",
       "      <td>1.400000</td>\n",
       "    </tr>\n",
       "    <tr>\n",
       "      <th>k_rout_scale</th>\n",
       "      <td>3.00</td>\n",
       "      <td>0.050</td>\n",
       "      <td>0.050785</td>\n",
       "    </tr>\n",
       "    <tr>\n",
       "      <th>vc_hrudr</th>\n",
       "      <td>1.00</td>\n",
       "      <td>0.050</td>\n",
       "      <td>0.350000</td>\n",
       "    </tr>\n",
       "    <tr>\n",
       "      <th>cgsmax_hrusr</th>\n",
       "      <td>0.05</td>\n",
       "      <td>0.020</td>\n",
       "      <td>0.023711</td>\n",
       "    </tr>\n",
       "    <tr>\n",
       "      <th>wdlimu_hrudr</th>\n",
       "      <td>0.50</td>\n",
       "      <td>0.150</td>\n",
       "      <td>0.300000</td>\n",
       "    </tr>\n",
       "    <tr>\n",
       "      <th>tsenc_hrudr</th>\n",
       "      <td>200.00</td>\n",
       "      <td>10.000</td>\n",
       "      <td>60.000000</td>\n",
       "    </tr>\n",
       "    <tr>\n",
       "      <th>fvegref_g_hrudr</th>\n",
       "      <td>0.25</td>\n",
       "      <td>0.100</td>\n",
       "      <td>0.150000</td>\n",
       "    </tr>\n",
       "    <tr>\n",
       "      <th>pref_gridscale</th>\n",
       "      <td>3.00</td>\n",
       "      <td>0.100</td>\n",
       "      <td>1.815294</td>\n",
       "    </tr>\n",
       "    <tr>\n",
       "      <th>us0_hrusr</th>\n",
       "      <td>7.00</td>\n",
       "      <td>1.000</td>\n",
       "      <td>6.000000</td>\n",
       "    </tr>\n",
       "    <tr>\n",
       "      <th>sla_hrusr</th>\n",
       "      <td>70.00</td>\n",
       "      <td>0.700</td>\n",
       "      <td>10.000000</td>\n",
       "    </tr>\n",
       "    <tr>\n",
       "      <th>us0_hrudr</th>\n",
       "      <td>7.00</td>\n",
       "      <td>1.000</td>\n",
       "      <td>6.000000</td>\n",
       "    </tr>\n",
       "    <tr>\n",
       "      <th>w0lime_hrusr</th>\n",
       "      <td>0.90</td>\n",
       "      <td>0.600</td>\n",
       "      <td>0.850000</td>\n",
       "    </tr>\n",
       "    <tr>\n",
       "      <th>ne_scale</th>\n",
       "      <td>1.00</td>\n",
       "      <td>0.010</td>\n",
       "      <td>0.055189</td>\n",
       "    </tr>\n",
       "    <tr>\n",
       "      <th>s0max_scale</th>\n",
       "      <td>3.00</td>\n",
       "      <td>0.500</td>\n",
       "      <td>2.995850</td>\n",
       "    </tr>\n",
       "    <tr>\n",
       "      <th>ud0_hrudr</th>\n",
       "      <td>10.00</td>\n",
       "      <td>0.001</td>\n",
       "      <td>7.136380</td>\n",
       "    </tr>\n",
       "    <tr>\n",
       "      <th>rd_hrudr</th>\n",
       "      <td>20.00</td>\n",
       "      <td>3.000</td>\n",
       "      <td>6.000000</td>\n",
       "    </tr>\n",
       "    <tr>\n",
       "      <th>s_sls_hrusr</th>\n",
       "      <td>0.80</td>\n",
       "      <td>0.030</td>\n",
       "      <td>0.042743</td>\n",
       "    </tr>\n",
       "    <tr>\n",
       "      <th>ud0_hrusr</th>\n",
       "      <td>10.00</td>\n",
       "      <td>0.000</td>\n",
       "      <td>0.000000</td>\n",
       "    </tr>\n",
       "    <tr>\n",
       "      <th>k0sat_scale</th>\n",
       "      <td>10.00</td>\n",
       "      <td>0.100</td>\n",
       "      <td>2.872808</td>\n",
       "    </tr>\n",
       "    <tr>\n",
       "      <th>w0lime_hrudr</th>\n",
       "      <td>0.90</td>\n",
       "      <td>0.600</td>\n",
       "      <td>0.850000</td>\n",
       "    </tr>\n",
       "    <tr>\n",
       "      <th>fvegref_g_hrusr</th>\n",
       "      <td>0.25</td>\n",
       "      <td>0.100</td>\n",
       "      <td>0.150000</td>\n",
       "    </tr>\n",
       "    <tr>\n",
       "      <th>tsenc_hrusr</th>\n",
       "      <td>200.00</td>\n",
       "      <td>10.000</td>\n",
       "      <td>10.000000</td>\n",
       "    </tr>\n",
       "    <tr>\n",
       "      <th>vc_hrusr</th>\n",
       "      <td>1.00</td>\n",
       "      <td>0.050</td>\n",
       "      <td>0.650000</td>\n",
       "    </tr>\n",
       "    <tr>\n",
       "      <th>lairef_hrudr</th>\n",
       "      <td>2.50</td>\n",
       "      <td>1.300</td>\n",
       "      <td>2.500000</td>\n",
       "    </tr>\n",
       "    <tr>\n",
       "      <th>wdlimu_hrusr</th>\n",
       "      <td>0.50</td>\n",
       "      <td>0.150</td>\n",
       "      <td>0.300000</td>\n",
       "    </tr>\n",
       "    <tr>\n",
       "      <th>alb_dry_hrudr</th>\n",
       "      <td>0.50</td>\n",
       "      <td>0.100</td>\n",
       "      <td>0.260000</td>\n",
       "    </tr>\n",
       "    <tr>\n",
       "      <th>cgsmax_hrudr</th>\n",
       "      <td>0.05</td>\n",
       "      <td>0.020</td>\n",
       "      <td>0.032005</td>\n",
       "    </tr>\n",
       "    <tr>\n",
       "      <th>k_gw_scale</th>\n",
       "      <td>10.00</td>\n",
       "      <td>0.100</td>\n",
       "      <td>0.502238</td>\n",
       "    </tr>\n",
       "    <tr>\n",
       "      <th>tgrow_hrusr</th>\n",
       "      <td>1000.00</td>\n",
       "      <td>20.000</td>\n",
       "      <td>150.000000</td>\n",
       "    </tr>\n",
       "    <tr>\n",
       "      <th>ssmax_scale</th>\n",
       "      <td>3.00</td>\n",
       "      <td>0.500</td>\n",
       "      <td>2.433261</td>\n",
       "    </tr>\n",
       "    <tr>\n",
       "      <th>alb_dry_hrusr</th>\n",
       "      <td>0.50</td>\n",
       "      <td>0.100</td>\n",
       "      <td>0.260000</td>\n",
       "    </tr>\n",
       "    <tr>\n",
       "      <th>tgrow_hrudr</th>\n",
       "      <td>1000.00</td>\n",
       "      <td>20.000</td>\n",
       "      <td>1000.000000</td>\n",
       "    </tr>\n",
       "    <tr>\n",
       "      <th>kr_coeff</th>\n",
       "      <td>1.00</td>\n",
       "      <td>0.010</td>\n",
       "      <td>0.074055</td>\n",
       "    </tr>\n",
       "    <tr>\n",
       "      <th>fsoilemax_hrudr</th>\n",
       "      <td>1.00</td>\n",
       "      <td>0.200</td>\n",
       "      <td>0.227466</td>\n",
       "    </tr>\n",
       "    <tr>\n",
       "      <th>s_sls_hrudr</th>\n",
       "      <td>0.80</td>\n",
       "      <td>0.030</td>\n",
       "      <td>0.094597</td>\n",
       "    </tr>\n",
       "    <tr>\n",
       "      <th>alb_wet_hrusr</th>\n",
       "      <td>0.50</td>\n",
       "      <td>0.100</td>\n",
       "      <td>0.160000</td>\n",
       "    </tr>\n",
       "    <tr>\n",
       "      <th>sla_hrudr</th>\n",
       "      <td>70.00</td>\n",
       "      <td>0.700</td>\n",
       "      <td>3.000000</td>\n",
       "    </tr>\n",
       "    <tr>\n",
       "      <th>sdmax_scale</th>\n",
       "      <td>1.00</td>\n",
       "      <td>0.500</td>\n",
       "      <td>0.795122</td>\n",
       "    </tr>\n",
       "  </tbody>\n",
       "</table>\n",
       "</div>"
      ],
      "text/plain": [
       "                       Max     Min        Value\n",
       "Name                                           \n",
       "w0ref_alb_hrudr       0.50   0.200     0.300000\n",
       "k_rout_int            3.00   0.050     0.157715\n",
       "gfrac_max_hrudr       0.50   0.250     0.300000\n",
       "slope_coeff           1.00   0.010     0.951766\n",
       "wslimu_hrudr          0.50   0.150     0.300000\n",
       "w0ref_alb_hrusr       0.50   0.200     0.300000\n",
       "er_frac_ref_hrudr     0.25   0.040     0.073556\n",
       "fsoilemax_hrusr       1.00   0.200     0.929708\n",
       "kssat_scale          10.00   0.010     0.020238\n",
       "alb_wet_hrudr         0.50   0.100     0.160000\n",
       "gfrac_max_hrusr       0.50   0.250     0.300000\n",
       "kdsat_scale           1.00   0.010     0.010036\n",
       "wslimu_hrusr          0.50   0.150     0.300000\n",
       "rd_hrusr              2.00   0.500     1.000000\n",
       "lairef_hrusr          2.50   1.300     1.400000\n",
       "k_rout_scale          3.00   0.050     0.050785\n",
       "vc_hrudr              1.00   0.050     0.350000\n",
       "cgsmax_hrusr          0.05   0.020     0.023711\n",
       "wdlimu_hrudr          0.50   0.150     0.300000\n",
       "tsenc_hrudr         200.00  10.000    60.000000\n",
       "fvegref_g_hrudr       0.25   0.100     0.150000\n",
       "pref_gridscale        3.00   0.100     1.815294\n",
       "us0_hrusr             7.00   1.000     6.000000\n",
       "sla_hrusr            70.00   0.700    10.000000\n",
       "us0_hrudr             7.00   1.000     6.000000\n",
       "w0lime_hrusr          0.90   0.600     0.850000\n",
       "ne_scale              1.00   0.010     0.055189\n",
       "s0max_scale           3.00   0.500     2.995850\n",
       "ud0_hrudr            10.00   0.001     7.136380\n",
       "rd_hrudr             20.00   3.000     6.000000\n",
       "s_sls_hrusr           0.80   0.030     0.042743\n",
       "ud0_hrusr            10.00   0.000     0.000000\n",
       "k0sat_scale          10.00   0.100     2.872808\n",
       "w0lime_hrudr          0.90   0.600     0.850000\n",
       "fvegref_g_hrusr       0.25   0.100     0.150000\n",
       "tsenc_hrusr         200.00  10.000    10.000000\n",
       "vc_hrusr              1.00   0.050     0.650000\n",
       "lairef_hrudr          2.50   1.300     2.500000\n",
       "wdlimu_hrusr          0.50   0.150     0.300000\n",
       "alb_dry_hrudr         0.50   0.100     0.260000\n",
       "cgsmax_hrudr          0.05   0.020     0.032005\n",
       "k_gw_scale           10.00   0.100     0.502238\n",
       "tgrow_hrusr        1000.00  20.000   150.000000\n",
       "ssmax_scale           3.00   0.500     2.433261\n",
       "alb_dry_hrusr         0.50   0.100     0.260000\n",
       "tgrow_hrudr        1000.00  20.000  1000.000000\n",
       "kr_coeff              1.00   0.010     0.074055\n",
       "fsoilemax_hrudr       1.00   0.200     0.227466\n",
       "s_sls_hrudr           0.80   0.030     0.094597\n",
       "alb_wet_hrusr         0.50   0.100     0.160000\n",
       "sla_hrudr            70.00   0.700     3.000000\n",
       "sdmax_scale           1.00   0.500     0.795122"
      ]
     },
     "execution_count": 23,
     "metadata": {},
     "output_type": "execute_result"
    }
   ],
   "source": [
    "# Find all the calibratable parameters in the mapping...\n",
    "# We'll calibrate n all of them, but you could equally create a subset...\n",
    "\n",
    "parameters = cal.get_parameter_df(cal.input_map.mapping)\n",
    "parameters"
   ]
  },
  {
   "cell_type": "code",
   "execution_count": 24,
   "metadata": {
    "collapsed": false
   },
   "outputs": [
    {
     "name": "stderr",
     "output_type": "stream",
     "text": [
      "2016-10-13 03:46:39,860 INFO initialising model simulator...\n",
      "2016-10-13 03:46:41,535 INFO done\n"
     ]
    }
   ],
   "source": [
    "# create the model evaluator...\n",
    "evaluator = cal.RunoffEvaluator(time_period,spatial,obs)"
   ]
  },
  {
   "cell_type": "code",
   "execution_count": 9,
   "metadata": {
    "collapsed": false
   },
   "outputs": [
    {
     "data": {
      "image/png": "[encoded data removed]",
      "text/plain": [
       "<matplotlib.figure.Figure at 0x7fd9799e0438>"
      ]
     },
     "metadata": {},
     "output_type": "display_data"
    }
   ],
   "source": [
    "evaluator.plot(evaluator.initial_results,period=dt.dates('1990'))"
   ]
  },
  {
   "cell_type": "code",
   "execution_count": 25,
   "metadata": {
    "collapsed": false
   },
   "outputs": [],
   "source": [
    "# Create the SCE instance...\n",
    "sce = ProxyOptimizer(13,5,4,3,3,parameters,evaluator)"
   ]
  },
  {
   "cell_type": "code",
   "execution_count": 26,
   "metadata": {
    "collapsed": false,
    "scrolled": false
   },
   "outputs": [
    {
     "name": "stdout",
     "output_type": "stream",
     "text": [
      "0 (65): 0.675405449458, 2.80879239063, 39.6206030649, (5.87s)\n",
      "1 (127): 0.675405449458, 1.09896204762, 2.26035562048, (7.29s)\n",
      "2 (184): 0.435434802368, 0.796493442973, 1.19862593087, (9.04s)\n",
      "3 (228): 0.4012874829, 0.646348109575, 0.779390240563, (10.89s)\n",
      "4 (253): 0.336956452147, 0.494926761248, 0.58397485984, (12.24s)\n",
      "5 (267): 0.336956452147, 0.430472852947, 0.58397485984, (13.68s)\n",
      "6 (281): 0.336956452147, 0.415399160322, 0.58397485984, (15.06s)\n",
      "7 (296): 0.284722752641, 0.392799080293, 0.58397485984, (16.52s)\n",
      "8 (311): 0.284722752641, 0.377621601368, 0.58397485984, (17.90s)\n",
      "9 (327): 0.273745216824, 0.353763810697, 0.58397485984, (19.37s)\n",
      "10 (343): 0.243423462857, 0.332984190005, 0.58397485984, (20.79s)\n",
      "11 (358): 0.23821016709, 0.302703141931, 0.58397485984, (22.16s)\n",
      "12 (372): 0.23495853664, 0.290981016324, 0.58397485984, (23.41s)\n",
      "13 (388): 0.231945848925, 0.282628136966, 0.58397485984, (24.81s)\n",
      "14 (401): 0.230231502576, 0.25371138717, 0.352454494134, (25.97s)\n",
      "15 (418): 0.228560869042, 0.25075954295, 0.352454494134, (27.48s)\n",
      "16 (429): 0.226766705588, 0.248110605402, 0.352454494134, (28.42s)\n",
      "17 (441): 0.222057820011, 0.246062510815, 0.352454494134, (29.49s)\n",
      "18 (455): 0.219218258065, 0.240789147257, 0.352454494134, (30.72s)\n",
      "19 (469): 0.219044986985, 0.233101115582, 0.352454494134, (31.98s)\n",
      "20 (482): 0.213614712846, 0.230847680651, 0.352454494134, (33.13s)\n",
      "21 (495): 0.213614712846, 0.21910251167, 0.241338527784, (34.40s)\n",
      "22 (509): 0.211742325285, 0.217516636485, 0.241338527784, (35.67s)\n",
      "23 (521): 0.207542273345, 0.213903729133, 0.241338527784, (36.75s)\n",
      "24 (531): 0.203713514012, 0.211486123911, 0.241338527784, (37.68s)\n",
      "25 (547): 0.203348928293, 0.20986251198, 0.241338527784, (39.15s)\n",
      "26 (561): 0.203348928293, 0.208425861039, 0.241338527784, (40.44s)\n",
      "27 (574): 0.201882136768, 0.20769003316, 0.241338527784, (41.57s)\n",
      "28 (587): 0.201708107737, 0.206391248513, 0.241338527784, (42.76s)\n",
      "29 (602): 0.201673858893, 0.205953700281, 0.241338527784, (44.11s)\n",
      "30 (617): 0.201673858893, 0.202978019264, 0.208846533852, (45.40s)\n",
      "31 (631): 0.20147450374, 0.20246936978, 0.208846533852, (46.66s)\n",
      "32 (645): 0.20108032912, 0.202340572814, 0.208846533852, (47.89s)\n",
      "33 (656): 0.200832954422, 0.202031050372, 0.208846533852, (48.86s)\n",
      "34 (666): 0.199374008118, 0.201400760169, 0.208846533852, (49.71s)\n",
      "35 (676): 0.197171212591, 0.200557724524, 0.208846533852, (50.61s)\n",
      "36 (690): 0.195901133457, 0.199502304545, 0.208846533852, (51.82s)\n",
      "37 (703): 0.193654885795, 0.198067429129, 0.208846533852, (53.02s)\n",
      "38 (719): 0.19283838889, 0.197161316761, 0.208846533852, (54.40s)\n",
      "39 (730): 0.192201078421, 0.195125252333, 0.208846533852, (55.36s)\n",
      "40 (743): 0.191611548494, 0.194411398874, 0.208846533852, (56.51s)\n",
      "41 (758): 0.19157641405, 0.194167725233, 0.208846533852, (57.76s)\n",
      "42 (773): 0.191508412297, 0.19399644782, 0.208846533852, (59.07s)\n",
      "43 (788): 0.191447337653, 0.193909964499, 0.208846533852, (60.35s)\n",
      "44 (797): 0.190796005194, 0.193561825462, 0.208846533852, (61.19s)\n",
      "Maximum non-improving shuffle loops executed\n"
     ]
    },
    {
     "data": {
      "text/plain": [
       "w0ref_alb_hrudr        0.333660\n",
       "k_rout_int             2.000672\n",
       "gfrac_max_hrudr        0.292566\n",
       "slope_coeff            0.675835\n",
       "wslimu_hrudr           0.276407\n",
       "w0ref_alb_hrusr        0.335647\n",
       "er_frac_ref_hrudr      0.215138\n",
       "fsoilemax_hrusr        0.905898\n",
       "kssat_scale            4.372713\n",
       "alb_wet_hrudr          0.305210\n",
       "gfrac_max_hrusr        0.327390\n",
       "kdsat_scale            0.010875\n",
       "wslimu_hrusr           0.187455\n",
       "rd_hrusr               0.899952\n",
       "lairef_hrusr           2.324806\n",
       "k_rout_scale           1.735774\n",
       "vc_hrudr               0.194635\n",
       "cgsmax_hrusr           0.037621\n",
       "wdlimu_hrudr           0.219229\n",
       "tsenc_hrudr          159.386084\n",
       "fvegref_g_hrudr        0.186799\n",
       "pref_gridscale         1.688273\n",
       "us0_hrusr              6.392388\n",
       "sla_hrusr             35.820103\n",
       "us0_hrudr              4.102683\n",
       "w0lime_hrusr           0.774413\n",
       "ne_scale               0.695546\n",
       "s0max_scale            1.302970\n",
       "ud0_hrudr              6.880982\n",
       "rd_hrudr              10.162586\n",
       "s_sls_hrusr            0.539352\n",
       "ud0_hrusr              7.419112\n",
       "k0sat_scale            7.197861\n",
       "w0lime_hrudr           0.712971\n",
       "fvegref_g_hrusr        0.203767\n",
       "tsenc_hrusr          143.213155\n",
       "vc_hrusr               0.274871\n",
       "lairef_hrudr           2.157255\n",
       "wdlimu_hrusr           0.433796\n",
       "alb_dry_hrudr          0.241901\n",
       "cgsmax_hrudr           0.031751\n",
       "k_gw_scale             0.300452\n",
       "tgrow_hrusr          350.575463\n",
       "ssmax_scale            0.820909\n",
       "alb_dry_hrusr          0.185836\n",
       "tgrow_hrudr          773.293193\n",
       "kr_coeff               0.531248\n",
       "fsoilemax_hrudr        0.368388\n",
       "s_sls_hrudr            0.652311\n",
       "alb_wet_hrusr          0.352428\n",
       "sla_hrudr             33.651491\n",
       "sdmax_scale            0.764894\n",
       "Score                  0.190796\n",
       "Name: 42, dtype: float64"
      ]
     },
     "execution_count": 26,
     "metadata": {},
     "output_type": "execute_result"
    }
   ],
   "source": [
    "# and run it...\n",
    "sce.run_optimizer()"
   ]
  },
  {
   "cell_type": "code",
   "execution_count": 12,
   "metadata": {
    "collapsed": false
   },
   "outputs": [
    {
     "data": {
      "text/plain": [
       "vc_hrudr               0.162475\n",
       "w0lime_hrudr           0.740661\n",
       "s_sls_hrudr            0.688491\n",
       "k_gw_scale             0.154179\n",
       "kdsat_scale            0.010002\n",
       "rd_hrusr               1.546677\n",
       "k_rout_scale           2.335553\n",
       "sdmax_scale            0.710207\n",
       "alb_dry_hrudr          0.314181\n",
       "ud0_hrudr              8.376374\n",
       "wslimu_hrudr           0.387319\n",
       "w0ref_alb_hrusr        0.433128\n",
       "ud0_hrusr              4.998810\n",
       "alb_wet_hrudr          0.131763\n",
       "fvegref_g_hrusr        0.145330\n",
       "lairef_hrudr           2.322301\n",
       "us0_hrudr              3.977343\n",
       "fvegref_g_hrudr        0.122918\n",
       "k0sat_scale            6.256639\n",
       "w0ref_alb_hrudr        0.381328\n",
       "tgrow_hrudr          798.276125\n",
       "tgrow_hrusr          298.868994\n",
       "s0max_scale            0.583962\n",
       "wdlimu_hrudr           0.303112\n",
       "kssat_scale            7.479440\n",
       "fsoilemax_hrusr        0.831111\n",
       "ssmax_scale            0.933446\n",
       "rd_hrudr              10.739094\n",
       "gfrac_max_hrusr        0.354782\n",
       "alb_wet_hrusr          0.156427\n",
       "wdlimu_hrusr           0.273717\n",
       "pref_gridscale         2.383424\n",
       "er_frac_ref_hrudr      0.096287\n",
       "wslimu_hrusr           0.279828\n",
       "alb_dry_hrusr          0.103309\n",
       "sla_hrudr             28.546201\n",
       "s_sls_hrusr            0.591392\n",
       "lairef_hrusr           2.499774\n",
       "w0lime_hrusr           0.691658\n",
       "us0_hrusr              3.972044\n",
       "sla_hrusr             30.577625\n",
       "ne_scale               0.431744\n",
       "cgsmax_hrudr           0.047467\n",
       "cgsmax_hrusr           0.036737\n",
       "slope_coeff            0.637049\n",
       "kr_coeff               0.683079\n",
       "tsenc_hrudr          170.638818\n",
       "k_rout_int             1.821782\n",
       "tsenc_hrusr          149.018167\n",
       "gfrac_max_hrudr        0.271800\n",
       "fsoilemax_hrudr        0.661228\n",
       "vc_hrusr               0.597530\n",
       "Score                  0.189978\n",
       "Name: 32, dtype: float64"
      ]
     },
     "execution_count": 12,
     "metadata": {},
     "output_type": "execute_result"
    }
   ],
   "source": [
    "sce.population.iloc[0]"
   ]
  },
  {
   "cell_type": "code",
   "execution_count": 13,
   "metadata": {
    "collapsed": false
   },
   "outputs": [
    {
     "data": {
      "image/png": "[encoded data removed]",
      "text/plain": [
       "<matplotlib.figure.Figure at 0x7fd978cffe10>"
      ]
     },
     "metadata": {},
     "output_type": "display_data"
    }
   ],
   "source": [
    "evaluator.plot(evaluator.run_sim(sce.population.iloc[0]),period=dt.dates('1990'))"
   ]
  },
  {
   "cell_type": "code",
   "execution_count": 27,
   "metadata": {
    "collapsed": false
   },
   "outputs": [
    {
     "name": "stdout",
     "output_type": "stream",
     "text": [
      "0 (13): 0.190796005194, 0.510331538662, 0.785299589547, (1.20s)\n",
      "1 (29): 0.190796005194, 0.471090240504, 0.785299589547, (2.74s)\n",
      "2 (44): 0.190796005194, 0.41818963928, 0.785299589547, (4.19s)\n",
      "3 (60): 0.190796005194, 0.35943414563, 0.543302374547, (5.72s)\n",
      "4 (72): 0.190796005194, 0.330653630916, 0.543302374547, (6.89s)\n",
      "Maximum non-improving shuffle loops executed\n"
     ]
    },
    {
     "data": {
      "text/plain": [
       "w0ref_alb_hrudr        0.333660\n",
       "k_rout_int             2.000672\n",
       "gfrac_max_hrudr        0.292566\n",
       "slope_coeff            0.675835\n",
       "wslimu_hrudr           0.276407\n",
       "w0ref_alb_hrusr        0.335647\n",
       "er_frac_ref_hrudr      0.215138\n",
       "fsoilemax_hrusr        0.905898\n",
       "kssat_scale            4.372713\n",
       "alb_wet_hrudr          0.305210\n",
       "gfrac_max_hrusr        0.327390\n",
       "kdsat_scale            0.010875\n",
       "wslimu_hrusr           0.187455\n",
       "rd_hrusr               0.899952\n",
       "lairef_hrusr           2.324806\n",
       "k_rout_scale           1.735774\n",
       "vc_hrudr               0.194635\n",
       "cgsmax_hrusr           0.037621\n",
       "wdlimu_hrudr           0.219229\n",
       "tsenc_hrudr          159.386084\n",
       "fvegref_g_hrudr        0.186799\n",
       "pref_gridscale         1.688273\n",
       "us0_hrusr              6.392388\n",
       "sla_hrusr             35.820103\n",
       "us0_hrudr              4.102683\n",
       "w0lime_hrusr           0.774413\n",
       "ne_scale               0.695546\n",
       "s0max_scale            1.302970\n",
       "ud0_hrudr              6.880982\n",
       "rd_hrudr              10.162586\n",
       "s_sls_hrusr            0.539352\n",
       "ud0_hrusr              7.419112\n",
       "k0sat_scale            7.197861\n",
       "w0lime_hrudr           0.712971\n",
       "fvegref_g_hrusr        0.203767\n",
       "tsenc_hrusr          143.213155\n",
       "vc_hrusr               0.274871\n",
       "lairef_hrudr           2.157255\n",
       "wdlimu_hrusr           0.433796\n",
       "alb_dry_hrudr          0.241901\n",
       "cgsmax_hrudr           0.031751\n",
       "k_gw_scale             0.300452\n",
       "tgrow_hrusr          350.575463\n",
       "ssmax_scale            0.820909\n",
       "alb_dry_hrusr          0.185836\n",
       "tgrow_hrudr          773.293193\n",
       "kr_coeff               0.531248\n",
       "fsoilemax_hrudr        0.368388\n",
       "s_sls_hrudr            0.652311\n",
       "alb_wet_hrusr          0.352428\n",
       "sla_hrudr             33.651491\n",
       "sdmax_scale            0.764894\n",
       "Score                  0.190796\n",
       "Name: 0, dtype: float64"
      ]
     },
     "execution_count": 27,
     "metadata": {},
     "output_type": "execute_result"
    }
   ],
   "source": [
    "# run with seed population...\n",
    "sce.run_optimizer(seed=sce.population.iloc[0])"
   ]
  },
  {
   "cell_type": "code",
   "execution_count": 15,
   "metadata": {
    "collapsed": false
   },
   "outputs": [
    {
     "data": {
      "image/png": "[encoded data removed]",
      "text/plain": [
       "<matplotlib.figure.Figure at 0x7fd9759ea710>"
      ]
     },
     "metadata": {},
     "output_type": "display_data"
    }
   ],
   "source": [
    "evaluator.plot(evaluator.run_sim(sce.population.iloc[0]),period=dt.dates('1990'))"
   ]
  },
  {
   "cell_type": "code",
   "execution_count": 16,
   "metadata": {
    "collapsed": true
   },
   "outputs": [],
   "source": [
    "# kill the sce workers...cleanup child processes\n",
    "sce.terminate_children()"
   ]
  },
  {
   "cell_type": "code",
   "execution_count": null,
   "metadata": {
    "collapsed": true
   },
   "outputs": [],
   "source": []
  }
 ],
 "metadata": {
  "kernelspec": {
   "display_name": "Python 3",
   "language": "python",
   "name": "python3"
  },
  "language_info": {
   "codemirror_mode": {
    "name": "ipython",
    "version": 3
   },
   "file_extension": ".py",
   "mimetype": "text/x-python",
   "name": "python",
   "nbconvert_exporter": "python",
   "pygments_lexer": "ipython3",
   "version": "3.4.2"
  }
 },
 "nbformat": 4,
 "nbformat_minor": 0
}
