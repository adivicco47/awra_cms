{
 "cells": [
  {
   "cell_type": "code",
   "execution_count": 1,
   "metadata": {
    "collapsed": true
   },
   "outputs": [],
   "source": [
    "from awrams.calibration.support import *\n",
    "from os.path import join\n",
    "from awrams.utils import gis\n",
    "from awrams.utils import datetools as dt\n",
    "from awrams.utils import extents\n",
    "from awrams.utils.settings_manager import get_settings"
   ]
  },
  {
   "cell_type": "code",
   "execution_count": 2,
   "metadata": {
    "collapsed": false
   },
   "outputs": [],
   "source": [
    "#from awrams.calibration.launch_calibration import run_from_pickle\n",
    "#run_from_pickle('./test_cal.pkl')"
   ]
  },
  {
   "cell_type": "code",
   "execution_count": 3,
   "metadata": {
    "collapsed": false
   },
   "outputs": [
    {
     "data": {
      "text/plain": [
       "{'105001': origin: -15.2,143.6, shape: (9, 8), cell_size: 0.05,\n",
       " '107002': origin: -15.65,145.15, shape: (6, 5), cell_size: 0.05}"
      ]
     },
     "execution_count": 3,
     "metadata": {},
     "output_type": "execute_result"
    }
   ],
   "source": [
    "paths = get_settings('data_paths')\n",
    "\n",
    "cal_extents = join(paths.CATCH_PATH,'calibration_extents_5k.nc')\n",
    "nces = gis.ExtentStoreNC(cal_extents,'r')\n",
    "\n",
    "catch_list_fn = join(paths.CATCH_PATH,'Catchment_IDs.csv')\n",
    "\n",
    "catch_df = open(catch_list_fn).readlines()\n",
    "cids = [k.strip().zfill(6) for k in catch_df[1:]]\n",
    "\n",
    "extent_map = dict([(e,nces[e]) for e in cids[1:3]])\n",
    "\n",
    "extent_map"
   ]
  },
  {
   "cell_type": "code",
   "execution_count": 4,
   "metadata": {
    "collapsed": true
   },
   "outputs": [],
   "source": [
    "\n",
    "run_period = dt.dates('1990 - 2011')\n",
    "eval_period = dt.dates('1990 - 2011')\n",
    "\n",
    "from awrams.calibration.optimizers import sce\n",
    "\n",
    "evolver_spec = EvolverSpec(sce.CCEvolver,evolver_run_args=dict(n_offspring=1,n_evolutions=5,elitism=2.0))\n",
    "\n",
    "optimizer_spec = OptimizerSpec(sce.ShuffledOptimizer,evolver_spec=evolver_spec,n_complexes=5,max_nsni=1000,min_complexes=1,max_eval=1000) #n_complex 14\n",
    "\n",
    "#optimizer_spec = OptimizerSpec(SobolOptimizer,threshold = 0.005,max_eval =10000)\n",
    "\n",
    "from awrams.utils.nodegraph.nodes import callable_to_funcspec\n",
    "\n",
    "from awrams.calibration.objectives import test_objectives as tobj\n",
    "local_objfspec = ObjectiveFunctionSpec(tobj.TestLocalSingle)\n",
    "\n",
    "#+++ Remove callable_to_funcspec references (internalise in ObjectiveSpec)\n",
    "global_objfspec = callable_to_funcspec(tobj.TestGlobalSingle)\n",
    "\n",
    "#local_objfspec = ObjectiveFunctionSpec(tobj.LocalQTotal)\n",
    "#global_objfspec = callable_to_funcspec(tobj.GlobalQTotal)\n",
    "\n",
    "# +++\n",
    "#Possibly refactor/relocate observations;  ie should they be part of objectives at all/specific to each objective?\n",
    "observations=dict(qtot=join(paths.OBS_PATH,'qobs_zfill.csv'))\n",
    "\n",
    "objective_spec = ObjectiveSpec(global_objfspec,local_objfspec,observations,eval_period)\n",
    "\n",
    "# Con\n",
    "\n",
    "from awrams.models import awral\n",
    "from awrams.utils.nodegraph import nodes, graph\n",
    "node_mapping = awral.get_default_mapping()['mapping']\n",
    "model = callable_to_funcspec(awral)\n",
    "\n",
    "from awrams.models.settings import CLIMATOLOGY\n",
    "\n",
    "node_mapping['solar_clim'] = nodes.monthly_climatology(*CLIMATOLOGY['solar'])\n",
    "node_mapping['solar_filled'] = nodes.gap_filler('solar_f','solar_clim')\n",
    "node_mapping['rgt'].inputs[0] = 'solar_filled'\n"
   ]
  },
  {
   "cell_type": "markdown",
   "metadata": {},
   "source": [
    "#Build spec dict\n",
    "\n",
    "Assemble above settings into specification dictionary"
   ]
  },
  {
   "cell_type": "code",
   "execution_count": 5,
   "metadata": {
    "collapsed": true
   },
   "outputs": [],
   "source": [
    "\n",
    "\n",
    "'''\n",
    "User specifiable calibration description\n",
    "'''\n",
    "cal_spec = {}\n",
    "cal_spec['optimizer_spec'] = optimizer_spec\n",
    "cal_spec['objective_spec'] = objective_spec\n",
    "cal_spec['extent_map'] = extent_map\n",
    "cal_spec['run_period'] = run_period\n",
    "cal_spec['model'] = model\n",
    "cal_spec['node_mapping'] = node_mapping\n",
    "#cal_spec['logfile'] = '/short/er4/dss548/calibration_res.h5'\n",
    "cal_spec['logfile'] = './calres.h5'\n",
    "\n",
    "#cal_spec['prerun_action'] = callable_to_funcspec(prerun_raijin)\n",
    "#cal_spec['postrun_action'] = callable_to_funcspec(postrun_raijin)\n",
    "\n"
   ]
  },
  {
   "cell_type": "code",
   "execution_count": 6,
   "metadata": {
    "collapsed": false
   },
   "outputs": [
    {
     "data": {
      "text/plain": [
       "{'catch_node_map': {'105001': [0], '107002': [0]},\n",
       " 'extent_map': {'105001': origin: -15.2,143.6, shape: (9, 8), cell_size: 0.05,\n",
       "  '107002': origin: -15.65,145.15, shape: (6, 5), cell_size: 0.05},\n",
       " 'logfile': './calres.h5',\n",
       " 'model': {'module': 'awrams.models.awral', 'objtype': 'module'},\n",
       " 'n_workers': 1,\n",
       " 'node_alloc': OrderedDict([(0, {'cell_counts': [49, 24], 'catchments': [('105001', {'start_cell': 0, 'ncells': 49}, {'owns': True, 'remote': False}), ('107002', {'start_cell': 0, 'ncells': 24}, {'owns': True, 'remote': False})]})]),\n",
       " 'node_mapping': {'pref_grid': spatial_from_file([]):{'filename': '/home/dshipman/WGIT/CLEAN/awrams_cm/models/awrams/models/awral/data/spatial_parameters.h5', 'variable': 'parameters/pref', 'preload': False}, 'kdsat_v5_grid': spatial_from_file([]):{'filename': '/home/dshipman/WGIT/CLEAN/awrams_cm/models/awrams/models/awral/data/spatial_parameters.h5', 'variable': 'parameters/kdsat_v5', 'preload': False}, 'tsenc_hrusr': parameter([]):{'min': 10, 'value': 10.0, 'max': 200, 'fixed': True}, 's0fracawc_grid': spatial_from_file([]):{'filename': '/home/dshipman/WGIT/CLEAN/awrams_cm/models/awrams/models/awral/data/spatial_parameters.h5', 'variable': 'parameters/s0fracAWC', 'preload': False}, 'init_ss_hrudr': transform(('ssmax', 0.5)):{'tfunc': {'objtype': 'class', 'name': 'multiply', 'module': 'numpy'}, 'func_args': {}}, 's0max_scale': parameter([]):{'min': 0.5, 'value': 2.99584999113427, 'max': 3, 'fixed': False}, 'hveg_dr_grid': spatial_from_file([]):{'filename': '/home/dshipman/WGIT/CLEAN/awrams_cm/models/awrams/models/awral/data/spatial_parameters.h5', 'variable': 'parameters/hveg_dr', 'preload': False}, 'fsoilemax_hrudr': parameter([]):{'min': 0.2, 'value': 0.227465527270008, 'max': 1, 'fixed': False}, 'meanpet_grid': spatial_from_file([]):{'filename': '/home/dshipman/WGIT/CLEAN/awrams_cm/models/awrams/models/awral/data/spatial_parameters.h5', 'variable': 'parameters/meanPET', 'preload': False}, 'kssat': transform(('kssat_scale', 'kssat_v5_grid')):{'tfunc': {'objtype': 'class', 'name': 'multiply', 'module': 'numpy'}, 'func_args': {}}, 'hveg_hrusr': constant([]):{'value': 0.5}, 'k_rout': transform(('k_rout_scale', 'k_rout_int', 'meanpet_grid')):{'tfunc': {'objtype': 'class', 'name': 'k_rout', 'module': 'awrams.models.awral.transforms'}, 'func_args': {}}, 'kr_0s': transform(('k0sat', 'kssat')):{'tfunc': {'objtype': 'class', 'name': 'interlayer_k', 'module': 'awrams.models.awral.transforms'}, 'func_args': {}}, 'solar_filled': gap_filler(['solar_f', 'solar_clim']):{}, 'tgrow_hrudr': parameter([]):{'min': 20, 'value': 1000.0, 'max': 1000, 'fixed': True}, 'init_sd_hrudr': transform(('sdmax', 0.5)):{'tfunc': {'objtype': 'class', 'name': 'multiply', 'module': 'numpy'}, 'func_args': {}}, 'alb_dry_hrusr': parameter([]):{'min': 0.1, 'value': 0.26, 'max': 0.5, 'fixed': True}, 'gfrac_max_hrusr': parameter([]):{'min': 0.25, 'value': 0.3, 'max': 0.5, 'fixed': True}, 'gfrac_max_hrudr': parameter([]):{'min': 0.25, 'value': 0.3, 'max': 0.5, 'fixed': True}, 'er_frac_ref_hrusr': transform(('er_frac_ref_hrudr', 0.5)):{'tfunc': {'objtype': 'class', 'name': 'multiply', 'module': 'numpy'}, 'func_args': {}}, 'tat': transform(['tmin', 'tmax']):{'tfunc': {'objtype': 'class', 'name': '_mix', 'module': 'awrams.utils.nodegraph.nodes'}, 'func_args': {'ratio': 0.75}}, 'height': assign(['height_grid']):{}, 'lairef_hrudr': parameter([]):{'min': 1.3, 'value': 2.5, 'max': 2.5, 'fixed': True}, 'k_gw_scale': parameter([]):{'min': 0.1, 'value': 0.502237767850745, 'max': 10, 'fixed': False}, 'ne_grid': spatial_from_file([]):{'filename': '/home/dshipman/WGIT/CLEAN/awrams_cm/models/awrams/models/awral/data/spatial_parameters.h5', 'variable': 'parameters/ne', 'preload': False}, 'sdmax_scale': parameter([]):{'min': 0.5, 'value': 0.795122015004998, 'max': 1, 'fixed': False}, 'vc_hrudr': parameter([]):{'min': 0.05, 'value': 0.35, 'max': 1, 'fixed': True}, 'kssat_scale': parameter([]):{'min': 0.01, 'value': 0.0202384169380067, 'max': 10, 'fixed': False}, 'kdsat_scale': parameter([]):{'min': 0.01, 'value': 0.0100361082712838, 'max': 1, 'fixed': False}, 'k_gw': transform(('k_gw_scale', 'k_gw_grid')):{'tfunc': {'objtype': 'class', 'name': 'multiply', 'module': 'numpy'}, 'func_args': {}}, 'ssfracawc_grid': spatial_from_file([]):{'filename': '/home/dshipman/WGIT/CLEAN/awrams_cm/models/awrams/models/awral/data/spatial_parameters.h5', 'variable': 'parameters/ssfracAWC', 'preload': False}, 'k_rout_int': parameter([]):{'min': 0.05, 'value': 0.157715263798048, 'max': 3, 'fixed': False}, 'vc_hrusr': parameter([]):{'min': 0.05, 'value': 0.65, 'max': 1, 'fixed': True}, 'k0sat_v5_grid': spatial_from_file([]):{'filename': '/home/dshipman/WGIT/CLEAN/awrams_cm/models/awrams/models/awral/data/spatial_parameters.h5', 'variable': 'parameters/k0sat_v5', 'preload': False}, 'f_tree_grid': spatial_from_file([]):{'filename': '/home/dshipman/WGIT/CLEAN/awrams_cm/models/awrams/models/awral/data/spatial_parameters.h5', 'variable': 'parameters/f_tree', 'preload': False}, 'us0_hrudr': parameter([]):{'min': 1, 'value': 6.0, 'max': 7, 'fixed': True}, 'rd_hrudr': parameter([]):{'min': 3, 'value': 6.0, 'max': 20, 'fixed': True}, 'fhru_hrudr': assign(['f_tree_grid']):{}, 'tgrow_hrusr': parameter([]):{'min': 20, 'value': 150.0, 'max': 1000, 'fixed': True}, 'ne_scale': parameter([]):{'min': 0.01, 'value': 0.0551891007464962, 'max': 1, 'fixed': False}, 'ssmax_scale': parameter([]):{'min': 0.5, 'value': 2.43326110876421, 'max': 3, 'fixed': False}, 'laimax_hrudr': assign(['lai_max_grid']):{}, 'fsoilemax_hrusr': parameter([]):{'min': 0.2, 'value': 0.929708357540083, 'max': 1, 'fixed': False}, 'kdsat': transform(('kdsat_scale', 'kdsat_v5_grid')):{'tfunc': {'objtype': 'class', 'name': 'multiply', 'module': 'numpy'}, 'func_args': {}}, 'init_sr': constant([]):{'value': 0.0}, 'sdmax': transform(('ssmax_scale', 'sdmax_scale', 'ssfracawc_grid', 5000.0)):{'tfunc': {'objtype': 'class', 'name': '_mul4', 'module': 'awrams.utils.nodegraph.nodes'}, 'func_args': {}}, 'rgt': transform(['solar_filled', 0.1]):{'tfunc': {'objtype': 'class', 'name': 'maximum', 'module': 'numpy'}, 'func_args': {}}, 'er_frac_ref_hrudr': parameter([]):{'min': 0.04, 'value': 0.0735562467806121, 'max': 0.25, 'fixed': False}, 'precip_f': forcing_from_ncfiles([]):{'nc_var': 'rain_day', 'cache': False, 'pattern': 'rr/rr*', 'path': '/data/cwd_awra_data/awra_inputs/climate_generated/'}, 'init_sg': constant([]):{'value': 100.0}, 'tmax': transform(['tmin_f', 'tmax_f']):{'tfunc': {'objtype': 'class', 'name': 'maximum', 'module': 'numpy'}, 'func_args': {}}, 'hypsperc_f': const_from_hdf5([]):{'filename': '/home/dshipman/WGIT/CLEAN/awrams_cm/models/awrams/models/awral/data/spatial_parameters.h5', 'variable': 'dimensions/hypsometric_percentile', 'dims': ['hypsometric_percentile']}, 'pair': constant([]):{'value': 97500.0}, 'alb_dry_hrudr': parameter([]):{'min': 0.1, 'value': 0.26, 'max': 0.5, 'fixed': True}, 'ssmax': transform(('ssmax_scale', 'ssfracawc_grid', 900.0)):{'tfunc': {'objtype': 'class', 'name': '_mul3', 'module': 'awrams.utils.nodegraph.nodes'}, 'func_args': {}}, 'sla_hrudr': parameter([]):{'min': 0.7, 'value': 3.0, 'max': 70, 'fixed': True}, 'w0ref_alb_hrudr': parameter([]):{'min': 0.2, 'value': 0.3, 'max': 0.5, 'fixed': True}, 'ne': transform(('ne_scale', 'ne_grid')):{'tfunc': {'objtype': 'class', 'name': 'multiply', 'module': 'numpy'}, 'func_args': {}}, 'init_mleaf_hrudr': transform([2.0, 'sla_hrudr']):{'tfunc': {'objtype': 'class', 'name': 'true_divide', 'module': 'numpy'}, 'func_args': {}}, 'solar_f': forcing_from_ncfiles([]):{'nc_var': 'solar_exposure_day', 'cache': False, 'pattern': 'solar/solar*', 'path': '/data/cwd_awra_data/awra_inputs/climate_generated/'}, 'windspeed_grid': spatial_from_file([]):{'filename': '/home/dshipman/WGIT/CLEAN/awrams_cm/models/awrams/models/awral/data/spatial_parameters.h5', 'variable': 'parameters/windspeed', 'preload': False}, 'k_rout_scale': parameter([]):{'min': 0.05, 'value': 0.0507853186467834, 'max': 3, 'fixed': False}, 'hypsperc': transform(('hypsperc_f', 0.01)):{'tfunc': {'objtype': 'class', 'name': 'multiply', 'module': 'numpy'}, 'func_args': {}}, 'k0sat_scale': parameter([]):{'min': 0.1, 'value': 2.87280828479753, 'max': 10, 'fixed': False}, 'kr_sd': transform(('kssat', 'kdsat')):{'tfunc': {'objtype': 'class', 'name': 'interlayer_k', 'module': 'awrams.models.awral.transforms'}, 'func_args': {}}, 'wslimu_hrusr': parameter([]):{'min': 0.15, 'value': 0.3, 'max': 0.5, 'fixed': True}, 'slope': assign(['slope_grid']):{}, 'slope_coeff': parameter([]):{'min': 0.01, 'value': 0.951765660211542, 'max': 1, 'fixed': False}, 'pt': assign(['precip_f']):{}, 'ud0_hrudr': parameter([]):{'min': 0.001, 'value': 7.136379707595849, 'max': 10, 'fixed': False}, 'lai_max_grid': spatial_from_file([]):{'filename': '/home/dshipman/WGIT/CLEAN/awrams_cm/models/awrams/models/awral/data/spatial_parameters.h5', 'variable': 'parameters/lai_max', 'preload': False}, 'rd_hrusr': parameter([]):{'min': 0.5, 'value': 1.0, 'max': 2, 'fixed': True}, 'slope_grid': spatial_from_file([]):{'filename': '/home/dshipman/WGIT/CLEAN/awrams_cm/models/awrams/models/awral/data/spatial_parameters.h5', 'variable': 'parameters/slope', 'preload': False}, 'wdlimu_hrusr': parameter([]):{'min': 0.15, 'value': 0.3, 'max': 0.5, 'fixed': True}, 'wdlimu_hrudr': parameter([]):{'min': 0.15, 'value': 0.3, 'max': 0.5, 'fixed': True}, 'tmin_f': forcing_from_ncfiles([]):{'nc_var': 'temp_min_day', 'cache': False, 'pattern': 'tmin/tmin*', 'path': '/data/cwd_awra_data/awra_inputs/climate_generated/'}, 'cgsmax_hrusr': parameter([]):{'min': 0.02, 'value': 0.02371068048102, 'max': 0.05, 'fixed': False}, 'init_s0_hrudr': transform(('s0max', 0.5)):{'tfunc': {'objtype': 'class', 'name': 'multiply', 'module': 'numpy'}, 'func_args': {}}, 'alb_wet_hrusr': parameter([]):{'min': 0.1, 'value': 0.16, 'max': 0.5, 'fixed': True}, 'sla_hrusr': parameter([]):{'min': 0.7, 'value': 10.0, 'max': 70, 'fixed': True}, 'solar_clim': monthly_climatology([]):{'filename': '/data/cwd_awra_data/AWRAMSI/IWRM_0042_WP3/Technical/Climate/Climatology/Solar/Rad_1990_2009.nc', 'variable': 'solar_exposure_day'}, 'k_gw_grid': spatial_from_file([]):{'filename': '/home/dshipman/WGIT/CLEAN/awrams_cm/models/awrams/models/awral/data/spatial_parameters.h5', 'variable': 'parameters/k_gw', 'preload': False}, 'fvegref_g_hrusr': parameter([]):{'min': 0.1, 'value': 0.15, 'max': 0.25, 'fixed': True}, 's_sls_hrusr': parameter([]):{'min': 0.03, 'value': 0.042742565428351, 'max': 0.8, 'fixed': False}, 'w0ref_alb_hrusr': parameter([]):{'min': 0.2, 'value': 0.3, 'max': 0.5, 'fixed': True}, 'lairef_hrusr': parameter([]):{'min': 1.3, 'value': 1.4, 'max': 2.5, 'fixed': True}, 'avpt': transform(['tmin']):{'tfunc': {'objtype': 'class', 'name': 'pe', 'module': 'awrams.models.awral.transforms'}, 'func_args': {}}, 'kssat_v5_grid': spatial_from_file([]):{'filename': '/home/dshipman/WGIT/CLEAN/awrams_cm/models/awrams/models/awral/data/spatial_parameters.h5', 'variable': 'parameters/kssat_v5', 'preload': False}, 'tmin': transform(['tmin_f', 'tmax_f']):{'tfunc': {'objtype': 'class', 'name': 'minimum', 'module': 'numpy'}, 'func_args': {}}, 'prefr': transform(('pref_gridscale', 'pref_grid')):{'tfunc': {'objtype': 'class', 'name': 'multiply', 'module': 'numpy'}, 'func_args': {}}, 'ud0_hrusr': parameter([]):{'min': 0, 'value': 0.0, 'max': 10, 'fixed': True}, 'init_ss_hrusr': transform(('ssmax', 0.5)):{'tfunc': {'objtype': 'class', 'name': 'multiply', 'module': 'numpy'}, 'func_args': {}}, 'init_s0_hrusr': transform(('s0max', 0.5)):{'tfunc': {'objtype': 'class', 'name': 'multiply', 'module': 'numpy'}, 'func_args': {}}, 'k0sat': transform(('k0sat_scale', 'k0sat_v5_grid')):{'tfunc': {'objtype': 'class', 'name': 'multiply', 'module': 'numpy'}, 'func_args': {}}, 'laimax_hrusr': assign(['lai_max_grid']):{}, 's0max': transform(('s0max_scale', 's0fracawc_grid', 100.0)):{'tfunc': {'objtype': 'class', 'name': '_mul3', 'module': 'awrams.utils.nodegraph.nodes'}, 'func_args': {}}, 'w0lime_hrusr': parameter([]):{'min': 0.6, 'value': 0.85, 'max': 0.9, 'fixed': True}, 'kr_coeff': parameter([]):{'min': 0.01, 'value': 0.074055027961705, 'max': 1, 'fixed': False}, 'pref_gridscale': parameter([]):{'min': 0.1, 'value': 1.81529436817838, 'max': 3, 'fixed': False}, 's_sls_hrudr': parameter([]):{'min': 0.03, 'value': 0.0945974208063683, 'max': 0.8, 'fixed': False}, 'u2t': windspeed(['windspeed_grid', 'fday']):{}, 'hveg_hrudr': assign(['hveg_dr_grid']):{}, 'tmax_f': forcing_from_ncfiles([]):{'nc_var': 'temp_max_day', 'cache': False, 'pattern': 'tmax/tmax*', 'path': '/data/cwd_awra_data/awra_inputs/climate_generated/'}, 'alb_wet_hrudr': parameter([]):{'min': 0.1, 'value': 0.16, 'max': 0.5, 'fixed': True}, 'fvegref_g_hrudr': parameter([]):{'min': 0.1, 'value': 0.15, 'max': 0.25, 'fixed': True}, 'init_sd_hrusr': transform(('sdmax', 0.5)):{'tfunc': {'objtype': 'class', 'name': 'multiply', 'module': 'numpy'}, 'func_args': {}}, 'w0lime_hrudr': parameter([]):{'min': 0.6, 'value': 0.85, 'max': 0.9, 'fixed': True}, 'fhru_hrusr': transform([1.0, 'f_tree_grid']):{'tfunc': {'objtype': 'class', 'name': 'subtract', 'module': 'numpy'}, 'func_args': {}}, 'us0_hrusr': parameter([]):{'min': 1, 'value': 6.0, 'max': 7, 'fixed': True}, 'tsenc_hrudr': parameter([]):{'min': 10, 'value': 60.0, 'max': 200, 'fixed': True}, 'cgsmax_hrudr': parameter([]):{'min': 0.02, 'value': 0.0320045265678736, 'max': 0.05, 'fixed': False}, 'radcskyt': radcskyt([]):{}, 'fday': fday([]):{}, 'init_mleaf_hrusr': transform([2.0, 'sla_hrusr']):{'tfunc': {'objtype': 'class', 'name': 'true_divide', 'module': 'numpy'}, 'func_args': {}}, 'wslimu_hrudr': parameter([]):{'min': 0.15, 'value': 0.3, 'max': 0.5, 'fixed': True}, 'height_grid': spatial_from_file([]):{'filename': '/home/dshipman/WGIT/CLEAN/awrams_cm/models/awrams/models/awral/data/spatial_parameters.h5', 'variable': 'parameters/height', 'preload': False}},\n",
       " 'objective_spec': <awrams.calibration.support.ObjectiveSpec at 0x7f8a3125f0f0>,\n",
       " 'optimizer_spec': <awrams.calibration.support.OptimizerSpec at 0x7f8a3125f2e8>,\n",
       " 'run_period': DatetimeIndex(['1990-01-01', '1990-01-02', '1990-01-03', '1990-01-04',\n",
       "                '1990-01-05', '1990-01-06', '1990-01-07', '1990-01-08',\n",
       "                '1990-01-09', '1990-01-10', \n",
       "                ...\n",
       "                '2011-12-22', '2011-12-23', '2011-12-24', '2011-12-25',\n",
       "                '2011-12-26', '2011-12-27', '2011-12-28', '2011-12-29',\n",
       "                '2011-12-30', '2011-12-31'],\n",
       "               dtype='datetime64[ns]', length=8035, freq='D', tz=None)}"
      ]
     },
     "execution_count": 6,
     "metadata": {},
     "output_type": "execute_result"
    }
   ],
   "source": [
    "import sys\n",
    "\n",
    "#max_nodes = int(sys.argv[1])\n",
    "#walltime = sys.argv[2]\n",
    "\n",
    "#cal_spec['logfile'] = '/short/er4/dss548/calfull_%s.h5' % max_nodes\n",
    "\n",
    "from awrams.calibration import cluster\n",
    "#cluster.build_pbs_from_cal_spec(cal_spec,walltime,'/short/er4/dss548/calfull_%s.pkl'%max_nodes,'/short/er4/dss548/calfull_%s.pbs'%max_nodes,max_nodes)\n",
    "cluster.build_pickle_from_spec(cal_spec,1,'test_cal.pkl')\n"
   ]
  },
  {
   "cell_type": "code",
   "execution_count": 2,
   "metadata": {
    "collapsed": false
   },
   "outputs": [
    {
     "name": "stdout",
     "output_type": "stream",
     "text": [
      "n\n",
      "s:  29107\n",
      "\n",
      " evaluating initial population\n",
      "{}\n",
      "......................\n",
      " running\n",
      "{'best_params': Score: 0.569589132482, Params: [ 0.03941318  0.03789217  0.07214855  0.82408072  0.92199983  0.96857639\n",
      "  3.08393983  1.5451794   2.00603256  0.049638    0.46869477  8.9847855\n",
      "  0.47285554  2.04910222  1.67613136  0.34570536  0.34886143  0.62934172\n",
      "  0.12895572  1.62575523  1.93201036], Meta: None, 'n_shuffle': 0, 'n_eval': 215}\n",
      "....\n",
      " running\n",
      "{'best_params': Score: 0.569589132482, Params: [ 0.03941318  0.03789217  0.07214855  0.82408072  0.92199983  0.96857639\n",
      "  3.08393983  1.5451794   2.00603256  0.049638    0.46869477  8.9847855\n",
      "  0.47285554  2.04910222  1.67613136  0.34570536  0.34886143  0.62934172\n",
      "  0.12895572  1.62575523  1.93201036], Meta: None, 'n_shuffle': 1, 'n_eval': 244}\n",
      "\n",
      " running\n",
      "{'best_params': Score: 0.569589132482, Params: [ 0.03941318  0.03789217  0.07214855  0.82408072  0.92199983  0.96857639\n",
      "  3.08393983  1.5451794   2.00603256  0.049638    0.46869477  8.9847855\n",
      "  0.47285554  2.04910222  1.67613136  0.34570536  0.34886143  0.62934172\n",
      "  0.12895572  1.62575523  1.93201036], Meta: None, 'n_shuffle': 3, 'n_eval': 287}\n",
      ".\n",
      " running\n",
      "{'best_params': Score: 0.504241276382, Params: [ 0.03887868  0.03687561  0.14773447  0.67106877  0.90654102  6.08866531\n",
      "  2.87388241  1.03419993  2.21887279  0.02481654  0.31079664  4.70892409\n",
      "  0.72135949  2.1278625   1.31821657  0.52031696  0.52650232  0.77858524\n",
      "  0.46666906  1.69896651  4.82949178], Meta: None, 'n_shuffle': 7, 'n_eval': 333}\n",
      "\n",
      " running\n",
      "{'best_params': Score: 0.504241276382, Params: [ 0.03887868  0.03687561  0.14773447  0.67106877  0.90654102  6.08866531\n",
      "  2.87388241  1.03419993  2.21887279  0.02481654  0.31079664  4.70892409\n",
      "  0.72135949  2.1278625   1.31821657  0.52031696  0.52650232  0.77858524\n",
      "  0.46666906  1.69896651  4.82949178], Meta: None, 'n_shuffle': 11, 'n_eval': 367}\n",
      "\n",
      " running\n",
      "{'best_params': Score: 0.504241276382, Params: [ 0.03887868  0.03687561  0.14773447  0.67106877  0.90654102  6.08866531\n",
      "  2.87388241  1.03419993  2.21887279  0.02481654  0.31079664  4.70892409\n",
      "  0.72135949  2.1278625   1.31821657  0.52031696  0.52650232  0.77858524\n",
      "  0.46666906  1.69896651  4.82949178], Meta: None, 'n_shuffle': 14, 'n_eval': 396}\n",
      "\n",
      " running\n",
      "{'best_params': Score: 0.504241276382, Params: [ 0.03887868  0.03687561  0.14773447  0.67106877  0.90654102  6.08866531\n",
      "  2.87388241  1.03419993  2.21887279  0.02481654  0.31079664  4.70892409\n",
      "  0.72135949  2.1278625   1.31821657  0.52031696  0.52650232  0.77858524\n",
      "  0.46666906  1.69896651  4.82949178], Meta: None, 'n_shuffle': 17, 'n_eval': 421}\n",
      "\n",
      " running\n",
      "{'best_params': Score: 0.504241276382, Params: [ 0.03887868  0.03687561  0.14773447  0.67106877  0.90654102  6.08866531\n",
      "  2.87388241  1.03419993  2.21887279  0.02481654  0.31079664  4.70892409\n",
      "  0.72135949  2.1278625   1.31821657  0.52031696  0.52650232  0.77858524\n",
      "  0.46666906  1.69896651  4.82949178], Meta: None, 'n_shuffle': 20, 'n_eval': 446}\n",
      "\n",
      " running\n",
      "{'best_params': Score: 0.504241276382, Params: [ 0.03887868  0.03687561  0.14773447  0.67106877  0.90654102  6.08866531\n",
      "  2.87388241  1.03419993  2.21887279  0.02481654  0.31079664  4.70892409\n",
      "  0.72135949  2.1278625   1.31821657  0.52031696  0.52650232  0.77858524\n",
      "  0.46666906  1.69896651  4.82949178], Meta: None, 'n_shuffle': 23, 'n_eval': 469}\n",
      "\n",
      " running\n",
      "{'best_params': Score: 0.504241276382, Params: [ 0.03887868  0.03687561  0.14773447  0.67106877  0.90654102  6.08866531\n",
      "  2.87388241  1.03419993  2.21887279  0.02481654  0.31079664  4.70892409\n",
      "  0.72135949  2.1278625   1.31821657  0.52031696  0.52650232  0.77858524\n",
      "  0.46666906  1.69896651  4.82949178], Meta: None, 'n_shuffle': 25, 'n_eval': 485}\n",
      "\n",
      " running\n",
      "{'best_params': Score: 0.504241276382, Params: [ 0.03887868  0.03687561  0.14773447  0.67106877  0.90654102  6.08866531\n",
      "  2.87388241  1.03419993  2.21887279  0.02481654  0.31079664  4.70892409\n",
      "  0.72135949  2.1278625   1.31821657  0.52031696  0.52650232  0.77858524\n",
      "  0.46666906  1.69896651  4.82949178], Meta: None, 'n_shuffle': 28, 'n_eval': 510}\n",
      "\n",
      " running\n",
      "{'best_params': Score: 0.504241276382, Params: [ 0.03887868  0.03687561  0.14773447  0.67106877  0.90654102  6.08866531\n",
      "  2.87388241  1.03419993  2.21887279  0.02481654  0.31079664  4.70892409\n",
      "  0.72135949  2.1278625   1.31821657  0.52031696  0.52650232  0.77858524\n",
      "  0.46666906  1.69896651  4.82949178], Meta: None, 'n_shuffle': 32, 'n_eval': 537}\n",
      "\n",
      " running\n",
      "{'best_params': Score: 0.504241276382, Params: [ 0.03887868  0.03687561  0.14773447  0.67106877  0.90654102  6.08866531\n",
      "  2.87388241  1.03419993  2.21887279  0.02481654  0.31079664  4.70892409\n",
      "  0.72135949  2.1278625   1.31821657  0.52031696  0.52650232  0.77858524\n",
      "  0.46666906  1.69896651  4.82949178], Meta: None, 'n_shuffle': 33, 'n_eval': 546}\n",
      "\n",
      " running\n",
      "{'best_params': Score: 0.504241276382, Params: [ 0.03887868  0.03687561  0.14773447  0.67106877  0.90654102  6.08866531\n",
      "  2.87388241  1.03419993  2.21887279  0.02481654  0.31079664  4.70892409\n",
      "  0.72135949  2.1278625   1.31821657  0.52031696  0.52650232  0.77858524\n",
      "  0.46666906  1.69896651  4.82949178], Meta: None, 'n_shuffle': 34, 'n_eval': 555}\n",
      "\n",
      " running\n",
      "{'best_params': Score: 0.502758915766, Params: [ 0.03528994  0.04185389  0.13866782  0.8760655   0.67939932  4.17032983\n",
      "  4.0122863   0.68228599  2.6940424   0.02047289  0.33462924  3.35204107\n",
      "  0.61428639  2.14868137  2.37859138  0.40522097  0.4391366   0.60175539\n",
      "  0.26345325  2.27353969  6.41321761], Meta: None, 'n_shuffle': 40, 'n_eval': 599}\n",
      "\n",
      " running\n",
      "{'best_params': Score: 0.477629063645, Params: [ 0.03393197  0.03738137  0.08511337  0.78530983  0.90026367  4.74995283\n",
      "  4.30699835  0.78684425  2.66225235  0.01445021  0.47856468  3.0296889\n",
      "  0.51589801  1.98107404  2.21474403  0.40934538  0.51630188  0.63289335\n",
      "  0.38973493  2.06560129  5.06541095], Meta: None, 'n_shuffle': 41, 'n_eval': 606}\n",
      "\n",
      " running\n",
      "{'best_params': Score: 0.422366253372, Params: [ 0.03782839  0.02838474  0.06450768  0.58047247  0.68617265  8.34285262\n",
      "  4.93468545  2.10831056  2.5019459   0.01859523  0.31799623  0.35496887\n",
      "  0.88215536  1.59848567  2.02344779  0.3100368   0.55341026  0.59869613\n",
      "  0.90768779  2.63252102  8.36780396], Meta: None, 'n_shuffle': 44, 'n_eval': 625}\n",
      "\n",
      " running\n",
      "{'best_params': Score: 0.422366253372, Params: [ 0.03782839  0.02838474  0.06450768  0.58047247  0.68617265  8.34285262\n",
      "  4.93468545  2.10831056  2.5019459   0.01859523  0.31799623  0.35496887\n",
      "  0.88215536  1.59848567  2.02344779  0.3100368   0.55341026  0.59869613\n",
      "  0.90768779  2.63252102  8.36780396], Meta: None, 'n_shuffle': 46, 'n_eval': 639}\n",
      "\n",
      " running\n",
      "{'best_params': Score: 0.352282774475, Params: [ 0.04084839  0.03526204  0.07278138  0.87631096  0.85862421  7.78739896\n",
      "  3.06230694  1.13897713  2.2967333   0.01803207  0.27126464  0.62439069\n",
      "  0.63772896  1.85094963  2.51710923  0.35870662  0.52227376  0.61720186\n",
      "  0.5215895   2.03222289  4.63688289], Meta: None, 'n_shuffle': 50, 'n_eval': 669}\n",
      "\n",
      " running\n",
      "{'best_params': Score: 0.352282774475, Params: [ 0.04084839  0.03526204  0.07278138  0.87631096  0.85862421  7.78739896\n",
      "  3.06230694  1.13897713  2.2967333   0.01803207  0.27126464  0.62439069\n",
      "  0.63772896  1.85094963  2.51710923  0.35870662  0.52227376  0.61720186\n",
      "  0.5215895   2.03222289  4.63688289], Meta: None, 'n_shuffle': 53, 'n_eval': 694}\n",
      "\n",
      " running\n",
      "{'best_params': Score: 0.352282774475, Params: [ 0.04084839  0.03526204  0.07278138  0.87631096  0.85862421  7.78739896\n",
      "  3.06230694  1.13897713  2.2967333   0.01803207  0.27126464  0.62439069\n",
      "  0.63772896  1.85094963  2.51710923  0.35870662  0.52227376  0.61720186\n",
      "  0.5215895   2.03222289  4.63688289], Meta: None, 'n_shuffle': 58, 'n_eval': 735}\n",
      "\n",
      " running\n",
      "{'best_params': Score: 0.352282774475, Params: [ 0.04084839  0.03526204  0.07278138  0.87631096  0.85862421  7.78739896\n",
      "  3.06230694  1.13897713  2.2967333   0.01803207  0.27126464  0.62439069\n",
      "  0.63772896  1.85094963  2.51710923  0.35870662  0.52227376  0.61720186\n",
      "  0.5215895   2.03222289  4.63688289], Meta: None, 'n_shuffle': 59, 'n_eval': 744}\n",
      "\n",
      " running\n",
      "{'best_params': Score: 0.324168925586, Params: [ 0.03781957  0.0397894   0.09924506  0.78450253  0.94645595  6.50794738\n",
      "  2.77812064  1.04116745  1.84885348  0.01438314  0.43491729  0.69199462\n",
      "  0.63383591  2.12138213  2.054974    0.37181382  0.51813448  0.57526606\n",
      "  0.75067693  2.11043783  3.79577413], Meta: None, 'n_shuffle': 63, 'n_eval': 778}\n",
      "\n",
      " running\n",
      "{'best_params': Score: 0.324168925586, Params: [ 0.03781957  0.0397894   0.09924506  0.78450253  0.94645595  6.50794738\n",
      "  2.77812064  1.04116745  1.84885348  0.01438314  0.43491729  0.69199462\n",
      "  0.63383591  2.12138213  2.054974    0.37181382  0.51813448  0.57526606\n",
      "  0.75067693  2.11043783  3.79577413], Meta: None, 'n_shuffle': 68, 'n_eval': 819}\n",
      "\n",
      " running\n",
      "{'best_params': Score: 0.324168925586, Params: [ 0.03781957  0.0397894   0.09924506  0.78450253  0.94645595  6.50794738\n",
      "  2.77812064  1.04116745  1.84885348  0.01438314  0.43491729  0.69199462\n",
      "  0.63383591  2.12138213  2.054974    0.37181382  0.51813448  0.57526606\n",
      "  0.75067693  2.11043783  3.79577413], Meta: None, 'n_shuffle': 70, 'n_eval': 838}\n",
      "\n",
      " running\n",
      "{'best_params': Score: 0.324168925586, Params: [ 0.03781957  0.0397894   0.09924506  0.78450253  0.94645595  6.50794738\n",
      "  2.77812064  1.04116745  1.84885348  0.01438314  0.43491729  0.69199462\n",
      "  0.63383591  2.12138213  2.054974    0.37181382  0.51813448  0.57526606\n",
      "  0.75067693  2.11043783  3.79577413], Meta: None, 'n_shuffle': 74, 'n_eval': 873}\n",
      "\n",
      " running\n",
      "{'best_params': Score: 0.324168925586, Params: [ 0.03781957  0.0397894   0.09924506  0.78450253  0.94645595  6.50794738\n",
      "  2.77812064  1.04116745  1.84885348  0.01438314  0.43491729  0.69199462\n",
      "  0.63383591  2.12138213  2.054974    0.37181382  0.51813448  0.57526606\n",
      "  0.75067693  2.11043783  3.79577413], Meta: None, 'n_shuffle': 79, 'n_eval': 910}\n",
      ".\n",
      " running\n",
      "{'best_params': Score: 0.324168925586, Params: [ 0.03781957  0.0397894   0.09924506  0.78450253  0.94645595  6.50794738\n",
      "  2.77812064  1.04116745  1.84885348  0.01438314  0.43491729  0.69199462\n",
      "  0.63383591  2.12138213  2.054974    0.37181382  0.51813448  0.57526606\n",
      "  0.75067693  2.11043783  3.79577413], Meta: None, 'n_shuffle': 80, 'n_eval': 919}\n",
      "\n",
      " running\n",
      "{'best_params': Score: 0.324168925586, Params: [ 0.03781957  0.0397894   0.09924506  0.78450253  0.94645595  6.50794738\n",
      "  2.77812064  1.04116745  1.84885348  0.01438314  0.43491729  0.69199462\n",
      "  0.63383591  2.12138213  2.054974    0.37181382  0.51813448  0.57526606\n",
      "  0.75067693  2.11043783  3.79577413], Meta: None, 'n_shuffle': 84, 'n_eval': 951}\n",
      "\n",
      " running\n",
      "{'best_params': Score: 0.323032794557, Params: [ 0.0391774   0.0366734   0.07545066  0.86170652  0.88007663  7.52944613\n",
      "  2.48773806  1.04377448  2.04663976  0.01481026  0.31516277  0.70388885\n",
      "  0.60345469  2.10045177  2.36795371  0.40558898  0.49936926  0.58795822\n",
      "  0.60993731  2.17261515  4.96808494], Meta: None, 'n_shuffle': 87, 'n_eval': 977}\n",
      "complete\n",
      "{'condition': 'Maximum evaluations completed', 'best_params': Score: 0.311898375458, Params: [ 0.03830004  0.03697429  0.07455055  0.86654808  0.88546258  7.58853684\n",
      "  2.66860324  1.02304181  1.99018499  0.01363648  0.32635264  0.69010503\n",
      "  0.60258101  2.10963301  2.40774311  0.40347441  0.50973526  0.58225966\n",
      "  0.63172962  2.18739004  4.78057123], Meta: None, 'n_eval': 1005}\n",
      "Completed\n",
      "260.04506754875183\n"
     ]
    }
   ],
   "source": [
    "from awrams.calibration.launch_calibration import run_from_pickle\n",
    "run_from_pickle('./test_cal.pkl')"
   ]
  },
  {
   "cell_type": "code",
   "execution_count": 3,
   "metadata": {
    "collapsed": false
   },
   "outputs": [],
   "source": [
    "import h5py"
   ]
  },
  {
   "cell_type": "code",
   "execution_count": 4,
   "metadata": {
    "collapsed": true
   },
   "outputs": [],
   "source": [
    "r = h5py.File('./calres.h5')"
   ]
  },
  {
   "cell_type": "code",
   "execution_count": 6,
   "metadata": {
    "collapsed": false
   },
   "outputs": [
    {
     "data": {
      "text/plain": [
       "0"
      ]
     },
     "execution_count": 6,
     "metadata": {},
     "output_type": "execute_result"
    }
   ],
   "source": [
    "len(r['task_meta'])"
   ]
  },
  {
   "cell_type": "code",
   "execution_count": 10,
   "metadata": {
    "collapsed": false
   },
   "outputs": [
    {
     "data": {
      "text/plain": [
       "<HDF5 dataset \"global_score\": shape (1002,), type \"<f8\">"
      ]
     },
     "execution_count": 10,
     "metadata": {},
     "output_type": "execute_result"
    }
   ],
   "source": [
    "r['global_score']"
   ]
  },
  {
   "cell_type": "code",
   "execution_count": 16,
   "metadata": {
    "collapsed": true
   },
   "outputs": [],
   "source": [
    "import pandas as pd"
   ]
  },
  {
   "cell_type": "code",
   "execution_count": 18,
   "metadata": {
    "collapsed": false
   },
   "outputs": [
    {
     "data": {
      "text/plain": [
       "<matplotlib.axes._subplots.AxesSubplot at 0x7f72480474e0>"
      ]
     },
     "execution_count": 18,
     "metadata": {},
     "output_type": "execute_result"
    },
    {
     "data": {
      "image/png": "[encoded data removed]",
      "text/plain": [
       "<matplotlib.figure.Figure at 0x7f7260619128>"
      ]
     },
     "metadata": {},
     "output_type": "display_data"
    }
   ],
   "source": [
    "pd.Series(r['local_scores']['qtot_nse'][:,1]).plot()"
   ]
  },
  {
   "cell_type": "code",
   "execution_count": 24,
   "metadata": {
    "collapsed": false
   },
   "outputs": [
    {
     "data": {
      "text/plain": [
       "['global_score',\n",
       " 'local_scores',\n",
       " 'parameter_name',\n",
       " 'parameter_values',\n",
       " 'task_id']"
      ]
     },
     "execution_count": 24,
     "metadata": {},
     "output_type": "execute_result"
    }
   ],
   "source": [
    "list(r)"
   ]
  },
  {
   "cell_type": "code",
   "execution_count": 32,
   "metadata": {
    "collapsed": false
   },
   "outputs": [
    {
     "data": {
      "text/plain": [
       "'cgsmax_hrudr'"
      ]
     },
     "execution_count": 32,
     "metadata": {},
     "output_type": "execute_result"
    }
   ],
   "source": [
    "r['parameter_name'][0]"
   ]
  },
  {
   "cell_type": "code",
   "execution_count": 74,
   "metadata": {
    "collapsed": false
   },
   "outputs": [
    {
     "data": {
      "text/plain": [
       "<matplotlib.axes._subplots.AxesSubplot at 0x7f723b59f668>"
      ]
     },
     "execution_count": 74,
     "metadata": {},
     "output_type": "execute_result"
    },
    {
     "data": {
      "image/png": "[encoded data removed]",
      "text/plain": [
       "<matplotlib.figure.Figure at 0x7f723b55e9b0>"
      ]
     },
     "metadata": {},
     "output_type": "display_data"
    }
   ],
   "source": [
    "P = 12\n",
    "pd.Series(r['parameter_values'][215:,P]).plot(title=r['parameter_name'][P])"
   ]
  },
  {
   "cell_type": "code",
   "execution_count": 59,
   "metadata": {
    "collapsed": false
   },
   "outputs": [
    {
     "data": {
      "text/plain": [
       "<matplotlib.axes._subplots.AxesSubplot at 0x7f723bbb4438>"
      ]
     },
     "execution_count": 59,
     "metadata": {},
     "output_type": "execute_result"
    },
    {
     "data": {
      "image/png": "[encoded data removed]",
      "text/plain": [
       "<matplotlib.figure.Figure at 0x7f723bbb4b70>"
      ]
     },
     "metadata": {},
     "output_type": "display_data"
    }
   ],
   "source": [
    "pd.Series(r['local_scores']['qtot_nse'][215:,1]).plot(ylim=[-1,1.0])"
   ]
  },
  {
   "cell_type": "code",
   "execution_count": 60,
   "metadata": {
    "collapsed": false
   },
   "outputs": [
    {
     "data": {
      "text/plain": [
       "<matplotlib.axes._subplots.AxesSubplot at 0x7f723bb25828>"
      ]
     },
     "execution_count": 60,
     "metadata": {},
     "output_type": "execute_result"
    },
    {
     "data": {
      "image/png": "[encoded data removed]",
      "text/plain": [
       "<matplotlib.figure.Figure at 0x7f723bb2fcf8>"
      ]
     },
     "metadata": {},
     "output_type": "display_data"
    }
   ],
   "source": [
    "pd.Series(r['local_scores']['qtot_nse'][215:,0]).plot(ylim=[-1,1.0])"
   ]
  },
  {
   "cell_type": "code",
   "execution_count": 58,
   "metadata": {
    "collapsed": false
   },
   "outputs": [
    {
     "data": {
      "text/plain": [
       "'0_0'"
      ]
     },
     "execution_count": 58,
     "metadata": {},
     "output_type": "execute_result"
    }
   ],
   "source": [
    "r['task_id'][...][215]"
   ]
  },
  {
   "cell_type": "code",
   "execution_count": null,
   "metadata": {
    "collapsed": true
   },
   "outputs": [],
   "source": []
  }
 ],
 "metadata": {
  "kernelspec": {
   "display_name": "Python 3",
   "language": "python",
   "name": "python3"
  },
  "language_info": {
   "codemirror_mode": {
    "name": "ipython",
    "version": 3
   },
   "file_extension": ".py",
   "mimetype": "text/x-python",
   "name": "python",
   "nbconvert_exporter": "python",
   "pygments_lexer": "ipython3",
   "version": "3.4.2"
  }
 },
 "nbformat": 4,
 "nbformat_minor": 0
}
